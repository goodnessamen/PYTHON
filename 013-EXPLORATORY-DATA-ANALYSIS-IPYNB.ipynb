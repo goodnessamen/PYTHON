{
 "cells": [
  {
   "cell_type": "markdown",
   "id": "ff375751",
   "metadata": {},
   "source": [
    "## Exploratory Data Analysis ##"
   ]
  },
  {
   "cell_type": "code",
   "execution_count": 40,
   "id": "4ad439b7",
   "metadata": {},
   "outputs": [
    {
     "name": "stdout",
     "output_type": "stream",
     "text": [
      "Requirement already satisfied: plotly in c:\\users\\hp\\anaconda3\\lib\\site-packages (5.8.0)\n",
      "Requirement already satisfied: tenacity>=6.2.0 in c:\\users\\hp\\anaconda3\\lib\\site-packages (from plotly) (8.0.1)\n",
      "Note: you may need to restart the kernel to use updated packages.\n"
     ]
    }
   ],
   "source": [
    "pip install plotly"
   ]
  },
  {
   "cell_type": "code",
   "execution_count": 74,
   "id": "cb3d4bb6",
   "metadata": {},
   "outputs": [],
   "source": [
    "import matplotlib.pyplot as plt\n",
    "import pandas as pd\n",
    "\" pip install plotly \" \n",
    "import plotly.express as px\n"
   ]
  },
  {
   "cell_type": "code",
   "execution_count": null,
   "id": "6eb3c58a",
   "metadata": {},
   "outputs": [],
   "source": [
    "df1 = pd.read_csv(\"mexico_real_estate-1.txt\")\n",
    "df2 = pd.read_csv(\"mexico_real_estate-2.txt\")\n",
    "df3 = pd.read_csv(\"mexico_real_estate-3.txt\")"
   ]
  },
  {
   "cell_type": "code",
   "execution_count": null,
   "id": "eb0ea27b",
   "metadata": {},
   "outputs": [],
   "source": [
    "After importing, the next step in many data science projects is exploratory data analysis (EDA), where you get a feel for \n",
    "your data by summarizing its main characteristics using descriptive statistics and data visualization. A good way to plan \n",
    "your EDA is by looking each column and asking yourself questions what it says about your dataset."
   ]
  },
  {
   "cell_type": "markdown",
   "id": "58ffc6d0",
   "metadata": {},
   "source": [
    "## Import Data ##"
   ]
  },
  {
   "cell_type": "code",
   "execution_count": null,
   "id": "d58f1d77",
   "metadata": {},
   "outputs": [],
   "source": [
    "Task 1.3.1: Read the CSV file that you created in the last notebook (\"../small-data/mexico-real-estate-clean.csv\") \n",
    "into a DataFrame named df. Be sure to check that all your columns are the correct data type before you go to the next task.\n",
    "\n",
    "What's a DataFrame?\n",
    "What's a CSV file?\n",
    "Read a CSV file into a DataFrame using pandas."
   ]
  },
  {
   "cell_type": "code",
   "execution_count": null,
   "id": "ba15c9da",
   "metadata": {},
   "outputs": [],
   "source": [
    "df = ..."
   ]
  },
  {
   "cell_type": "code",
   "execution_count": 76,
   "id": "33e1c21a",
   "metadata": {},
   "outputs": [
    {
     "data": {
      "text/html": [
       "<div>\n",
       "<style scoped>\n",
       "    .dataframe tbody tr th:only-of-type {\n",
       "        vertical-align: middle;\n",
       "    }\n",
       "\n",
       "    .dataframe tbody tr th {\n",
       "        vertical-align: top;\n",
       "    }\n",
       "\n",
       "    .dataframe thead th {\n",
       "        text-align: right;\n",
       "    }\n",
       "</style>\n",
       "<table border=\"1\" class=\"dataframe\">\n",
       "  <thead>\n",
       "    <tr style=\"text-align: right;\">\n",
       "      <th></th>\n",
       "      <th>property_type</th>\n",
       "      <th>state</th>\n",
       "      <th>lat</th>\n",
       "      <th>lon</th>\n",
       "      <th>area_m2</th>\n",
       "      <th>price_mxn</th>\n",
       "    </tr>\n",
       "  </thead>\n",
       "  <tbody>\n",
       "    <tr>\n",
       "      <th>0</th>\n",
       "      <td>apartment</td>\n",
       "      <td>Nuevo León</td>\n",
       "      <td>25.721081</td>\n",
       "      <td>-100.345581</td>\n",
       "      <td>72.0</td>\n",
       "      <td>1300000.0</td>\n",
       "    </tr>\n",
       "    <tr>\n",
       "      <th>1</th>\n",
       "      <td>apartment</td>\n",
       "      <td>Puebla</td>\n",
       "      <td>NaN</td>\n",
       "      <td>NaN</td>\n",
       "      <td>190.0</td>\n",
       "      <td>2500000.0</td>\n",
       "    </tr>\n",
       "    <tr>\n",
       "      <th>2</th>\n",
       "      <td>house</td>\n",
       "      <td>Morelos</td>\n",
       "      <td>23.634501</td>\n",
       "      <td>-102.552788</td>\n",
       "      <td>360.0</td>\n",
       "      <td>5300000.0</td>\n",
       "    </tr>\n",
       "    <tr>\n",
       "      <th>3</th>\n",
       "      <td>house</td>\n",
       "      <td>Morelos</td>\n",
       "      <td>NaN</td>\n",
       "      <td>NaN</td>\n",
       "      <td>76.0</td>\n",
       "      <td>820000.0</td>\n",
       "    </tr>\n",
       "    <tr>\n",
       "      <th>4</th>\n",
       "      <td>house</td>\n",
       "      <td>Puebla</td>\n",
       "      <td>NaN</td>\n",
       "      <td>NaN</td>\n",
       "      <td>200.0</td>\n",
       "      <td>1100000.0</td>\n",
       "    </tr>\n",
       "    <tr>\n",
       "      <th>...</th>\n",
       "      <td>...</td>\n",
       "      <td>...</td>\n",
       "      <td>...</td>\n",
       "      <td>...</td>\n",
       "      <td>...</td>\n",
       "      <td>...</td>\n",
       "    </tr>\n",
       "    <tr>\n",
       "      <th>695</th>\n",
       "      <td>house</td>\n",
       "      <td>Morelos</td>\n",
       "      <td>18.917542</td>\n",
       "      <td>-98.963181</td>\n",
       "      <td>140.0</td>\n",
       "      <td>1450000.0</td>\n",
       "    </tr>\n",
       "    <tr>\n",
       "      <th>696</th>\n",
       "      <td>house</td>\n",
       "      <td>Distrito Federal</td>\n",
       "      <td>19.472128</td>\n",
       "      <td>-99.146697</td>\n",
       "      <td>190.0</td>\n",
       "      <td>1943000.0</td>\n",
       "    </tr>\n",
       "    <tr>\n",
       "      <th>697</th>\n",
       "      <td>house</td>\n",
       "      <td>Estado de México</td>\n",
       "      <td>19.234984</td>\n",
       "      <td>-99.558175</td>\n",
       "      <td>115.0</td>\n",
       "      <td>2100000.0</td>\n",
       "    </tr>\n",
       "    <tr>\n",
       "      <th>698</th>\n",
       "      <td>house</td>\n",
       "      <td>Puebla</td>\n",
       "      <td>18.918714</td>\n",
       "      <td>-98.426639</td>\n",
       "      <td>90.0</td>\n",
       "      <td>890000.0</td>\n",
       "    </tr>\n",
       "    <tr>\n",
       "      <th>699</th>\n",
       "      <td>house</td>\n",
       "      <td>Yucatán</td>\n",
       "      <td>21.075163</td>\n",
       "      <td>-89.516731</td>\n",
       "      <td>185.0</td>\n",
       "      <td>1695000.0</td>\n",
       "    </tr>\n",
       "  </tbody>\n",
       "</table>\n",
       "<p>700 rows × 6 columns</p>\n",
       "</div>"
      ],
      "text/plain": [
       "    property_type             state        lat         lon  area_m2  price_mxn\n",
       "0       apartment        Nuevo León  25.721081 -100.345581     72.0  1300000.0\n",
       "1       apartment            Puebla        NaN         NaN    190.0  2500000.0\n",
       "2           house           Morelos  23.634501 -102.552788    360.0  5300000.0\n",
       "3           house           Morelos        NaN         NaN     76.0   820000.0\n",
       "4           house            Puebla        NaN         NaN    200.0  1100000.0\n",
       "..            ...               ...        ...         ...      ...        ...\n",
       "695         house           Morelos  18.917542  -98.963181    140.0  1450000.0\n",
       "696         house  Distrito Federal  19.472128  -99.146697    190.0  1943000.0\n",
       "697         house  Estado de México  19.234984  -99.558175    115.0  2100000.0\n",
       "698         house            Puebla  18.918714  -98.426639     90.0   890000.0\n",
       "699         house           Yucatán  21.075163  -89.516731    185.0  1695000.0\n",
       "\n",
       "[700 rows x 6 columns]"
      ]
     },
     "execution_count": 76,
     "metadata": {},
     "output_type": "execute_result"
    }
   ],
   "source": [
    "df2 = pd.read_csv(\"mexico_real_estate-2.txt\")\n",
    "df2"
   ]
  },
  {
   "cell_type": "code",
   "execution_count": 48,
   "id": "2b46942c",
   "metadata": {},
   "outputs": [],
   "source": [
    "import matplotlib.pyplot as plt # Visualization\n",
    "import pandas as pd # EDA\n",
    "import plotly.express as px # Visualization"
   ]
  },
  {
   "cell_type": "code",
   "execution_count": 50,
   "id": "9c5d2977",
   "metadata": {},
   "outputs": [],
   "source": [
    "df = pd.read_csv(\"mexico_real_estate_clean.txt\")"
   ]
  },
  {
   "cell_type": "code",
   "execution_count": 51,
   "id": "926709ef",
   "metadata": {},
   "outputs": [
    {
     "data": {
      "text/html": [
       "<div>\n",
       "<style scoped>\n",
       "    .dataframe tbody tr th:only-of-type {\n",
       "        vertical-align: middle;\n",
       "    }\n",
       "\n",
       "    .dataframe tbody tr th {\n",
       "        vertical-align: top;\n",
       "    }\n",
       "\n",
       "    .dataframe thead th {\n",
       "        text-align: right;\n",
       "    }\n",
       "</style>\n",
       "<table border=\"1\" class=\"dataframe\">\n",
       "  <thead>\n",
       "    <tr style=\"text-align: right;\">\n",
       "      <th></th>\n",
       "      <th>property_type</th>\n",
       "      <th>state</th>\n",
       "      <th>lat</th>\n",
       "      <th>lon</th>\n",
       "      <th>area_m2</th>\n",
       "      <th>price_usd</th>\n",
       "      <th>price_mxn</th>\n",
       "      <th>place_with_parent_names</th>\n",
       "      <th>lat-lon</th>\n",
       "    </tr>\n",
       "  </thead>\n",
       "  <tbody>\n",
       "    <tr>\n",
       "      <th>0</th>\n",
       "      <td>house</td>\n",
       "      <td>Estado de México</td>\n",
       "      <td>19.560181</td>\n",
       "      <td>-99.233528</td>\n",
       "      <td>150.0</td>\n",
       "      <td>67965.56</td>\n",
       "      <td>NaN</td>\n",
       "      <td>NaN</td>\n",
       "      <td>NaN</td>\n",
       "    </tr>\n",
       "    <tr>\n",
       "      <th>1</th>\n",
       "      <td>house</td>\n",
       "      <td>Nuevo León</td>\n",
       "      <td>25.688436</td>\n",
       "      <td>-100.198807</td>\n",
       "      <td>186.0</td>\n",
       "      <td>63223.78</td>\n",
       "      <td>NaN</td>\n",
       "      <td>NaN</td>\n",
       "      <td>NaN</td>\n",
       "    </tr>\n",
       "    <tr>\n",
       "      <th>2</th>\n",
       "      <td>apartment</td>\n",
       "      <td>Guerrero</td>\n",
       "      <td>16.767704</td>\n",
       "      <td>-99.764383</td>\n",
       "      <td>82.0</td>\n",
       "      <td>84298.37</td>\n",
       "      <td>NaN</td>\n",
       "      <td>NaN</td>\n",
       "      <td>NaN</td>\n",
       "    </tr>\n",
       "    <tr>\n",
       "      <th>3</th>\n",
       "      <td>apartment</td>\n",
       "      <td>Guerrero</td>\n",
       "      <td>16.829782</td>\n",
       "      <td>-99.911012</td>\n",
       "      <td>150.0</td>\n",
       "      <td>94308.80</td>\n",
       "      <td>NaN</td>\n",
       "      <td>NaN</td>\n",
       "      <td>NaN</td>\n",
       "    </tr>\n",
       "    <tr>\n",
       "      <th>4</th>\n",
       "      <td>house</td>\n",
       "      <td>Veracruz de Ignacio de la Llave</td>\n",
       "      <td>NaN</td>\n",
       "      <td>NaN</td>\n",
       "      <td>175.0</td>\n",
       "      <td>94835.67</td>\n",
       "      <td>NaN</td>\n",
       "      <td>NaN</td>\n",
       "      <td>NaN</td>\n",
       "    </tr>\n",
       "    <tr>\n",
       "      <th>...</th>\n",
       "      <td>...</td>\n",
       "      <td>...</td>\n",
       "      <td>...</td>\n",
       "      <td>...</td>\n",
       "      <td>...</td>\n",
       "      <td>...</td>\n",
       "      <td>...</td>\n",
       "      <td>...</td>\n",
       "      <td>...</td>\n",
       "    </tr>\n",
       "    <tr>\n",
       "      <th>1966</th>\n",
       "      <td>house</td>\n",
       "      <td>NaN</td>\n",
       "      <td>NaN</td>\n",
       "      <td>NaN</td>\n",
       "      <td>175.0</td>\n",
       "      <td>121178.91</td>\n",
       "      <td>NaN</td>\n",
       "      <td>|México|Jalisco|Tlajomulco de Zúñiga|Tlajomulc...</td>\n",
       "      <td>20.532264,-103.484418</td>\n",
       "    </tr>\n",
       "    <tr>\n",
       "      <th>1967</th>\n",
       "      <td>house</td>\n",
       "      <td>NaN</td>\n",
       "      <td>NaN</td>\n",
       "      <td>NaN</td>\n",
       "      <td>100.0</td>\n",
       "      <td>47417.83</td>\n",
       "      <td>NaN</td>\n",
       "      <td>|México|Morelos|Jiutepec|</td>\n",
       "      <td>18.9289862,-99.1802147</td>\n",
       "    </tr>\n",
       "    <tr>\n",
       "      <th>1968</th>\n",
       "      <td>house</td>\n",
       "      <td>NaN</td>\n",
       "      <td>NaN</td>\n",
       "      <td>NaN</td>\n",
       "      <td>81.0</td>\n",
       "      <td>39524.23</td>\n",
       "      <td>NaN</td>\n",
       "      <td>|México|Yucatán|Mérida|</td>\n",
       "      <td>21.0284038368,-89.6530058049</td>\n",
       "    </tr>\n",
       "    <tr>\n",
       "      <th>1969</th>\n",
       "      <td>house</td>\n",
       "      <td>NaN</td>\n",
       "      <td>NaN</td>\n",
       "      <td>NaN</td>\n",
       "      <td>360.0</td>\n",
       "      <td>245050.24</td>\n",
       "      <td>NaN</td>\n",
       "      <td>|México|San Luis Potosí|San Luis Potosí|</td>\n",
       "      <td>22.11830417,-101.0321938992</td>\n",
       "    </tr>\n",
       "    <tr>\n",
       "      <th>1970</th>\n",
       "      <td>house</td>\n",
       "      <td>NaN</td>\n",
       "      <td>NaN</td>\n",
       "      <td>NaN</td>\n",
       "      <td>115.0</td>\n",
       "      <td>110667.85</td>\n",
       "      <td>NaN</td>\n",
       "      <td>|México|Estado de México|Toluca|Metepec|</td>\n",
       "      <td>19.233201,-99.558519</td>\n",
       "    </tr>\n",
       "  </tbody>\n",
       "</table>\n",
       "<p>1971 rows × 9 columns</p>\n",
       "</div>"
      ],
      "text/plain": [
       "     property_type                            state        lat         lon  \\\n",
       "0            house                 Estado de México  19.560181  -99.233528   \n",
       "1            house                       Nuevo León  25.688436 -100.198807   \n",
       "2        apartment                         Guerrero  16.767704  -99.764383   \n",
       "3        apartment                         Guerrero  16.829782  -99.911012   \n",
       "4            house  Veracruz de Ignacio de la Llave        NaN         NaN   \n",
       "...            ...                              ...        ...         ...   \n",
       "1966         house                              NaN        NaN         NaN   \n",
       "1967         house                              NaN        NaN         NaN   \n",
       "1968         house                              NaN        NaN         NaN   \n",
       "1969         house                              NaN        NaN         NaN   \n",
       "1970         house                              NaN        NaN         NaN   \n",
       "\n",
       "      area_m2  price_usd  price_mxn  \\\n",
       "0       150.0   67965.56        NaN   \n",
       "1       186.0   63223.78        NaN   \n",
       "2        82.0   84298.37        NaN   \n",
       "3       150.0   94308.80        NaN   \n",
       "4       175.0   94835.67        NaN   \n",
       "...       ...        ...        ...   \n",
       "1966    175.0  121178.91        NaN   \n",
       "1967    100.0   47417.83        NaN   \n",
       "1968     81.0   39524.23        NaN   \n",
       "1969    360.0  245050.24        NaN   \n",
       "1970    115.0  110667.85        NaN   \n",
       "\n",
       "                                place_with_parent_names  \\\n",
       "0                                                   NaN   \n",
       "1                                                   NaN   \n",
       "2                                                   NaN   \n",
       "3                                                   NaN   \n",
       "4                                                   NaN   \n",
       "...                                                 ...   \n",
       "1966  |México|Jalisco|Tlajomulco de Zúñiga|Tlajomulc...   \n",
       "1967                          |México|Morelos|Jiutepec|   \n",
       "1968                            |México|Yucatán|Mérida|   \n",
       "1969           |México|San Luis Potosí|San Luis Potosí|   \n",
       "1970           |México|Estado de México|Toluca|Metepec|   \n",
       "\n",
       "                           lat-lon  \n",
       "0                              NaN  \n",
       "1                              NaN  \n",
       "2                              NaN  \n",
       "3                              NaN  \n",
       "4                              NaN  \n",
       "...                            ...  \n",
       "1966         20.532264,-103.484418  \n",
       "1967        18.9289862,-99.1802147  \n",
       "1968  21.0284038368,-89.6530058049  \n",
       "1969   22.11830417,-101.0321938992  \n",
       "1970          19.233201,-99.558519  \n",
       "\n",
       "[1971 rows x 9 columns]"
      ]
     },
     "execution_count": 51,
     "metadata": {},
     "output_type": "execute_result"
    }
   ],
   "source": [
    "df"
   ]
  },
  {
   "cell_type": "code",
   "execution_count": 52,
   "id": "d992cab8",
   "metadata": {},
   "outputs": [
    {
     "data": {
      "text/plain": [
       "(1971, 9)"
      ]
     },
     "execution_count": 52,
     "metadata": {},
     "output_type": "execute_result"
    }
   ],
   "source": [
    "df.shape"
   ]
  },
  {
   "cell_type": "code",
   "execution_count": 53,
   "id": "39bb36ba",
   "metadata": {},
   "outputs": [
    {
     "data": {
      "text/html": [
       "<div>\n",
       "<style scoped>\n",
       "    .dataframe tbody tr th:only-of-type {\n",
       "        vertical-align: middle;\n",
       "    }\n",
       "\n",
       "    .dataframe tbody tr th {\n",
       "        vertical-align: top;\n",
       "    }\n",
       "\n",
       "    .dataframe thead th {\n",
       "        text-align: right;\n",
       "    }\n",
       "</style>\n",
       "<table border=\"1\" class=\"dataframe\">\n",
       "  <thead>\n",
       "    <tr style=\"text-align: right;\">\n",
       "      <th></th>\n",
       "      <th>lat</th>\n",
       "      <th>lon</th>\n",
       "      <th>area_m2</th>\n",
       "      <th>price_usd</th>\n",
       "      <th>price_mxn</th>\n",
       "    </tr>\n",
       "  </thead>\n",
       "  <tbody>\n",
       "    <tr>\n",
       "      <th>count</th>\n",
       "      <td>1158.000000</td>\n",
       "      <td>1158.000000</td>\n",
       "      <td>1971.000000</td>\n",
       "      <td>1276.000000</td>\n",
       "      <td>5.710000e+02</td>\n",
       "    </tr>\n",
       "    <tr>\n",
       "      <th>mean</th>\n",
       "      <td>20.823830</td>\n",
       "      <td>-98.700716</td>\n",
       "      <td>172.504313</td>\n",
       "      <td>117851.736614</td>\n",
       "      <td>2.188709e+06</td>\n",
       "    </tr>\n",
       "    <tr>\n",
       "      <th>std</th>\n",
       "      <td>2.765639</td>\n",
       "      <td>5.013943</td>\n",
       "      <td>80.218600</td>\n",
       "      <td>66635.177416</td>\n",
       "      <td>1.226342e+06</td>\n",
       "    </tr>\n",
       "    <tr>\n",
       "      <th>min</th>\n",
       "      <td>16.228815</td>\n",
       "      <td>-117.038495</td>\n",
       "      <td>60.000000</td>\n",
       "      <td>33157.890000</td>\n",
       "      <td>6.300000e+05</td>\n",
       "    </tr>\n",
       "    <tr>\n",
       "      <th>25%</th>\n",
       "      <td>19.272088</td>\n",
       "      <td>-100.389888</td>\n",
       "      <td>104.000000</td>\n",
       "      <td>65789.470000</td>\n",
       "      <td>1.255000e+06</td>\n",
       "    </tr>\n",
       "    <tr>\n",
       "      <th>50%</th>\n",
       "      <td>19.672993</td>\n",
       "      <td>-99.193812</td>\n",
       "      <td>160.000000</td>\n",
       "      <td>100128.050000</td>\n",
       "      <td>1.860000e+06</td>\n",
       "    </tr>\n",
       "    <tr>\n",
       "      <th>75%</th>\n",
       "      <td>21.129547</td>\n",
       "      <td>-98.207117</td>\n",
       "      <td>222.500000</td>\n",
       "      <td>155263.160000</td>\n",
       "      <td>2.850000e+06</td>\n",
       "    </tr>\n",
       "    <tr>\n",
       "      <th>max</th>\n",
       "      <td>32.665619</td>\n",
       "      <td>-86.767539</td>\n",
       "      <td>385.000000</td>\n",
       "      <td>326733.660000</td>\n",
       "      <td>6.100000e+06</td>\n",
       "    </tr>\n",
       "  </tbody>\n",
       "</table>\n",
       "</div>"
      ],
      "text/plain": [
       "               lat          lon      area_m2      price_usd     price_mxn\n",
       "count  1158.000000  1158.000000  1971.000000    1276.000000  5.710000e+02\n",
       "mean     20.823830   -98.700716   172.504313  117851.736614  2.188709e+06\n",
       "std       2.765639     5.013943    80.218600   66635.177416  1.226342e+06\n",
       "min      16.228815  -117.038495    60.000000   33157.890000  6.300000e+05\n",
       "25%      19.272088  -100.389888   104.000000   65789.470000  1.255000e+06\n",
       "50%      19.672993   -99.193812   160.000000  100128.050000  1.860000e+06\n",
       "75%      21.129547   -98.207117   222.500000  155263.160000  2.850000e+06\n",
       "max      32.665619   -86.767539   385.000000  326733.660000  6.100000e+06"
      ]
     },
     "execution_count": 53,
     "metadata": {},
     "output_type": "execute_result"
    }
   ],
   "source": [
    "df.describe()"
   ]
  },
  {
   "cell_type": "code",
   "execution_count": 54,
   "id": "2e7609cd",
   "metadata": {},
   "outputs": [
    {
     "data": {
      "text/html": [
       "<div>\n",
       "<style scoped>\n",
       "    .dataframe tbody tr th:only-of-type {\n",
       "        vertical-align: middle;\n",
       "    }\n",
       "\n",
       "    .dataframe tbody tr th {\n",
       "        vertical-align: top;\n",
       "    }\n",
       "\n",
       "    .dataframe thead th {\n",
       "        text-align: right;\n",
       "    }\n",
       "</style>\n",
       "<table border=\"1\" class=\"dataframe\">\n",
       "  <thead>\n",
       "    <tr style=\"text-align: right;\">\n",
       "      <th></th>\n",
       "      <th>property_type</th>\n",
       "      <th>state</th>\n",
       "      <th>lat</th>\n",
       "      <th>lon</th>\n",
       "      <th>area_m2</th>\n",
       "      <th>price_usd</th>\n",
       "      <th>price_mxn</th>\n",
       "      <th>place_with_parent_names</th>\n",
       "      <th>lat-lon</th>\n",
       "    </tr>\n",
       "  </thead>\n",
       "  <tbody>\n",
       "    <tr>\n",
       "      <th>0</th>\n",
       "      <td>house</td>\n",
       "      <td>Estado de México</td>\n",
       "      <td>19.560181</td>\n",
       "      <td>-99.233528</td>\n",
       "      <td>150.0</td>\n",
       "      <td>67965.56</td>\n",
       "      <td>NaN</td>\n",
       "      <td>NaN</td>\n",
       "      <td>NaN</td>\n",
       "    </tr>\n",
       "    <tr>\n",
       "      <th>1</th>\n",
       "      <td>house</td>\n",
       "      <td>Nuevo León</td>\n",
       "      <td>25.688436</td>\n",
       "      <td>-100.198807</td>\n",
       "      <td>186.0</td>\n",
       "      <td>63223.78</td>\n",
       "      <td>NaN</td>\n",
       "      <td>NaN</td>\n",
       "      <td>NaN</td>\n",
       "    </tr>\n",
       "    <tr>\n",
       "      <th>2</th>\n",
       "      <td>apartment</td>\n",
       "      <td>Guerrero</td>\n",
       "      <td>16.767704</td>\n",
       "      <td>-99.764383</td>\n",
       "      <td>82.0</td>\n",
       "      <td>84298.37</td>\n",
       "      <td>NaN</td>\n",
       "      <td>NaN</td>\n",
       "      <td>NaN</td>\n",
       "    </tr>\n",
       "    <tr>\n",
       "      <th>3</th>\n",
       "      <td>apartment</td>\n",
       "      <td>Guerrero</td>\n",
       "      <td>16.829782</td>\n",
       "      <td>-99.911012</td>\n",
       "      <td>150.0</td>\n",
       "      <td>94308.80</td>\n",
       "      <td>NaN</td>\n",
       "      <td>NaN</td>\n",
       "      <td>NaN</td>\n",
       "    </tr>\n",
       "    <tr>\n",
       "      <th>4</th>\n",
       "      <td>house</td>\n",
       "      <td>Veracruz de Ignacio de la Llave</td>\n",
       "      <td>NaN</td>\n",
       "      <td>NaN</td>\n",
       "      <td>175.0</td>\n",
       "      <td>94835.67</td>\n",
       "      <td>NaN</td>\n",
       "      <td>NaN</td>\n",
       "      <td>NaN</td>\n",
       "    </tr>\n",
       "  </tbody>\n",
       "</table>\n",
       "</div>"
      ],
      "text/plain": [
       "  property_type                            state        lat         lon  \\\n",
       "0         house                 Estado de México  19.560181  -99.233528   \n",
       "1         house                       Nuevo León  25.688436 -100.198807   \n",
       "2     apartment                         Guerrero  16.767704  -99.764383   \n",
       "3     apartment                         Guerrero  16.829782  -99.911012   \n",
       "4         house  Veracruz de Ignacio de la Llave        NaN         NaN   \n",
       "\n",
       "   area_m2  price_usd  price_mxn place_with_parent_names lat-lon  \n",
       "0    150.0   67965.56        NaN                     NaN     NaN  \n",
       "1    186.0   63223.78        NaN                     NaN     NaN  \n",
       "2     82.0   84298.37        NaN                     NaN     NaN  \n",
       "3    150.0   94308.80        NaN                     NaN     NaN  \n",
       "4    175.0   94835.67        NaN                     NaN     NaN  "
      ]
     },
     "execution_count": 54,
     "metadata": {},
     "output_type": "execute_result"
    }
   ],
   "source": [
    "df.head()"
   ]
  },
  {
   "cell_type": "code",
   "execution_count": 55,
   "id": "e14761d0",
   "metadata": {},
   "outputs": [
    {
     "data": {
      "text/html": [
       "<div>\n",
       "<style scoped>\n",
       "    .dataframe tbody tr th:only-of-type {\n",
       "        vertical-align: middle;\n",
       "    }\n",
       "\n",
       "    .dataframe tbody tr th {\n",
       "        vertical-align: top;\n",
       "    }\n",
       "\n",
       "    .dataframe thead th {\n",
       "        text-align: right;\n",
       "    }\n",
       "</style>\n",
       "<table border=\"1\" class=\"dataframe\">\n",
       "  <thead>\n",
       "    <tr style=\"text-align: right;\">\n",
       "      <th></th>\n",
       "      <th>property_type</th>\n",
       "      <th>state</th>\n",
       "      <th>lat</th>\n",
       "      <th>lon</th>\n",
       "      <th>area_m2</th>\n",
       "      <th>price_usd</th>\n",
       "      <th>price_mxn</th>\n",
       "      <th>place_with_parent_names</th>\n",
       "      <th>lat-lon</th>\n",
       "    </tr>\n",
       "  </thead>\n",
       "  <tbody>\n",
       "    <tr>\n",
       "      <th>1966</th>\n",
       "      <td>house</td>\n",
       "      <td>NaN</td>\n",
       "      <td>NaN</td>\n",
       "      <td>NaN</td>\n",
       "      <td>175.0</td>\n",
       "      <td>121178.91</td>\n",
       "      <td>NaN</td>\n",
       "      <td>|México|Jalisco|Tlajomulco de Zúñiga|Tlajomulc...</td>\n",
       "      <td>20.532264,-103.484418</td>\n",
       "    </tr>\n",
       "    <tr>\n",
       "      <th>1967</th>\n",
       "      <td>house</td>\n",
       "      <td>NaN</td>\n",
       "      <td>NaN</td>\n",
       "      <td>NaN</td>\n",
       "      <td>100.0</td>\n",
       "      <td>47417.83</td>\n",
       "      <td>NaN</td>\n",
       "      <td>|México|Morelos|Jiutepec|</td>\n",
       "      <td>18.9289862,-99.1802147</td>\n",
       "    </tr>\n",
       "    <tr>\n",
       "      <th>1968</th>\n",
       "      <td>house</td>\n",
       "      <td>NaN</td>\n",
       "      <td>NaN</td>\n",
       "      <td>NaN</td>\n",
       "      <td>81.0</td>\n",
       "      <td>39524.23</td>\n",
       "      <td>NaN</td>\n",
       "      <td>|México|Yucatán|Mérida|</td>\n",
       "      <td>21.0284038368,-89.6530058049</td>\n",
       "    </tr>\n",
       "    <tr>\n",
       "      <th>1969</th>\n",
       "      <td>house</td>\n",
       "      <td>NaN</td>\n",
       "      <td>NaN</td>\n",
       "      <td>NaN</td>\n",
       "      <td>360.0</td>\n",
       "      <td>245050.24</td>\n",
       "      <td>NaN</td>\n",
       "      <td>|México|San Luis Potosí|San Luis Potosí|</td>\n",
       "      <td>22.11830417,-101.0321938992</td>\n",
       "    </tr>\n",
       "    <tr>\n",
       "      <th>1970</th>\n",
       "      <td>house</td>\n",
       "      <td>NaN</td>\n",
       "      <td>NaN</td>\n",
       "      <td>NaN</td>\n",
       "      <td>115.0</td>\n",
       "      <td>110667.85</td>\n",
       "      <td>NaN</td>\n",
       "      <td>|México|Estado de México|Toluca|Metepec|</td>\n",
       "      <td>19.233201,-99.558519</td>\n",
       "    </tr>\n",
       "  </tbody>\n",
       "</table>\n",
       "</div>"
      ],
      "text/plain": [
       "     property_type state  lat  lon  area_m2  price_usd  price_mxn  \\\n",
       "1966         house   NaN  NaN  NaN    175.0  121178.91        NaN   \n",
       "1967         house   NaN  NaN  NaN    100.0   47417.83        NaN   \n",
       "1968         house   NaN  NaN  NaN     81.0   39524.23        NaN   \n",
       "1969         house   NaN  NaN  NaN    360.0  245050.24        NaN   \n",
       "1970         house   NaN  NaN  NaN    115.0  110667.85        NaN   \n",
       "\n",
       "                                place_with_parent_names  \\\n",
       "1966  |México|Jalisco|Tlajomulco de Zúñiga|Tlajomulc...   \n",
       "1967                          |México|Morelos|Jiutepec|   \n",
       "1968                            |México|Yucatán|Mérida|   \n",
       "1969           |México|San Luis Potosí|San Luis Potosí|   \n",
       "1970           |México|Estado de México|Toluca|Metepec|   \n",
       "\n",
       "                           lat-lon  \n",
       "1966         20.532264,-103.484418  \n",
       "1967        18.9289862,-99.1802147  \n",
       "1968  21.0284038368,-89.6530058049  \n",
       "1969   22.11830417,-101.0321938992  \n",
       "1970          19.233201,-99.558519  "
      ]
     },
     "execution_count": 55,
     "metadata": {},
     "output_type": "execute_result"
    }
   ],
   "source": [
    "df.tail()"
   ]
  },
  {
   "cell_type": "code",
   "execution_count": 56,
   "id": "491225bc",
   "metadata": {},
   "outputs": [
    {
     "name": "stdout",
     "output_type": "stream",
     "text": [
      "<class 'pandas.core.frame.DataFrame'>\n",
      "RangeIndex: 1971 entries, 0 to 1970\n",
      "Data columns (total 9 columns):\n",
      " #   Column                   Non-Null Count  Dtype  \n",
      "---  ------                   --------------  -----  \n",
      " 0   property_type            1971 non-null   object \n",
      " 1   state                    1271 non-null   object \n",
      " 2   lat                      1158 non-null   float64\n",
      " 3   lon                      1158 non-null   float64\n",
      " 4   area_m2                  1971 non-null   float64\n",
      " 5   price_usd                1276 non-null   float64\n",
      " 6   price_mxn                571 non-null    float64\n",
      " 7   place_with_parent_names  700 non-null    object \n",
      " 8   lat-lon                  582 non-null    object \n",
      "dtypes: float64(5), object(4)\n",
      "memory usage: 138.7+ KB\n"
     ]
    }
   ],
   "source": [
    "df.info()"
   ]
  },
  {
   "cell_type": "code",
   "execution_count": 26,
   "id": "b786dd5e",
   "metadata": {},
   "outputs": [
    {
     "data": {
      "text/plain": [
       "Ellipsis"
      ]
     },
     "execution_count": 26,
     "metadata": {},
     "output_type": "execute_result"
    }
   ],
   "source": [
    "While there are only two dtypes in our DataFrame (object and float64), there are three categories of data: location, \n",
    "categorical, and numeric. Each of these require a different kind of exploration in our analysis.\n"
   ]
  },
  {
   "cell_type": "markdown",
   "id": "c9e64af9",
   "metadata": {},
   "source": [
    "##  Location Data: \"lat\" and \"lon\"  ##\n",
    "They say that the most important thing in real estate is location, and we can see where where in Mexico our houses are \n",
    "located by using the \"lat\" and \"lon\" columns. Since latitude and longitude are based on a coordinate system, a good way \n",
    "to visualize them is to create a scatter plot on top of a map. A great tool for this is the scatter_mapbox from the plotly\n",
    "library."
   ]
  },
  {
   "cell_type": "code",
   "execution_count": null,
   "id": "9b7261fb",
   "metadata": {},
   "outputs": [],
   "source": [
    "Task 1.3.2: \n",
    "Add \"lat\" and \"lon\" to the code below, and run the code. You'll see a map that's centered on Mexico City, and you can use \n",
    "the \"Zoom Out\" button in the upper-right corner of the map so that you can see the whole country.\n",
    "\n",
    "What's location data?\n",
    "What's a scatter plot?"
   ]
  },
  {
   "cell_type": "code",
   "execution_count": 66,
   "id": "0d1a1df7",
   "metadata": {},
   "outputs": [],
   "source": [
    "import matplotlib.pyplot as plt # for visualization\n",
    "import pandas as pd\n",
    "import plotly.express as px # for visualization "
   ]
  },
  {
   "cell_type": "code",
   "execution_count": 67,
   "id": "dff55d21",
   "metadata": {},
   "outputs": [
    {
     "ename": "NameError",
     "evalue": "name 'df' is not defined",
     "output_type": "error",
     "traceback": [
      "\u001b[1;31m---------------------------------------------------------------------------\u001b[0m",
      "\u001b[1;31mNameError\u001b[0m                                 Traceback (most recent call last)",
      "\u001b[1;32m~\\AppData\\Local\\Temp/ipykernel_20896/1162765234.py\u001b[0m in \u001b[0;36m<module>\u001b[1;34m\u001b[0m\n\u001b[0;32m      1\u001b[0m fig = px.scatter_mapbox(\n\u001b[1;32m----> 2\u001b[1;33m     \u001b[0mdf\u001b[0m\u001b[1;33m,\u001b[0m  \u001b[1;31m# Our DataFrame\u001b[0m\u001b[1;33m\u001b[0m\u001b[1;33m\u001b[0m\u001b[0m\n\u001b[0m\u001b[0;32m      3\u001b[0m     \u001b[0mlat\u001b[0m\u001b[1;33m=\u001b[0m\u001b[1;34m\"lat\"\u001b[0m\u001b[1;33m,\u001b[0m\u001b[1;33m\u001b[0m\u001b[1;33m\u001b[0m\u001b[0m\n\u001b[0;32m      4\u001b[0m     \u001b[0mlon\u001b[0m\u001b[1;33m=\u001b[0m\u001b[1;34m\"lon\"\u001b[0m\u001b[1;33m,\u001b[0m\u001b[1;33m\u001b[0m\u001b[1;33m\u001b[0m\u001b[0m\n\u001b[0;32m      5\u001b[0m     \u001b[0mcenter\u001b[0m\u001b[1;33m=\u001b[0m\u001b[1;33m{\u001b[0m\u001b[1;34m\"lat\"\u001b[0m\u001b[1;33m:\u001b[0m \u001b[1;36m19.43\u001b[0m\u001b[1;33m,\u001b[0m \u001b[1;34m\"lon\"\u001b[0m\u001b[1;33m:\u001b[0m \u001b[1;33m-\u001b[0m\u001b[1;36m99.13\u001b[0m\u001b[1;33m}\u001b[0m\u001b[1;33m,\u001b[0m  \u001b[1;31m# Map will be centered on Mexico City\u001b[0m\u001b[1;33m\u001b[0m\u001b[1;33m\u001b[0m\u001b[0m\n",
      "\u001b[1;31mNameError\u001b[0m: name 'df' is not defined"
     ]
    }
   ],
   "source": [
    "fig = px.scatter_mapbox(\n",
    "    df,  # Our DataFrame\n",
    "    lat=\"lat\",\n",
    "    lon=\"lon\",\n",
    "    center={\"lat\": 19.43, \"lon\": -99.13},  # Map will be centered on Mexico City\n",
    "    width=600,  # Width of map\n",
    "    height=600,  # Height of map\n",
    "    hover_data=[\"price_usd\"],  # Display price when hovering mouse over house\n",
    ")\n",
    "\n",
    "fig.update_layout(mapbox_style=\"open-street-map\")\n",
    "\n",
    "fig.show()"
   ]
  },
  {
   "cell_type": "code",
   "execution_count": null,
   "id": "3956761b",
   "metadata": {},
   "outputs": [],
   "source": [
    "Looking at this map, are the houses in our dataset distributed evenly \n",
    "throughout the country, or are there states or regions that are more prevalent? Can you guess where Mexico's biggest cities\n",
    "are based on this distribution?"
   ]
  },
  {
   "cell_type": "markdown",
   "id": "6a04afd2",
   "metadata": {},
   "source": [
    "### Categorical Data: \"state\" ###\n",
    "Even though we can get a good idea of which states are most common in our dataset from looking at a map, we can also get \n",
    "the exact count by using the \"state\" column."
   ]
  },
  {
   "cell_type": "code",
   "execution_count": null,
   "id": "e86f28a9",
   "metadata": {},
   "outputs": [],
   "source": [
    "Task 1.3.3: Use the value_counts method on the \"state\" column to determine the 10 most prevalent states in our dataset.\n",
    "\n",
    "What's categorical data?\n",
    "What's a Series?\n",
    "Aggregate data in a Series using value_counts in pandas."
   ]
  },
  {
   "cell_type": "code",
   "execution_count": 59,
   "id": "69252d7b",
   "metadata": {},
   "outputs": [
    {
     "data": {
      "text/plain": [
       "0                   Estado de México\n",
       "1                         Nuevo León\n",
       "2                           Guerrero\n",
       "3                           Guerrero\n",
       "4    Veracruz de Ignacio de la Llave\n",
       "Name: state, dtype: object"
      ]
     },
     "execution_count": 59,
     "metadata": {},
     "output_type": "execute_result"
    }
   ],
   "source": [
    "# Top five houses #\n",
    "df[\"state\"].head()"
   ]
  },
  {
   "cell_type": "code",
   "execution_count": 60,
   "id": "f1fc0866",
   "metadata": {},
   "outputs": [
    {
     "data": {
      "text/plain": [
       "0                   Estado de México\n",
       "1                         Nuevo León\n",
       "2                           Guerrero\n",
       "3                           Guerrero\n",
       "4    Veracruz de Ignacio de la Llave\n",
       "5                            Yucatán\n",
       "6                          Querétaro\n",
       "7                          Querétaro\n",
       "8                         Nuevo León\n",
       "9                            Morelos\n",
       "Name: state, dtype: object"
      ]
     },
     "execution_count": 60,
     "metadata": {},
     "output_type": "execute_result"
    }
   ],
   "source": [
    "# Top Ten houses in Mexico #\n",
    "df[\"state\"].head(10)"
   ]
  },
  {
   "cell_type": "code",
   "execution_count": 62,
   "id": "2cad786c",
   "metadata": {},
   "outputs": [
    {
     "data": {
      "text/plain": [
       "1966    NaN\n",
       "1967    NaN\n",
       "1968    NaN\n",
       "1969    NaN\n",
       "1970    NaN\n",
       "Name: state, dtype: object"
      ]
     },
     "execution_count": 62,
     "metadata": {},
     "output_type": "execute_result"
    }
   ],
   "source": [
    "df[\"state\"].tail()"
   ]
  },
  {
   "cell_type": "code",
   "execution_count": 63,
   "id": "7954228d",
   "metadata": {},
   "outputs": [
    {
     "data": {
      "text/plain": [
       "28"
      ]
     },
     "execution_count": 63,
     "metadata": {},
     "output_type": "execute_result"
    }
   ],
   "source": [
    "# number of unique states #\n",
    "df[\"state\"].nunique()"
   ]
  },
  {
   "cell_type": "code",
   "execution_count": 64,
   "id": "151ae181",
   "metadata": {},
   "outputs": [
    {
     "data": {
      "text/plain": [
       "array(['Estado de México', 'Nuevo León', 'Guerrero',\n",
       "       'Veracruz de Ignacio de la Llave', 'Yucatán', 'Querétaro',\n",
       "       'Morelos', 'Chiapas', 'Tabasco', 'Distrito Federal', 'Nayarit',\n",
       "       'Puebla', 'Sinaloa', 'Chihuahua', 'Tamaulipas', 'Jalisco',\n",
       "       'San Luis Potosí', 'Baja California', 'Hidalgo', 'Quintana Roo',\n",
       "       'Sonora', 'Baja California Sur', 'Zacatecas', 'Aguascalientes',\n",
       "       'Guanajuato', 'Colima', 'Durango', 'Tlaxcala', nan], dtype=object)"
      ]
     },
     "execution_count": 64,
     "metadata": {},
     "output_type": "execute_result"
    }
   ],
   "source": [
    "# List of unique states #\n",
    "df[\"state\"].unique()"
   ]
  },
  {
   "cell_type": "code",
   "execution_count": 65,
   "id": "faa3888a",
   "metadata": {},
   "outputs": [
    {
     "data": {
      "text/plain": [
       "2"
      ]
     },
     "execution_count": 65,
     "metadata": {},
     "output_type": "execute_result"
    }
   ],
   "source": [
    "# number of unique property #\n",
    "df[\"property_type\"].nunique()"
   ]
  },
  {
   "cell_type": "code",
   "execution_count": 66,
   "id": "55528cad",
   "metadata": {},
   "outputs": [
    {
     "data": {
      "text/plain": [
       "array(['house', 'apartment'], dtype=object)"
      ]
     },
     "execution_count": 66,
     "metadata": {},
     "output_type": "execute_result"
    }
   ],
   "source": [
    "# List of unique states #\n",
    "df[\"property_type\"].unique()"
   ]
  },
  {
   "cell_type": "code",
   "execution_count": 69,
   "id": "9d9caa42",
   "metadata": {},
   "outputs": [
    {
     "data": {
      "text/plain": [
       "714"
      ]
     },
     "execution_count": 69,
     "metadata": {},
     "output_type": "execute_result"
    }
   ],
   "source": [
    "df[\"price_usd\"].nunique()"
   ]
  },
  {
   "cell_type": "code",
   "execution_count": 70,
   "id": "a6753fe6",
   "metadata": {},
   "outputs": [
    {
     "data": {
      "text/plain": [
       "Distrito Federal                   205\n",
       "Yucatán                            136\n",
       "Morelos                            120\n",
       "Estado de México                   119\n",
       "Veracruz de Ignacio de la Llave     91\n",
       "Querétaro                           86\n",
       "Puebla                              86\n",
       "Nuevo León                          58\n",
       "San Luis Potosí                     43\n",
       "Chiapas                             41\n",
       "Guerrero                            40\n",
       "Jalisco                             40\n",
       "Tamaulipas                          37\n",
       "Quintana Roo                        26\n",
       "Sinaloa                             20\n",
       "Baja California                     20\n",
       "Chihuahua                           16\n",
       "Tabasco                             14\n",
       "Hidalgo                             14\n",
       "Baja California Sur                 12\n",
       "Sonora                              10\n",
       "Nayarit                              8\n",
       "Aguascalientes                       8\n",
       "Guanajuato                           7\n",
       "Durango                              5\n",
       "Tlaxcala                             5\n",
       "Zacatecas                            2\n",
       "Colima                               2\n",
       "Name: state, dtype: int64"
      ]
     },
     "execution_count": 70,
     "metadata": {},
     "output_type": "execute_result"
    }
   ],
   "source": [
    "# Count of houses in the states #\n",
    "df[\"state\"].value_counts()"
   ]
  },
  {
   "cell_type": "code",
   "execution_count": 24,
   "id": "10d331c4",
   "metadata": {},
   "outputs": [
    {
     "data": {
      "text/plain": [
       "Distrito Federal                   205\n",
       "Yucatán                            136\n",
       "Morelos                            120\n",
       "Estado de México                   119\n",
       "Veracruz de Ignacio de la Llave     91\n",
       "Querétaro                           86\n",
       "Puebla                              86\n",
       "Nuevo León                          58\n",
       "San Luis Potosí                     43\n",
       "Chiapas                             41\n",
       "Name: state, dtype: int64"
      ]
     },
     "execution_count": 24,
     "metadata": {},
     "output_type": "execute_result"
    }
   ],
   "source": [
    "#10 most represented houses in the states #\n",
    "df[\"state\"].value_counts().head(10)"
   ]
  },
  {
   "cell_type": "markdown",
   "id": "31c8b0b6",
   "metadata": {},
   "source": [
    "### Numerical Data: \"area_m2\" and \"price_usd\" ###\n",
    "We have a sense for where the houses in our dataset are located, \n",
    "but how much do they cost? How big are they? The best way to answer those questions is looking at descriptive statistics."
   ]
  },
  {
   "cell_type": "code",
   "execution_count": null,
   "id": "3194d34b",
   "metadata": {},
   "outputs": [],
   "source": [
    "Task 1.3.4: Use the describe method to print the mean, standard deviation, and quartiles for the \"area_m2\" and \"price_usd\" columns.\n",
    "\n",
    "What's numerical data?\n",
    "What's a mean?\n",
    "What's a standard deviation?\n",
    "What are quartiles?\n",
    "Print the summary statistics for a DataFrame using pandas."
   ]
  },
  {
   "cell_type": "code",
   "execution_count": 79,
   "id": "35062fe2",
   "metadata": {},
   "outputs": [
    {
     "data": {
      "text/html": [
       "<div>\n",
       "<style scoped>\n",
       "    .dataframe tbody tr th:only-of-type {\n",
       "        vertical-align: middle;\n",
       "    }\n",
       "\n",
       "    .dataframe tbody tr th {\n",
       "        vertical-align: top;\n",
       "    }\n",
       "\n",
       "    .dataframe thead th {\n",
       "        text-align: right;\n",
       "    }\n",
       "</style>\n",
       "<table border=\"1\" class=\"dataframe\">\n",
       "  <thead>\n",
       "    <tr style=\"text-align: right;\">\n",
       "      <th></th>\n",
       "      <th>area_m2</th>\n",
       "      <th>price_usd</th>\n",
       "    </tr>\n",
       "  </thead>\n",
       "  <tbody>\n",
       "    <tr>\n",
       "      <th>0</th>\n",
       "      <td>150.0</td>\n",
       "      <td>67965.56</td>\n",
       "    </tr>\n",
       "    <tr>\n",
       "      <th>1</th>\n",
       "      <td>186.0</td>\n",
       "      <td>63223.78</td>\n",
       "    </tr>\n",
       "    <tr>\n",
       "      <th>2</th>\n",
       "      <td>82.0</td>\n",
       "      <td>84298.37</td>\n",
       "    </tr>\n",
       "    <tr>\n",
       "      <th>3</th>\n",
       "      <td>150.0</td>\n",
       "      <td>94308.80</td>\n",
       "    </tr>\n",
       "    <tr>\n",
       "      <th>4</th>\n",
       "      <td>175.0</td>\n",
       "      <td>94835.67</td>\n",
       "    </tr>\n",
       "  </tbody>\n",
       "</table>\n",
       "</div>"
      ],
      "text/plain": [
       "   area_m2  price_usd\n",
       "0    150.0   67965.56\n",
       "1    186.0   63223.78\n",
       "2     82.0   84298.37\n",
       "3    150.0   94308.80\n",
       "4    175.0   94835.67"
      ]
     },
     "execution_count": 79,
     "metadata": {},
     "output_type": "execute_result"
    }
   ],
   "source": [
    "## First five rows ##\n",
    "df[[\"area_m2\", \"price_usd\"]].head()  "
   ]
  },
  {
   "cell_type": "code",
   "execution_count": 78,
   "id": "1547f568",
   "metadata": {},
   "outputs": [
    {
     "data": {
      "text/html": [
       "<div>\n",
       "<style scoped>\n",
       "    .dataframe tbody tr th:only-of-type {\n",
       "        vertical-align: middle;\n",
       "    }\n",
       "\n",
       "    .dataframe tbody tr th {\n",
       "        vertical-align: top;\n",
       "    }\n",
       "\n",
       "    .dataframe thead th {\n",
       "        text-align: right;\n",
       "    }\n",
       "</style>\n",
       "<table border=\"1\" class=\"dataframe\">\n",
       "  <thead>\n",
       "    <tr style=\"text-align: right;\">\n",
       "      <th></th>\n",
       "      <th>area_m2</th>\n",
       "      <th>price_usd</th>\n",
       "    </tr>\n",
       "  </thead>\n",
       "  <tbody>\n",
       "    <tr>\n",
       "      <th>count</th>\n",
       "      <td>1971.000000</td>\n",
       "      <td>1276.000000</td>\n",
       "    </tr>\n",
       "    <tr>\n",
       "      <th>mean</th>\n",
       "      <td>172.504313</td>\n",
       "      <td>117851.736614</td>\n",
       "    </tr>\n",
       "    <tr>\n",
       "      <th>std</th>\n",
       "      <td>80.218600</td>\n",
       "      <td>66635.177416</td>\n",
       "    </tr>\n",
       "    <tr>\n",
       "      <th>min</th>\n",
       "      <td>60.000000</td>\n",
       "      <td>33157.890000</td>\n",
       "    </tr>\n",
       "    <tr>\n",
       "      <th>25%</th>\n",
       "      <td>104.000000</td>\n",
       "      <td>65789.470000</td>\n",
       "    </tr>\n",
       "    <tr>\n",
       "      <th>50%</th>\n",
       "      <td>160.000000</td>\n",
       "      <td>100128.050000</td>\n",
       "    </tr>\n",
       "    <tr>\n",
       "      <th>75%</th>\n",
       "      <td>222.500000</td>\n",
       "      <td>155263.160000</td>\n",
       "    </tr>\n",
       "    <tr>\n",
       "      <th>max</th>\n",
       "      <td>385.000000</td>\n",
       "      <td>326733.660000</td>\n",
       "    </tr>\n",
       "  </tbody>\n",
       "</table>\n",
       "</div>"
      ],
      "text/plain": [
       "           area_m2      price_usd\n",
       "count  1971.000000    1276.000000\n",
       "mean    172.504313  117851.736614\n",
       "std      80.218600   66635.177416\n",
       "min      60.000000   33157.890000\n",
       "25%     104.000000   65789.470000\n",
       "50%     160.000000  100128.050000\n",
       "75%     222.500000  155263.160000\n",
       "max     385.000000  326733.660000"
      ]
     },
     "execution_count": 78,
     "metadata": {},
     "output_type": "execute_result"
    }
   ],
   "source": [
    "## Shows the count, mean,std, min, max, quatiles, 50% quartile(median) and 75% quartiles ##\n",
    "df[[\"area_m2\", \"price_usd\"]].describe()  "
   ]
  },
  {
   "cell_type": "code",
   "execution_count": null,
   "id": "60f37660",
   "metadata": {},
   "outputs": [],
   "source": [
    "Let's start by looking at \"area_m2\". It's interesting that the mean is larger than median (another name for the 50% quartile). \n",
    "Both of these statistics are supposed to give an idea of the \"typical\" value for the column, so why is there a difference of\n",
    "almost 15 m2 between them? To answer this question, we need to see how house sizes are distributed in our dataset.\n",
    "Let's look at two ways to visualize the distribution: a histogram and a boxplot."
   ]
  },
  {
   "cell_type": "code",
   "execution_count": null,
   "id": "447a6be5",
   "metadata": {},
   "outputs": [],
   "source": [
    "Task 1.3.5: Create a histogram of \"area_m2\". Make sure that the x-axis has the label \"Area [sq meters]\", the y-axis has the label \"Frequency\", and the plot has the title \"Distribution of Home Sizes\".\n",
    "\n",
    "What's a histogram?\n",
    "Create a histogram using Matplotlib."
   ]
  },
  {
   "cell_type": "code",
   "execution_count": null,
   "id": "84a66ec5",
   "metadata": {},
   "outputs": [],
   "source": [
    "plt.hist(df['area_m2'])"
   ]
  },
  {
   "cell_type": "code",
   "execution_count": 82,
   "id": "bc458a16",
   "metadata": {},
   "outputs": [
    {
     "data": {
      "text/plain": [
       "Text(0.5, 1.0, 'Distribution of Home Sizes')"
      ]
     },
     "execution_count": 82,
     "metadata": {},
     "output_type": "execute_result"
    },
    {
     "data": {
      "image/png": "[encoded data removed]",
      "text/plain": [
       "<Figure size 432x288 with 1 Axes>"
      ]
     },
     "metadata": {
      "needs_background": "light"
     },
     "output_type": "display_data"
    }
   ],
   "source": [
    "# PLOTTING A HISTOGRAM USING MATPLOTLIB #\n",
    "plt.hist(df[\"area_m2\"])\n",
    "plt.xlabel(\"Area [sq meters]\")\n",
    "plt.ylabel(\"Frequency\")\n",
    "plt.title(\"Distribution of Home Sizes\");"
   ]
  },
  {
   "cell_type": "code",
   "execution_count": null,
   "id": "507caaf2",
   "metadata": {},
   "outputs": [],
   "source": [
    "# Removing the array list from the display #\n",
    "plt.hist(df['area_m2']);"
   ]
  },
  {
   "cell_type": "code",
   "execution_count": 90,
   "id": "83739018",
   "metadata": {},
   "outputs": [
    {
     "data": {
      "image/png": "[encoded data removed]",
      "text/plain": [
       "<Figure size 432x288 with 1 Axes>"
      ]
     },
     "metadata": {
      "needs_background": "light"
     },
     "output_type": "display_data"
    }
   ],
   "source": [
    "# labelling the chart axis #\n",
    "plt.hist(df['area_m2'])\n",
    "plt.xlabel(\"Area [sq meters]\")\n",
    "plt.ylabel(\"Frequency\");\n",
    "plt.title(\"distribution of Home Sizes\");"
   ]
  },
  {
   "cell_type": "code",
   "execution_count": null,
   "id": "32877f28",
   "metadata": {},
   "outputs": [],
   "source": [
    "Looking at our histogram, we can see that \"area_m2\" skews left. In other words, there are more houses at the lower end of \n",
    "the distribution (50–200m2) than at the higher end (250–400m2). That explains the difference between the mean and the median."
   ]
  },
  {
   "cell_type": "code",
   "execution_count": null,
   "id": "7a7f72dd",
   "metadata": {},
   "outputs": [],
   "source": [
    "pip install plotly\n",
    "import matplotlib.pyplot as plt\n",
    "import pandas as pd\n",
    "import plotly.express as px"
   ]
  },
  {
   "cell_type": "code",
   "execution_count": null,
   "id": "af3f8d7b",
   "metadata": {},
   "outputs": [],
   "source": [
    "Task 1.3.6: Create a horizontal boxplot of \"area_m2\". Make sure that the x-axis has the label \"Area [sq meters]\" and the plot has the title \"Distribution of Home Sizes\". How is the distribution and its left skew represented differently here than in your histogram?\n",
    "\n",
    "What's a boxplot?\n",
    "What's a skewed distribution?\n",
    "Create a boxplot using Matplotlib."
   ]
  },
  {
   "cell_type": "code",
   "execution_count": 85,
   "id": "3852d05f",
   "metadata": {},
   "outputs": [
    {
     "data": {
      "image/png": "[encoded data removed]",
      "text/plain": [
       "<Figure size 432x288 with 1 Axes>"
      ]
     },
     "metadata": {
      "needs_background": "light"
     },
     "output_type": "display_data"
    }
   ],
   "source": [
    "# CREATING A BOXPLOT USING A MATPLOTLIB WITH X,Y AND TITLE LABELS #\n",
    "plt.boxplot(df[\"area_m2\"], vert=False)\n",
    "plt.xlabel(\"Area [sq meters]\")\n",
    "plt.title(\"Distribution of Home Sizes\");"
   ]
  },
  {
   "cell_type": "code",
   "execution_count": 86,
   "id": "0dd74f3a",
   "metadata": {},
   "outputs": [
    {
     "data": {
      "text/html": [
       "<div>\n",
       "<style scoped>\n",
       "    .dataframe tbody tr th:only-of-type {\n",
       "        vertical-align: middle;\n",
       "    }\n",
       "\n",
       "    .dataframe tbody tr th {\n",
       "        vertical-align: top;\n",
       "    }\n",
       "\n",
       "    .dataframe thead th {\n",
       "        text-align: right;\n",
       "    }\n",
       "</style>\n",
       "<table border=\"1\" class=\"dataframe\">\n",
       "  <thead>\n",
       "    <tr style=\"text-align: right;\">\n",
       "      <th></th>\n",
       "      <th>area_m2</th>\n",
       "      <th>price_usd</th>\n",
       "    </tr>\n",
       "  </thead>\n",
       "  <tbody>\n",
       "    <tr>\n",
       "      <th>count</th>\n",
       "      <td>1971.000000</td>\n",
       "      <td>1276.000000</td>\n",
       "    </tr>\n",
       "    <tr>\n",
       "      <th>mean</th>\n",
       "      <td>172.504313</td>\n",
       "      <td>117851.736614</td>\n",
       "    </tr>\n",
       "    <tr>\n",
       "      <th>std</th>\n",
       "      <td>80.218600</td>\n",
       "      <td>66635.177416</td>\n",
       "    </tr>\n",
       "    <tr>\n",
       "      <th>min</th>\n",
       "      <td>60.000000</td>\n",
       "      <td>33157.890000</td>\n",
       "    </tr>\n",
       "    <tr>\n",
       "      <th>25%</th>\n",
       "      <td>104.000000</td>\n",
       "      <td>65789.470000</td>\n",
       "    </tr>\n",
       "    <tr>\n",
       "      <th>50%</th>\n",
       "      <td>160.000000</td>\n",
       "      <td>100128.050000</td>\n",
       "    </tr>\n",
       "    <tr>\n",
       "      <th>75%</th>\n",
       "      <td>222.500000</td>\n",
       "      <td>155263.160000</td>\n",
       "    </tr>\n",
       "    <tr>\n",
       "      <th>max</th>\n",
       "      <td>385.000000</td>\n",
       "      <td>326733.660000</td>\n",
       "    </tr>\n",
       "  </tbody>\n",
       "</table>\n",
       "</div>"
      ],
      "text/plain": [
       "           area_m2      price_usd\n",
       "count  1971.000000    1276.000000\n",
       "mean    172.504313  117851.736614\n",
       "std      80.218600   66635.177416\n",
       "min      60.000000   33157.890000\n",
       "25%     104.000000   65789.470000\n",
       "50%     160.000000  100128.050000\n",
       "75%     222.500000  155263.160000\n",
       "max     385.000000  326733.660000"
      ]
     },
     "execution_count": 86,
     "metadata": {},
     "output_type": "execute_result"
    }
   ],
   "source": [
    "# FINDING THE STATISTICAL CHARACTERISTICS OF THE DATAFRAME #\n",
    "df[[\"area_m2\", \"price_usd\"]].describe()"
   ]
  },
  {
   "cell_type": "code",
   "execution_count": null,
   "id": "bc3dd3e5",
   "metadata": {},
   "outputs": [],
   "source": [
    "Does \"price_usd\" have the same distribution as \"price_per_m2\"? Let's use the same two visualization tools to find out."
   ]
  },
  {
   "cell_type": "code",
   "execution_count": null,
   "id": "b7ca1e59",
   "metadata": {},
   "outputs": [],
   "source": [
    "\n",
    "Task 1.3.7: Create a histogram of \"price_usd\". Make sure that the x-axis has the label \"Price [USD]\", the y-axis has the label \"Frequency\", and the plot has the title \"Distribution of Home Prices\".\n",
    "\n",
    "What's a histogram?\n",
    "Create a histogram using Matplotlib."
   ]
  },
  {
   "cell_type": "code",
   "execution_count": 87,
   "id": "fd29c9cd",
   "metadata": {},
   "outputs": [
    {
     "data": {
      "image/png": "[encoded data removed]",
      "text/plain": [
       "<Figure size 432x288 with 1 Axes>"
      ]
     },
     "metadata": {
      "needs_background": "light"
     },
     "output_type": "display_data"
    }
   ],
   "source": [
    "# Creating a# HISTOGRAM OF PRICE_USD #\n",
    "plt.hist(df[\"price_usd\"])\n",
    "plt.xlabel(\"Price [USD]\")\n",
    "plt.ylabel(\"Frequency\")\n",
    "plt.title(\"Distribution of Home Prices\");"
   ]
  },
  {
   "cell_type": "code",
   "execution_count": null,
   "id": "7d46f777",
   "metadata": {},
   "outputs": [],
   "source": [
    "Looks like \"price_usd\" is even more skewed than \"area_m2\". What does this bigger skew look like in a boxplot?"
   ]
  },
  {
   "cell_type": "code",
   "execution_count": null,
   "id": "f3ffdaaf",
   "metadata": {},
   "outputs": [],
   "source": [
    "Task 1.3.8: Create a horizontal boxplot of \"price_usd\". Make sure that the x-axis has the label \"Price [USD]\" and the plot has the title \"Distribution of Home Prices\".\n",
    "\n",
    "What's a boxplot?\n",
    "What's an outlier?\n",
    "Create a boxplot using Matplotlib."
   ]
  },
  {
   "cell_type": "code",
   "execution_count": 89,
   "id": "1deee1bb",
   "metadata": {},
   "outputs": [
    {
     "data": {
      "image/png": "[encoded data removed]",
      "text/plain": [
       "<Figure size 432x288 with 1 Axes>"
      ]
     },
     "metadata": {
      "needs_background": "light"
     },
     "output_type": "display_data"
    }
   ],
   "source": [
    "#  HORIZONTAL BOXPLOT OF PRICE #\n",
    "plt.boxplot(df[\"price_usd\"], vert=False)\n",
    "plt.xlabel(\"Price [USD]\")\n",
    "plt.title(\"Distribution of Home Prices\");"
   ]
  },
  {
   "cell_type": "code",
   "execution_count": null,
   "id": "9af1fd1d",
   "metadata": {},
   "outputs": [],
   "source": [
    "Excellent job! Now that you have a sense of for the dataset, let's move to the next notebook and start answering some \n",
    "research questions about the relationship between house size, price, and location."
   ]
  },
  {
   "cell_type": "markdown",
   "id": "2735ce5b",
   "metadata": {},
   "source": [
    "#  Pandas: Getting Started  #"
   ]
  },
  {
   "cell_type": "code",
   "execution_count": null,
   "id": "2b5f49ec",
   "metadata": {},
   "outputs": [],
   "source": [
    "Pandas\n",
    "Pandas is a Python library used for working with datasets. It does that by helping us make sense of DataFrames, \n",
    "which are a form of two-dimensional structured data, like a table with columns and rows. But before we can do anything else, \n",
    "we need to start with data in a CSV file.\n",
    "\n",
    "Importing Data\n",
    "CSV Files\n",
    "CSV stands for Comma Separated Values, and it's a file type that allows data to be saved in a table. Data presented in a table\n",
    "is called structured data, because it adheres to the idea that there is a meaningful relationship between the columns and \n",
    "rows. A CSV might also show panel data, which is data that shows observations of the same behavior at various different \n",
    "times. The datasets we're using in this part of the course are all structured tables, but you'll see other arrangements of \n",
    "data as you move through your projects.\n",
    "\n",
    "If you're familiar with the way that data tables look in spreadsheet applications like Excel, you might be surprised to see\n",
    "that raw CSV files \n",
    "don't look like that. If you came across a CSV file and opened it to see what it looked like, you'd see something like this:\n",
    "\n",
    "property_type,department,lat,lon,area_m2,price_usd\n",
    "house,Bogotá D.C,4.69,-74.048,187.0,\"$330,899.98\"\n",
    "house,Bogotá D.C,4.695,-74.082,82.0,\"$121,555.09\"\n",
    "house,Quindío,4.535,-75.676,235.0,\"$219,474.47\"\n",
    "house,Bogotá D.C,4.62,-74.129,195.0,\"$97,919.38\"\n",
    "Dictionaries"
   ]
  },
  {
   "cell_type": "markdown",
   "id": "dd9d3dfb",
   "metadata": {},
   "source": [
    "## Dictionaries ##\n",
    "You can create a DataFrame from a Python dictionary using from_dict function."
   ]
  },
  {
   "cell_type": "code",
   "execution_count": null,
   "id": "ea5bb804",
   "metadata": {},
   "outputs": [],
   "source": []
  },
  {
   "cell_type": "code",
   "execution_count": 28,
   "id": "69b50c9b",
   "metadata": {},
   "outputs": [
    {
     "data": {
      "text/html": [
       "<div>\n",
       "<style scoped>\n",
       "    .dataframe tbody tr th:only-of-type {\n",
       "        vertical-align: middle;\n",
       "    }\n",
       "\n",
       "    .dataframe tbody tr th {\n",
       "        vertical-align: top;\n",
       "    }\n",
       "\n",
       "    .dataframe thead th {\n",
       "        text-align: right;\n",
       "    }\n",
       "</style>\n",
       "<table border=\"1\" class=\"dataframe\">\n",
       "  <thead>\n",
       "    <tr style=\"text-align: right;\">\n",
       "      <th></th>\n",
       "      <th>col_1</th>\n",
       "      <th>col_2</th>\n",
       "    </tr>\n",
       "  </thead>\n",
       "  <tbody>\n",
       "    <tr>\n",
       "      <th>0</th>\n",
       "      <td>3</td>\n",
       "      <td>a</td>\n",
       "    </tr>\n",
       "    <tr>\n",
       "      <th>1</th>\n",
       "      <td>2</td>\n",
       "      <td>b</td>\n",
       "    </tr>\n",
       "    <tr>\n",
       "      <th>2</th>\n",
       "      <td>1</td>\n",
       "      <td>c</td>\n",
       "    </tr>\n",
       "    <tr>\n",
       "      <th>3</th>\n",
       "      <td>0</td>\n",
       "      <td>d</td>\n",
       "    </tr>\n",
       "  </tbody>\n",
       "</table>\n",
       "</div>"
      ],
      "text/plain": [
       "   col_1 col_2\n",
       "0      3     a\n",
       "1      2     b\n",
       "2      1     c\n",
       "3      0     d"
      ]
     },
     "execution_count": 28,
     "metadata": {},
     "output_type": "execute_result"
    }
   ],
   "source": [
    "import pandas as pd\n",
    "\n",
    "data = {\"col_1\": [3, 2, 1, 0], \"col_2\": [\"a\", \"b\", \"c\", \"d\"]}\n",
    "pd.DataFrame.from_dict(data)"
   ]
  },
  {
   "cell_type": "code",
   "execution_count": null,
   "id": "6ae4fd5c",
   "metadata": {},
   "outputs": [],
   "source": [
    "By default, DataFrame will be created using keys as columns. Note the length of the values should be equal for each key for\n",
    "the code to work. We can also let keys to be index instead of the columns:"
   ]
  },
  {
   "cell_type": "code",
   "execution_count": 29,
   "id": "adc0bfaf",
   "metadata": {},
   "outputs": [
    {
     "data": {
      "text/html": [
       "<div>\n",
       "<style scoped>\n",
       "    .dataframe tbody tr th:only-of-type {\n",
       "        vertical-align: middle;\n",
       "    }\n",
       "\n",
       "    .dataframe tbody tr th {\n",
       "        vertical-align: top;\n",
       "    }\n",
       "\n",
       "    .dataframe thead th {\n",
       "        text-align: right;\n",
       "    }\n",
       "</style>\n",
       "<table border=\"1\" class=\"dataframe\">\n",
       "  <thead>\n",
       "    <tr style=\"text-align: right;\">\n",
       "      <th></th>\n",
       "      <th>0</th>\n",
       "      <th>1</th>\n",
       "      <th>2</th>\n",
       "      <th>3</th>\n",
       "    </tr>\n",
       "  </thead>\n",
       "  <tbody>\n",
       "    <tr>\n",
       "      <th>col_1</th>\n",
       "      <td>3</td>\n",
       "      <td>2</td>\n",
       "      <td>1</td>\n",
       "      <td>0</td>\n",
       "    </tr>\n",
       "    <tr>\n",
       "      <th>col_2</th>\n",
       "      <td>a</td>\n",
       "      <td>b</td>\n",
       "      <td>c</td>\n",
       "      <td>d</td>\n",
       "    </tr>\n",
       "  </tbody>\n",
       "</table>\n",
       "</div>"
      ],
      "text/plain": [
       "       0  1  2  3\n",
       "col_1  3  2  1  0\n",
       "col_2  a  b  c  d"
      ]
     },
     "execution_count": 29,
     "metadata": {},
     "output_type": "execute_result"
    }
   ],
   "source": [
    "pd.DataFrame.from_dict(data, orient=\"index\")"
   ]
  },
  {
   "cell_type": "code",
   "execution_count": null,
   "id": "0aaeec9c",
   "metadata": {},
   "outputs": [],
   "source": [
    "We can also specify column names:"
   ]
  },
  {
   "cell_type": "code",
   "execution_count": 30,
   "id": "cb9e8ca1",
   "metadata": {},
   "outputs": [
    {
     "data": {
      "text/html": [
       "<div>\n",
       "<style scoped>\n",
       "    .dataframe tbody tr th:only-of-type {\n",
       "        vertical-align: middle;\n",
       "    }\n",
       "\n",
       "    .dataframe tbody tr th {\n",
       "        vertical-align: top;\n",
       "    }\n",
       "\n",
       "    .dataframe thead th {\n",
       "        text-align: right;\n",
       "    }\n",
       "</style>\n",
       "<table border=\"1\" class=\"dataframe\">\n",
       "  <thead>\n",
       "    <tr style=\"text-align: right;\">\n",
       "      <th></th>\n",
       "      <th>A</th>\n",
       "      <th>B</th>\n",
       "      <th>C</th>\n",
       "      <th>D</th>\n",
       "    </tr>\n",
       "  </thead>\n",
       "  <tbody>\n",
       "    <tr>\n",
       "      <th>col_1</th>\n",
       "      <td>3</td>\n",
       "      <td>2</td>\n",
       "      <td>1</td>\n",
       "      <td>0</td>\n",
       "    </tr>\n",
       "    <tr>\n",
       "      <th>col_2</th>\n",
       "      <td>a</td>\n",
       "      <td>b</td>\n",
       "      <td>c</td>\n",
       "      <td>d</td>\n",
       "    </tr>\n",
       "  </tbody>\n",
       "</table>\n",
       "</div>"
      ],
      "text/plain": [
       "       A  B  C  D\n",
       "col_1  3  2  1  0\n",
       "col_2  a  b  c  d"
      ]
     },
     "execution_count": 30,
     "metadata": {},
     "output_type": "execute_result"
    }
   ],
   "source": [
    "pd.DataFrame.from_dict(data, orient=\"index\", columns=[\"A\", \"B\", \"C\", \"D\"])"
   ]
  },
  {
   "cell_type": "code",
   "execution_count": null,
   "id": "2abe09d7",
   "metadata": {},
   "outputs": [],
   "source": [
    "Practice\n",
    "\n",
    "Try it yourself! Create a DataFrame called using the dictionary clothes and make the keys as index, \n",
    "and put column names as ['color','size']"
   ]
  },
  {
   "cell_type": "code",
   "execution_count": 101,
   "id": "40faf6bb",
   "metadata": {},
   "outputs": [
    {
     "data": {
      "text/html": [
       "<div>\n",
       "<style scoped>\n",
       "    .dataframe tbody tr th:only-of-type {\n",
       "        vertical-align: middle;\n",
       "    }\n",
       "\n",
       "    .dataframe tbody tr th {\n",
       "        vertical-align: top;\n",
       "    }\n",
       "\n",
       "    .dataframe thead th {\n",
       "        text-align: right;\n",
       "    }\n",
       "</style>\n",
       "<table border=\"1\" class=\"dataframe\">\n",
       "  <thead>\n",
       "    <tr style=\"text-align: right;\">\n",
       "      <th></th>\n",
       "      <th>Color</th>\n",
       "      <th>Size</th>\n",
       "    </tr>\n",
       "  </thead>\n",
       "  <tbody>\n",
       "    <tr>\n",
       "      <th>shirt</th>\n",
       "      <td>red</td>\n",
       "      <td>M</td>\n",
       "    </tr>\n",
       "    <tr>\n",
       "      <th>sweater</th>\n",
       "      <td>yellow</td>\n",
       "      <td>L</td>\n",
       "    </tr>\n",
       "    <tr>\n",
       "      <th>jacket</th>\n",
       "      <td>black</td>\n",
       "      <td>L</td>\n",
       "    </tr>\n",
       "  </tbody>\n",
       "</table>\n",
       "</div>"
      ],
      "text/plain": [
       "          Color Size\n",
       "shirt       red    M\n",
       "sweater  yellow    L\n",
       "jacket    black    L"
      ]
     },
     "execution_count": 101,
     "metadata": {},
     "output_type": "execute_result"
    }
   ],
   "source": [
    "clothes = {\"shirt\": [\"red\", \"M\"], \"sweater\": [\"yellow\", \"L\"], \"jacket\": [\"black\", \"L\"]}\n",
    "\n",
    "pd.DataFrame.from_dict(clothes, orient=\"index\", columns=['Color','Size'])"
   ]
  },
  {
   "cell_type": "markdown",
   "id": "9d15b2a0",
   "metadata": {},
   "source": [
    "## JSON Files ##\n",
    "JSON is short for JavaScript Object Notation. It is another widely used data format to store and transfer the data. \n",
    "It is light-weight and very human readable. \n",
    "In Python, we can use the json library to read JSON files. Here is an example of a JSON string."
   ]
  },
  {
   "cell_type": "code",
   "execution_count": 102,
   "id": "0f7ca368",
   "metadata": {},
   "outputs": [
    {
     "name": "stdout",
     "output_type": "stream",
     "text": [
      "{\n",
      "    \"firstName\": \"Jane\",\n",
      "    \"lastName\": \"Doe\",\n",
      "    \"hobby\": \"running\",\n",
      "    \"age\": 35\n",
      "}\n"
     ]
    }
   ],
   "source": [
    "info = \"\"\"{\n",
    "    \"firstName\": \"Jane\",\n",
    "    \"lastName\": \"Doe\",\n",
    "    \"hobby\": \"running\",\n",
    "    \"age\": 35\n",
    "}\"\"\"\n",
    "print(info)"
   ]
  },
  {
   "cell_type": "code",
   "execution_count": null,
   "id": "0dcd7c70",
   "metadata": {},
   "outputs": [],
   "source": [
    "Use json library to load the json string into a Python dictionary:"
   ]
  },
  {
   "cell_type": "code",
   "execution_count": 103,
   "id": "f784a0df",
   "metadata": {},
   "outputs": [
    {
     "data": {
      "text/plain": [
       "{'firstName': 'Jane', 'lastName': 'Doe', 'hobby': 'running', 'age': 35}"
      ]
     },
     "execution_count": 103,
     "metadata": {},
     "output_type": "execute_result"
    }
   ],
   "source": [
    "import json\n",
    "\n",
    "data = json.loads(info)\n",
    "data"
   ]
  },
  {
   "cell_type": "code",
   "execution_count": null,
   "id": "499cbdb3",
   "metadata": {},
   "outputs": [],
   "source": [
    "We can load a json string or file into a dictionary because they are organized in the same way: key-value pairs."
   ]
  },
  {
   "cell_type": "code",
   "execution_count": 104,
   "id": "415acc61",
   "metadata": {},
   "outputs": [
    {
     "data": {
      "text/plain": [
       "'Jane'"
      ]
     },
     "execution_count": 104,
     "metadata": {},
     "output_type": "execute_result"
    }
   ],
   "source": [
    "data[\"firstName\"]"
   ]
  },
  {
   "cell_type": "code",
   "execution_count": null,
   "id": "3e93446b",
   "metadata": {},
   "outputs": [],
   "source": [
    "A dictionary may not be as convenient as a DataFrame in terms of data manipulation and cleaning. But oncewe've turned our \n",
    "json string into a dictionary, we can transform it into a DataFrame using the from_dict method."
   ]
  },
  {
   "cell_type": "code",
   "execution_count": 17,
   "id": "96d3ede9",
   "metadata": {},
   "outputs": [
    {
     "data": {
      "text/html": [
       "<div>\n",
       "<style scoped>\n",
       "    .dataframe tbody tr th:only-of-type {\n",
       "        vertical-align: middle;\n",
       "    }\n",
       "\n",
       "    .dataframe tbody tr th {\n",
       "        vertical-align: top;\n",
       "    }\n",
       "\n",
       "    .dataframe thead th {\n",
       "        text-align: right;\n",
       "    }\n",
       "</style>\n",
       "<table border=\"1\" class=\"dataframe\">\n",
       "  <thead>\n",
       "    <tr style=\"text-align: right;\">\n",
       "      <th></th>\n",
       "      <th>subject 1</th>\n",
       "    </tr>\n",
       "  </thead>\n",
       "  <tbody>\n",
       "    <tr>\n",
       "      <th>firstName</th>\n",
       "      <td>Jane</td>\n",
       "    </tr>\n",
       "    <tr>\n",
       "      <th>lastName</th>\n",
       "      <td>Doe</td>\n",
       "    </tr>\n",
       "    <tr>\n",
       "      <th>hobby</th>\n",
       "      <td>running</td>\n",
       "    </tr>\n",
       "    <tr>\n",
       "      <th>age</th>\n",
       "      <td>35</td>\n",
       "    </tr>\n",
       "  </tbody>\n",
       "</table>\n",
       "</div>"
      ],
      "text/plain": [
       "          subject 1\n",
       "firstName      Jane\n",
       "lastName        Doe\n",
       "hobby       running\n",
       "age              35"
      ]
     },
     "execution_count": 17,
     "metadata": {},
     "output_type": "execute_result"
    }
   ],
   "source": [
    "df = pd.DataFrame.from_dict(data, orient=\"index\", columns=[\"subject 1\"])\n",
    "df"
   ]
  },
  {
   "cell_type": "code",
   "execution_count": null,
   "id": "6ba6ace1",
   "metadata": {},
   "outputs": [],
   "source": [
    "\n",
    "Practice\n",
    "\n",
    "Try it yourself! Load the JSON file clothes and then transform it to DataFrame, name column properly."
   ]
  },
  {
   "cell_type": "code",
   "execution_count": 31,
   "id": "1d2597e8",
   "metadata": {},
   "outputs": [
    {
     "ename": "NameError",
     "evalue": "name 'json' is not defined",
     "output_type": "error",
     "traceback": [
      "\u001b[1;31m---------------------------------------------------------------------------\u001b[0m",
      "\u001b[1;31mNameError\u001b[0m                                 Traceback (most recent call last)",
      "\u001b[1;32m~\\AppData\\Local\\Temp/ipykernel_20896/1297729219.py\u001b[0m in \u001b[0;36m<module>\u001b[1;34m\u001b[0m\n\u001b[0;32m      3\u001b[0m \u001b[1;33m\u001b[0m\u001b[0m\n\u001b[0;32m      4\u001b[0m \u001b[1;33m\u001b[0m\u001b[0m\n\u001b[1;32m----> 5\u001b[1;33m \u001b[0mdata\u001b[0m \u001b[1;33m=\u001b[0m \u001b[0mjson\u001b[0m\u001b[1;33m.\u001b[0m\u001b[0mloads\u001b[0m\u001b[1;33m(\u001b[0m\u001b[0mclothes\u001b[0m\u001b[1;33m)\u001b[0m\u001b[1;33m\u001b[0m\u001b[1;33m\u001b[0m\u001b[0m\n\u001b[0m\u001b[0;32m      6\u001b[0m \u001b[0mdf\u001b[0m \u001b[1;33m=\u001b[0m \u001b[0mpd\u001b[0m\u001b[1;33m.\u001b[0m\u001b[0mdataFrame\u001b[0m\u001b[1;33m.\u001b[0m\u001b[0mfrom_dict\u001b[0m\u001b[1;33m(\u001b[0m\u001b[0morient\u001b[0m\u001b[1;33m=\u001b[0m \u001b[1;34m\"index\"\u001b[0m\u001b[1;33m,\u001b[0m \u001b[0mcolumn\u001b[0m\u001b[1;33m=\u001b[0m\u001b[1;33m[\u001b[0m\u001b[1;34m'Colour'\u001b[0m\u001b[1;33m,\u001b[0m \u001b[1;34m'Size'\u001b[0m\u001b[1;33m]\u001b[0m\u001b[1;33m)\u001b[0m\u001b[1;33m\u001b[0m\u001b[1;33m\u001b[0m\u001b[0m\n\u001b[0;32m      7\u001b[0m \u001b[0mdf\u001b[0m\u001b[1;33m\u001b[0m\u001b[1;33m\u001b[0m\u001b[0m\n",
      "\u001b[1;31mNameError\u001b[0m: name 'json' is not defined"
     ]
    }
   ],
   "source": [
    "import pandas as pd\n",
    "clothes = \"\"\"{\"shirt\": [\"red\",\"M\"], \"sweater\": [\"yellow\",\"L\"]}\"\"\"\n",
    "\n",
    "\n",
    "data = json.loads(clothes)\n",
    "df = pd.dataFrame.from_dict(orient= \"index\", column=['Colour', 'Size'])\n",
    "df"
   ]
  },
  {
   "cell_type": "markdown",
   "id": "cf1aa2f3",
   "metadata": {},
   "source": [
    "## Load Compressed file in Python¶ ##\n",
    "In the big data era, it is very likely that we'll need to read data from compressed files. In this case, we need to use\n",
    "gzip to unzip the data before loading it. We can load the poland-bankruptcy-data-2008.json.gz file from the data folder\n",
    "using the following code:"
   ]
  },
  {
   "cell_type": "code",
   "execution_count": null,
   "id": "87943541",
   "metadata": {},
   "outputs": [],
   "source": [
    "import gzip\n",
    "import json\n",
    "\n",
    "with gzip.open(\"data/poland-bankruptcy-data-2008.json.gz\", \"r\") as f:\n",
    "    poland_data_gz = json.load(f)"
   ]
  },
  {
   "cell_type": "code",
   "execution_count": null,
   "id": "cf072553",
   "metadata": {},
   "outputs": [],
   "source": [
    "poland_data_gz is a dictionary, and we only need the data portion of it."
   ]
  },
  {
   "cell_type": "code",
   "execution_count": null,
   "id": "216c7369",
   "metadata": {},
   "outputs": [],
   "source": [
    "poland_data_gz.keys()"
   ]
  },
  {
   "cell_type": "code",
   "execution_count": null,
   "id": "59caefe9",
   "metadata": {},
   "outputs": [],
   "source": [
    "\n",
    "We can use the from_dict function from pandas to read the data:"
   ]
  },
  {
   "cell_type": "code",
   "execution_count": null,
   "id": "7ffaf514",
   "metadata": {},
   "outputs": [],
   "source": [
    "df = pd.DataFrame().from_dict(poland_data_gz[\"data\"])"
   ]
  },
  {
   "cell_type": "code",
   "execution_count": null,
   "id": "77585d16",
   "metadata": {},
   "outputs": [],
   "source": [
    "df.head()"
   ]
  },
  {
   "cell_type": "code",
   "execution_count": null,
   "id": "732f27ac",
   "metadata": {},
   "outputs": [],
   "source": [
    "## Practice ##\n",
    "\n",
    "Read poland-bankruptcy-data-2007.json.gz into a DataFrame."
   ]
  },
  {
   "cell_type": "code",
   "execution_count": null,
   "id": "cb9f112c",
   "metadata": {},
   "outputs": [],
   "source": [
    "# Load file into dictionary\n",
    "\n",
    "\n",
    "# Transform dictionary into DataFrame\n",
    "df = ...\n",
    "df.head()"
   ]
  },
  {
   "cell_type": "markdown",
   "id": "f3f028d6",
   "metadata": {},
   "source": [
    "## Pickle Files ##"
   ]
  },
  {
   "cell_type": "code",
   "execution_count": null,
   "id": "029b15c8",
   "metadata": {},
   "outputs": [],
   "source": [
    "Pickle in Python is primarily used in serializing and deserializing a Python object structure. \n",
    "Serialization is the process of turning an object in memory into a stream of bytes so you can store it on disk or \n",
    "send it over a network. Deserialization is the reverse process: turning a stream of bytes back into an object in memory.\n",
    "\n",
    "According to the pickle module documentation, the following types can be pickled:\n",
    "\n",
    "None\n",
    "Booleans\n",
    "Integers, long integers, floating point numbers, complex numbers\n",
    "Normal and Unicode strings\n",
    "Tuples, lists, sets, and dictionaries containing only objects that can be pickled\n",
    "Functions defined at the top level of a module\n",
    "Built-in functions defined at the top level of a module\n",
    "Classes that are defined at the top level of a module\n",
    "Let's demonstrate using a python dictionary as an example."
   ]
  },
  {
   "cell_type": "code",
   "execution_count": 32,
   "id": "9f5c6f2e",
   "metadata": {},
   "outputs": [
    {
     "data": {
      "text/plain": [
       "{'shirt': ['red', 'M'], 'sweater': ['yellow', 'L'], 'jacket': ['black', 'L']}"
      ]
     },
     "execution_count": 32,
     "metadata": {},
     "output_type": "execute_result"
    }
   ],
   "source": [
    "clothes = {\"shirt\": [\"red\", \"M\"], \"sweater\": [\"yellow\", \"L\"], \"jacket\": [\"black\", \"L\"]}\n",
    "clothes"
   ]
  },
  {
   "cell_type": "code",
   "execution_count": 33,
   "id": "ae17f9fb",
   "metadata": {},
   "outputs": [
    {
     "ename": "FileNotFoundError",
     "evalue": "[Errno 2] No such file or directory: './data/clothes.pkl'",
     "output_type": "error",
     "traceback": [
      "\u001b[1;31m---------------------------------------------------------------------------\u001b[0m",
      "\u001b[1;31mFileNotFoundError\u001b[0m                         Traceback (most recent call last)",
      "\u001b[1;32m~\\AppData\\Local\\Temp/ipykernel_20896/1590021592.py\u001b[0m in \u001b[0;36m<module>\u001b[1;34m\u001b[0m\n\u001b[0;32m      1\u001b[0m \u001b[1;32mimport\u001b[0m \u001b[0mpickle\u001b[0m\u001b[1;33m\u001b[0m\u001b[1;33m\u001b[0m\u001b[0m\n\u001b[0;32m      2\u001b[0m \u001b[1;33m\u001b[0m\u001b[0m\n\u001b[1;32m----> 3\u001b[1;33m \u001b[0mpickle\u001b[0m\u001b[1;33m.\u001b[0m\u001b[0mdump\u001b[0m\u001b[1;33m(\u001b[0m\u001b[0mclothes\u001b[0m\u001b[1;33m,\u001b[0m \u001b[0mopen\u001b[0m\u001b[1;33m(\u001b[0m\u001b[1;34m\"./data/clothes.pkl\"\u001b[0m\u001b[1;33m,\u001b[0m \u001b[1;34m\"wb\"\u001b[0m\u001b[1;33m)\u001b[0m\u001b[1;33m)\u001b[0m\u001b[1;33m\u001b[0m\u001b[1;33m\u001b[0m\u001b[0m\n\u001b[0m",
      "\u001b[1;31mFileNotFoundError\u001b[0m: [Errno 2] No such file or directory: './data/clothes.pkl'"
     ]
    }
   ],
   "source": [
    "import pickle\n",
    "\n",
    "pickle.dump(clothes, open(\"./data/clothes.pkl\", \"wb\"))"
   ]
  },
  {
   "cell_type": "code",
   "execution_count": null,
   "id": "ae0521b5",
   "metadata": {},
   "outputs": [],
   "source": [
    "Now in the data folder, there will be a file named clothes.pkl. We can read the pickled file using the following code:"
   ]
  },
  {
   "cell_type": "code",
   "execution_count": 34,
   "id": "7c377662",
   "metadata": {},
   "outputs": [
    {
     "ename": "FileNotFoundError",
     "evalue": "[Errno 2] No such file or directory: './data/clothes.pkl'",
     "output_type": "error",
     "traceback": [
      "\u001b[1;31m---------------------------------------------------------------------------\u001b[0m",
      "\u001b[1;31mFileNotFoundError\u001b[0m                         Traceback (most recent call last)",
      "\u001b[1;32m~\\AppData\\Local\\Temp/ipykernel_20896/291424671.py\u001b[0m in \u001b[0;36m<module>\u001b[1;34m\u001b[0m\n\u001b[1;32m----> 1\u001b[1;33m \u001b[1;32mwith\u001b[0m \u001b[0mopen\u001b[0m\u001b[1;33m(\u001b[0m\u001b[1;34m\"./data/clothes.pkl\"\u001b[0m\u001b[1;33m,\u001b[0m \u001b[1;34m\"rb\"\u001b[0m\u001b[1;33m)\u001b[0m \u001b[1;32mas\u001b[0m \u001b[0mf\u001b[0m\u001b[1;33m:\u001b[0m\u001b[1;33m\u001b[0m\u001b[1;33m\u001b[0m\u001b[0m\n\u001b[0m\u001b[0;32m      2\u001b[0m     \u001b[0munpickled\u001b[0m \u001b[1;33m=\u001b[0m \u001b[0mpickle\u001b[0m\u001b[1;33m.\u001b[0m\u001b[0mload\u001b[0m\u001b[1;33m(\u001b[0m\u001b[0mf\u001b[0m\u001b[1;33m)\u001b[0m\u001b[1;33m\u001b[0m\u001b[1;33m\u001b[0m\u001b[0m\n",
      "\u001b[1;31mFileNotFoundError\u001b[0m: [Errno 2] No such file or directory: './data/clothes.pkl'"
     ]
    }
   ],
   "source": [
    "with open(\"./data/clothes.pkl\", \"rb\") as f:\n",
    "    unpickled = pickle.load(f)"
   ]
  },
  {
   "cell_type": "code",
   "execution_count": null,
   "id": "7e3d1e4c",
   "metadata": {},
   "outputs": [],
   "source": [
    "unpickled"
   ]
  },
  {
   "cell_type": "code",
   "execution_count": null,
   "id": "0332705f",
   "metadata": {},
   "outputs": [],
   "source": [
    "Note first we are using wb inside the open function because we are creating this file, while deserializing the file,\n",
    "we are using rb to read the file\n",
    "\n",
    "Practice\n",
    "\n",
    "Store the sample list into a pickle file, and load the pickle file back to a list."
   ]
  },
  {
   "cell_type": "code",
   "execution_count": 35,
   "id": "0902a2a3",
   "metadata": {},
   "outputs": [],
   "source": [
    "sample_list = [1, 2, 3, 4, 5]"
   ]
  },
  {
   "cell_type": "code",
   "execution_count": null,
   "id": "1b583ba3",
   "metadata": {},
   "outputs": [],
   "source": [
    "unpickled"
   ]
  },
  {
   "cell_type": "markdown",
   "id": "c753300a",
   "metadata": {},
   "source": [
    "## Working with DataFrames ##\n",
    "The first thing we need to do is import pandas; we'll use pd as an alias when we include it in our code.\n",
    "\n",
    "Pandas is just a library; to get anything done, we need a dataset, too. We'll use the read_csv method \n",
    "to create a DataFrame from a CSV file."
   ]
  },
  {
   "cell_type": "code",
   "execution_count": 68,
   "id": "1877f307",
   "metadata": {},
   "outputs": [
    {
     "data": {
      "text/html": [
       "<div>\n",
       "<style scoped>\n",
       "    .dataframe tbody tr th:only-of-type {\n",
       "        vertical-align: middle;\n",
       "    }\n",
       "\n",
       "    .dataframe tbody tr th {\n",
       "        vertical-align: top;\n",
       "    }\n",
       "\n",
       "    .dataframe thead th {\n",
       "        text-align: right;\n",
       "    }\n",
       "</style>\n",
       "<table border=\"1\" class=\"dataframe\">\n",
       "  <thead>\n",
       "    <tr style=\"text-align: right;\">\n",
       "      <th></th>\n",
       "      <th>property_type</th>\n",
       "      <th>place_with_parent_names</th>\n",
       "      <th>lat-lon</th>\n",
       "      <th>area_m2</th>\n",
       "      <th>price_usd</th>\n",
       "    </tr>\n",
       "  </thead>\n",
       "  <tbody>\n",
       "    <tr>\n",
       "      <th>0</th>\n",
       "      <td>house</td>\n",
       "      <td>|Colombia|Bogotá D.C|Suba|</td>\n",
       "      <td>4.722,-74.059</td>\n",
       "      <td>113.0</td>\n",
       "      <td>162073.45</td>\n",
       "    </tr>\n",
       "    <tr>\n",
       "      <th>1</th>\n",
       "      <td>house</td>\n",
       "      <td>|Colombia|Valle del Cauca|Cali|</td>\n",
       "      <td>3.455,-76.522</td>\n",
       "      <td>210.0</td>\n",
       "      <td>151943.86</td>\n",
       "    </tr>\n",
       "    <tr>\n",
       "      <th>2</th>\n",
       "      <td>house</td>\n",
       "      <td>|Colombia|Bogotá D.C|Chapinero|</td>\n",
       "      <td>4.676,-74.044</td>\n",
       "      <td>183.0</td>\n",
       "      <td>422066.30</td>\n",
       "    </tr>\n",
       "    <tr>\n",
       "      <th>3</th>\n",
       "      <td>house</td>\n",
       "      <td>|Colombia|Atlántico|Barranquilla|</td>\n",
       "      <td>10.999,-74.816</td>\n",
       "      <td>85.0</td>\n",
       "      <td>84413.26</td>\n",
       "    </tr>\n",
       "    <tr>\n",
       "      <th>4</th>\n",
       "      <td>house</td>\n",
       "      <td>|Colombia|Valle del Cauca|Cali|</td>\n",
       "      <td>3.334,-76.547</td>\n",
       "      <td>145.0</td>\n",
       "      <td>131577.65</td>\n",
       "    </tr>\n",
       "  </tbody>\n",
       "</table>\n",
       "</div>"
      ],
      "text/plain": [
       "  property_type            place_with_parent_names         lat-lon  area_m2  \\\n",
       "0         house         |Colombia|Bogotá D.C|Suba|   4.722,-74.059    113.0   \n",
       "1         house    |Colombia|Valle del Cauca|Cali|   3.455,-76.522    210.0   \n",
       "2         house    |Colombia|Bogotá D.C|Chapinero|   4.676,-74.044    183.0   \n",
       "3         house  |Colombia|Atlántico|Barranquilla|  10.999,-74.816     85.0   \n",
       "4         house    |Colombia|Valle del Cauca|Cali|   3.334,-76.547    145.0   \n",
       "\n",
       "   price_usd  \n",
       "0  162073.45  \n",
       "1  151943.86  \n",
       "2  422066.30  \n",
       "3   84413.26  \n",
       "4  131577.65  "
      ]
     },
     "execution_count": 68,
     "metadata": {},
     "output_type": "execute_result"
    }
   ],
   "source": [
    "import pandas as pd\n",
    "\n",
    "df1 = pd.read_csv(\"colombia-real-estate-1.txt\")\n",
    "df1.head()"
   ]
  },
  {
   "cell_type": "code",
   "execution_count": 69,
   "id": "a169f649",
   "metadata": {},
   "outputs": [
    {
     "data": {
      "text/plain": [
       "(3065, 5)"
      ]
     },
     "execution_count": 69,
     "metadata": {},
     "output_type": "execute_result"
    }
   ],
   "source": [
    "df1.shape"
   ]
  },
  {
   "cell_type": "code",
   "execution_count": null,
   "id": "c1a892af",
   "metadata": {},
   "outputs": [],
   "source": [
    ">Practice<\n",
    "\n",
    "Try it yourself! Create a DataFrame called `df2` using the `colombia-real-estate-2` CSV file."
   ]
  },
  {
   "cell_type": "code",
   "execution_count": 70,
   "id": "e4a2e402",
   "metadata": {},
   "outputs": [
    {
     "data": {
      "text/html": [
       "<div>\n",
       "<style scoped>\n",
       "    .dataframe tbody tr th:only-of-type {\n",
       "        vertical-align: middle;\n",
       "    }\n",
       "\n",
       "    .dataframe tbody tr th {\n",
       "        vertical-align: top;\n",
       "    }\n",
       "\n",
       "    .dataframe thead th {\n",
       "        text-align: right;\n",
       "    }\n",
       "</style>\n",
       "<table border=\"1\" class=\"dataframe\">\n",
       "  <thead>\n",
       "    <tr style=\"text-align: right;\">\n",
       "      <th></th>\n",
       "      <th>property_type</th>\n",
       "      <th>department</th>\n",
       "      <th>lat</th>\n",
       "      <th>lon</th>\n",
       "      <th>area_m2</th>\n",
       "      <th>price_cop</th>\n",
       "    </tr>\n",
       "  </thead>\n",
       "  <tbody>\n",
       "    <tr>\n",
       "      <th>0</th>\n",
       "      <td>house</td>\n",
       "      <td>Magdalena</td>\n",
       "      <td>11.233</td>\n",
       "      <td>-74.204</td>\n",
       "      <td>235.0</td>\n",
       "      <td>4.000000e+08</td>\n",
       "    </tr>\n",
       "    <tr>\n",
       "      <th>1</th>\n",
       "      <td>house</td>\n",
       "      <td>Bogotá D.C</td>\n",
       "      <td>4.714</td>\n",
       "      <td>-74.030</td>\n",
       "      <td>130.0</td>\n",
       "      <td>8.500000e+08</td>\n",
       "    </tr>\n",
       "    <tr>\n",
       "      <th>2</th>\n",
       "      <td>house</td>\n",
       "      <td>Cundinamarca</td>\n",
       "      <td>4.851</td>\n",
       "      <td>-74.059</td>\n",
       "      <td>137.0</td>\n",
       "      <td>4.750000e+08</td>\n",
       "    </tr>\n",
       "    <tr>\n",
       "      <th>3</th>\n",
       "      <td>house</td>\n",
       "      <td>Atlántico</td>\n",
       "      <td>11.006</td>\n",
       "      <td>-74.808</td>\n",
       "      <td>346.0</td>\n",
       "      <td>1.400000e+09</td>\n",
       "    </tr>\n",
       "    <tr>\n",
       "      <th>4</th>\n",
       "      <td>house</td>\n",
       "      <td>Cundinamarca</td>\n",
       "      <td>4.857</td>\n",
       "      <td>-74.061</td>\n",
       "      <td>175.0</td>\n",
       "      <td>4.300000e+08</td>\n",
       "    </tr>\n",
       "  </tbody>\n",
       "</table>\n",
       "</div>"
      ],
      "text/plain": [
       "  property_type    department     lat     lon  area_m2     price_cop\n",
       "0         house     Magdalena  11.233 -74.204    235.0  4.000000e+08\n",
       "1         house    Bogotá D.C   4.714 -74.030    130.0  8.500000e+08\n",
       "2         house  Cundinamarca   4.851 -74.059    137.0  4.750000e+08\n",
       "3         house     Atlántico  11.006 -74.808    346.0  1.400000e+09\n",
       "4         house  Cundinamarca   4.857 -74.061    175.0  4.300000e+08"
      ]
     },
     "execution_count": 70,
     "metadata": {},
     "output_type": "execute_result"
    }
   ],
   "source": [
    "import pandas as pd\n",
    "df2 = pd.read_csv(\"colombia-real-estate-2.txt\")\n",
    "df2.head()"
   ]
  },
  {
   "cell_type": "code",
   "execution_count": 71,
   "id": "07ae2d90",
   "metadata": {},
   "outputs": [
    {
     "data": {
      "text/plain": [
       "(3066, 6)"
      ]
     },
     "execution_count": 71,
     "metadata": {},
     "output_type": "execute_result"
    }
   ],
   "source": [
    "df2.shape"
   ]
  },
  {
   "cell_type": "code",
   "execution_count": 72,
   "id": "6bbd1dbf",
   "metadata": {},
   "outputs": [
    {
     "data": {
      "text/html": [
       "<div>\n",
       "<style scoped>\n",
       "    .dataframe tbody tr th:only-of-type {\n",
       "        vertical-align: middle;\n",
       "    }\n",
       "\n",
       "    .dataframe tbody tr th {\n",
       "        vertical-align: top;\n",
       "    }\n",
       "\n",
       "    .dataframe thead th {\n",
       "        text-align: right;\n",
       "    }\n",
       "</style>\n",
       "<table border=\"1\" class=\"dataframe\">\n",
       "  <thead>\n",
       "    <tr style=\"text-align: right;\">\n",
       "      <th></th>\n",
       "      <th>property_type</th>\n",
       "      <th>place_with_parent_names</th>\n",
       "      <th>lat-lon</th>\n",
       "      <th>area_m2</th>\n",
       "      <th>price_usd</th>\n",
       "    </tr>\n",
       "  </thead>\n",
       "  <tbody>\n",
       "    <tr>\n",
       "      <th>0</th>\n",
       "      <td>house</td>\n",
       "      <td>|Colombia|Bogotá D.C|Suba|</td>\n",
       "      <td>4.722,-74.059</td>\n",
       "      <td>113.0</td>\n",
       "      <td>162073.45</td>\n",
       "    </tr>\n",
       "    <tr>\n",
       "      <th>1</th>\n",
       "      <td>house</td>\n",
       "      <td>|Colombia|Valle del Cauca|Cali|</td>\n",
       "      <td>3.455,-76.522</td>\n",
       "      <td>210.0</td>\n",
       "      <td>151943.86</td>\n",
       "    </tr>\n",
       "    <tr>\n",
       "      <th>2</th>\n",
       "      <td>house</td>\n",
       "      <td>|Colombia|Bogotá D.C|Chapinero|</td>\n",
       "      <td>4.676,-74.044</td>\n",
       "      <td>183.0</td>\n",
       "      <td>422066.30</td>\n",
       "    </tr>\n",
       "    <tr>\n",
       "      <th>3</th>\n",
       "      <td>house</td>\n",
       "      <td>|Colombia|Atlántico|Barranquilla|</td>\n",
       "      <td>10.999,-74.816</td>\n",
       "      <td>85.0</td>\n",
       "      <td>84413.26</td>\n",
       "    </tr>\n",
       "    <tr>\n",
       "      <th>4</th>\n",
       "      <td>house</td>\n",
       "      <td>|Colombia|Valle del Cauca|Cali|</td>\n",
       "      <td>3.334,-76.547</td>\n",
       "      <td>145.0</td>\n",
       "      <td>131577.65</td>\n",
       "    </tr>\n",
       "  </tbody>\n",
       "</table>\n",
       "</div>"
      ],
      "text/plain": [
       "  property_type            place_with_parent_names         lat-lon  area_m2  \\\n",
       "0         house         |Colombia|Bogotá D.C|Suba|   4.722,-74.059    113.0   \n",
       "1         house    |Colombia|Valle del Cauca|Cali|   3.455,-76.522    210.0   \n",
       "2         house    |Colombia|Bogotá D.C|Chapinero|   4.676,-74.044    183.0   \n",
       "3         house  |Colombia|Atlántico|Barranquilla|  10.999,-74.816     85.0   \n",
       "4         house    |Colombia|Valle del Cauca|Cali|   3.334,-76.547    145.0   \n",
       "\n",
       "   price_usd  \n",
       "0  162073.45  \n",
       "1  151943.86  \n",
       "2  422066.30  \n",
       "3   84413.26  \n",
       "4  131577.65  "
      ]
     },
     "execution_count": 72,
     "metadata": {},
     "output_type": "execute_result"
    }
   ],
   "source": [
    "df3 = pd.read_csv(\"colombia-real-estate-3.txt\")\n",
    "df3.head()"
   ]
  },
  {
   "cell_type": "code",
   "execution_count": 73,
   "id": "fd1c9e1d",
   "metadata": {},
   "outputs": [
    {
     "data": {
      "text/plain": [
       "(3065, 5)"
      ]
     },
     "execution_count": 73,
     "metadata": {},
     "output_type": "execute_result"
    }
   ],
   "source": [
    "df3.shape"
   ]
  },
  {
   "cell_type": "markdown",
   "id": "c6f8942d",
   "metadata": {},
   "source": [
    "## Inspecting DataFrames  ##\n",
    "Once we've created a DataFrame, we need to inspect it in order to see what's there. Pandas has many ways to inspect a DataFrame, but we're only going to look at three of them: shape, info, and head.\n",
    "\n",
    "If we were interested in understanding the dimensionality of the DataFrame, we use the df.shape method. The code looks like this:"
   ]
  },
  {
   "cell_type": "code",
   "execution_count": 74,
   "id": "9912c22c",
   "metadata": {},
   "outputs": [
    {
     "data": {
      "text/plain": [
       "(3066, 6)"
      ]
     },
     "execution_count": 74,
     "metadata": {},
     "output_type": "execute_result"
    }
   ],
   "source": [
    "df2.shape"
   ]
  },
  {
   "cell_type": "code",
   "execution_count": null,
   "id": "8030c1eb",
   "metadata": {},
   "outputs": [],
   "source": [
    "The shape output tells us that the colombia-real-estate-1 DataFrame -- which we called df1 -- has 3066 rows and 6 columns.\n",
    "\n",
    "If we were trying to get a general idea of what the DataFrame contained, we use the info method. The code looks like this:"
   ]
  },
  {
   "cell_type": "code",
   "execution_count": 75,
   "id": "92f72622",
   "metadata": {},
   "outputs": [
    {
     "name": "stdout",
     "output_type": "stream",
     "text": [
      "<class 'pandas.core.frame.DataFrame'>\n",
      "RangeIndex: 3066 entries, 0 to 3065\n",
      "Data columns (total 6 columns):\n",
      " #   Column         Non-Null Count  Dtype  \n",
      "---  ------         --------------  -----  \n",
      " 0   property_type  3066 non-null   object \n",
      " 1   department     3066 non-null   object \n",
      " 2   lat            2958 non-null   float64\n",
      " 3   lon            2958 non-null   float64\n",
      " 4   area_m2        3066 non-null   float64\n",
      " 5   price_cop      3066 non-null   float64\n",
      "dtypes: float64(4), object(2)\n",
      "memory usage: 143.8+ KB\n"
     ]
    }
   ],
   "source": [
    "df2.info()"
   ]
  },
  {
   "cell_type": "code",
   "execution_count": null,
   "id": "23fdb82a",
   "metadata": {},
   "outputs": [],
   "source": [
    "The info output tells us all sorts of things about the DataFrame: the number of columns, the names of the columns, \n",
    "the data type for each column, how many non-null rows are contained in the DataFrame.\n",
    "\n",
    "Practice\n",
    "\n",
    "Try it yourself! Use info and shape to explore df2, which you created above."
   ]
  },
  {
   "cell_type": "code",
   "execution_count": null,
   "id": "ec7d11e5",
   "metadata": {},
   "outputs": [],
   "source": [
    "If we wanted to see all the rows in our new DataFrame, we could use the `print` method. Keep in mind that the entire dataset\n",
    "gets printed when you use `print`, even though it only shows you the first few lines. That's not much of a problem with this\n",
    "particular dataset, but once you start working with much bigger datasets, printing the whole thing will cause all sorts of \n",
    "problems. \n",
    "\n",
    "So instead of doing that, we'll just take a look at the first five rows by using the `head` method. The code looks like this:"
   ]
  },
  {
   "cell_type": "code",
   "execution_count": 76,
   "id": "958058b8",
   "metadata": {},
   "outputs": [
    {
     "data": {
      "text/html": [
       "<div>\n",
       "<style scoped>\n",
       "    .dataframe tbody tr th:only-of-type {\n",
       "        vertical-align: middle;\n",
       "    }\n",
       "\n",
       "    .dataframe tbody tr th {\n",
       "        vertical-align: top;\n",
       "    }\n",
       "\n",
       "    .dataframe thead th {\n",
       "        text-align: right;\n",
       "    }\n",
       "</style>\n",
       "<table border=\"1\" class=\"dataframe\">\n",
       "  <thead>\n",
       "    <tr style=\"text-align: right;\">\n",
       "      <th></th>\n",
       "      <th>property_type</th>\n",
       "      <th>department</th>\n",
       "      <th>lat</th>\n",
       "      <th>lon</th>\n",
       "      <th>area_m2</th>\n",
       "      <th>price_cop</th>\n",
       "    </tr>\n",
       "  </thead>\n",
       "  <tbody>\n",
       "    <tr>\n",
       "      <th>0</th>\n",
       "      <td>house</td>\n",
       "      <td>Magdalena</td>\n",
       "      <td>11.233</td>\n",
       "      <td>-74.204</td>\n",
       "      <td>235.0</td>\n",
       "      <td>4.000000e+08</td>\n",
       "    </tr>\n",
       "    <tr>\n",
       "      <th>1</th>\n",
       "      <td>house</td>\n",
       "      <td>Bogotá D.C</td>\n",
       "      <td>4.714</td>\n",
       "      <td>-74.030</td>\n",
       "      <td>130.0</td>\n",
       "      <td>8.500000e+08</td>\n",
       "    </tr>\n",
       "    <tr>\n",
       "      <th>2</th>\n",
       "      <td>house</td>\n",
       "      <td>Cundinamarca</td>\n",
       "      <td>4.851</td>\n",
       "      <td>-74.059</td>\n",
       "      <td>137.0</td>\n",
       "      <td>4.750000e+08</td>\n",
       "    </tr>\n",
       "    <tr>\n",
       "      <th>3</th>\n",
       "      <td>house</td>\n",
       "      <td>Atlántico</td>\n",
       "      <td>11.006</td>\n",
       "      <td>-74.808</td>\n",
       "      <td>346.0</td>\n",
       "      <td>1.400000e+09</td>\n",
       "    </tr>\n",
       "    <tr>\n",
       "      <th>4</th>\n",
       "      <td>house</td>\n",
       "      <td>Cundinamarca</td>\n",
       "      <td>4.857</td>\n",
       "      <td>-74.061</td>\n",
       "      <td>175.0</td>\n",
       "      <td>4.300000e+08</td>\n",
       "    </tr>\n",
       "  </tbody>\n",
       "</table>\n",
       "</div>"
      ],
      "text/plain": [
       "  property_type    department     lat     lon  area_m2     price_cop\n",
       "0         house     Magdalena  11.233 -74.204    235.0  4.000000e+08\n",
       "1         house    Bogotá D.C   4.714 -74.030    130.0  8.500000e+08\n",
       "2         house  Cundinamarca   4.851 -74.059    137.0  4.750000e+08\n",
       "3         house     Atlántico  11.006 -74.808    346.0  1.400000e+09\n",
       "4         house  Cundinamarca   4.857 -74.061    175.0  4.300000e+08"
      ]
     },
     "execution_count": 76,
     "metadata": {},
     "output_type": "execute_result"
    }
   ],
   "source": [
    "df2.head()"
   ]
  },
  {
   "cell_type": "code",
   "execution_count": null,
   "id": "ff074d02",
   "metadata": {},
   "outputs": [],
   "source": [
    "By default, head returns the first five rows of data, but you can specify as many rows as you like. \n",
    "Here's what the code looks like for just the first two rows:"
   ]
  },
  {
   "cell_type": "code",
   "execution_count": 77,
   "id": "3a1b9638",
   "metadata": {},
   "outputs": [
    {
     "name": "stdout",
     "output_type": "stream",
     "text": [
      "  property_type  department     lat     lon  area_m2    price_cop\n",
      "0         house   Magdalena  11.233 -74.204    235.0  400000000.0\n",
      "1         house  Bogotá D.C   4.714 -74.030    130.0  850000000.0\n"
     ]
    }
   ],
   "source": [
    "print(df2.head(2))"
   ]
  },
  {
   "cell_type": "markdown",
   "id": "088cf024",
   "metadata": {},
   "source": [
    "## Practice\n",
    "\n",
    "Try it yourself! Use the head method to return the first five and first 7 rows of the colombia-real-estate-2 dataset."
   ]
  },
  {
   "cell_type": "markdown",
   "id": "5ea450a3",
   "metadata": {},
   "source": [
    "## Working with Columns  #\n",
    "Sometimes, it’s handy to duplicate a column of data. It might be that you’d like to drop some data points or erase empty \n",
    "cells while still preserving the original column. If you’d like to do that, you’ll need to duplicate the column. \n",
    "We can do this by placing the name of the new column in square brackets."
   ]
  },
  {
   "cell_type": "markdown",
   "id": "f3a327d2",
   "metadata": {},
   "source": [
    "## Adding Columns ##\n",
    "For example, we might want to add a column of data that shows the price per square meter of each house in US dollars. \n",
    "To do that, we're going to need to create a new column, and include the necessary math to populate it. \n",
    "First, we need to import the CSV and inspect the first five rows using the head method, like this:"
   ]
  },
  {
   "cell_type": "code",
   "execution_count": 78,
   "id": "7687697d",
   "metadata": {},
   "outputs": [
    {
     "data": {
      "text/html": [
       "<div>\n",
       "<style scoped>\n",
       "    .dataframe tbody tr th:only-of-type {\n",
       "        vertical-align: middle;\n",
       "    }\n",
       "\n",
       "    .dataframe tbody tr th {\n",
       "        vertical-align: top;\n",
       "    }\n",
       "\n",
       "    .dataframe thead th {\n",
       "        text-align: right;\n",
       "    }\n",
       "</style>\n",
       "<table border=\"1\" class=\"dataframe\">\n",
       "  <thead>\n",
       "    <tr style=\"text-align: right;\">\n",
       "      <th></th>\n",
       "      <th>property_type</th>\n",
       "      <th>place_with_parent_names</th>\n",
       "      <th>lat-lon</th>\n",
       "      <th>area_m2</th>\n",
       "      <th>price_usd</th>\n",
       "    </tr>\n",
       "  </thead>\n",
       "  <tbody>\n",
       "    <tr>\n",
       "      <th>0</th>\n",
       "      <td>house</td>\n",
       "      <td>|Colombia|Bogotá D.C|Suba|</td>\n",
       "      <td>4.722,-74.059</td>\n",
       "      <td>113.0</td>\n",
       "      <td>162073.45</td>\n",
       "    </tr>\n",
       "    <tr>\n",
       "      <th>1</th>\n",
       "      <td>house</td>\n",
       "      <td>|Colombia|Valle del Cauca|Cali|</td>\n",
       "      <td>3.455,-76.522</td>\n",
       "      <td>210.0</td>\n",
       "      <td>151943.86</td>\n",
       "    </tr>\n",
       "    <tr>\n",
       "      <th>2</th>\n",
       "      <td>house</td>\n",
       "      <td>|Colombia|Bogotá D.C|Chapinero|</td>\n",
       "      <td>4.676,-74.044</td>\n",
       "      <td>183.0</td>\n",
       "      <td>422066.30</td>\n",
       "    </tr>\n",
       "    <tr>\n",
       "      <th>3</th>\n",
       "      <td>house</td>\n",
       "      <td>|Colombia|Atlántico|Barranquilla|</td>\n",
       "      <td>10.999,-74.816</td>\n",
       "      <td>85.0</td>\n",
       "      <td>84413.26</td>\n",
       "    </tr>\n",
       "    <tr>\n",
       "      <th>4</th>\n",
       "      <td>house</td>\n",
       "      <td>|Colombia|Valle del Cauca|Cali|</td>\n",
       "      <td>3.334,-76.547</td>\n",
       "      <td>145.0</td>\n",
       "      <td>131577.65</td>\n",
       "    </tr>\n",
       "  </tbody>\n",
       "</table>\n",
       "</div>"
      ],
      "text/plain": [
       "  property_type            place_with_parent_names         lat-lon  area_m2  \\\n",
       "0         house         |Colombia|Bogotá D.C|Suba|   4.722,-74.059    113.0   \n",
       "1         house    |Colombia|Valle del Cauca|Cali|   3.455,-76.522    210.0   \n",
       "2         house    |Colombia|Bogotá D.C|Chapinero|   4.676,-74.044    183.0   \n",
       "3         house  |Colombia|Atlántico|Barranquilla|  10.999,-74.816     85.0   \n",
       "4         house    |Colombia|Valle del Cauca|Cali|   3.334,-76.547    145.0   \n",
       "\n",
       "   price_usd  \n",
       "0  162073.45  \n",
       "1  151943.86  \n",
       "2  422066.30  \n",
       "3   84413.26  \n",
       "4  131577.65  "
      ]
     },
     "execution_count": 78,
     "metadata": {},
     "output_type": "execute_result"
    }
   ],
   "source": [
    "df3 = pd.read_csv(\"colombia-real-estate-3.txt\")\n",
    "df3.head()"
   ]
  },
  {
   "cell_type": "code",
   "execution_count": null,
   "id": "86a65b63",
   "metadata": {},
   "outputs": [],
   "source": [
    "Then, we create a new column called \"price_m2\", provide the formula to populate it, \n",
    "and inspect the first five rows of the dataset to make sure the new column includes the new values:    "
   ]
  },
  {
   "cell_type": "code",
   "execution_count": 79,
   "id": "dc1153c0",
   "metadata": {},
   "outputs": [
    {
     "data": {
      "text/html": [
       "<div>\n",
       "<style scoped>\n",
       "    .dataframe tbody tr th:only-of-type {\n",
       "        vertical-align: middle;\n",
       "    }\n",
       "\n",
       "    .dataframe tbody tr th {\n",
       "        vertical-align: top;\n",
       "    }\n",
       "\n",
       "    .dataframe thead th {\n",
       "        text-align: right;\n",
       "    }\n",
       "</style>\n",
       "<table border=\"1\" class=\"dataframe\">\n",
       "  <thead>\n",
       "    <tr style=\"text-align: right;\">\n",
       "      <th></th>\n",
       "      <th>property_type</th>\n",
       "      <th>place_with_parent_names</th>\n",
       "      <th>lat-lon</th>\n",
       "      <th>area_m2</th>\n",
       "      <th>price_usd</th>\n",
       "      <th>price_m2</th>\n",
       "    </tr>\n",
       "  </thead>\n",
       "  <tbody>\n",
       "    <tr>\n",
       "      <th>0</th>\n",
       "      <td>house</td>\n",
       "      <td>|Colombia|Bogotá D.C|Suba|</td>\n",
       "      <td>4.722,-74.059</td>\n",
       "      <td>113.0</td>\n",
       "      <td>162073.45</td>\n",
       "      <td>1434.278319</td>\n",
       "    </tr>\n",
       "    <tr>\n",
       "      <th>1</th>\n",
       "      <td>house</td>\n",
       "      <td>|Colombia|Valle del Cauca|Cali|</td>\n",
       "      <td>3.455,-76.522</td>\n",
       "      <td>210.0</td>\n",
       "      <td>151943.86</td>\n",
       "      <td>723.542190</td>\n",
       "    </tr>\n",
       "    <tr>\n",
       "      <th>2</th>\n",
       "      <td>house</td>\n",
       "      <td>|Colombia|Bogotá D.C|Chapinero|</td>\n",
       "      <td>4.676,-74.044</td>\n",
       "      <td>183.0</td>\n",
       "      <td>422066.30</td>\n",
       "      <td>2306.373224</td>\n",
       "    </tr>\n",
       "    <tr>\n",
       "      <th>3</th>\n",
       "      <td>house</td>\n",
       "      <td>|Colombia|Atlántico|Barranquilla|</td>\n",
       "      <td>10.999,-74.816</td>\n",
       "      <td>85.0</td>\n",
       "      <td>84413.26</td>\n",
       "      <td>993.097176</td>\n",
       "    </tr>\n",
       "    <tr>\n",
       "      <th>4</th>\n",
       "      <td>house</td>\n",
       "      <td>|Colombia|Valle del Cauca|Cali|</td>\n",
       "      <td>3.334,-76.547</td>\n",
       "      <td>145.0</td>\n",
       "      <td>131577.65</td>\n",
       "      <td>907.432069</td>\n",
       "    </tr>\n",
       "  </tbody>\n",
       "</table>\n",
       "</div>"
      ],
      "text/plain": [
       "  property_type            place_with_parent_names         lat-lon  area_m2  \\\n",
       "0         house         |Colombia|Bogotá D.C|Suba|   4.722,-74.059    113.0   \n",
       "1         house    |Colombia|Valle del Cauca|Cali|   3.455,-76.522    210.0   \n",
       "2         house    |Colombia|Bogotá D.C|Chapinero|   4.676,-74.044    183.0   \n",
       "3         house  |Colombia|Atlántico|Barranquilla|  10.999,-74.816     85.0   \n",
       "4         house    |Colombia|Valle del Cauca|Cali|   3.334,-76.547    145.0   \n",
       "\n",
       "   price_usd     price_m2  \n",
       "0  162073.45  1434.278319  \n",
       "1  151943.86   723.542190  \n",
       "2  422066.30  2306.373224  \n",
       "3   84413.26   993.097176  \n",
       "4  131577.65   907.432069  "
      ]
     },
     "execution_count": 79,
     "metadata": {},
     "output_type": "execute_result"
    }
   ],
   "source": [
    "df3[\"price_m2\"] = df3[\"price_usd\"] / df3[\"area_m2\"]\n",
    "df3.head()"
   ]
  },
  {
   "cell_type": "code",
   "execution_count": null,
   "id": "05a68265",
   "metadata": {},
   "outputs": [],
   "source": [
    "Practice\n",
    "\n",
    "Try it yourself! Add a column to the colombia-real-estate-2 dataset that shows the \n",
    "price per square meter of each house in Colombian pesos."
   ]
  },
  {
   "cell_type": "code",
   "execution_count": null,
   "id": "cd717f52",
   "metadata": {},
   "outputs": [],
   "source": []
  },
  {
   "cell_type": "code",
   "execution_count": 84,
   "id": "266a5adc",
   "metadata": {},
   "outputs": [
    {
     "data": {
      "text/html": [
       "<div>\n",
       "<style scoped>\n",
       "    .dataframe tbody tr th:only-of-type {\n",
       "        vertical-align: middle;\n",
       "    }\n",
       "\n",
       "    .dataframe tbody tr th {\n",
       "        vertical-align: top;\n",
       "    }\n",
       "\n",
       "    .dataframe thead th {\n",
       "        text-align: right;\n",
       "    }\n",
       "</style>\n",
       "<table border=\"1\" class=\"dataframe\">\n",
       "  <thead>\n",
       "    <tr style=\"text-align: right;\">\n",
       "      <th></th>\n",
       "      <th>property_type</th>\n",
       "      <th>department</th>\n",
       "      <th>lat</th>\n",
       "      <th>lon</th>\n",
       "      <th>area_m2</th>\n",
       "      <th>price_cop</th>\n",
       "      <th>price_m2</th>\n",
       "    </tr>\n",
       "  </thead>\n",
       "  <tbody>\n",
       "    <tr>\n",
       "      <th>0</th>\n",
       "      <td>house</td>\n",
       "      <td>Magdalena</td>\n",
       "      <td>11.233</td>\n",
       "      <td>-74.204</td>\n",
       "      <td>235.0</td>\n",
       "      <td>4.000000e+08</td>\n",
       "      <td>1.702128e+06</td>\n",
       "    </tr>\n",
       "    <tr>\n",
       "      <th>1</th>\n",
       "      <td>house</td>\n",
       "      <td>Bogotá D.C</td>\n",
       "      <td>4.714</td>\n",
       "      <td>-74.030</td>\n",
       "      <td>130.0</td>\n",
       "      <td>8.500000e+08</td>\n",
       "      <td>6.538462e+06</td>\n",
       "    </tr>\n",
       "    <tr>\n",
       "      <th>2</th>\n",
       "      <td>house</td>\n",
       "      <td>Cundinamarca</td>\n",
       "      <td>4.851</td>\n",
       "      <td>-74.059</td>\n",
       "      <td>137.0</td>\n",
       "      <td>4.750000e+08</td>\n",
       "      <td>3.467153e+06</td>\n",
       "    </tr>\n",
       "    <tr>\n",
       "      <th>3</th>\n",
       "      <td>house</td>\n",
       "      <td>Atlántico</td>\n",
       "      <td>11.006</td>\n",
       "      <td>-74.808</td>\n",
       "      <td>346.0</td>\n",
       "      <td>1.400000e+09</td>\n",
       "      <td>4.046243e+06</td>\n",
       "    </tr>\n",
       "    <tr>\n",
       "      <th>4</th>\n",
       "      <td>house</td>\n",
       "      <td>Cundinamarca</td>\n",
       "      <td>4.857</td>\n",
       "      <td>-74.061</td>\n",
       "      <td>175.0</td>\n",
       "      <td>4.300000e+08</td>\n",
       "      <td>2.457143e+06</td>\n",
       "    </tr>\n",
       "  </tbody>\n",
       "</table>\n",
       "</div>"
      ],
      "text/plain": [
       "  property_type    department     lat     lon  area_m2     price_cop  \\\n",
       "0         house     Magdalena  11.233 -74.204    235.0  4.000000e+08   \n",
       "1         house    Bogotá D.C   4.714 -74.030    130.0  8.500000e+08   \n",
       "2         house  Cundinamarca   4.851 -74.059    137.0  4.750000e+08   \n",
       "3         house     Atlántico  11.006 -74.808    346.0  1.400000e+09   \n",
       "4         house  Cundinamarca   4.857 -74.061    175.0  4.300000e+08   \n",
       "\n",
       "       price_m2  \n",
       "0  1.702128e+06  \n",
       "1  6.538462e+06  \n",
       "2  3.467153e+06  \n",
       "3  4.046243e+06  \n",
       "4  2.457143e+06  "
      ]
     },
     "execution_count": 84,
     "metadata": {},
     "output_type": "execute_result"
    }
   ],
   "source": [
    "df2[\"price_m2\"] = df2[\"price_cop\"] / df2[\"area_m2\"] \n",
    "df2.head()"
   ]
  },
  {
   "cell_type": "code",
   "execution_count": null,
   "id": "9318d1ae",
   "metadata": {},
   "outputs": [],
   "source": [
    "df2[\"price_m2\"] = df2[\"price_cop\"] / df2[\"area_m2\"] \n",
    "df2(price_m2)"
   ]
  },
  {
   "cell_type": "markdown",
   "id": "8b74338c",
   "metadata": {},
   "source": [
    "## Dropping Columns  ##\n",
    "Just like we can add columns, we can also take them away. To do this, we’ll use the drop method. If I wanted to drop the\n",
    "“department” column from colombia-real-estate-1, the code would look like this:"
   ]
  },
  {
   "cell_type": "code",
   "execution_count": 86,
   "id": "8c4e4193",
   "metadata": {},
   "outputs": [
    {
     "data": {
      "text/html": [
       "<div>\n",
       "<style scoped>\n",
       "    .dataframe tbody tr th:only-of-type {\n",
       "        vertical-align: middle;\n",
       "    }\n",
       "\n",
       "    .dataframe tbody tr th {\n",
       "        vertical-align: top;\n",
       "    }\n",
       "\n",
       "    .dataframe thead th {\n",
       "        text-align: right;\n",
       "    }\n",
       "</style>\n",
       "<table border=\"1\" class=\"dataframe\">\n",
       "  <thead>\n",
       "    <tr style=\"text-align: right;\">\n",
       "      <th></th>\n",
       "      <th>property_type</th>\n",
       "      <th>lat</th>\n",
       "      <th>lon</th>\n",
       "      <th>area_m2</th>\n",
       "      <th>price_cop</th>\n",
       "      <th>price_m2</th>\n",
       "    </tr>\n",
       "  </thead>\n",
       "  <tbody>\n",
       "    <tr>\n",
       "      <th>0</th>\n",
       "      <td>house</td>\n",
       "      <td>11.233</td>\n",
       "      <td>-74.204</td>\n",
       "      <td>235.0</td>\n",
       "      <td>4.000000e+08</td>\n",
       "      <td>1.702128e+06</td>\n",
       "    </tr>\n",
       "    <tr>\n",
       "      <th>1</th>\n",
       "      <td>house</td>\n",
       "      <td>4.714</td>\n",
       "      <td>-74.030</td>\n",
       "      <td>130.0</td>\n",
       "      <td>8.500000e+08</td>\n",
       "      <td>6.538462e+06</td>\n",
       "    </tr>\n",
       "    <tr>\n",
       "      <th>2</th>\n",
       "      <td>house</td>\n",
       "      <td>4.851</td>\n",
       "      <td>-74.059</td>\n",
       "      <td>137.0</td>\n",
       "      <td>4.750000e+08</td>\n",
       "      <td>3.467153e+06</td>\n",
       "    </tr>\n",
       "    <tr>\n",
       "      <th>3</th>\n",
       "      <td>house</td>\n",
       "      <td>11.006</td>\n",
       "      <td>-74.808</td>\n",
       "      <td>346.0</td>\n",
       "      <td>1.400000e+09</td>\n",
       "      <td>4.046243e+06</td>\n",
       "    </tr>\n",
       "    <tr>\n",
       "      <th>4</th>\n",
       "      <td>house</td>\n",
       "      <td>4.857</td>\n",
       "      <td>-74.061</td>\n",
       "      <td>175.0</td>\n",
       "      <td>4.300000e+08</td>\n",
       "      <td>2.457143e+06</td>\n",
       "    </tr>\n",
       "  </tbody>\n",
       "</table>\n",
       "</div>"
      ],
      "text/plain": [
       "  property_type     lat     lon  area_m2     price_cop      price_m2\n",
       "0         house  11.233 -74.204    235.0  4.000000e+08  1.702128e+06\n",
       "1         house   4.714 -74.030    130.0  8.500000e+08  6.538462e+06\n",
       "2         house   4.851 -74.059    137.0  4.750000e+08  3.467153e+06\n",
       "3         house  11.006 -74.808    346.0  1.400000e+09  4.046243e+06\n",
       "4         house   4.857 -74.061    175.0  4.300000e+08  2.457143e+06"
      ]
     },
     "execution_count": 86,
     "metadata": {},
     "output_type": "execute_result"
    }
   ],
   "source": [
    "df2 = df2.drop(\"department\", axis=\"columns\")\n",
    "df2.head()"
   ]
  },
  {
   "cell_type": "code",
   "execution_count": null,
   "id": "27a32648",
   "metadata": {},
   "outputs": [],
   "source": [
    "Note that we specified that we wanted to drop a column by setting the axis argument to \"columns\". We can drop rows from\n",
    "the dataset if we change the axis argument to \"index\". we wanted to drop row 2 from the df2 data, the code would\n",
    "look like this:"
   ]
  },
  {
   "cell_type": "code",
   "execution_count": 87,
   "id": "abd012f0",
   "metadata": {},
   "outputs": [
    {
     "data": {
      "text/html": [
       "<div>\n",
       "<style scoped>\n",
       "    .dataframe tbody tr th:only-of-type {\n",
       "        vertical-align: middle;\n",
       "    }\n",
       "\n",
       "    .dataframe tbody tr th {\n",
       "        vertical-align: top;\n",
       "    }\n",
       "\n",
       "    .dataframe thead th {\n",
       "        text-align: right;\n",
       "    }\n",
       "</style>\n",
       "<table border=\"1\" class=\"dataframe\">\n",
       "  <thead>\n",
       "    <tr style=\"text-align: right;\">\n",
       "      <th></th>\n",
       "      <th>property_type</th>\n",
       "      <th>lat</th>\n",
       "      <th>lon</th>\n",
       "      <th>area_m2</th>\n",
       "      <th>price_cop</th>\n",
       "      <th>price_m2</th>\n",
       "    </tr>\n",
       "  </thead>\n",
       "  <tbody>\n",
       "    <tr>\n",
       "      <th>0</th>\n",
       "      <td>house</td>\n",
       "      <td>11.233</td>\n",
       "      <td>-74.204</td>\n",
       "      <td>235.0</td>\n",
       "      <td>4.000000e+08</td>\n",
       "      <td>1.702128e+06</td>\n",
       "    </tr>\n",
       "    <tr>\n",
       "      <th>1</th>\n",
       "      <td>house</td>\n",
       "      <td>4.714</td>\n",
       "      <td>-74.030</td>\n",
       "      <td>130.0</td>\n",
       "      <td>8.500000e+08</td>\n",
       "      <td>6.538462e+06</td>\n",
       "    </tr>\n",
       "    <tr>\n",
       "      <th>3</th>\n",
       "      <td>house</td>\n",
       "      <td>11.006</td>\n",
       "      <td>-74.808</td>\n",
       "      <td>346.0</td>\n",
       "      <td>1.400000e+09</td>\n",
       "      <td>4.046243e+06</td>\n",
       "    </tr>\n",
       "    <tr>\n",
       "      <th>4</th>\n",
       "      <td>house</td>\n",
       "      <td>4.857</td>\n",
       "      <td>-74.061</td>\n",
       "      <td>175.0</td>\n",
       "      <td>4.300000e+08</td>\n",
       "      <td>2.457143e+06</td>\n",
       "    </tr>\n",
       "    <tr>\n",
       "      <th>5</th>\n",
       "      <td>house</td>\n",
       "      <td>4.883</td>\n",
       "      <td>-74.035</td>\n",
       "      <td>297.0</td>\n",
       "      <td>1.500000e+09</td>\n",
       "      <td>5.050505e+06</td>\n",
       "    </tr>\n",
       "  </tbody>\n",
       "</table>\n",
       "</div>"
      ],
      "text/plain": [
       "  property_type     lat     lon  area_m2     price_cop      price_m2\n",
       "0         house  11.233 -74.204    235.0  4.000000e+08  1.702128e+06\n",
       "1         house   4.714 -74.030    130.0  8.500000e+08  6.538462e+06\n",
       "3         house  11.006 -74.808    346.0  1.400000e+09  4.046243e+06\n",
       "4         house   4.857 -74.061    175.0  4.300000e+08  2.457143e+06\n",
       "5         house   4.883 -74.035    297.0  1.500000e+09  5.050505e+06"
      ]
     },
     "execution_count": 87,
     "metadata": {},
     "output_type": "execute_result"
    }
   ],
   "source": [
    "df2 = df2.drop(2, axis=\"index\")\n",
    "df2.head()"
   ]
  },
  {
   "cell_type": "code",
   "execution_count": null,
   "id": "aaeac57f",
   "metadata": {},
   "outputs": [],
   "source": [
    "Practice\n",
    "\n",
    "Try it yourself! Drop the \"property_type\" column and row 4 in the colombia-real-estate-2 dataset."
   ]
  },
  {
   "cell_type": "code",
   "execution_count": 94,
   "id": "96cba0df",
   "metadata": {},
   "outputs": [
    {
     "ename": "KeyError",
     "evalue": "\"['Property_type'] not found in axis\"",
     "output_type": "error",
     "traceback": [
      "\u001b[1;31m---------------------------------------------------------------------------\u001b[0m",
      "\u001b[1;31mKeyError\u001b[0m                                  Traceback (most recent call last)",
      "\u001b[1;32m~\\AppData\\Local\\Temp/ipykernel_20896/554313626.py\u001b[0m in \u001b[0;36m<module>\u001b[1;34m\u001b[0m\n\u001b[1;32m----> 1\u001b[1;33m \u001b[0mdf2\u001b[0m \u001b[1;33m=\u001b[0m \u001b[0mdf2\u001b[0m\u001b[1;33m.\u001b[0m\u001b[0mdrop\u001b[0m\u001b[1;33m(\u001b[0m\u001b[1;34m\"Property_type\"\u001b[0m\u001b[1;33m,\u001b[0m \u001b[0maxis\u001b[0m\u001b[1;33m=\u001b[0m\u001b[1;34m\"columns\"\u001b[0m\u001b[1;33m)\u001b[0m\u001b[1;33m,\u001b[0m \u001b[0mdf2\u001b[0m\u001b[1;33m.\u001b[0m\u001b[0mdrop\u001b[0m\u001b[1;33m(\u001b[0m\u001b[1;36m4\u001b[0m\u001b[1;33m,\u001b[0m \u001b[0maxis\u001b[0m\u001b[1;33m=\u001b[0m\u001b[1;34m\"index\"\u001b[0m\u001b[1;33m)\u001b[0m\u001b[1;33m\u001b[0m\u001b[1;33m\u001b[0m\u001b[0m\n\u001b[0m\u001b[0;32m      2\u001b[0m \u001b[1;33m\u001b[0m\u001b[0m\n\u001b[0;32m      3\u001b[0m \u001b[0mdf2\u001b[0m\u001b[1;33m\u001b[0m\u001b[1;33m\u001b[0m\u001b[0m\n",
      "\u001b[1;32m~\\anaconda3\\lib\\site-packages\\pandas\\util\\_decorators.py\u001b[0m in \u001b[0;36mwrapper\u001b[1;34m(*args, **kwargs)\u001b[0m\n\u001b[0;32m    309\u001b[0m                     \u001b[0mstacklevel\u001b[0m\u001b[1;33m=\u001b[0m\u001b[0mstacklevel\u001b[0m\u001b[1;33m,\u001b[0m\u001b[1;33m\u001b[0m\u001b[1;33m\u001b[0m\u001b[0m\n\u001b[0;32m    310\u001b[0m                 )\n\u001b[1;32m--> 311\u001b[1;33m             \u001b[1;32mreturn\u001b[0m \u001b[0mfunc\u001b[0m\u001b[1;33m(\u001b[0m\u001b[1;33m*\u001b[0m\u001b[0margs\u001b[0m\u001b[1;33m,\u001b[0m \u001b[1;33m**\u001b[0m\u001b[0mkwargs\u001b[0m\u001b[1;33m)\u001b[0m\u001b[1;33m\u001b[0m\u001b[1;33m\u001b[0m\u001b[0m\n\u001b[0m\u001b[0;32m    312\u001b[0m \u001b[1;33m\u001b[0m\u001b[0m\n\u001b[0;32m    313\u001b[0m         \u001b[1;32mreturn\u001b[0m \u001b[0mwrapper\u001b[0m\u001b[1;33m\u001b[0m\u001b[1;33m\u001b[0m\u001b[0m\n",
      "\u001b[1;32m~\\anaconda3\\lib\\site-packages\\pandas\\core\\frame.py\u001b[0m in \u001b[0;36mdrop\u001b[1;34m(self, labels, axis, index, columns, level, inplace, errors)\u001b[0m\n\u001b[0;32m   4904\u001b[0m                 \u001b[0mweight\u001b[0m  \u001b[1;36m1.0\u001b[0m     \u001b[1;36m0.8\u001b[0m\u001b[1;33m\u001b[0m\u001b[1;33m\u001b[0m\u001b[0m\n\u001b[0;32m   4905\u001b[0m         \"\"\"\n\u001b[1;32m-> 4906\u001b[1;33m         return super().drop(\n\u001b[0m\u001b[0;32m   4907\u001b[0m             \u001b[0mlabels\u001b[0m\u001b[1;33m=\u001b[0m\u001b[0mlabels\u001b[0m\u001b[1;33m,\u001b[0m\u001b[1;33m\u001b[0m\u001b[1;33m\u001b[0m\u001b[0m\n\u001b[0;32m   4908\u001b[0m             \u001b[0maxis\u001b[0m\u001b[1;33m=\u001b[0m\u001b[0maxis\u001b[0m\u001b[1;33m,\u001b[0m\u001b[1;33m\u001b[0m\u001b[1;33m\u001b[0m\u001b[0m\n",
      "\u001b[1;32m~\\anaconda3\\lib\\site-packages\\pandas\\core\\generic.py\u001b[0m in \u001b[0;36mdrop\u001b[1;34m(self, labels, axis, index, columns, level, inplace, errors)\u001b[0m\n\u001b[0;32m   4148\u001b[0m         \u001b[1;32mfor\u001b[0m \u001b[0maxis\u001b[0m\u001b[1;33m,\u001b[0m \u001b[0mlabels\u001b[0m \u001b[1;32min\u001b[0m \u001b[0maxes\u001b[0m\u001b[1;33m.\u001b[0m\u001b[0mitems\u001b[0m\u001b[1;33m(\u001b[0m\u001b[1;33m)\u001b[0m\u001b[1;33m:\u001b[0m\u001b[1;33m\u001b[0m\u001b[1;33m\u001b[0m\u001b[0m\n\u001b[0;32m   4149\u001b[0m             \u001b[1;32mif\u001b[0m \u001b[0mlabels\u001b[0m \u001b[1;32mis\u001b[0m \u001b[1;32mnot\u001b[0m \u001b[1;32mNone\u001b[0m\u001b[1;33m:\u001b[0m\u001b[1;33m\u001b[0m\u001b[1;33m\u001b[0m\u001b[0m\n\u001b[1;32m-> 4150\u001b[1;33m                 \u001b[0mobj\u001b[0m \u001b[1;33m=\u001b[0m \u001b[0mobj\u001b[0m\u001b[1;33m.\u001b[0m\u001b[0m_drop_axis\u001b[0m\u001b[1;33m(\u001b[0m\u001b[0mlabels\u001b[0m\u001b[1;33m,\u001b[0m \u001b[0maxis\u001b[0m\u001b[1;33m,\u001b[0m \u001b[0mlevel\u001b[0m\u001b[1;33m=\u001b[0m\u001b[0mlevel\u001b[0m\u001b[1;33m,\u001b[0m \u001b[0merrors\u001b[0m\u001b[1;33m=\u001b[0m\u001b[0merrors\u001b[0m\u001b[1;33m)\u001b[0m\u001b[1;33m\u001b[0m\u001b[1;33m\u001b[0m\u001b[0m\n\u001b[0m\u001b[0;32m   4151\u001b[0m \u001b[1;33m\u001b[0m\u001b[0m\n\u001b[0;32m   4152\u001b[0m         \u001b[1;32mif\u001b[0m \u001b[0minplace\u001b[0m\u001b[1;33m:\u001b[0m\u001b[1;33m\u001b[0m\u001b[1;33m\u001b[0m\u001b[0m\n",
      "\u001b[1;32m~\\anaconda3\\lib\\site-packages\\pandas\\core\\generic.py\u001b[0m in \u001b[0;36m_drop_axis\u001b[1;34m(self, labels, axis, level, errors)\u001b[0m\n\u001b[0;32m   4183\u001b[0m                 \u001b[0mnew_axis\u001b[0m \u001b[1;33m=\u001b[0m \u001b[0maxis\u001b[0m\u001b[1;33m.\u001b[0m\u001b[0mdrop\u001b[0m\u001b[1;33m(\u001b[0m\u001b[0mlabels\u001b[0m\u001b[1;33m,\u001b[0m \u001b[0mlevel\u001b[0m\u001b[1;33m=\u001b[0m\u001b[0mlevel\u001b[0m\u001b[1;33m,\u001b[0m \u001b[0merrors\u001b[0m\u001b[1;33m=\u001b[0m\u001b[0merrors\u001b[0m\u001b[1;33m)\u001b[0m\u001b[1;33m\u001b[0m\u001b[1;33m\u001b[0m\u001b[0m\n\u001b[0;32m   4184\u001b[0m             \u001b[1;32melse\u001b[0m\u001b[1;33m:\u001b[0m\u001b[1;33m\u001b[0m\u001b[1;33m\u001b[0m\u001b[0m\n\u001b[1;32m-> 4185\u001b[1;33m                 \u001b[0mnew_axis\u001b[0m \u001b[1;33m=\u001b[0m \u001b[0maxis\u001b[0m\u001b[1;33m.\u001b[0m\u001b[0mdrop\u001b[0m\u001b[1;33m(\u001b[0m\u001b[0mlabels\u001b[0m\u001b[1;33m,\u001b[0m \u001b[0merrors\u001b[0m\u001b[1;33m=\u001b[0m\u001b[0merrors\u001b[0m\u001b[1;33m)\u001b[0m\u001b[1;33m\u001b[0m\u001b[1;33m\u001b[0m\u001b[0m\n\u001b[0m\u001b[0;32m   4186\u001b[0m             \u001b[0mresult\u001b[0m \u001b[1;33m=\u001b[0m \u001b[0mself\u001b[0m\u001b[1;33m.\u001b[0m\u001b[0mreindex\u001b[0m\u001b[1;33m(\u001b[0m\u001b[1;33m**\u001b[0m\u001b[1;33m{\u001b[0m\u001b[0maxis_name\u001b[0m\u001b[1;33m:\u001b[0m \u001b[0mnew_axis\u001b[0m\u001b[1;33m}\u001b[0m\u001b[1;33m)\u001b[0m\u001b[1;33m\u001b[0m\u001b[1;33m\u001b[0m\u001b[0m\n\u001b[0;32m   4187\u001b[0m \u001b[1;33m\u001b[0m\u001b[0m\n",
      "\u001b[1;32m~\\anaconda3\\lib\\site-packages\\pandas\\core\\indexes\\base.py\u001b[0m in \u001b[0;36mdrop\u001b[1;34m(self, labels, errors)\u001b[0m\n\u001b[0;32m   6015\u001b[0m         \u001b[1;32mif\u001b[0m \u001b[0mmask\u001b[0m\u001b[1;33m.\u001b[0m\u001b[0many\u001b[0m\u001b[1;33m(\u001b[0m\u001b[1;33m)\u001b[0m\u001b[1;33m:\u001b[0m\u001b[1;33m\u001b[0m\u001b[1;33m\u001b[0m\u001b[0m\n\u001b[0;32m   6016\u001b[0m             \u001b[1;32mif\u001b[0m \u001b[0merrors\u001b[0m \u001b[1;33m!=\u001b[0m \u001b[1;34m\"ignore\"\u001b[0m\u001b[1;33m:\u001b[0m\u001b[1;33m\u001b[0m\u001b[1;33m\u001b[0m\u001b[0m\n\u001b[1;32m-> 6017\u001b[1;33m                 \u001b[1;32mraise\u001b[0m \u001b[0mKeyError\u001b[0m\u001b[1;33m(\u001b[0m\u001b[1;34mf\"{labels[mask]} not found in axis\"\u001b[0m\u001b[1;33m)\u001b[0m\u001b[1;33m\u001b[0m\u001b[1;33m\u001b[0m\u001b[0m\n\u001b[0m\u001b[0;32m   6018\u001b[0m             \u001b[0mindexer\u001b[0m \u001b[1;33m=\u001b[0m \u001b[0mindexer\u001b[0m\u001b[1;33m[\u001b[0m\u001b[1;33m~\u001b[0m\u001b[0mmask\u001b[0m\u001b[1;33m]\u001b[0m\u001b[1;33m\u001b[0m\u001b[1;33m\u001b[0m\u001b[0m\n\u001b[0;32m   6019\u001b[0m         \u001b[1;32mreturn\u001b[0m \u001b[0mself\u001b[0m\u001b[1;33m.\u001b[0m\u001b[0mdelete\u001b[0m\u001b[1;33m(\u001b[0m\u001b[0mindexer\u001b[0m\u001b[1;33m)\u001b[0m\u001b[1;33m\u001b[0m\u001b[1;33m\u001b[0m\u001b[0m\n",
      "\u001b[1;31mKeyError\u001b[0m: \"['Property_type'] not found in axis\""
     ]
    }
   ],
   "source": [
    "df2 = df2.drop(\"Property_type\", axis=\"columns\"), df2.drop(4, axis=\"index\")\n",
    "\n",
    "df2"
   ]
  },
  {
   "cell_type": "code",
   "execution_count": 90,
   "id": "6348604a",
   "metadata": {},
   "outputs": [
    {
     "data": {
      "text/html": [
       "<div>\n",
       "<style scoped>\n",
       "    .dataframe tbody tr th:only-of-type {\n",
       "        vertical-align: middle;\n",
       "    }\n",
       "\n",
       "    .dataframe tbody tr th {\n",
       "        vertical-align: top;\n",
       "    }\n",
       "\n",
       "    .dataframe thead th {\n",
       "        text-align: right;\n",
       "    }\n",
       "</style>\n",
       "<table border=\"1\" class=\"dataframe\">\n",
       "  <thead>\n",
       "    <tr style=\"text-align: right;\">\n",
       "      <th></th>\n",
       "      <th>place_with_parent_names</th>\n",
       "      <th>lat-lon</th>\n",
       "      <th>area_m2</th>\n",
       "      <th>price_usd</th>\n",
       "    </tr>\n",
       "  </thead>\n",
       "  <tbody>\n",
       "    <tr>\n",
       "      <th>0</th>\n",
       "      <td>|Colombia|Bogotá D.C|Suba|</td>\n",
       "      <td>4.722,-74.059</td>\n",
       "      <td>113.0</td>\n",
       "      <td>162073.45</td>\n",
       "    </tr>\n",
       "    <tr>\n",
       "      <th>1</th>\n",
       "      <td>|Colombia|Valle del Cauca|Cali|</td>\n",
       "      <td>3.455,-76.522</td>\n",
       "      <td>210.0</td>\n",
       "      <td>151943.86</td>\n",
       "    </tr>\n",
       "    <tr>\n",
       "      <th>2</th>\n",
       "      <td>|Colombia|Bogotá D.C|Chapinero|</td>\n",
       "      <td>4.676,-74.044</td>\n",
       "      <td>183.0</td>\n",
       "      <td>422066.30</td>\n",
       "    </tr>\n",
       "    <tr>\n",
       "      <th>3</th>\n",
       "      <td>|Colombia|Atlántico|Barranquilla|</td>\n",
       "      <td>10.999,-74.816</td>\n",
       "      <td>85.0</td>\n",
       "      <td>84413.26</td>\n",
       "    </tr>\n",
       "    <tr>\n",
       "      <th>4</th>\n",
       "      <td>|Colombia|Valle del Cauca|Cali|</td>\n",
       "      <td>3.334,-76.547</td>\n",
       "      <td>145.0</td>\n",
       "      <td>131577.65</td>\n",
       "    </tr>\n",
       "    <tr>\n",
       "      <th>...</th>\n",
       "      <td>...</td>\n",
       "      <td>...</td>\n",
       "      <td>...</td>\n",
       "      <td>...</td>\n",
       "    </tr>\n",
       "    <tr>\n",
       "      <th>3060</th>\n",
       "      <td>|Colombia|Bogotá D.C|Usaquén|</td>\n",
       "      <td>4.728,-74.044</td>\n",
       "      <td>200.0</td>\n",
       "      <td>189085.70</td>\n",
       "    </tr>\n",
       "    <tr>\n",
       "      <th>3061</th>\n",
       "      <td>|Colombia|Bogotá D.C|Usaquén|</td>\n",
       "      <td>4.682,-74.056</td>\n",
       "      <td>66.0</td>\n",
       "      <td>191854.45</td>\n",
       "    </tr>\n",
       "    <tr>\n",
       "      <th>3062</th>\n",
       "      <td>|Colombia|Valle del Cauca|Cali|</td>\n",
       "      <td>3.346,-76.537</td>\n",
       "      <td>330.0</td>\n",
       "      <td>330899.98</td>\n",
       "    </tr>\n",
       "    <tr>\n",
       "      <th>3063</th>\n",
       "      <td>|Colombia|Bogotá D.C|Usaquén|</td>\n",
       "      <td>4.7,-74.028</td>\n",
       "      <td>223.0</td>\n",
       "      <td>489596.90</td>\n",
       "    </tr>\n",
       "    <tr>\n",
       "      <th>3064</th>\n",
       "      <td>|Colombia|Bogotá D.C|Suba|</td>\n",
       "      <td>4.718,-74.08</td>\n",
       "      <td>262.0</td>\n",
       "      <td>506479.56</td>\n",
       "    </tr>\n",
       "  </tbody>\n",
       "</table>\n",
       "<p>3065 rows × 4 columns</p>\n",
       "</div>"
      ],
      "text/plain": [
       "                place_with_parent_names         lat-lon  area_m2  price_usd\n",
       "0            |Colombia|Bogotá D.C|Suba|   4.722,-74.059    113.0  162073.45\n",
       "1       |Colombia|Valle del Cauca|Cali|   3.455,-76.522    210.0  151943.86\n",
       "2       |Colombia|Bogotá D.C|Chapinero|   4.676,-74.044    183.0  422066.30\n",
       "3     |Colombia|Atlántico|Barranquilla|  10.999,-74.816     85.0   84413.26\n",
       "4       |Colombia|Valle del Cauca|Cali|   3.334,-76.547    145.0  131577.65\n",
       "...                                 ...             ...      ...        ...\n",
       "3060      |Colombia|Bogotá D.C|Usaquén|   4.728,-74.044    200.0  189085.70\n",
       "3061      |Colombia|Bogotá D.C|Usaquén|   4.682,-74.056     66.0  191854.45\n",
       "3062    |Colombia|Valle del Cauca|Cali|   3.346,-76.537    330.0  330899.98\n",
       "3063      |Colombia|Bogotá D.C|Usaquén|     4.7,-74.028    223.0  489596.90\n",
       "3064         |Colombia|Bogotá D.C|Suba|    4.718,-74.08    262.0  506479.56\n",
       "\n",
       "[3065 rows x 4 columns]"
      ]
     },
     "execution_count": 90,
     "metadata": {},
     "output_type": "execute_result"
    }
   ],
   "source": [
    "df1 = df1.drop(\"property_type\", axis=\"columns\")\n",
    "df1"
   ]
  },
  {
   "cell_type": "markdown",
   "id": "9f2d81ec",
   "metadata": {},
   "source": [
    "## Dropping Rows ##\n",
    "Including rows with empty cells can radically skew the results of our analysis, so we often drop them from the dataset. \n",
    "We can do this with the dropna method. If we wanted to do this with df, the code would look like this:"
   ]
  },
  {
   "cell_type": "code",
   "execution_count": 95,
   "id": "01dd3f89",
   "metadata": {},
   "outputs": [
    {
     "ename": "NameError",
     "evalue": "name 'df' is not defined",
     "output_type": "error",
     "traceback": [
      "\u001b[1;31m---------------------------------------------------------------------------\u001b[0m",
      "\u001b[1;31mNameError\u001b[0m                                 Traceback (most recent call last)",
      "\u001b[1;32m~\\AppData\\Local\\Temp/ipykernel_20896/2456464853.py\u001b[0m in \u001b[0;36m<module>\u001b[1;34m\u001b[0m\n\u001b[1;32m----> 1\u001b[1;33m \u001b[0mprint\u001b[0m\u001b[1;33m(\u001b[0m\u001b[1;34m\"df shape before dropping rows\"\u001b[0m\u001b[1;33m,\u001b[0m \u001b[0mdf\u001b[0m\u001b[1;33m.\u001b[0m\u001b[0mshape\u001b[0m\u001b[1;33m)\u001b[0m\u001b[1;33m\u001b[0m\u001b[1;33m\u001b[0m\u001b[0m\n\u001b[0m\u001b[0;32m      2\u001b[0m \u001b[0mdf\u001b[0m\u001b[1;33m.\u001b[0m\u001b[0mdropna\u001b[0m\u001b[1;33m(\u001b[0m\u001b[0minplace\u001b[0m\u001b[1;33m=\u001b[0m\u001b[1;32mTrue\u001b[0m\u001b[1;33m)\u001b[0m\u001b[1;33m\u001b[0m\u001b[1;33m\u001b[0m\u001b[0m\n\u001b[0;32m      3\u001b[0m \u001b[0mprint\u001b[0m\u001b[1;33m(\u001b[0m\u001b[1;34m\"df shape after dropping rows\"\u001b[0m\u001b[1;33m,\u001b[0m \u001b[0mdf\u001b[0m\u001b[1;33m.\u001b[0m\u001b[0mshape\u001b[0m\u001b[1;33m)\u001b[0m\u001b[1;33m\u001b[0m\u001b[1;33m\u001b[0m\u001b[0m\n\u001b[0;32m      4\u001b[0m \u001b[0mdf\u001b[0m\u001b[1;33m.\u001b[0m\u001b[0mhead\u001b[0m\u001b[1;33m(\u001b[0m\u001b[1;33m)\u001b[0m\u001b[1;33m\u001b[0m\u001b[1;33m\u001b[0m\u001b[0m\n",
      "\u001b[1;31mNameError\u001b[0m: name 'df' is not defined"
     ]
    }
   ],
   "source": [
    "print(\"df shape before dropping rows\", df.shape)\n",
    "df.dropna(inplace=True)\n",
    "print(\"df shape after dropping rows\", df.shape)\n",
    "df.head()"
   ]
  },
  {
   "cell_type": "code",
   "execution_count": null,
   "id": "13e5d5a9",
   "metadata": {},
   "outputs": [],
   "source": [
    "By default, pandas will keep the original DataFrame, and will create a copy that reflects the changes we just made.\n",
    "That's perfectly fine, but if we want to make sure that copies of the DataFrame aren't clogging up the memory on our \n",
    "computers, then we need to intervene with the inplace argument. inplace=True means that we want the original DataFrame \n",
    "updated without making a copy. If we don't include inplace=True (or if we do include inplace=False), then pandas will \n",
    "revert to the default.\n",
    "\n",
    "Practice\n",
    "\n",
    "Drop rows with empty cells from the colombia-real-estate-2 dataset."
   ]
  },
  {
   "cell_type": "code",
   "execution_count": 99,
   "id": "0383f1d2",
   "metadata": {},
   "outputs": [
    {
     "ename": "AttributeError",
     "evalue": "'NoneType' object has no attribute 'dropna'",
     "output_type": "error",
     "traceback": [
      "\u001b[1;31m---------------------------------------------------------------------------\u001b[0m",
      "\u001b[1;31mAttributeError\u001b[0m                            Traceback (most recent call last)",
      "\u001b[1;32m~\\AppData\\Local\\Temp/ipykernel_20896/3565856863.py\u001b[0m in \u001b[0;36m<module>\u001b[1;34m\u001b[0m\n\u001b[1;32m----> 1\u001b[1;33m \u001b[0mdf2\u001b[0m\u001b[1;33m.\u001b[0m\u001b[0mdropna\u001b[0m\u001b[1;33m(\u001b[0m\u001b[0minplace\u001b[0m\u001b[1;33m=\u001b[0m\u001b[1;32mTrue\u001b[0m\u001b[1;33m)\u001b[0m\u001b[1;33m\u001b[0m\u001b[1;33m\u001b[0m\u001b[0m\n\u001b[0m\u001b[0;32m      2\u001b[0m \u001b[0mdf2\u001b[0m\u001b[1;33m\u001b[0m\u001b[1;33m\u001b[0m\u001b[0m\n",
      "\u001b[1;31mAttributeError\u001b[0m: 'NoneType' object has no attribute 'dropna'"
     ]
    }
   ],
   "source": [
    "df2.dropna(inplace=True)\n",
    "df2"
   ]
  },
  {
   "cell_type": "code",
   "execution_count": null,
   "id": "4bee0b95",
   "metadata": {},
   "outputs": [],
   "source": [
    "df3 ="
   ]
  },
  {
   "cell_type": "markdown",
   "id": "d78f40a9",
   "metadata": {},
   "source": [
    "## Splitting Strings ##\n",
    "It might be useful to split strings into their constituent parts, and create new columns to contain them. To do this, we’ll\n",
    "use the .str.split method, and include the character we want to use as the place where the data splits apart. In the \n",
    "colombia-real-estate-3 dataset, we might be interested breaking the \"lat-lon\" column into a \"lat\" column and a \"lon\" column.\n",
    "We’ll split it at “,” with code that looks like this:\n"
   ]
  },
  {
   "cell_type": "code",
   "execution_count": 1,
   "id": "a76f82ab",
   "metadata": {},
   "outputs": [
    {
     "ename": "NameError",
     "evalue": "name 'df3' is not defined",
     "output_type": "error",
     "traceback": [
      "\u001b[1;31m---------------------------------------------------------------------------\u001b[0m",
      "\u001b[1;31mNameError\u001b[0m                                 Traceback (most recent call last)",
      "\u001b[1;32m~\\AppData\\Local\\Temp/ipykernel_20896/2005802701.py\u001b[0m in \u001b[0;36m<module>\u001b[1;34m\u001b[0m\n\u001b[1;32m----> 1\u001b[1;33m \u001b[0mdf3\u001b[0m\u001b[1;33m[\u001b[0m\u001b[1;33m[\u001b[0m\u001b[1;34m\"lat\"\u001b[0m\u001b[1;33m,\u001b[0m \u001b[1;34m\"lon\"\u001b[0m\u001b[1;33m]\u001b[0m\u001b[1;33m]\u001b[0m \u001b[1;33m=\u001b[0m \u001b[0mdf3\u001b[0m\u001b[1;33m[\u001b[0m\u001b[1;34m\"lat-lon\"\u001b[0m\u001b[1;33m]\u001b[0m\u001b[1;33m.\u001b[0m\u001b[0mstr\u001b[0m\u001b[1;33m.\u001b[0m\u001b[0msplit\u001b[0m\u001b[1;33m(\u001b[0m\u001b[1;34m\",\"\u001b[0m\u001b[1;33m,\u001b[0m \u001b[0mexpand\u001b[0m\u001b[1;33m=\u001b[0m\u001b[1;32mTrue\u001b[0m\u001b[1;33m)\u001b[0m\u001b[1;33m\u001b[0m\u001b[1;33m\u001b[0m\u001b[0m\n\u001b[0m",
      "\u001b[1;31mNameError\u001b[0m: name 'df3' is not defined"
     ]
    }
   ],
   "source": [
    "df3[[\"lat\", \"lon\"]] = df3[\"lat-lon\"].str.split(\",\", expand=True)"
   ]
  },
  {
   "cell_type": "code",
   "execution_count": null,
   "id": "5af98fbf",
   "metadata": {},
   "outputs": [],
   "source": [
    "Here, expand is telling pandas to make the DataFrame bigger; that is, to create a new column without dropping any of the ones\n",
    "that already exist.\n",
    "\n",
    "Practice\n",
    "\n",
    "Try it yourself! In df3, split \"place_with_parent_names\" into three columns (one called \"place\", one called \"department\",\n",
    "and one called \"state\", using the character “|”, and then return the new \"department\" column.\n",
    "\n",
    "​"
   ]
  },
  {
   "cell_type": "markdown",
   "id": "dfaff637",
   "metadata": {},
   "source": [
    "## Recasting Data ##\n",
    "Depending on who formatted your dataset, the types of data assigned to each column might need to be changed. If, for example,\n",
    "a column containing only numbers had been mistaken for a column containing only strings, we’d need to change that through a \n",
    "process called recasting. Using the colombia-real-estate-1 dataset, we could recast the entire dataset as strings by using \n",
    "astype method, like this:"
   ]
  },
  {
   "cell_type": "code",
   "execution_count": 93,
   "id": "bd216173",
   "metadata": {},
   "outputs": [
    {
     "name": "stdout",
     "output_type": "stream",
     "text": [
      "<class 'pandas.core.frame.DataFrame'>\n",
      "RangeIndex: 1971 entries, 0 to 1970\n",
      "Data columns (total 9 columns):\n",
      " #   Column                   Non-Null Count  Dtype  \n",
      "---  ------                   --------------  -----  \n",
      " 0   property_type            1971 non-null   object \n",
      " 1   state                    1271 non-null   object \n",
      " 2   lat                      1158 non-null   float64\n",
      " 3   lon                      1158 non-null   float64\n",
      " 4   area_m2                  1971 non-null   float64\n",
      " 5   price_usd                1276 non-null   float64\n",
      " 6   price_mxn                571 non-null    float64\n",
      " 7   place_with_parent_names  700 non-null    object \n",
      " 8   lat-lon                  582 non-null    object \n",
      "dtypes: float64(5), object(4)\n",
      "memory usage: 138.7+ KB\n",
      "None\n",
      "<class 'pandas.core.frame.DataFrame'>\n",
      "RangeIndex: 1971 entries, 0 to 1970\n",
      "Data columns (total 9 columns):\n",
      " #   Column                   Non-Null Count  Dtype \n",
      "---  ------                   --------------  ----- \n",
      " 0   property_type            1971 non-null   object\n",
      " 1   state                    1971 non-null   object\n",
      " 2   lat                      1971 non-null   object\n",
      " 3   lon                      1971 non-null   object\n",
      " 4   area_m2                  1971 non-null   object\n",
      " 5   price_usd                1971 non-null   object\n",
      " 6   price_mxn                1971 non-null   object\n",
      " 7   place_with_parent_names  1971 non-null   object\n",
      " 8   lat-lon                  1971 non-null   object\n",
      "dtypes: object(9)\n",
      "memory usage: 138.7+ KB\n",
      "None\n"
     ]
    }
   ],
   "source": [
    "print(df.info())\n",
    "newdf = df.astype(\"str\")\n",
    "print(newdf.info())"
   ]
  },
  {
   "cell_type": "code",
   "execution_count": null,
   "id": "3988654c",
   "metadata": {},
   "outputs": [],
   "source": [
    "This is a useful approach, but, more often than not, you’ll want to only recast individual columns. \n",
    "In the colombia-real-estate-1 dataset, the \"area_m2\" column is cast as float64. Let's change it to int. \n",
    "We’ll still use the astype method, but we'll insert the name of the column. The code looks like this:"
   ]
  },
  {
   "cell_type": "code",
   "execution_count": 94,
   "id": "1cbd891e",
   "metadata": {},
   "outputs": [
    {
     "name": "stdout",
     "output_type": "stream",
     "text": [
      "<class 'pandas.core.frame.DataFrame'>\n",
      "RangeIndex: 1971 entries, 0 to 1970\n",
      "Data columns (total 9 columns):\n",
      " #   Column                   Non-Null Count  Dtype  \n",
      "---  ------                   --------------  -----  \n",
      " 0   property_type            1971 non-null   object \n",
      " 1   state                    1271 non-null   object \n",
      " 2   lat                      1158 non-null   float64\n",
      " 3   lon                      1158 non-null   float64\n",
      " 4   area_m2                  1971 non-null   int32  \n",
      " 5   price_usd                1276 non-null   float64\n",
      " 6   price_mxn                571 non-null    float64\n",
      " 7   place_with_parent_names  700 non-null    object \n",
      " 8   lat-lon                  582 non-null    object \n",
      "dtypes: float64(4), int32(1), object(4)\n",
      "memory usage: 131.0+ KB\n"
     ]
    }
   ],
   "source": [
    "df[\"area_m2\"] = df.area_m2.astype(int)\n",
    "df.info()"
   ]
  },
  {
   "cell_type": "code",
   "execution_count": null,
   "id": "3ea9f7b9",
   "metadata": {},
   "outputs": [],
   "source": [
    "Practice\n",
    "\n",
    "Try it yourself! In the colombia-real-estate-2 dataset, recast \"price_cop\" as an object."
   ]
  },
  {
   "cell_type": "code",
   "execution_count": 148,
   "id": "1af0ba4a",
   "metadata": {},
   "outputs": [
    {
     "ename": "AttributeError",
     "evalue": "'DataFrame' object has no attribute 'price_cop'",
     "output_type": "error",
     "traceback": [
      "\u001b[1;31m---------------------------------------------------------------------------\u001b[0m",
      "\u001b[1;31mAttributeError\u001b[0m                            Traceback (most recent call last)",
      "\u001b[1;32m~\\AppData\\Local\\Temp/ipykernel_18260/343809723.py\u001b[0m in \u001b[0;36m<module>\u001b[1;34m\u001b[0m\n\u001b[1;32m----> 1\u001b[1;33m \u001b[0mdf2\u001b[0m \u001b[1;33m=\u001b[0m \u001b[0mdf2\u001b[0m\u001b[1;33m.\u001b[0m\u001b[0mprice_cop\u001b[0m\u001b[1;33m.\u001b[0m\u001b[0mastype\u001b[0m\u001b[1;33m(\u001b[0m\u001b[0mobject\u001b[0m\u001b[1;33m)\u001b[0m\u001b[1;33m\u001b[0m\u001b[1;33m\u001b[0m\u001b[0m\n\u001b[0m\u001b[0;32m      2\u001b[0m \u001b[0mdf2\u001b[0m\u001b[1;33m[\u001b[0m\u001b[1;34m\"price_cop\"\u001b[0m\u001b[1;33m]\u001b[0m \u001b[1;33m=\u001b[0m \u001b[1;33m...\u001b[0m\u001b[1;33m\u001b[0m\u001b[1;33m\u001b[0m\u001b[0m\n\u001b[0;32m      3\u001b[0m \u001b[0mdf\u001b[0m\u001b[1;33m.\u001b[0m\u001b[0minfo\u001b[0m\u001b[1;33m(\u001b[0m\u001b[1;33m)\u001b[0m\u001b[1;33m\u001b[0m\u001b[1;33m\u001b[0m\u001b[0m\n",
      "\u001b[1;32m~\\anaconda3\\lib\\site-packages\\pandas\\core\\generic.py\u001b[0m in \u001b[0;36m__getattr__\u001b[1;34m(self, name)\u001b[0m\n\u001b[0;32m   5485\u001b[0m         ):\n\u001b[0;32m   5486\u001b[0m             \u001b[1;32mreturn\u001b[0m \u001b[0mself\u001b[0m\u001b[1;33m[\u001b[0m\u001b[0mname\u001b[0m\u001b[1;33m]\u001b[0m\u001b[1;33m\u001b[0m\u001b[1;33m\u001b[0m\u001b[0m\n\u001b[1;32m-> 5487\u001b[1;33m         \u001b[1;32mreturn\u001b[0m \u001b[0mobject\u001b[0m\u001b[1;33m.\u001b[0m\u001b[0m__getattribute__\u001b[0m\u001b[1;33m(\u001b[0m\u001b[0mself\u001b[0m\u001b[1;33m,\u001b[0m \u001b[0mname\u001b[0m\u001b[1;33m)\u001b[0m\u001b[1;33m\u001b[0m\u001b[1;33m\u001b[0m\u001b[0m\n\u001b[0m\u001b[0;32m   5488\u001b[0m \u001b[1;33m\u001b[0m\u001b[0m\n\u001b[0;32m   5489\u001b[0m     \u001b[1;32mdef\u001b[0m \u001b[0m__setattr__\u001b[0m\u001b[1;33m(\u001b[0m\u001b[0mself\u001b[0m\u001b[1;33m,\u001b[0m \u001b[0mname\u001b[0m\u001b[1;33m:\u001b[0m \u001b[0mstr\u001b[0m\u001b[1;33m,\u001b[0m \u001b[0mvalue\u001b[0m\u001b[1;33m)\u001b[0m \u001b[1;33m->\u001b[0m \u001b[1;32mNone\u001b[0m\u001b[1;33m:\u001b[0m\u001b[1;33m\u001b[0m\u001b[1;33m\u001b[0m\u001b[0m\n",
      "\u001b[1;31mAttributeError\u001b[0m: 'DataFrame' object has no attribute 'price_cop'"
     ]
    }
   ],
   "source": [
    "df2 = df2.price_cop.astype(object)\n",
    "df2[\"price_cop\"] = ...\n",
    "df.info()"
   ]
  },
  {
   "cell_type": "code",
   "execution_count": null,
   "id": "71ae7daf",
   "metadata": {},
   "outputs": [],
   "source": [
    "Access a substring in a Series\n",
    "To access a substring from a Series, use the .str attribute from the Series. Then, index each string in the Series by \n",
    "providing the start:stop:step. Keep in mind that the start position is inclusive and the stop position is exclusive, \n",
    "meaning the value at the start index is included but the value at the stop index is not included. Also, Python \n",
    "is a 0-indexed language, so the first element in the substring is at index position 0. For example, using the \n",
    "colombia-real-estate-1 dataset, we could the values at index position 0, 2, and 4 of the department column:\n"
   ]
  },
  {
   "cell_type": "code",
   "execution_count": null,
   "id": "6eaf025a",
   "metadata": {},
   "outputs": [],
   "source": [
    "df[\"department\"].str[0:5:2]"
   ]
  },
  {
   "cell_type": "code",
   "execution_count": null,
   "id": "6cd19678",
   "metadata": {},
   "outputs": [],
   "source": [
    "Practice: Access a substring in a Series using pandas\n",
    "\n",
    "Try it yourself! In the colombia-real-estate-2 dataset, access the property_type column and return the first 5 characters from each \n",
    "row:"
   ]
  },
  {
   "cell_type": "markdown",
   "id": "308e2787",
   "metadata": {},
   "source": [
    "## Replacing String Characters ##\n",
    "Another change you might want to make is replacing the characters in a string. To do this, we’ll use the replace method \n",
    "again, being sure to specify which string should be replaced, and what new string should replace it. For example, if we\n",
    "wanted to replace the string “house” with the string “single_family” in the colombia-real-estate-1 dataset, the code would\n",
    "look like this:"
   ]
  },
  {
   "cell_type": "code",
   "execution_count": null,
   "id": "e566f1cc",
   "metadata": {},
   "outputs": [],
   "source": [
    "df[\"property_type\"] = df[\"property_type\"].str.replace(\"house\", \"single_family\")\n",
    "df.head()"
   ]
  },
  {
   "cell_type": "code",
   "execution_count": null,
   "id": "a5adfd47",
   "metadata": {},
   "outputs": [],
   "source": [
    "There are two important things to note here. The first is that the old value needs to come before the new value inside the \n",
    "parentheses of str.replace.\n",
    "\n",
    "The second important issue here is that, unless you specify differently, all instances of the old value will be replaced. \n",
    "If you only want to replace the first three instances, the code would look like this: str.replace(“house”, “single_family”, 3)\n",
    "    "
   ]
  },
  {
   "cell_type": "code",
   "execution_count": null,
   "id": "3ca72d3d",
   "metadata": {},
   "outputs": [],
   "source": [
    "df[\"property_type\"] = df[\"property_type\"].str.replace(\"house\", \"single_family\", 3)\n",
    "df.head()"
   ]
  },
  {
   "cell_type": "code",
   "execution_count": null,
   "id": "86d97856",
   "metadata": {},
   "outputs": [],
   "source": [
    "\n",
    "Practice\n",
    "\n",
    "Try it yourself! In the colombia-real-estate-2 dataset, change “apartment” to “multi_family”, \n",
    "in the first 7 rows, and print the result."
   ]
  },
  {
   "cell_type": "code",
   "execution_count": null,
   "id": "c522fdee",
   "metadata": {},
   "outputs": [],
   "source": [
    "df = ..."
   ]
  },
  {
   "cell_type": "code",
   "execution_count": null,
   "id": "59b33e73",
   "metadata": {},
   "outputs": [],
   "source": [
    "Determine the unique values in a column\n",
    "You might be interested in the unique values in a Series using pandas. To do this, we’ll use the unique method. For example,\n",
    "if we wanted to identify the unique values in the column property_type in the colombia-real-estate-1 dataset,\n",
    "the code would look like this:"
   ]
  },
  {
   "cell_type": "code",
   "execution_count": null,
   "id": "72f9f800",
   "metadata": {},
   "outputs": [],
   "source": [
    "df[\"property_type\"].unique()"
   ]
  },
  {
   "cell_type": "code",
   "execution_count": null,
   "id": "575129e8",
   "metadata": {},
   "outputs": [],
   "source": [
    "Practice: Determine the unique values in a column\n",
    "\n",
    "Try it yourself! In the colombia-real-estate-2 dataset, identify the unique values in the column department:"
   ]
  },
  {
   "cell_type": "markdown",
   "id": "c63ba569",
   "metadata": {},
   "source": [
    "## Concatenating ## \n",
    "When we concatenate data, we're combining two or more separate sets of data into a single large dataset."
   ]
  },
  {
   "cell_type": "markdown",
   "id": "a449579f",
   "metadata": {},
   "source": [
    "### Concatenating DataFrames ###\n",
    "If we want to combine two DataFrames, we need to import Pandas and read in our data."
   ]
  },
  {
   "cell_type": "code",
   "execution_count": 138,
   "id": "1535abb2",
   "metadata": {},
   "outputs": [
    {
     "ename": "FileNotFoundError",
     "evalue": "[Errno 2] No such file or directory: 'data/colombia-real-estate-1.csv'",
     "output_type": "error",
     "traceback": [
      "\u001b[1;31m---------------------------------------------------------------------------\u001b[0m",
      "\u001b[1;31mFileNotFoundError\u001b[0m                         Traceback (most recent call last)",
      "\u001b[1;32m~\\AppData\\Local\\Temp/ipykernel_20896/4276213245.py\u001b[0m in \u001b[0;36m<module>\u001b[1;34m\u001b[0m\n\u001b[1;32m----> 1\u001b[1;33m \u001b[0mdf1\u001b[0m \u001b[1;33m=\u001b[0m \u001b[0mpd\u001b[0m\u001b[1;33m.\u001b[0m\u001b[0mread_csv\u001b[0m\u001b[1;33m(\u001b[0m\u001b[1;34m\"data/colombia-real-estate-1.csv\"\u001b[0m\u001b[1;33m)\u001b[0m\u001b[1;33m\u001b[0m\u001b[1;33m\u001b[0m\u001b[0m\n\u001b[0m\u001b[0;32m      2\u001b[0m \u001b[0mdf2\u001b[0m \u001b[1;33m=\u001b[0m \u001b[0mpd\u001b[0m\u001b[1;33m.\u001b[0m\u001b[0mread_csv\u001b[0m\u001b[1;33m(\u001b[0m\u001b[1;34m\"data/colombia-real-estate-2.csv\"\u001b[0m\u001b[1;33m)\u001b[0m\u001b[1;33m\u001b[0m\u001b[1;33m\u001b[0m\u001b[0m\n\u001b[0;32m      3\u001b[0m \u001b[0mprint\u001b[0m\u001b[1;33m(\u001b[0m\u001b[1;34m\"df1 shape:\"\u001b[0m\u001b[1;33m,\u001b[0m \u001b[0mdf1\u001b[0m\u001b[1;33m.\u001b[0m\u001b[0mshape\u001b[0m\u001b[1;33m)\u001b[0m\u001b[1;33m\u001b[0m\u001b[1;33m\u001b[0m\u001b[0m\n\u001b[0;32m      4\u001b[0m \u001b[0mprint\u001b[0m\u001b[1;33m(\u001b[0m\u001b[1;34m\"df2 shape:\"\u001b[0m\u001b[1;33m,\u001b[0m \u001b[0mdf2\u001b[0m\u001b[1;33m.\u001b[0m\u001b[0mshape\u001b[0m\u001b[1;33m)\u001b[0m\u001b[1;33m\u001b[0m\u001b[1;33m\u001b[0m\u001b[0m\n",
      "\u001b[1;32m~\\anaconda3\\lib\\site-packages\\pandas\\util\\_decorators.py\u001b[0m in \u001b[0;36mwrapper\u001b[1;34m(*args, **kwargs)\u001b[0m\n\u001b[0;32m    309\u001b[0m                     \u001b[0mstacklevel\u001b[0m\u001b[1;33m=\u001b[0m\u001b[0mstacklevel\u001b[0m\u001b[1;33m,\u001b[0m\u001b[1;33m\u001b[0m\u001b[1;33m\u001b[0m\u001b[0m\n\u001b[0;32m    310\u001b[0m                 )\n\u001b[1;32m--> 311\u001b[1;33m             \u001b[1;32mreturn\u001b[0m \u001b[0mfunc\u001b[0m\u001b[1;33m(\u001b[0m\u001b[1;33m*\u001b[0m\u001b[0margs\u001b[0m\u001b[1;33m,\u001b[0m \u001b[1;33m**\u001b[0m\u001b[0mkwargs\u001b[0m\u001b[1;33m)\u001b[0m\u001b[1;33m\u001b[0m\u001b[1;33m\u001b[0m\u001b[0m\n\u001b[0m\u001b[0;32m    312\u001b[0m \u001b[1;33m\u001b[0m\u001b[0m\n\u001b[0;32m    313\u001b[0m         \u001b[1;32mreturn\u001b[0m \u001b[0mwrapper\u001b[0m\u001b[1;33m\u001b[0m\u001b[1;33m\u001b[0m\u001b[0m\n",
      "\u001b[1;32m~\\anaconda3\\lib\\site-packages\\pandas\\io\\parsers\\readers.py\u001b[0m in \u001b[0;36mread_csv\u001b[1;34m(filepath_or_buffer, sep, delimiter, header, names, index_col, usecols, squeeze, prefix, mangle_dupe_cols, dtype, engine, converters, true_values, false_values, skipinitialspace, skiprows, skipfooter, nrows, na_values, keep_default_na, na_filter, verbose, skip_blank_lines, parse_dates, infer_datetime_format, keep_date_col, date_parser, dayfirst, cache_dates, iterator, chunksize, compression, thousands, decimal, lineterminator, quotechar, quoting, doublequote, escapechar, comment, encoding, encoding_errors, dialect, error_bad_lines, warn_bad_lines, on_bad_lines, delim_whitespace, low_memory, memory_map, float_precision, storage_options)\u001b[0m\n\u001b[0;32m    584\u001b[0m     \u001b[0mkwds\u001b[0m\u001b[1;33m.\u001b[0m\u001b[0mupdate\u001b[0m\u001b[1;33m(\u001b[0m\u001b[0mkwds_defaults\u001b[0m\u001b[1;33m)\u001b[0m\u001b[1;33m\u001b[0m\u001b[1;33m\u001b[0m\u001b[0m\n\u001b[0;32m    585\u001b[0m \u001b[1;33m\u001b[0m\u001b[0m\n\u001b[1;32m--> 586\u001b[1;33m     \u001b[1;32mreturn\u001b[0m \u001b[0m_read\u001b[0m\u001b[1;33m(\u001b[0m\u001b[0mfilepath_or_buffer\u001b[0m\u001b[1;33m,\u001b[0m \u001b[0mkwds\u001b[0m\u001b[1;33m)\u001b[0m\u001b[1;33m\u001b[0m\u001b[1;33m\u001b[0m\u001b[0m\n\u001b[0m\u001b[0;32m    587\u001b[0m \u001b[1;33m\u001b[0m\u001b[0m\n\u001b[0;32m    588\u001b[0m \u001b[1;33m\u001b[0m\u001b[0m\n",
      "\u001b[1;32m~\\anaconda3\\lib\\site-packages\\pandas\\io\\parsers\\readers.py\u001b[0m in \u001b[0;36m_read\u001b[1;34m(filepath_or_buffer, kwds)\u001b[0m\n\u001b[0;32m    480\u001b[0m \u001b[1;33m\u001b[0m\u001b[0m\n\u001b[0;32m    481\u001b[0m     \u001b[1;31m# Create the parser.\u001b[0m\u001b[1;33m\u001b[0m\u001b[1;33m\u001b[0m\u001b[0m\n\u001b[1;32m--> 482\u001b[1;33m     \u001b[0mparser\u001b[0m \u001b[1;33m=\u001b[0m \u001b[0mTextFileReader\u001b[0m\u001b[1;33m(\u001b[0m\u001b[0mfilepath_or_buffer\u001b[0m\u001b[1;33m,\u001b[0m \u001b[1;33m**\u001b[0m\u001b[0mkwds\u001b[0m\u001b[1;33m)\u001b[0m\u001b[1;33m\u001b[0m\u001b[1;33m\u001b[0m\u001b[0m\n\u001b[0m\u001b[0;32m    483\u001b[0m \u001b[1;33m\u001b[0m\u001b[0m\n\u001b[0;32m    484\u001b[0m     \u001b[1;32mif\u001b[0m \u001b[0mchunksize\u001b[0m \u001b[1;32mor\u001b[0m \u001b[0miterator\u001b[0m\u001b[1;33m:\u001b[0m\u001b[1;33m\u001b[0m\u001b[1;33m\u001b[0m\u001b[0m\n",
      "\u001b[1;32m~\\anaconda3\\lib\\site-packages\\pandas\\io\\parsers\\readers.py\u001b[0m in \u001b[0;36m__init__\u001b[1;34m(self, f, engine, **kwds)\u001b[0m\n\u001b[0;32m    809\u001b[0m             \u001b[0mself\u001b[0m\u001b[1;33m.\u001b[0m\u001b[0moptions\u001b[0m\u001b[1;33m[\u001b[0m\u001b[1;34m\"has_index_names\"\u001b[0m\u001b[1;33m]\u001b[0m \u001b[1;33m=\u001b[0m \u001b[0mkwds\u001b[0m\u001b[1;33m[\u001b[0m\u001b[1;34m\"has_index_names\"\u001b[0m\u001b[1;33m]\u001b[0m\u001b[1;33m\u001b[0m\u001b[1;33m\u001b[0m\u001b[0m\n\u001b[0;32m    810\u001b[0m \u001b[1;33m\u001b[0m\u001b[0m\n\u001b[1;32m--> 811\u001b[1;33m         \u001b[0mself\u001b[0m\u001b[1;33m.\u001b[0m\u001b[0m_engine\u001b[0m \u001b[1;33m=\u001b[0m \u001b[0mself\u001b[0m\u001b[1;33m.\u001b[0m\u001b[0m_make_engine\u001b[0m\u001b[1;33m(\u001b[0m\u001b[0mself\u001b[0m\u001b[1;33m.\u001b[0m\u001b[0mengine\u001b[0m\u001b[1;33m)\u001b[0m\u001b[1;33m\u001b[0m\u001b[1;33m\u001b[0m\u001b[0m\n\u001b[0m\u001b[0;32m    812\u001b[0m \u001b[1;33m\u001b[0m\u001b[0m\n\u001b[0;32m    813\u001b[0m     \u001b[1;32mdef\u001b[0m \u001b[0mclose\u001b[0m\u001b[1;33m(\u001b[0m\u001b[0mself\u001b[0m\u001b[1;33m)\u001b[0m\u001b[1;33m:\u001b[0m\u001b[1;33m\u001b[0m\u001b[1;33m\u001b[0m\u001b[0m\n",
      "\u001b[1;32m~\\anaconda3\\lib\\site-packages\\pandas\\io\\parsers\\readers.py\u001b[0m in \u001b[0;36m_make_engine\u001b[1;34m(self, engine)\u001b[0m\n\u001b[0;32m   1038\u001b[0m             )\n\u001b[0;32m   1039\u001b[0m         \u001b[1;31m# error: Too many arguments for \"ParserBase\"\u001b[0m\u001b[1;33m\u001b[0m\u001b[1;33m\u001b[0m\u001b[0m\n\u001b[1;32m-> 1040\u001b[1;33m         \u001b[1;32mreturn\u001b[0m \u001b[0mmapping\u001b[0m\u001b[1;33m[\u001b[0m\u001b[0mengine\u001b[0m\u001b[1;33m]\u001b[0m\u001b[1;33m(\u001b[0m\u001b[0mself\u001b[0m\u001b[1;33m.\u001b[0m\u001b[0mf\u001b[0m\u001b[1;33m,\u001b[0m \u001b[1;33m**\u001b[0m\u001b[0mself\u001b[0m\u001b[1;33m.\u001b[0m\u001b[0moptions\u001b[0m\u001b[1;33m)\u001b[0m  \u001b[1;31m# type: ignore[call-arg]\u001b[0m\u001b[1;33m\u001b[0m\u001b[1;33m\u001b[0m\u001b[0m\n\u001b[0m\u001b[0;32m   1041\u001b[0m \u001b[1;33m\u001b[0m\u001b[0m\n\u001b[0;32m   1042\u001b[0m     \u001b[1;32mdef\u001b[0m \u001b[0m_failover_to_python\u001b[0m\u001b[1;33m(\u001b[0m\u001b[0mself\u001b[0m\u001b[1;33m)\u001b[0m\u001b[1;33m:\u001b[0m\u001b[1;33m\u001b[0m\u001b[1;33m\u001b[0m\u001b[0m\n",
      "\u001b[1;32m~\\anaconda3\\lib\\site-packages\\pandas\\io\\parsers\\c_parser_wrapper.py\u001b[0m in \u001b[0;36m__init__\u001b[1;34m(self, src, **kwds)\u001b[0m\n\u001b[0;32m     49\u001b[0m \u001b[1;33m\u001b[0m\u001b[0m\n\u001b[0;32m     50\u001b[0m         \u001b[1;31m# open handles\u001b[0m\u001b[1;33m\u001b[0m\u001b[1;33m\u001b[0m\u001b[0m\n\u001b[1;32m---> 51\u001b[1;33m         \u001b[0mself\u001b[0m\u001b[1;33m.\u001b[0m\u001b[0m_open_handles\u001b[0m\u001b[1;33m(\u001b[0m\u001b[0msrc\u001b[0m\u001b[1;33m,\u001b[0m \u001b[0mkwds\u001b[0m\u001b[1;33m)\u001b[0m\u001b[1;33m\u001b[0m\u001b[1;33m\u001b[0m\u001b[0m\n\u001b[0m\u001b[0;32m     52\u001b[0m         \u001b[1;32massert\u001b[0m \u001b[0mself\u001b[0m\u001b[1;33m.\u001b[0m\u001b[0mhandles\u001b[0m \u001b[1;32mis\u001b[0m \u001b[1;32mnot\u001b[0m \u001b[1;32mNone\u001b[0m\u001b[1;33m\u001b[0m\u001b[1;33m\u001b[0m\u001b[0m\n\u001b[0;32m     53\u001b[0m \u001b[1;33m\u001b[0m\u001b[0m\n",
      "\u001b[1;32m~\\anaconda3\\lib\\site-packages\\pandas\\io\\parsers\\base_parser.py\u001b[0m in \u001b[0;36m_open_handles\u001b[1;34m(self, src, kwds)\u001b[0m\n\u001b[0;32m    220\u001b[0m         \u001b[0mLet\u001b[0m \u001b[0mthe\u001b[0m \u001b[0mreaders\u001b[0m \u001b[0mopen\u001b[0m \u001b[0mIOHandles\u001b[0m \u001b[0mafter\u001b[0m \u001b[0mthey\u001b[0m \u001b[0mare\u001b[0m \u001b[0mdone\u001b[0m \u001b[1;32mwith\u001b[0m \u001b[0mtheir\u001b[0m \u001b[0mpotential\u001b[0m \u001b[0mraises\u001b[0m\u001b[1;33m.\u001b[0m\u001b[1;33m\u001b[0m\u001b[1;33m\u001b[0m\u001b[0m\n\u001b[0;32m    221\u001b[0m         \"\"\"\n\u001b[1;32m--> 222\u001b[1;33m         self.handles = get_handle(\n\u001b[0m\u001b[0;32m    223\u001b[0m             \u001b[0msrc\u001b[0m\u001b[1;33m,\u001b[0m\u001b[1;33m\u001b[0m\u001b[1;33m\u001b[0m\u001b[0m\n\u001b[0;32m    224\u001b[0m             \u001b[1;34m\"r\"\u001b[0m\u001b[1;33m,\u001b[0m\u001b[1;33m\u001b[0m\u001b[1;33m\u001b[0m\u001b[0m\n",
      "\u001b[1;32m~\\anaconda3\\lib\\site-packages\\pandas\\io\\common.py\u001b[0m in \u001b[0;36mget_handle\u001b[1;34m(path_or_buf, mode, encoding, compression, memory_map, is_text, errors, storage_options)\u001b[0m\n\u001b[0;32m    700\u001b[0m         \u001b[1;32mif\u001b[0m \u001b[0mioargs\u001b[0m\u001b[1;33m.\u001b[0m\u001b[0mencoding\u001b[0m \u001b[1;32mand\u001b[0m \u001b[1;34m\"b\"\u001b[0m \u001b[1;32mnot\u001b[0m \u001b[1;32min\u001b[0m \u001b[0mioargs\u001b[0m\u001b[1;33m.\u001b[0m\u001b[0mmode\u001b[0m\u001b[1;33m:\u001b[0m\u001b[1;33m\u001b[0m\u001b[1;33m\u001b[0m\u001b[0m\n\u001b[0;32m    701\u001b[0m             \u001b[1;31m# Encoding\u001b[0m\u001b[1;33m\u001b[0m\u001b[1;33m\u001b[0m\u001b[0m\n\u001b[1;32m--> 702\u001b[1;33m             handle = open(\n\u001b[0m\u001b[0;32m    703\u001b[0m                 \u001b[0mhandle\u001b[0m\u001b[1;33m,\u001b[0m\u001b[1;33m\u001b[0m\u001b[1;33m\u001b[0m\u001b[0m\n\u001b[0;32m    704\u001b[0m                 \u001b[0mioargs\u001b[0m\u001b[1;33m.\u001b[0m\u001b[0mmode\u001b[0m\u001b[1;33m,\u001b[0m\u001b[1;33m\u001b[0m\u001b[1;33m\u001b[0m\u001b[0m\n",
      "\u001b[1;31mFileNotFoundError\u001b[0m: [Errno 2] No such file or directory: 'data/colombia-real-estate-1.csv'"
     ]
    }
   ],
   "source": [
    "df1 = pd.read_csv(\"data/colombia-real-estate-1.csv\")\n",
    "df2 = pd.read_csv(\"data/colombia-real-estate-2.csv\")\n",
    "print(\"df1 shape:\", df1.shape)\n",
    "print(\"df2 shape:\", df2.shape)"
   ]
  },
  {
   "cell_type": "code",
   "execution_count": null,
   "id": "921bbc5b",
   "metadata": {},
   "outputs": [],
   "source": [
    "Next, we'll use the concat method to put our DataFrames together, using each DataFrame's name in a list."
   ]
  },
  {
   "cell_type": "code",
   "execution_count": null,
   "id": "6ac37610",
   "metadata": {},
   "outputs": [],
   "source": [
    "concat_df = pd.concat([df1, df2])\n",
    "print(\"concat_df shape:\", concat_df.shape)\n",
    "concat_df.head()"
   ]
  },
  {
   "cell_type": "code",
   "execution_count": null,
   "id": "8a0ca94f",
   "metadata": {},
   "outputs": [],
   "source": [
    "Practice\n",
    "\n",
    "Try it yourself! Create two DataFrames from colombia-real-estate-2.csv and colombia-real-estate-3.csv, \n",
    "and concatenate them as the DataFrame concat_df."
   ]
  },
  {
   "cell_type": "code",
   "execution_count": null,
   "id": "54d0dac5",
   "metadata": {},
   "outputs": [],
   "source": [
    "df2 = ...\n",
    "df3 = ...\n",
    "concat_df = ...\n",
    "concat_df.head()"
   ]
  },
  {
   "cell_type": "markdown",
   "id": "c3160836",
   "metadata": {},
   "source": [
    "## Concatenating Series ##\n",
    "We can also concatenate a Series using a similar set of commands. First, let's take two Series from the df1 and df2 respectively."
   ]
  },
  {
   "cell_type": "code",
   "execution_count": null,
   "id": "c1b69b02",
   "metadata": {},
   "outputs": [],
   "source": [
    "df1 = pd.read_csv(\"data/colombia-real-estate-1.csv\")\n",
    "df2 = pd.read_csv(\"data/colombia-real-estate-2.csv\")\n",
    "sr1 = df1[\"property_type\"]\n",
    "sr2 = df2[\"property_type\"]\n",
    "print(\"len sr1:\", len(sr1)),\n",
    "print(sr1.head())\n",
    "print()\n",
    "print(\"len sr2:\", len(sr2)),\n",
    "print(sr2.head())"
   ]
  },
  {
   "cell_type": "code",
   "execution_count": null,
   "id": "db1a50b7",
   "metadata": {},
   "outputs": [],
   "source": [
    "Now that we have two Series, let's put them together."
   ]
  },
  {
   "cell_type": "code",
   "execution_count": null,
   "id": "8478af52",
   "metadata": {},
   "outputs": [],
   "source": [
    "concat_sr = pd.concat([sr1, sr2])\n",
    "print(\"len concat_sr:\", len(concat_sr)),\n",
    "print(concat_sr.head())"
   ]
  },
  {
   "cell_type": "code",
   "execution_count": null,
   "id": "db322ad6",
   "metadata": {},
   "outputs": [],
   "source": [
    "Practice\n",
    "\n",
    "Try it yourself! Use the colombia-real-estate-2 and colombia-rea-estate-3 datasets to create a \n",
    "concatenated Series for the area_m2 column, and print the result."
   ]
  },
  {
   "cell_type": "code",
   "execution_count": null,
   "id": "70879595",
   "metadata": {},
   "outputs": [],
   "source": [
    "df1 = ..."
   ]
  },
  {
   "cell_type": "code",
   "execution_count": null,
   "id": "66c40048",
   "metadata": {},
   "outputs": [],
   "source": [
    "Saving a DataFrame as a CSV¶\n",
    "Once you’ve cleaned all your data and gotten the DataFrame to show everything you want it to show, it’s time to save \n",
    "the DataFrame as a new CSV file using the to_csv method. First, let's load up the colombia-real-estate-1 dataset, \n",
    "and use head to see the first five rows of data:"
   ]
  },
  {
   "cell_type": "code",
   "execution_count": null,
   "id": "e01b4a14",
   "metadata": {},
   "outputs": [],
   "source": [
    "import pandas as pd\n",
    "\n",
    "df = pd.read_csv(\"data/colombia-real-estate-1.csv\")\n",
    "df.head()"
   ]
  },
  {
   "cell_type": "code",
   "execution_count": null,
   "id": "2b140a02",
   "metadata": {},
   "outputs": [],
   "source": [
    "\n",
    "Maybe we're only interested in those first five rows, so let's save that as its own new CSV file using the to_csv method. \n",
    "Note that we're setting the index argument to False so that the DataFrame index isn't included in the CSV file."
   ]
  },
  {
   "cell_type": "code",
   "execution_count": null,
   "id": "4b102b79",
   "metadata": {},
   "outputs": [],
   "source": [
    "df = df.head()\n",
    "df.to_csv(\"data/small-df.csv\", index=False)"
   ]
  },
  {
   "cell_type": "code",
   "execution_count": null,
   "id": "9fe284c0",
   "metadata": {},
   "outputs": [],
   "source": []
  },
  {
   "cell_type": "code",
   "execution_count": null,
   "id": "81f78bf7",
   "metadata": {},
   "outputs": [],
   "source": []
  },
  {
   "cell_type": "code",
   "execution_count": null,
   "id": "163b03bf",
   "metadata": {},
   "outputs": [],
   "source": [
    "013-EXPLORATORY-DATA-ANALYSIS-IPYNB PROJECT\n"
   ]
  },
  {
   "cell_type": "markdown",
   "id": "08c61e65",
   "metadata": {},
   "source": [
    "## Exploratory Data Analysis ##"
   ]
  },
  {
   "cell_type": "code",
   "execution_count": null,
   "id": "bf25b33c",
   "metadata": {},
   "outputs": [],
   "source": [
    "import matplotlib.pyplot as plt\n",
    "import pandas as pd\n",
    "import plotly.express as px"
   ]
  },
  {
   "cell_type": "code",
   "execution_count": null,
   "id": "0cf276da",
   "metadata": {},
   "outputs": [],
   "source": [
    "After importing, the next step in many data science projects is exploratory data analysis (EDA), where you get a feel for\n",
    "your data by summarizing its main characteristics using descriptive statistics and data visualization. A good way to plan \n",
    "your EDA is by looking each column and asking yourself questions what it says about your dataset."
   ]
  },
  {
   "cell_type": "markdown",
   "id": "fab66d38",
   "metadata": {},
   "source": [
    "## Import Data  ##"
   ]
  },
  {
   "cell_type": "code",
   "execution_count": null,
   "id": "1b72b9f3",
   "metadata": {},
   "outputs": [],
   "source": [
    "import matplotlib.pyplot as plt # for visualization\n",
    "import pandas as pd\n",
    "import plotly.express as px # for visualization"
   ]
  },
  {
   "cell_type": "code",
   "execution_count": null,
   "id": "088d09fb",
   "metadata": {},
   "outputs": [],
   "source": [
    "Task 1.3.1: Read the CSV file that you created in the last notebook (\"../small-data/mexico-real-estate-clean.csv\") into a\n",
    "DataFrame named df. Be sure to check that all your columns are the correct data type before you go to the next task.\n",
    "\n",
    "What's a DataFrame?\n",
    "What's a CSV file?\n",
    "Read a CSV file into a DataFrame using pandas."
   ]
  },
  {
   "cell_type": "code",
   "execution_count": null,
   "id": "6c99ccfd",
   "metadata": {},
   "outputs": [],
   "source": [
    "#  df = ...read\n",
    "df = pd.read_csv(\"data/mexico-real-estate-clean.csv\")\n",
    "df"
   ]
  },
  {
   "cell_type": "code",
   "execution_count": null,
   "id": "3dc706dd",
   "metadata": {},
   "outputs": [],
   "source": [
    "While there are only two dtypes in our DataFrame (object and float64), there are three categories of data: location, categorical, and numeric. \n",
    "    Each of these require a different kind of exploration in our analysis."
   ]
  },
  {
   "cell_type": "markdown",
   "id": "5051b38d",
   "metadata": {},
   "source": [
    "## Location Data: \"lat\" and \"lon\" ##\n",
    "They say that the most important thing in real estate is location, and we can see where where in Mexico our houses are located by using the \"lat\" and \"lon\" columns. Since latitude and longitude are based on a coordinate system, a good way to visualize them is to create a scatter plot on top of a map. A great tool for this is the scatter_mapbox from the plotly library."
   ]
  },
  {
   "cell_type": "code",
   "execution_count": null,
   "id": "0be29f4b",
   "metadata": {},
   "outputs": [],
   "source": [
    "Task 1.3.2: Add \"lat\" and \"lon\" to the code below, and run the code. You'll see a map that's centered on Mexico City, and you can use the \"Zoom Out\" button in the upper-right corner of the map so that you can see the whole country.\n",
    "\n",
    "What's location data?\n",
    "What's a scatter plot?"
   ]
  },
  {
   "cell_type": "code",
   "execution_count": null,
   "id": "fb208be8",
   "metadata": {},
   "outputs": [],
   "source": [
    "fig = px.scatter_mapbox(\n",
    "    df,  # Our DataFrame\n",
    "    lat=...,\n",
    "    lon=...,\n",
    "    center={\"lat\": 19.43, \"lon\": -99.13},  # Map will be centered on Mexico City\n",
    "    width=600,  # Width of map\n",
    "    height=600,  # Height of map\n",
    "    hover_data=[\"price_usd\"],  # Display price when hovering mouse over house\n",
    ")\n",
    "\n",
    "fig.update_layout(mapbox_style=\"open-street-map\")\n",
    "\n",
    "fig.show()"
   ]
  },
  {
   "cell_type": "code",
   "execution_count": null,
   "id": "9c2c88f4",
   "metadata": {},
   "outputs": [],
   "source": [
    "Looking at this map, are the houses in our dataset distributed evenly throughout the country, or are there states or regions\n",
    "that are more prevalent? Can you guess where Mexico's biggest cities are based on this distribution?"
   ]
  },
  {
   "cell_type": "markdown",
   "id": "23ef5bd0",
   "metadata": {},
   "source": [
    "## Categorical Data: \"state\" ##\n",
    "Even though we can get a good idea of which states are most common in our dataset\n",
    "from looking at a map, we can also get the exact count by using the \"state\" column."
   ]
  },
  {
   "cell_type": "code",
   "execution_count": null,
   "id": "5d35073b",
   "metadata": {},
   "outputs": [],
   "source": [
    "Task 1.3.3: Use the value_counts method on the \"state\" column to determine the 10 most prevalent states in our dataset.\n",
    "\n",
    "What's categorical data?\n",
    "What's a Series?\n",
    "Aggregate data in a Series using value_counts in pandas."
   ]
  },
  {
   "cell_type": "markdown",
   "id": "a6902bad",
   "metadata": {},
   "source": [
    "## Numerical Data: \"area_m2\" and \"price_usd\" ##\n",
    "We have a sense for where the houses in our dataset are located, but how much do they cost? How big are they? \n",
    "The best way to answer those questions is looking at descriptive statistics."
   ]
  },
  {
   "cell_type": "code",
   "execution_count": null,
   "id": "84475027",
   "metadata": {},
   "outputs": [],
   "source": [
    "Task 1.3.4: Use the describe method to print the mean, standard deviation, and quartiles for the \"area_m2\" and \"price_usd\" columns.\n",
    "\n",
    "What's numerical data?\n",
    "What's a mean?\n",
    "What's a standard deviation?\n",
    "What are quartiles?\n",
    "Print the summary statistics for a DataFrame using pandas."
   ]
  },
  {
   "cell_type": "markdown",
   "id": "abcf91f9",
   "metadata": {},
   "source": [
    "## Quartiles ##\n",
    "Quartiles divide a sequence of numbers into four equal parts. Grouping a dataset into quartiles helps us to find outliers, and provides the basis for the data in a boxplot.\n"
   ]
  },
  {
   "cell_type": "markdown",
   "id": "0d93fdb4",
   "metadata": {},
   "source": [
    "## Series ##\n",
    "A series is a one-dimensional array that can hold any type of data. We'll generally use the term to refer to a column in a dataset that's arranged in a table. In fact, this is the reason why, in the library pandas, DataFrame columns are called Series. In a pandas Series, all items in the array must generally be the same data type."
   ]
  },
  {
   "cell_type": "markdown",
   "id": "a6e36b97",
   "metadata": {},
   "source": [
    "## The Mean ##\n",
    "All the data points in a dataset can be added together and then divided by the total number of data points to find the mean. You might be used to calling this number an average; the two ideas are the same. Means help us to understand the central tendency of a dataset."
   ]
  },
  {
   "cell_type": "markdown",
   "id": "844e6eba",
   "metadata": {},
   "source": [
    "## Skewed Distributions ##\n",
    "For any given activity, there is a range of probable outcomes. All other things being equal, we would expect most of the outcomes to fall in the middle of the possible range, with the number of outcomes diminishing on either side of the peak. In statistics, this is known as a normal distribution, but you may have heard it called a bell curve, because it looks like a bell. Here's an example:\n",
    "image.png\n",
    "\n",
    "A skewed distribution is a type of distribution where the peak of the curve is shifted, or skewed, either to the right or the left of the distribution. Here's an example:\n",
    "\n",
    "image.png"
   ]
  },
  {
   "cell_type": "markdown",
   "id": "9f254a2a",
   "metadata": {},
   "source": [
    "## Standard Deviation ##\n",
    "Standard deviation describes the proportion of records above or below the mean of a given distribution. In a normal distribution, 68% of the values fall within one standard deviation of the mean, 95% of the values fall within two standard deviations from the mean, and 99.7% of the values fall within three standard deviations from the mean."
   ]
  },
  {
   "cell_type": "markdown",
   "id": "2b817bdb",
   "metadata": {},
   "source": [
    "Standard Deviation\n",
    "Standard deviation describes the proportion of records above or below the mean of a given distribution. In a normal distribution, 68% of the values fall within one standard deviation of the mean, 95% of the values fall within two standard deviations from the mean, and 99.7% of the values fall within three standard deviations from the mean.\n",
    "\n",
    "Outliers\n",
    "An outlier is a value in a dataset that falls well beyond the dataset mean — more than three standard deviations. Depending on the analytical strategy, it might be useful to drop outliers from a dataset, because their extreme deviation from the mean can result in misleading conclusions.\n",
    "\n",
    "\n",
    "\n",
    "\n",
    "Numerical Data\n",
    "Numerical data is any information that can be represented by numbers.\n",
    "\n",
    "Summary Statistics\n",
    "Summary Statistics\n",
    "Summary statistics are a set of simple calculations that help data scientists understand the broad strokes of their datasets.\n",
    "\n",
    "Working with Summary Statistics\n",
    "To calculate summary statistics in pandas, use the describe method. We can generate summary statistics for the colombia-real-estate-1 dataset with code that looks like this:"
   ]
  },
  {
   "cell_type": "markdown",
   "id": "7d4c99bb",
   "metadata": {},
   "source": [
    "## Categorical Data ##\n",
    "Categorical data is any type of data that can only be represented by distinct values. Eye color, handedness, and academic attainment are all categorical variables. Categorical variables are distinct from continuous variables in that their values can theoretically be infinite, and so require special attention in statistical analysis."
   ]
  },
  {
   "cell_type": "markdown",
   "id": "afa0a690",
   "metadata": {},
   "source": [
    "## Location Data ##\n",
    "Location data is information about a datapoint’s location in space, and can be expressed in latitude/longitude pairs, street address, altitude, or any other place-specific identifiers.\n"
   ]
  },
  {
   "cell_type": "markdown",
   "id": "1ac552ac",
   "metadata": {},
   "source": [
    "## Outliers ##\n",
    "An outlier is a value in a dataset that falls well beyond the dataset mean — more than three standard deviations. Depending on the analytical strategy, it might be useful to drop outliers from a dataset, because their extreme deviation from the mean can result in misleading conclusions."
   ]
  },
  {
   "cell_type": "markdown",
   "id": "69acf333",
   "metadata": {},
   "source": [
    "## Numerical Data ##\n",
    "Numerical data is any information that can be represented by numbers.\n"
   ]
  },
  {
   "cell_type": "markdown",
   "id": "eb5d6eac",
   "metadata": {},
   "source": [
    "## Summary Statistics ##\n",
    "Summary Statistics\n",
    "Summary statistics are a set of simple calculations that help data scientists understand the broad strokes of their datasets."
   ]
  },
  {
   "cell_type": "code",
   "execution_count": null,
   "id": "fb88ba60",
   "metadata": {},
   "outputs": [],
   "source": [
    "Working with Summary Statistics\n",
    "To calculate summary statistics in pandas, use the describe method. We can generate summary statistics for the colombia-real-estate-1 dataset with code that looks like this:"
   ]
  },
  {
   "cell_type": "code",
   "execution_count": null,
   "id": "32f88143",
   "metadata": {},
   "outputs": [],
   "source": [
    "import pandas as pd\n",
    "\n",
    "df1 = pd.read_csv(\"data/colombia-real-estate-1.csv\")\n",
    "df1.describe()"
   ]
  },
  {
   "cell_type": "code",
   "execution_count": null,
   "id": "a103c471",
   "metadata": {},
   "outputs": [],
   "source": [
    "By default, the describemethod will return count, mean, standard deviations, minimum valuesand maximum values. Also by default, the ignores ignores non-numerical columns.\n",
    "\n",
    "Practice\n",
    "\n",
    "Try it yourself! Using the colombia-real-estate-2 dataset, create a DataFrame called df2, and print the resulting summary statistics."
   ]
  },
  {
   "cell_type": "code",
   "execution_count": null,
   "id": "da4b7219",
   "metadata": {},
   "outputs": [],
   "source": [
    "df2 = pd.read_csv(\"data/colombia-real-estate-2.csv\")"
   ]
  },
  {
   "cell_type": "markdown",
   "id": "d41bff88",
   "metadata": {},
   "source": [
    "## Calculate the Quantiles for a Series ##\n",
    "Quantiles allow you to summarize the distribution of numerical values in a series. The n'th quantile divides an ordered series into n portions, each with the same number of entries. The boundaries between these portions are known as quantiles. Let's load a dataset to see how this works in practice:"
   ]
  },
  {
   "cell_type": "code",
   "execution_count": null,
   "id": "4f9395f4",
   "metadata": {},
   "outputs": [],
   "source": [
    "mexico_city2 = pd.read_csv(\"./data/mexico-city-real-estate-2.csv\")\n",
    "mexico_city2.head"
   ]
  },
  {
   "cell_type": "code",
   "execution_count": null,
   "id": "239752da",
   "metadata": {},
   "outputs": [],
   "source": [
    "price = mexico_city2[\"price\"]\n",
    "price"
   ]
  },
  {
   "cell_type": "code",
   "execution_count": null,
   "id": "2aff1212",
   "metadata": {},
   "outputs": [],
   "source": [
    "price.quantile(0.5)"
   ]
  },
  {
   "cell_type": "markdown",
   "id": "f14b5d01",
   "metadata": {},
   "source": [
    "## Quartiles ## \n",
    "A commonly used set of quantiles are the fourth quantiles known as quartiles. You can also find the minimum, first quartile, median, third quartile and maximum values in a series (which are typically the values used to create a boxplot):"
   ]
  },
  {
   "cell_type": "code",
   "execution_count": null,
   "id": "2ead18d4",
   "metadata": {},
   "outputs": [],
   "source": [
    "price.quantile([0, 0.25, 0.5, 0.75, 1])"
   ]
  },
  {
   "cell_type": "code",
   "execution_count": null,
   "id": "087a0be4",
   "metadata": {},
   "outputs": [],
   "source": [
    "Practice What's the 0.7 quantile in the price column of mexico-city-real-estate-3.csv?"
   ]
  },
  {
   "cell_type": "code",
   "execution_count": null,
   "id": "fdf8ca10",
   "metadata": {},
   "outputs": [],
   "source": [
    "mexico_city3 = pd.read_csv(\"./data/mexico-city-real-estate-3.csv\")\n",
    "price = mexico_city3[\"price\"]\n",
    "print(price.quantile(0.7))"
   ]
  },
  {
   "cell_type": "markdown",
   "id": "f88995ce",
   "metadata": {},
   "source": [
    "## Correlations ##\n",
    "Correlations tell us about the relationship between two sets of data. When we calculate this relationship, the result is a correlation coefficient. Correlation coefficients can have any value between -1 and 1. Values above 0 indicate a positive relationship (as one variable goes up, the other does too), and values below 0 indicate a negative relationship (as one variable goes up, the other goes down). The closer the coefficient's value is to either 1 or -1, the stronger the relationship is; the closer the coefficient's value is to 0, the weaker the relationship is. Coefficients equal to 0 indicate that there is no relationship between the two values, and are accordingly quite rare.\n",
    "\n",
    "Let's run a correlation on some of the data from the colombia-real-estate-2 dataset. We might suspect that there is some kind of relationship between the price of a property and the area it occupies, so we'll use the Series.corr method to figure it out. The code looks like this:"
   ]
  },
  {
   "cell_type": "code",
   "execution_count": null,
   "id": "234f83d7",
   "metadata": {},
   "outputs": [],
   "source": [
    "area_m2 = df2[\"area_m2\"]\n",
    "price_cop = df2[\"price_cop\"]\n",
    "correlation = area_m2.corr(price_cop)\n",
    "print(correlation)"
   ]
  },
  {
   "cell_type": "code",
   "execution_count": null,
   "id": "56ed0377",
   "metadata": {},
   "outputs": [],
   "source": [
    "The correlation coefficient here is about 0.519, which is a moderate, positive correlation. That is, as the area of a property goes up, so does the price. If the result had been a negative number, we would be able to say that as the area goes up, the price goes down.\n",
    "\n",
    "Practice Try it yourself! Find the relationship between \"area_m2\" and \"price_usd\" in the colombia-real-estate-3 dataset, and interpret the resulting coefficient."
   ]
  },
  {
   "cell_type": "code",
   "execution_count": null,
   "id": "90dd47fd",
   "metadata": {},
   "outputs": [],
   "source": []
  },
  {
   "cell_type": "code",
   "execution_count": null,
   "id": "8eab9a85",
   "metadata": {},
   "outputs": [],
   "source": []
  },
  {
   "cell_type": "code",
   "execution_count": null,
   "id": "71ed4bbb",
   "metadata": {},
   "outputs": [],
   "source": []
  },
  {
   "cell_type": "code",
   "execution_count": null,
   "id": "7f84311f",
   "metadata": {},
   "outputs": [],
   "source": []
  },
  {
   "cell_type": "code",
   "execution_count": null,
   "id": "6586bc57",
   "metadata": {},
   "outputs": [],
   "source": []
  },
  {
   "cell_type": "code",
   "execution_count": null,
   "id": "e0d37f8a",
   "metadata": {},
   "outputs": [],
   "source": []
  },
  {
   "cell_type": "code",
   "execution_count": null,
   "id": "e0a39ce1",
   "metadata": {},
   "outputs": [],
   "source": []
  },
  {
   "cell_type": "code",
   "execution_count": null,
   "id": "de24c814",
   "metadata": {},
   "outputs": [],
   "source": []
  },
  {
   "cell_type": "code",
   "execution_count": null,
   "id": "8109c73e",
   "metadata": {},
   "outputs": [],
   "source": []
  },
  {
   "cell_type": "code",
   "execution_count": null,
   "id": "23f46187",
   "metadata": {},
   "outputs": [],
   "source": []
  }
 ],
 "metadata": {
  "kernelspec": {
   "display_name": "Python 3 (ipykernel)",
   "language": "python",
   "name": "python3"
  },
  "language_info": {
   "codemirror_mode": {
    "name": "ipython",
    "version": 3
   },
   "file_extension": ".py",
   "mimetype": "text/x-python",
   "name": "python",
   "nbconvert_exporter": "python",
   "pygments_lexer": "ipython3",
   "version": "3.9.7"
  }
 },
 "nbformat": 4,
 "nbformat_minor": 5
}
