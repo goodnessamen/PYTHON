{
 "cells": [
  {
   "cell_type": "markdown",
   "id": "01dd2d43",
   "metadata": {},
   "source": [
    "## Location or Size: What Influences House Prices in Mexico?  ##"
   ]
  },
  {
   "cell_type": "code",
   "execution_count": 1,
   "id": "aa06ec4b",
   "metadata": {},
   "outputs": [],
   "source": [
    "import matplotlib.pyplot as plt\n",
    "import pandas as pd\n",
    "#from IPython.display import VimeoVideo"
   ]
  },
  {
   "cell_type": "code",
   "execution_count": null,
   "id": "75287a87",
   "metadata": {},
   "outputs": [],
   "source": [
    "You've wrangled the data, you've gained an understanding of its basic characteristics in your EDA, \n",
    "and now it's time to ask some research questions."
   ]
  },
  {
   "cell_type": "markdown",
   "id": "1da162c0",
   "metadata": {},
   "source": [
    "## Import Data ##"
   ]
  },
  {
   "cell_type": "code",
   "execution_count": null,
   "id": "7ed0f0f8",
   "metadata": {},
   "outputs": [],
   "source": [
    "Task 1.4.1: Read the CSV file that you created in the last notebook (\"../small-data/mexico-real-estate-clean.csv\") into a DataFrame named df. Be sure to check that all your columns are the correct data type before you go to the next task.\n",
    "\n",
    "What's a DataFrame?\n",
    "What's a CSV file?\n",
    "Read a CSV file into a DataFrame using pandas."
   ]
  },
  {
   "cell_type": "code",
   "execution_count": null,
   "id": "2512a9e1",
   "metadata": {},
   "outputs": [],
   "source": [
    "df = pd.read_csv(\"data/mexico-real-estate-clean.csv\")\n",
    "df"
   ]
  },
  {
   "cell_type": "markdown",
   "id": "95eb0d47",
   "metadata": {},
   "source": [
    "## Research Question 1 ##\n",
    "Which state has the most expensive real estate market?\n",
    "\n",
    "Do housing prices vary by state? If so, which are the most expensive states for purchasing a home? During our exploratory data analysis, we used descriptive statistics like mean and median to get an idea of the \"typical\" house price in Mexico. Now, we need to break that calculation down by state and visualize the results.\n",
    "\n",
    "We know in which state each house is located thanks to the \"state\" column. The next step is to divide our dataset into groups (one per state) and calculate the mean house price for each group."
   ]
  },
  {
   "cell_type": "code",
   "execution_count": null,
   "id": "726d828a",
   "metadata": {},
   "outputs": [],
   "source": [
    "Task 1.4.2: Use the groupby method to create a Series named mean_price_by_state, where the index contains each state in the dataset and the values correspond to the mean house price for that state. Make sure your Series is sorted from highest to lowest mean price.\n",
    "\n",
    "What's a Series?\n",
    "Aggregate data using the groupby method in pandas."
   ]
  },
  {
   "cell_type": "code",
   "execution_count": null,
   "id": "497f1e78",
   "metadata": {},
   "outputs": [],
   "source": [
    "mean_price_by_state = ..."
   ]
  },
  {
   "cell_type": "code",
   "execution_count": null,
   "id": "deedfc2c",
   "metadata": {},
   "outputs": [],
   "source": []
  },
  {
   "cell_type": "code",
   "execution_count": null,
   "id": "118b0041",
   "metadata": {},
   "outputs": [],
   "source": []
  },
  {
   "cell_type": "code",
   "execution_count": null,
   "id": "55e5fd37",
   "metadata": {},
   "outputs": [],
   "source": []
  },
  {
   "cell_type": "code",
   "execution_count": null,
   "id": "31f0fe71",
   "metadata": {},
   "outputs": [],
   "source": []
  },
  {
   "cell_type": "code",
   "execution_count": null,
   "id": "584694e4",
   "metadata": {},
   "outputs": [],
   "source": []
  },
  {
   "cell_type": "code",
   "execution_count": null,
   "id": "3862706b",
   "metadata": {},
   "outputs": [],
   "source": []
  },
  {
   "cell_type": "code",
   "execution_count": null,
   "id": "5747378e",
   "metadata": {},
   "outputs": [],
   "source": []
  },
  {
   "cell_type": "code",
   "execution_count": null,
   "id": "eabe73b9",
   "metadata": {},
   "outputs": [],
   "source": []
  },
  {
   "cell_type": "code",
   "execution_count": null,
   "id": "473081c0",
   "metadata": {},
   "outputs": [],
   "source": []
  },
  {
   "cell_type": "code",
   "execution_count": null,
   "id": "0e0b925f",
   "metadata": {},
   "outputs": [],
   "source": []
  }
 ],
 "metadata": {
  "kernelspec": {
   "display_name": "Python 3 (ipykernel)",
   "language": "python",
   "name": "python3"
  },
  "language_info": {
   "codemirror_mode": {
    "name": "ipython",
    "version": 3
   },
   "file_extension": ".py",
   "mimetype": "text/x-python",
   "name": "python",
   "nbconvert_exporter": "python",
   "pygments_lexer": "ipython3",
   "version": "3.9.7"
  }
 },
 "nbformat": 4,
 "nbformat_minor": 5
}
