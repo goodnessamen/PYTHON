{
 "cells": [
  {
   "cell_type": "markdown",
   "id": "16340587",
   "metadata": {},
   "source": [
    "### QUANT UNIVERSITY - APPLIED DATA SCIENCE LAB ###"
   ]
  },
  {
   "cell_type": "markdown",
   "id": "429d1c85",
   "metadata": {},
   "source": [
    "### Python 011 ###"
   ]
  },
  {
   "cell_type": "markdown",
   "id": "09bca776",
   "metadata": {},
   "source": [
    "### Python: Getting Started ###"
   ]
  },
  {
   "cell_type": "code",
   "execution_count": null,
   "id": "e334f23e",
   "metadata": {},
   "outputs": [],
   "source": [
    "Simple Calculations\n",
    "In addition to all the more complex things you can do in Python, \n",
    "it is also useful for completing simple mathematical operations."
   ]
  },
  {
   "cell_type": "markdown",
   "id": "c000c689",
   "metadata": {},
   "source": [
    "### Addition and Subtraction ###\n",
    "\n",
    "Add numbers together like this:"
   ]
  },
  {
   "cell_type": "code",
   "execution_count": 6,
   "id": "01af7f08",
   "metadata": {},
   "outputs": [
    {
     "data": {
      "text/plain": [
       "2"
      ]
     },
     "execution_count": 6,
     "metadata": {},
     "output_type": "execute_result"
    }
   ],
   "source": [
    "1 + 1"
   ]
  },
  {
   "cell_type": "code",
   "execution_count": null,
   "id": "978e4c67",
   "metadata": {},
   "outputs": [],
   "source": [
    "Notice that you don't need to include = in order to make the operation work."
   ]
  },
  {
   "cell_type": "code",
   "execution_count": null,
   "id": "3b0721bb",
   "metadata": {},
   "outputs": [],
   "source": [
    "Subtract numbers like this:"
   ]
  },
  {
   "cell_type": "code",
   "execution_count": 7,
   "id": "7a5354df",
   "metadata": {},
   "outputs": [
    {
     "data": {
      "text/plain": [
       "1"
      ]
     },
     "execution_count": 7,
     "metadata": {},
     "output_type": "execute_result"
    }
   ],
   "source": [
    "2 - 1"
   ]
  },
  {
   "cell_type": "markdown",
   "id": "f27ba2ef",
   "metadata": {},
   "source": [
    "### Division ###\n",
    "\n",
    "Divide numbers like this:"
   ]
  },
  {
   "cell_type": "code",
   "execution_count": 8,
   "id": "74727b4d",
   "metadata": {},
   "outputs": [
    {
     "data": {
      "text/plain": [
       "2.0"
      ]
     },
     "execution_count": 8,
     "metadata": {},
     "output_type": "execute_result"
    }
   ],
   "source": [
    "4 / 2"
   ]
  },
  {
   "cell_type": "code",
   "execution_count": null,
   "id": "dbee2768",
   "metadata": {},
   "outputs": [],
   "source": [
    "Remember that Python will return an error if you try to divide by 0!"
   ]
  },
  {
   "cell_type": "code",
   "execution_count": null,
   "id": "f4c6b0ce",
   "metadata": {},
   "outputs": [],
   "source": [
    "Modulo Division\n",
    "\n",
    "Perform modulo division like this:"
   ]
  },
  {
   "cell_type": "code",
   "execution_count": 9,
   "id": "f6d8e2e6",
   "metadata": {},
   "outputs": [
    {
     "data": {
      "text/plain": [
       "1"
      ]
     },
     "execution_count": 9,
     "metadata": {},
     "output_type": "execute_result"
    }
   ],
   "source": [
    "5 % 2"
   ]
  },
  {
   "cell_type": "markdown",
   "id": "3f6f863e",
   "metadata": {},
   "source": [
    "### Multiplication ###\n",
    "\n",
    "Multiply numbers like this:"
   ]
  },
  {
   "cell_type": "code",
   "execution_count": 10,
   "id": "78db1a07",
   "metadata": {},
   "outputs": [
    {
     "data": {
      "text/plain": [
       "8"
      ]
     },
     "execution_count": 10,
     "metadata": {},
     "output_type": "execute_result"
    }
   ],
   "source": [
    "4 * 2"
   ]
  },
  {
   "cell_type": "markdown",
   "id": "d4bf30f0",
   "metadata": {},
   "source": [
    "### Exponential ###\n",
    "Add exponents to numbers like this:"
   ]
  },
  {
   "cell_type": "code",
   "execution_count": 12,
   "id": "e17027bd",
   "metadata": {},
   "outputs": [
    {
     "data": {
      "text/plain": [
       "16"
      ]
     },
     "execution_count": 12,
     "metadata": {},
     "output_type": "execute_result"
    }
   ],
   "source": [
    "4**2"
   ]
  },
  {
   "cell_type": "markdown",
   "id": "8208419a",
   "metadata": {},
   "source": [
    "### Order of Operations - BODMAS ###"
   ]
  },
  {
   "cell_type": "code",
   "execution_count": null,
   "id": "63d648a6",
   "metadata": {},
   "outputs": [],
   "source": [
    "Just like everywhere else, Python works on a specific order of operations. That order is:\n",
    "\n",
    "Parentheses Exponents Multiplication Addition Subtraction"
   ]
  },
  {
   "cell_type": "code",
   "execution_count": null,
   "id": "721c17cb",
   "metadata": {},
   "outputs": [],
   "source": [
    "If you remember being taught PEMDAS, then this is the same thing! All the operations in Python work with levels of parentheses, so if you wanted to add two numbers together, and then add another number to the result, the code would look like this:\n"
   ]
  },
  {
   "cell_type": "code",
   "execution_count": 14,
   "id": "533fb170",
   "metadata": {},
   "outputs": [
    {
     "data": {
      "text/plain": [
       "14"
      ]
     },
     "execution_count": 14,
     "metadata": {},
     "output_type": "execute_result"
    }
   ],
   "source": [
    "(6 + 4) + 4"
   ]
  },
  {
   "cell_type": "code",
   "execution_count": null,
   "id": "c539324c",
   "metadata": {},
   "outputs": [],
   "source": [
    "Things get more complicated when we add more terms to the equation, but the principle remains the same: if you open a set of parentheses, make sure you close it too. Here's an example that uses all the PEMDAS possibilities:"
   ]
  },
  {
   "cell_type": "code",
   "execution_count": 13,
   "id": "d7a79e09",
   "metadata": {},
   "outputs": [
    {
     "data": {
      "text/plain": [
       "40.0"
      ]
     },
     "execution_count": 13,
     "metadata": {},
     "output_type": "execute_result"
    }
   ],
   "source": [
    "(((5**3 + 7) * 4) / 16 + 9 - 2)"
   ]
  },
  {
   "cell_type": "markdown",
   "id": "050ea4f0",
   "metadata": {},
   "source": [
    "### Data Types ###"
   ]
  },
  {
   "cell_type": "code",
   "execution_count": null,
   "id": "646eebf2",
   "metadata": {},
   "outputs": [],
   "source": [
    "There are lots of different types of data in the world, and Python groups that data into several categories.\n",
    "\n",
    "Boolean (bool):\n",
    "\n",
    "Any data which can be expressed as either True or False.\n",
    "Used when comparing two values. For example, if you enter 10 > 9, Python will return True.\n",
    "String (str):\n",
    "\n",
    "Data that involves text — either letters, numbers, or special characters.\n",
    "Strings are enclosed in either single- or double-quotation marks: \"string-1\" or 'string-2'.\n",
    "Numeric (int, float, complex):\n",
    "\n",
    "Data that can be expressed numerically.\n",
    "An integer, or int, is a whole number, positive or negative, without decimals, of unlimited length: 123.\n",
    "A floating-point number, or float, is a number, positive or negative, containing one or more decimals: 123.01.\n",
    "A complex number, or complex, are imaginary numbers, designated by a j: (3 + 6j).\n",
    "Sequence (list, tuple, set):\n",
    "\n",
    "Data that is a collection of discrete items.\n",
    "A list is collection that is ordered and changeable. It's designated using square brackets [], and items can be of different data types: [\"red\", 1, 1.03, 1].\n",
    "A tuple is a collection which is ordered and unchangeable. It's designated using parentheses (): (\"red\", 1, 1.03, 1).\n",
    "A set is a collection which is unordered, unchangeable, and does not permit duplicate items. It's designated using curly brackets {}: {\"red\", 1, 1.03}."
   ]
  },
  {
   "cell_type": "markdown",
   "id": "7c340078",
   "metadata": {},
   "source": [
    "### Mapping (dict): ###"
   ]
  },
  {
   "cell_type": "code",
   "execution_count": null,
   "id": "2ee2b335",
   "metadata": {},
   "outputs": [],
   "source": [
    "Dictionaries store data in key-value pairs. They're designated using curly brackets {}, like a set, \n",
    "but notice that keys and values are associated with each other using a colon :. \n",
    "    Each pair is separated from the next using a comma ,.\n",
    "dict1 = {\n",
    "    \"department\": \"quindio\", \n",
    "    \"property_type\": \"house\", \n",
    "    \"price_usd\": 330899.98\n",
    "}"
   ]
  },
  {
   "cell_type": "markdown",
   "id": "f8fd8ea2",
   "metadata": {},
   "source": [
    "### Lists ###"
   ]
  },
  {
   "cell_type": "code",
   "execution_count": null,
   "id": "d356f52a",
   "metadata": {},
   "outputs": [],
   "source": [
    "Lists\n",
    "In Python, a list is a collection of data that stores multiple items in a single variable. \n",
    "These items must be ordered, able to be changed, and can be duplicated. A list can store data of multiple types; \n",
    "not all the items in the list need to be the same type."
   ]
  },
  {
   "cell_type": "markdown",
   "id": "58b537c1",
   "metadata": {},
   "source": [
    "### CREATING A LIST ###"
   ]
  },
  {
   "cell_type": "code",
   "execution_count": 1,
   "id": "29cf75c1",
   "metadata": {},
   "outputs": [
    {
     "name": "stdout",
     "output_type": "stream",
     "text": [
      "[97919.38, 300511.2, 293758.14]\n"
     ]
    }
   ],
   "source": [
    "price_usd = [97919.38, 300511.20, 293758.14]\n",
    "print(price_usd)"
   ]
  },
  {
   "cell_type": "markdown",
   "id": "153411ed",
   "metadata": {},
   "source": [
    "### Working with Lists ###"
   ]
  },
  {
   "cell_type": "code",
   "execution_count": null,
   "id": "2c7ad39d",
   "metadata": {},
   "outputs": [],
   "source": [
    "After you've created a list, you can access any item on the list by referring to the item's index number. \n",
    "Keep in mind that in Python, the first item in a list is always 0.\n",
    "\n",
    "Let's access the second item of our price_usd list.\n",
    "\n",
    "print(price_usd[1])"
   ]
  },
  {
   "cell_type": "code",
   "execution_count": 2,
   "id": "fdfdeabf",
   "metadata": {},
   "outputs": [
    {
     "name": "stdout",
     "output_type": "stream",
     "text": [
      "300511.2\n"
     ]
    }
   ],
   "source": [
    "print(price_usd[1])"
   ]
  },
  {
   "cell_type": "code",
   "execution_count": 3,
   "id": "39556e87",
   "metadata": {},
   "outputs": [
    {
     "name": "stdout",
     "output_type": "stream",
     "text": [
      "293758.14\n"
     ]
    }
   ],
   "source": [
    "print(price_usd[-1])"
   ]
  },
  {
   "cell_type": "code",
   "execution_count": 4,
   "id": "2affeb8f",
   "metadata": {},
   "outputs": [
    {
     "name": "stdout",
     "output_type": "stream",
     "text": [
      "293758.14\n"
     ]
    }
   ],
   "source": [
    "print(price_usd[2])"
   ]
  },
  {
   "cell_type": "code",
   "execution_count": null,
   "id": "6baf2414",
   "metadata": {},
   "outputs": [],
   "source": [
    "## Practice ##\n",
    "\n",
    "Try it yourself! Create and print a list that shows the area of the houses, called area_m2. \n",
    "Include the items 187.0, 82.0, and 235.0."
   ]
  },
  {
   "cell_type": "code",
   "execution_count": 5,
   "id": "a292c35f",
   "metadata": {},
   "outputs": [
    {
     "name": "stdout",
     "output_type": "stream",
     "text": [
      "[187.0, 82.0, 235.0]\n"
     ]
    }
   ],
   "source": [
    "area_m2 = [187.0, 82.0, 235.0]\n",
    "print(area_m2)"
   ]
  },
  {
   "cell_type": "markdown",
   "id": "9d144dbf",
   "metadata": {},
   "source": [
    "### NEGATIVE INDEXING  ###"
   ]
  },
  {
   "cell_type": "code",
   "execution_count": null,
   "id": "4cb9a124",
   "metadata": {},
   "outputs": [],
   "source": [
    "If we want to access the an item at the end of the list, we can use negative indexing. \n",
    "In negative indexing, -1 refers to the last item, -2 to the second to last, and so on.\n",
    "\n",
    "Let's access the last item in our department list.\n",
    "\n",
    "print(price_usd[-1])\n",
    "Practice\n",
    "\n",
    "Try accessing the second item in your area_m2 list.\n",
    "\n",
    "​\n",
    "Try accessing the last item in the same list.\n",
    "\n",
    "​"
   ]
  },
  {
   "cell_type": "code",
   "execution_count": 7,
   "id": "0c049298",
   "metadata": {},
   "outputs": [
    {
     "name": "stdout",
     "output_type": "stream",
     "text": [
      "300511.2\n"
     ]
    }
   ],
   "source": [
    "price_usd = [97919.38, 300511.20, 293758.14]  ## accessing the second item in your area_m2 list.##\n",
    "print(price_usd[-2])"
   ]
  },
  {
   "cell_type": "code",
   "execution_count": 8,
   "id": "5455b1f7",
   "metadata": {},
   "outputs": [
    {
     "name": "stdout",
     "output_type": "stream",
     "text": [
      "293758.14\n"
     ]
    }
   ],
   "source": [
    "price_usd = [97919.38, 300511.20, 293758.14]  ## accessing the last item in the same list ##\n",
    "print(price_usd[-1])"
   ]
  },
  {
   "cell_type": "markdown",
   "id": "0cdfe63e",
   "metadata": {},
   "source": [
    "### Aggregating Items ###"
   ]
  },
  {
   "cell_type": "code",
   "execution_count": null,
   "id": "b5f0b7d8",
   "metadata": {},
   "outputs": [],
   "source": [
    "### Practice ### \n",
    "\n",
    "Try it yourself! Calculate the total area of the houses on your area_m2 list, and find the average area of all the houses\n",
    "on the list.\n",
    "\n",
    "total_area_m2 = ...\n",
    "print(total_area_m2)\n",
    "average_area_m2 = ...\n",
    "print(average_area_m2)"
   ]
  },
  {
   "cell_type": "code",
   "execution_count": null,
   "id": "9bbf3ba0",
   "metadata": {},
   "outputs": [],
   "source": [
    "We can also aggregate items on a list to make analyzing the list more useful. \n",
    "For example, if we wanted to know the total value in US dollars of the houses on our price_usd list, \n",
    "we could use the sum method.\n",
    "\n",
    "total_usd = sum(price_usd)\n",
    "We might also be interested in the average value in US dollars of the houses on the same list. To find the average, we add the len method to the sum method.\n",
    "\n",
    "average_usd = sum(price_usd) / len(price_usd)\n",
    "Practice\n",
    "\n",
    "Try it yourself! Calculate the total area of the houses on your area_m2 list, and find the average area of all the houses on the list."
   ]
  },
  {
   "cell_type": "code",
   "execution_count": 25,
   "id": "32c4c2d9",
   "metadata": {},
   "outputs": [],
   "source": [
    "total_usd = sum(price_usd)\n",
    "average_usd = sum(price_usd) / len(price_usd)"
   ]
  },
  {
   "cell_type": "code",
   "execution_count": 17,
   "id": "78c71ac8",
   "metadata": {},
   "outputs": [],
   "source": [
    "area_m2 = [187.0, 82.0, 235.0]"
   ]
  },
  {
   "cell_type": "code",
   "execution_count": 22,
   "id": "0bb94095",
   "metadata": {},
   "outputs": [
    {
     "name": "stdout",
     "output_type": "stream",
     "text": [
      "504.0\n"
     ]
    }
   ],
   "source": [
    "area_m2 = [187.0, 82.0, 235.0]\n",
    "total_area_m2 = sum(area_m2)\n",
    "print(total_area_m2)"
   ]
  },
  {
   "cell_type": "code",
   "execution_count": 21,
   "id": "bce24779",
   "metadata": {},
   "outputs": [
    {
     "name": "stdout",
     "output_type": "stream",
     "text": [
      "168.0\n"
     ]
    }
   ],
   "source": [
    "area_m2 = [187.0, 82.0, 235.0]\n",
    "average_area_m2 = sum(area_m2) / len(area_m2)\n",
    "print(average_area_m2)"
   ]
  },
  {
   "cell_type": "code",
   "execution_count": 13,
   "id": "be832dbf",
   "metadata": {},
   "outputs": [],
   "source": [
    "my_list = [1,2,3]\n",
    "Total_my_list = sum(my_list)"
   ]
  },
  {
   "cell_type": "markdown",
   "id": "6bbc2c9f",
   "metadata": {},
   "source": [
    "### Python for Loops ###"
   ]
  },
  {
   "cell_type": "code",
   "execution_count": null,
   "id": "dad401c7",
   "metadata": {},
   "outputs": [],
   "source": [
    "\n",
    "A for Loop is used for executing a set of statements for each item in a list.\n",
    "\n",
    "Working with for Loops\n",
    "There can be as many statements as there are items in the list, but to keep things manageable, let's use our list of real estate values in Colombia."
   ]
  },
  {
   "cell_type": "code",
   "execution_count": 2,
   "id": "a419d181",
   "metadata": {},
   "outputs": [
    {
     "name": "stdout",
     "output_type": "stream",
     "text": [
      "[97919.38, 300511.2, 293758.14, 540244.86]\n"
     ]
    }
   ],
   "source": [
    "price_usd = [97919.38, 300511.20, 293758.14, 540244.86]\n",
    "print(price_usd)"
   ]
  },
  {
   "cell_type": "code",
   "execution_count": null,
   "id": "a167441c",
   "metadata": {},
   "outputs": [],
   "source": [
    "We might want to see each of the values in the list, so we insert a for Loop:"
   ]
  },
  {
   "cell_type": "code",
   "execution_count": 4,
   "id": "8cee7570",
   "metadata": {},
   "outputs": [
    {
     "name": "stdout",
     "output_type": "stream",
     "text": [
      "97919.38\n",
      "300511.2\n",
      "293758.14\n",
      "540244.86\n"
     ]
    }
   ],
   "source": [
    "price_usd = [97919.38, 300511.20, 293758.14, 540244.86]\n",
    "for x in price_usd:\n",
    "    print(x)"
   ]
  },
  {
   "cell_type": "code",
   "execution_count": null,
   "id": "f2bb3b89",
   "metadata": {},
   "outputs": [],
   "source": [
    "Note that the print command is indented.\n",
    "\n",
    "Practice\n",
    "\n",
    "Try it yourself using the area_m2 list:"
   ]
  },
  {
   "cell_type": "code",
   "execution_count": null,
   "id": "e31444b1",
   "metadata": {},
   "outputs": [],
   "source": [
    "In Python, a dictionary is a collection of data that occurs in an order, is able to be changed, and does not allow duplicates. \n",
    "Data in a dictionary are always presented as keys and values, and those key-value pairs cannot be duplicated in the dataset.\n",
    "\n",
    "Creating Dictionaries\n",
    "Dictionaries can be as big or as small as you like. \n",
    "Let's create a small dictionary based on data from the Colombian real estate market to give us something to work with.\n",
    "\n",
    "Dictionaries are written with curly brackets, with key-value pairs inside. Code for a small dictionary looks like this:"
   ]
  },
  {
   "cell_type": "code",
   "execution_count": 54,
   "id": "6336fe61",
   "metadata": {},
   "outputs": [],
   "source": [
    "colomdict = {\n",
    "    \"property_type\": \"house\",\n",
    "    \"department\": \"quindio\",\n",
    "    \"area\": 235.0,\n",
    "}"
   ]
  },
  {
   "cell_type": "code",
   "execution_count": 33,
   "id": "336655ab",
   "metadata": {},
   "outputs": [
    {
     "name": "stdout",
     "output_type": "stream",
     "text": [
      "{'property_type': 'house', 'department': 'quindio', 'area': 235.0}\n"
     ]
    }
   ],
   "source": [
    "print(colomdict)"
   ]
  },
  {
   "cell_type": "code",
   "execution_count": null,
   "id": "36ad4ab5",
   "metadata": {},
   "outputs": [],
   "source": [
    "Practice\n",
    "\n",
    "Try it yourself! \n",
    "Create and print a dictionary called bogota with the key-value pairs \"price_usd\": 121,555.09, \"area_m2\": 82.0, and \"property_type\": \"house\""
   ]
  },
  {
   "cell_type": "code",
   "execution_count": 57,
   "id": "85e24358",
   "metadata": {},
   "outputs": [],
   "source": [
    "bogota = {\n",
    "          \"price_usd\": \"121,555.09\",\n",
    "          \"area_m2\": 82.0, \n",
    "          \"property_type\": \"house\"\n",
    "         }"
   ]
  },
  {
   "cell_type": "code",
   "execution_count": 59,
   "id": "bdde1666",
   "metadata": {},
   "outputs": [
    {
     "name": "stdout",
     "output_type": "stream",
     "text": [
      "{'price_usd': '121,555.09', 'area_m2': 82.0, 'property_type': 'house'}\n"
     ]
    }
   ],
   "source": [
    "print(bogota)"
   ]
  },
  {
   "cell_type": "code",
   "execution_count": null,
   "id": "7760fcd6",
   "metadata": {},
   "outputs": [],
   "source": [
    "bogota = {\n",
    "          \"price_usd\": 121,555.09,\n",
    "          \"area_m2\": 82.0, \n",
    "          \"property_type\": \"house\"\n",
    "         }"
   ]
  },
  {
   "cell_type": "code",
   "execution_count": 58,
   "id": "bca740a0",
   "metadata": {},
   "outputs": [
    {
     "name": "stdout",
     "output_type": "stream",
     "text": [
      "{'price_usd': '121,555.09', 'area_m2': 82.0, 'property_type': 'house'}\n"
     ]
    }
   ],
   "source": [
    "print(bogota)"
   ]
  },
  {
   "cell_type": "code",
   "execution_count": 42,
   "id": "30279e0e",
   "metadata": {},
   "outputs": [
    {
     "ename": "SyntaxError",
     "evalue": "invalid syntax (Temp/ipykernel_18340/1642667664.py, line 3)",
     "output_type": "error",
     "traceback": [
      "\u001b[1;36m  File \u001b[1;32m\"C:\\Users\\HP\\AppData\\Local\\Temp/ipykernel_18340/1642667664.py\"\u001b[1;36m, line \u001b[1;32m3\u001b[0m\n\u001b[1;33m    \"price_usd\": 121,555.09,\u001b[0m\n\u001b[1;37m                           ^\u001b[0m\n\u001b[1;31mSyntaxError\u001b[0m\u001b[1;31m:\u001b[0m invalid syntax\n"
     ]
    }
   ],
   "source": [
    "bogota = {\n",
    "    \"property_type\": \"house\",\n",
    "    \"price_usd\": 121,555.09,\n",
    "    \"area_m2\": 82.0,\n",
    "}"
   ]
  },
  {
   "cell_type": "markdown",
   "id": "420719a1",
   "metadata": {},
   "source": [
    "### Working with Dictionaries ###"
   ]
  },
  {
   "cell_type": "code",
   "execution_count": null,
   "id": "dc61c58b",
   "metadata": {},
   "outputs": [],
   "source": [
    "After you've created a dictionary, you can access any item by using its key name inside square brackets.\n",
    "\n",
    "Going back to our example dictionary, let's access the value for \"department\"."
   ]
  },
  {
   "cell_type": "code",
   "execution_count": 43,
   "id": "ca920a39",
   "metadata": {},
   "outputs": [],
   "source": [
    "colomdict = {\n",
    "    \"property_type\": \"house\",\n",
    "    \"department\": \"quindio\",\n",
    "    \"area\": 235.0,\n",
    "}"
   ]
  },
  {
   "cell_type": "code",
   "execution_count": 39,
   "id": "75c8a2df",
   "metadata": {},
   "outputs": [
    {
     "name": "stdout",
     "output_type": "stream",
     "text": [
      "{'property_type': 'house', 'department': 'quindio', 'area': 235.0}\n"
     ]
    }
   ],
   "source": [
    "print(colomdict)"
   ]
  },
  {
   "cell_type": "code",
   "execution_count": 38,
   "id": "7fcd9b55",
   "metadata": {},
   "outputs": [
    {
     "name": "stdout",
     "output_type": "stream",
     "text": [
      "quindio\n"
     ]
    }
   ],
   "source": [
    "x = colomdict[\"department\"]\n",
    "print(x)"
   ]
  },
  {
   "cell_type": "code",
   "execution_count": 41,
   "id": "d34e9096",
   "metadata": {},
   "outputs": [
    {
     "name": "stdout",
     "output_type": "stream",
     "text": [
      "house\n"
     ]
    }
   ],
   "source": [
    "y = colomdict[\"property_type\"]\n",
    "print(y)"
   ]
  },
  {
   "cell_type": "code",
   "execution_count": 44,
   "id": "3dfa9637",
   "metadata": {},
   "outputs": [
    {
     "name": "stdout",
     "output_type": "stream",
     "text": [
      "235.0\n"
     ]
    }
   ],
   "source": [
    "z = colomdict[\"area\"]\n",
    "print(z)"
   ]
  },
  {
   "cell_type": "markdown",
   "id": "79d452d0",
   "metadata": {},
   "source": [
    "### Dictionary Keys ###"
   ]
  },
  {
   "cell_type": "code",
   "execution_count": null,
   "id": "364cb0f5",
   "metadata": {},
   "outputs": [],
   "source": [
    "Sometimes you want to know what the keys are in the dictionary, or you want to iterate through the dictionary. In such cases, you need to write code to access all keys in a dictionary by utilizing the keys method:\n",
    "\n",
    "colomdict.keys()\n",
    "If you need to use the keys in a list, you can transform the output:\n",
    "\n",
    "list(colomdict.keys())\n",
    "You can also iterate though colomdict.keys() without converting it to a list:\n",
    "\n",
    "for k in colomdict.keys():\n",
    "    print(k)\n",
    "Practice\n",
    "\n",
    "print the value of each key in the colomdict dictionary\n",
    "\n",
    "​"
   ]
  },
  {
   "cell_type": "code",
   "execution_count": 45,
   "id": "5e6d7838",
   "metadata": {},
   "outputs": [
    {
     "data": {
      "text/plain": [
       "dict_keys(['property_type', 'department', 'area'])"
      ]
     },
     "execution_count": 45,
     "metadata": {},
     "output_type": "execute_result"
    }
   ],
   "source": [
    "colomdict.keys()"
   ]
  },
  {
   "cell_type": "code",
   "execution_count": 46,
   "id": "4dfee9d3",
   "metadata": {},
   "outputs": [
    {
     "data": {
      "text/plain": [
       "['property_type', 'department', 'area']"
      ]
     },
     "execution_count": 46,
     "metadata": {},
     "output_type": "execute_result"
    }
   ],
   "source": [
    "list(colomdict.keys())"
   ]
  },
  {
   "cell_type": "markdown",
   "id": "0bcdf779",
   "metadata": {},
   "source": [
    "### JSON ###"
   ]
  },
  {
   "cell_type": "code",
   "execution_count": 63,
   "id": "b74aa348",
   "metadata": {},
   "outputs": [
    {
     "ename": "SyntaxError",
     "evalue": "invalid syntax (Temp/ipykernel_18340/694356881.py, line 1)",
     "output_type": "error",
     "traceback": [
      "\u001b[1;36m  File \u001b[1;32m\"C:\\Users\\HP\\AppData\\Local\\Temp/ipykernel_18340/694356881.py\"\u001b[1;36m, line \u001b[1;32m1\u001b[0m\n\u001b[1;33m    JSON stands for Java Script Object Notation, and it's a text format for storing and transporting data.\u001b[0m\n\u001b[1;37m         ^\u001b[0m\n\u001b[1;31mSyntaxError\u001b[0m\u001b[1;31m:\u001b[0m invalid syntax\n"
     ]
    }
   ],
   "source": [
    "JSON stands for Java Script Object Notation, and it's a text format for storing and transporting data.\n",
    "\n",
    "Working with JSON\n",
    "JSON works by creating key-value pairs, where the key is data that can be represented by letters (called a string). \n",
    "JSON values can be strings, numbers, objects, arrays, boolean data, or null. \n",
    "JSON usually comes as a list of dictionaries, which look like this:\n",
    "\n",
    "Here's an example from our colombia-real-estate-1 dataset with two key-value pairs that both include string values:"
   ]
  },
  {
   "cell_type": "code",
   "execution_count": 50,
   "id": "c005333e",
   "metadata": {},
   "outputs": [
    {
     "data": {
      "text/plain": [
       "[{'property_type': 'house', 'department': 'bogota'},\n",
       " {'property_type': 'house', 'department': 'bogota'},\n",
       " {'property_type': 'house', 'department': 'bogota'}]"
      ]
     },
     "execution_count": 50,
     "metadata": {},
     "output_type": "execute_result"
    }
   ],
   "source": [
    "[\n",
    "    {\"property_type\": \"house\", \"department\": \"bogota\"},\n",
    "    {\"property_type\": \"house\", \"department\": \"bogota\"},\n",
    "    {\"property_type\": \"house\", \"department\": \"bogota\"},\n",
    "]"
   ]
  },
  {
   "cell_type": "code",
   "execution_count": null,
   "id": "76888ec3",
   "metadata": {},
   "outputs": [],
   "source": [
    "Here's an simplified example from our colombia-real-estate-1 dataset with two key-value pairs that both include string values:"
   ]
  },
  {
   "cell_type": "code",
   "execution_count": 48,
   "id": "746312bf",
   "metadata": {},
   "outputs": [
    {
     "data": {
      "text/plain": [
       "{'property_type': 'house', 'department': 'bogota'}"
      ]
     },
     "execution_count": 48,
     "metadata": {},
     "output_type": "execute_result"
    }
   ],
   "source": [
    "{\"property_type\": \"house\", \"department\": \"bogota\"}"
   ]
  },
  {
   "cell_type": "code",
   "execution_count": 49,
   "id": "9ee66f5a",
   "metadata": {},
   "outputs": [
    {
     "data": {
      "text/plain": [
       "{'area_m2': 187.0, 'price_usd': 330899.98}"
      ]
     },
     "execution_count": 49,
     "metadata": {},
     "output_type": "execute_result"
    }
   ],
   "source": [
    "{\"area_m2\": 187.0, \"price_usd\": 330899.98}"
   ]
  },
  {
   "cell_type": "code",
   "execution_count": 51,
   "id": "75805bd4",
   "metadata": {},
   "outputs": [
    {
     "data": {
      "text/plain": [
       "{'property_type': 'house', 'price_usd': 330899.98}"
      ]
     },
     "execution_count": 51,
     "metadata": {},
     "output_type": "execute_result"
    }
   ],
   "source": [
    "{\"property_type\": \"house\", \"price_usd\": 330899.98}"
   ]
  },
  {
   "cell_type": "code",
   "execution_count": 60,
   "id": "30a235f9",
   "metadata": {},
   "outputs": [],
   "source": [
    "import pandas as pd"
   ]
  },
  {
   "cell_type": "code",
   "execution_count": null,
   "id": "623e1152",
   "metadata": {},
   "outputs": [],
   "source": [
    "df = pd.read_csv(\"mexico-real-estate-1.csv\")"
   ]
  },
  {
   "cell_type": "code",
   "execution_count": 64,
   "id": "f4cb04aa",
   "metadata": {},
   "outputs": [],
   "source": [
    "df = pd.read_csv(\"mexico_real_estate 01.txt\")"
   ]
  },
  {
   "cell_type": "code",
   "execution_count": 65,
   "id": "6d645e52",
   "metadata": {},
   "outputs": [
    {
     "data": {
      "text/html": [
       "<div>\n",
       "<style scoped>\n",
       "    .dataframe tbody tr th:only-of-type {\n",
       "        vertical-align: middle;\n",
       "    }\n",
       "\n",
       "    .dataframe tbody tr th {\n",
       "        vertical-align: top;\n",
       "    }\n",
       "\n",
       "    .dataframe thead th {\n",
       "        text-align: right;\n",
       "    }\n",
       "</style>\n",
       "<table border=\"1\" class=\"dataframe\">\n",
       "  <thead>\n",
       "    <tr style=\"text-align: right;\">\n",
       "      <th></th>\n",
       "      <th>property_type</th>\n",
       "      <th>state</th>\n",
       "      <th>lat</th>\n",
       "      <th>lon</th>\n",
       "      <th>area_m2</th>\n",
       "      <th>price_usd</th>\n",
       "    </tr>\n",
       "  </thead>\n",
       "  <tbody>\n",
       "    <tr>\n",
       "      <th>0</th>\n",
       "      <td>house</td>\n",
       "      <td>Estado de México</td>\n",
       "      <td>19.560181</td>\n",
       "      <td>-99.233528</td>\n",
       "      <td>150.0</td>\n",
       "      <td>$67,965.56</td>\n",
       "    </tr>\n",
       "    <tr>\n",
       "      <th>1</th>\n",
       "      <td>house</td>\n",
       "      <td>Nuevo León</td>\n",
       "      <td>25.688436</td>\n",
       "      <td>-100.198807</td>\n",
       "      <td>186.0</td>\n",
       "      <td>$63,223.78</td>\n",
       "    </tr>\n",
       "    <tr>\n",
       "      <th>2</th>\n",
       "      <td>apartment</td>\n",
       "      <td>Guerrero</td>\n",
       "      <td>16.767704</td>\n",
       "      <td>-99.764383</td>\n",
       "      <td>82.0</td>\n",
       "      <td>$84,298.37</td>\n",
       "    </tr>\n",
       "    <tr>\n",
       "      <th>3</th>\n",
       "      <td>apartment</td>\n",
       "      <td>Guerrero</td>\n",
       "      <td>16.829782</td>\n",
       "      <td>-99.911012</td>\n",
       "      <td>150.0</td>\n",
       "      <td>$94,308.80</td>\n",
       "    </tr>\n",
       "    <tr>\n",
       "      <th>4</th>\n",
       "      <td>house</td>\n",
       "      <td>Veracruz de Ignacio de la Llave</td>\n",
       "      <td>NaN</td>\n",
       "      <td>NaN</td>\n",
       "      <td>175.0</td>\n",
       "      <td>$94,835.67</td>\n",
       "    </tr>\n",
       "    <tr>\n",
       "      <th>...</th>\n",
       "      <td>...</td>\n",
       "      <td>...</td>\n",
       "      <td>...</td>\n",
       "      <td>...</td>\n",
       "      <td>...</td>\n",
       "      <td>...</td>\n",
       "    </tr>\n",
       "    <tr>\n",
       "      <th>695</th>\n",
       "      <td>house</td>\n",
       "      <td>Morelos</td>\n",
       "      <td>NaN</td>\n",
       "      <td>NaN</td>\n",
       "      <td>310.0</td>\n",
       "      <td>$237,089.17</td>\n",
       "    </tr>\n",
       "    <tr>\n",
       "      <th>696</th>\n",
       "      <td>house</td>\n",
       "      <td>Yucatán</td>\n",
       "      <td>21.050653</td>\n",
       "      <td>-89.558841</td>\n",
       "      <td>334.0</td>\n",
       "      <td>$137,017.34</td>\n",
       "    </tr>\n",
       "    <tr>\n",
       "      <th>697</th>\n",
       "      <td>house</td>\n",
       "      <td>Yucatán</td>\n",
       "      <td>21.343796</td>\n",
       "      <td>-89.262060</td>\n",
       "      <td>130.0</td>\n",
       "      <td>$110,404.35</td>\n",
       "    </tr>\n",
       "    <tr>\n",
       "      <th>698</th>\n",
       "      <td>apartment</td>\n",
       "      <td>Nuevo León</td>\n",
       "      <td>NaN</td>\n",
       "      <td>NaN</td>\n",
       "      <td>155.0</td>\n",
       "      <td>$184,446.42</td>\n",
       "    </tr>\n",
       "    <tr>\n",
       "      <th>699</th>\n",
       "      <td>house</td>\n",
       "      <td>Querétaro</td>\n",
       "      <td>20.587378</td>\n",
       "      <td>-100.418361</td>\n",
       "      <td>106.0</td>\n",
       "      <td>$56,637.97</td>\n",
       "    </tr>\n",
       "  </tbody>\n",
       "</table>\n",
       "<p>700 rows × 6 columns</p>\n",
       "</div>"
      ],
      "text/plain": [
       "    property_type                            state        lat         lon  \\\n",
       "0           house                 Estado de México  19.560181  -99.233528   \n",
       "1           house                       Nuevo León  25.688436 -100.198807   \n",
       "2       apartment                         Guerrero  16.767704  -99.764383   \n",
       "3       apartment                         Guerrero  16.829782  -99.911012   \n",
       "4           house  Veracruz de Ignacio de la Llave        NaN         NaN   \n",
       "..            ...                              ...        ...         ...   \n",
       "695         house                          Morelos        NaN         NaN   \n",
       "696         house                          Yucatán  21.050653  -89.558841   \n",
       "697         house                          Yucatán  21.343796  -89.262060   \n",
       "698     apartment                       Nuevo León        NaN         NaN   \n",
       "699         house                        Querétaro  20.587378 -100.418361   \n",
       "\n",
       "     area_m2    price_usd  \n",
       "0      150.0   $67,965.56  \n",
       "1      186.0   $63,223.78  \n",
       "2       82.0   $84,298.37  \n",
       "3      150.0   $94,308.80  \n",
       "4      175.0   $94,835.67  \n",
       "..       ...          ...  \n",
       "695    310.0  $237,089.17  \n",
       "696    334.0  $137,017.34  \n",
       "697    130.0  $110,404.35  \n",
       "698    155.0  $184,446.42  \n",
       "699    106.0   $56,637.97  \n",
       "\n",
       "[700 rows x 6 columns]"
      ]
     },
     "execution_count": 65,
     "metadata": {},
     "output_type": "execute_result"
    }
   ],
   "source": [
    "df"
   ]
  },
  {
   "cell_type": "code",
   "execution_count": 70,
   "id": "dd4a0cbf",
   "metadata": {},
   "outputs": [],
   "source": [
    "df2 = pd.read_csv(\"mexico-real-estate-2.txt\")"
   ]
  },
  {
   "cell_type": "code",
   "execution_count": 71,
   "id": "4c07dc68",
   "metadata": {},
   "outputs": [
    {
     "data": {
      "text/html": [
       "<div>\n",
       "<style scoped>\n",
       "    .dataframe tbody tr th:only-of-type {\n",
       "        vertical-align: middle;\n",
       "    }\n",
       "\n",
       "    .dataframe tbody tr th {\n",
       "        vertical-align: top;\n",
       "    }\n",
       "\n",
       "    .dataframe thead th {\n",
       "        text-align: right;\n",
       "    }\n",
       "</style>\n",
       "<table border=\"1\" class=\"dataframe\">\n",
       "  <thead>\n",
       "    <tr style=\"text-align: right;\">\n",
       "      <th></th>\n",
       "      <th>property_type</th>\n",
       "      <th>state</th>\n",
       "      <th>lat</th>\n",
       "      <th>lon</th>\n",
       "      <th>area_m2</th>\n",
       "      <th>price_mxn</th>\n",
       "    </tr>\n",
       "  </thead>\n",
       "  <tbody>\n",
       "    <tr>\n",
       "      <th>0</th>\n",
       "      <td>apartment</td>\n",
       "      <td>Nuevo León</td>\n",
       "      <td>25.721081</td>\n",
       "      <td>-100.345581</td>\n",
       "      <td>72.0</td>\n",
       "      <td>1300000.0</td>\n",
       "    </tr>\n",
       "    <tr>\n",
       "      <th>1</th>\n",
       "      <td>apartment</td>\n",
       "      <td>Puebla</td>\n",
       "      <td>NaN</td>\n",
       "      <td>NaN</td>\n",
       "      <td>190.0</td>\n",
       "      <td>2500000.0</td>\n",
       "    </tr>\n",
       "    <tr>\n",
       "      <th>2</th>\n",
       "      <td>house</td>\n",
       "      <td>Morelos</td>\n",
       "      <td>23.634501</td>\n",
       "      <td>-102.552788</td>\n",
       "      <td>360.0</td>\n",
       "      <td>5300000.0</td>\n",
       "    </tr>\n",
       "    <tr>\n",
       "      <th>3</th>\n",
       "      <td>house</td>\n",
       "      <td>Morelos</td>\n",
       "      <td>NaN</td>\n",
       "      <td>NaN</td>\n",
       "      <td>76.0</td>\n",
       "      <td>820000.0</td>\n",
       "    </tr>\n",
       "    <tr>\n",
       "      <th>4</th>\n",
       "      <td>house</td>\n",
       "      <td>Puebla</td>\n",
       "      <td>NaN</td>\n",
       "      <td>NaN</td>\n",
       "      <td>200.0</td>\n",
       "      <td>1100000.0</td>\n",
       "    </tr>\n",
       "    <tr>\n",
       "      <th>...</th>\n",
       "      <td>...</td>\n",
       "      <td>...</td>\n",
       "      <td>...</td>\n",
       "      <td>...</td>\n",
       "      <td>...</td>\n",
       "      <td>...</td>\n",
       "    </tr>\n",
       "    <tr>\n",
       "      <th>695</th>\n",
       "      <td>house</td>\n",
       "      <td>Morelos</td>\n",
       "      <td>18.917542</td>\n",
       "      <td>-98.963181</td>\n",
       "      <td>140.0</td>\n",
       "      <td>1450000.0</td>\n",
       "    </tr>\n",
       "    <tr>\n",
       "      <th>696</th>\n",
       "      <td>house</td>\n",
       "      <td>Distrito Federal</td>\n",
       "      <td>19.472128</td>\n",
       "      <td>-99.146697</td>\n",
       "      <td>190.0</td>\n",
       "      <td>1943000.0</td>\n",
       "    </tr>\n",
       "    <tr>\n",
       "      <th>697</th>\n",
       "      <td>house</td>\n",
       "      <td>Estado de México</td>\n",
       "      <td>19.234984</td>\n",
       "      <td>-99.558175</td>\n",
       "      <td>115.0</td>\n",
       "      <td>2100000.0</td>\n",
       "    </tr>\n",
       "    <tr>\n",
       "      <th>698</th>\n",
       "      <td>house</td>\n",
       "      <td>Puebla</td>\n",
       "      <td>18.918714</td>\n",
       "      <td>-98.426639</td>\n",
       "      <td>90.0</td>\n",
       "      <td>890000.0</td>\n",
       "    </tr>\n",
       "    <tr>\n",
       "      <th>699</th>\n",
       "      <td>house</td>\n",
       "      <td>Yucatán</td>\n",
       "      <td>21.075163</td>\n",
       "      <td>-89.516731</td>\n",
       "      <td>185.0</td>\n",
       "      <td>1695000.0</td>\n",
       "    </tr>\n",
       "  </tbody>\n",
       "</table>\n",
       "<p>700 rows × 6 columns</p>\n",
       "</div>"
      ],
      "text/plain": [
       "    property_type             state        lat         lon  area_m2  price_mxn\n",
       "0       apartment        Nuevo León  25.721081 -100.345581     72.0  1300000.0\n",
       "1       apartment            Puebla        NaN         NaN    190.0  2500000.0\n",
       "2           house           Morelos  23.634501 -102.552788    360.0  5300000.0\n",
       "3           house           Morelos        NaN         NaN     76.0   820000.0\n",
       "4           house            Puebla        NaN         NaN    200.0  1100000.0\n",
       "..            ...               ...        ...         ...      ...        ...\n",
       "695         house           Morelos  18.917542  -98.963181    140.0  1450000.0\n",
       "696         house  Distrito Federal  19.472128  -99.146697    190.0  1943000.0\n",
       "697         house  Estado de México  19.234984  -99.558175    115.0  2100000.0\n",
       "698         house            Puebla  18.918714  -98.426639     90.0   890000.0\n",
       "699         house           Yucatán  21.075163  -89.516731    185.0  1695000.0\n",
       "\n",
       "[700 rows x 6 columns]"
      ]
     },
     "execution_count": 71,
     "metadata": {},
     "output_type": "execute_result"
    }
   ],
   "source": [
    "df2"
   ]
  },
  {
   "cell_type": "code",
   "execution_count": 69,
   "id": "119a500d",
   "metadata": {},
   "outputs": [
    {
     "name": "stdout",
     "output_type": "stream",
     "text": [
      "<class 'pandas.core.frame.DataFrame'>\n",
      "RangeIndex: 700 entries, 0 to 699\n",
      "Data columns (total 6 columns):\n",
      " #   Column         Non-Null Count  Dtype  \n",
      "---  ------         --------------  -----  \n",
      " 0   property_type  700 non-null    object \n",
      " 1   state          700 non-null    object \n",
      " 2   lat            571 non-null    float64\n",
      " 3   lon            571 non-null    float64\n",
      " 4   area_m2        700 non-null    float64\n",
      " 5   price_mxn      700 non-null    float64\n",
      "dtypes: float64(4), object(2)\n",
      "memory usage: 32.9+ KB\n"
     ]
    }
   ],
   "source": [
    "df2.info()"
   ]
  },
  {
   "cell_type": "code",
   "execution_count": 73,
   "id": "68619be9",
   "metadata": {},
   "outputs": [
    {
     "data": {
      "text/plain": [
       "(700, 6)"
      ]
     },
     "execution_count": 73,
     "metadata": {},
     "output_type": "execute_result"
    }
   ],
   "source": [
    "df2.shape"
   ]
  },
  {
   "cell_type": "code",
   "execution_count": 74,
   "id": "5437a0fd",
   "metadata": {},
   "outputs": [
    {
     "data": {
      "text/html": [
       "<div>\n",
       "<style scoped>\n",
       "    .dataframe tbody tr th:only-of-type {\n",
       "        vertical-align: middle;\n",
       "    }\n",
       "\n",
       "    .dataframe tbody tr th {\n",
       "        vertical-align: top;\n",
       "    }\n",
       "\n",
       "    .dataframe thead th {\n",
       "        text-align: right;\n",
       "    }\n",
       "</style>\n",
       "<table border=\"1\" class=\"dataframe\">\n",
       "  <thead>\n",
       "    <tr style=\"text-align: right;\">\n",
       "      <th></th>\n",
       "      <th>property_type</th>\n",
       "      <th>state</th>\n",
       "      <th>lat</th>\n",
       "      <th>lon</th>\n",
       "      <th>area_m2</th>\n",
       "      <th>price_mxn</th>\n",
       "    </tr>\n",
       "  </thead>\n",
       "  <tbody>\n",
       "    <tr>\n",
       "      <th>0</th>\n",
       "      <td>apartment</td>\n",
       "      <td>Nuevo León</td>\n",
       "      <td>25.721081</td>\n",
       "      <td>-100.345581</td>\n",
       "      <td>72.0</td>\n",
       "      <td>1300000.0</td>\n",
       "    </tr>\n",
       "    <tr>\n",
       "      <th>1</th>\n",
       "      <td>apartment</td>\n",
       "      <td>Puebla</td>\n",
       "      <td>NaN</td>\n",
       "      <td>NaN</td>\n",
       "      <td>190.0</td>\n",
       "      <td>2500000.0</td>\n",
       "    </tr>\n",
       "    <tr>\n",
       "      <th>2</th>\n",
       "      <td>house</td>\n",
       "      <td>Morelos</td>\n",
       "      <td>23.634501</td>\n",
       "      <td>-102.552788</td>\n",
       "      <td>360.0</td>\n",
       "      <td>5300000.0</td>\n",
       "    </tr>\n",
       "    <tr>\n",
       "      <th>3</th>\n",
       "      <td>house</td>\n",
       "      <td>Morelos</td>\n",
       "      <td>NaN</td>\n",
       "      <td>NaN</td>\n",
       "      <td>76.0</td>\n",
       "      <td>820000.0</td>\n",
       "    </tr>\n",
       "    <tr>\n",
       "      <th>4</th>\n",
       "      <td>house</td>\n",
       "      <td>Puebla</td>\n",
       "      <td>NaN</td>\n",
       "      <td>NaN</td>\n",
       "      <td>200.0</td>\n",
       "      <td>1100000.0</td>\n",
       "    </tr>\n",
       "  </tbody>\n",
       "</table>\n",
       "</div>"
      ],
      "text/plain": [
       "  property_type       state        lat         lon  area_m2  price_mxn\n",
       "0     apartment  Nuevo León  25.721081 -100.345581     72.0  1300000.0\n",
       "1     apartment      Puebla        NaN         NaN    190.0  2500000.0\n",
       "2         house     Morelos  23.634501 -102.552788    360.0  5300000.0\n",
       "3         house     Morelos        NaN         NaN     76.0   820000.0\n",
       "4         house      Puebla        NaN         NaN    200.0  1100000.0"
      ]
     },
     "execution_count": 74,
     "metadata": {},
     "output_type": "execute_result"
    }
   ],
   "source": [
    "df2.head()"
   ]
  },
  {
   "cell_type": "code",
   "execution_count": 75,
   "id": "e3671129",
   "metadata": {},
   "outputs": [
    {
     "data": {
      "text/html": [
       "<div>\n",
       "<style scoped>\n",
       "    .dataframe tbody tr th:only-of-type {\n",
       "        vertical-align: middle;\n",
       "    }\n",
       "\n",
       "    .dataframe tbody tr th {\n",
       "        vertical-align: top;\n",
       "    }\n",
       "\n",
       "    .dataframe thead th {\n",
       "        text-align: right;\n",
       "    }\n",
       "</style>\n",
       "<table border=\"1\" class=\"dataframe\">\n",
       "  <thead>\n",
       "    <tr style=\"text-align: right;\">\n",
       "      <th></th>\n",
       "      <th>property_type</th>\n",
       "      <th>state</th>\n",
       "      <th>lat</th>\n",
       "      <th>lon</th>\n",
       "      <th>area_m2</th>\n",
       "      <th>price_mxn</th>\n",
       "    </tr>\n",
       "  </thead>\n",
       "  <tbody>\n",
       "    <tr>\n",
       "      <th>0</th>\n",
       "      <td>apartment</td>\n",
       "      <td>Nuevo León</td>\n",
       "      <td>25.721081</td>\n",
       "      <td>-100.345581</td>\n",
       "      <td>72.0</td>\n",
       "      <td>1300000.0</td>\n",
       "    </tr>\n",
       "    <tr>\n",
       "      <th>1</th>\n",
       "      <td>apartment</td>\n",
       "      <td>Puebla</td>\n",
       "      <td>NaN</td>\n",
       "      <td>NaN</td>\n",
       "      <td>190.0</td>\n",
       "      <td>2500000.0</td>\n",
       "    </tr>\n",
       "    <tr>\n",
       "      <th>2</th>\n",
       "      <td>house</td>\n",
       "      <td>Morelos</td>\n",
       "      <td>23.634501</td>\n",
       "      <td>-102.552788</td>\n",
       "      <td>360.0</td>\n",
       "      <td>5300000.0</td>\n",
       "    </tr>\n",
       "    <tr>\n",
       "      <th>3</th>\n",
       "      <td>house</td>\n",
       "      <td>Morelos</td>\n",
       "      <td>NaN</td>\n",
       "      <td>NaN</td>\n",
       "      <td>76.0</td>\n",
       "      <td>820000.0</td>\n",
       "    </tr>\n",
       "    <tr>\n",
       "      <th>4</th>\n",
       "      <td>house</td>\n",
       "      <td>Puebla</td>\n",
       "      <td>NaN</td>\n",
       "      <td>NaN</td>\n",
       "      <td>200.0</td>\n",
       "      <td>1100000.0</td>\n",
       "    </tr>\n",
       "    <tr>\n",
       "      <th>5</th>\n",
       "      <td>house</td>\n",
       "      <td>San Luis Potosí</td>\n",
       "      <td>NaN</td>\n",
       "      <td>NaN</td>\n",
       "      <td>162.0</td>\n",
       "      <td>1860000.0</td>\n",
       "    </tr>\n",
       "    <tr>\n",
       "      <th>6</th>\n",
       "      <td>apartment</td>\n",
       "      <td>Estado de México</td>\n",
       "      <td>19.272040</td>\n",
       "      <td>-99.572013</td>\n",
       "      <td>85.0</td>\n",
       "      <td>1250000.0</td>\n",
       "    </tr>\n",
       "    <tr>\n",
       "      <th>7</th>\n",
       "      <td>house</td>\n",
       "      <td>San Luis Potosí</td>\n",
       "      <td>22.138882</td>\n",
       "      <td>-100.996510</td>\n",
       "      <td>158.0</td>\n",
       "      <td>2120000.0</td>\n",
       "    </tr>\n",
       "    <tr>\n",
       "      <th>8</th>\n",
       "      <td>apartment</td>\n",
       "      <td>Distrito Federal</td>\n",
       "      <td>19.394558</td>\n",
       "      <td>-99.129707</td>\n",
       "      <td>65.0</td>\n",
       "      <td>758190.0</td>\n",
       "    </tr>\n",
       "    <tr>\n",
       "      <th>9</th>\n",
       "      <td>house</td>\n",
       "      <td>Morelos</td>\n",
       "      <td>NaN</td>\n",
       "      <td>NaN</td>\n",
       "      <td>216.0</td>\n",
       "      <td>2750000.0</td>\n",
       "    </tr>\n",
       "  </tbody>\n",
       "</table>\n",
       "</div>"
      ],
      "text/plain": [
       "  property_type             state        lat         lon  area_m2  price_mxn\n",
       "0     apartment        Nuevo León  25.721081 -100.345581     72.0  1300000.0\n",
       "1     apartment            Puebla        NaN         NaN    190.0  2500000.0\n",
       "2         house           Morelos  23.634501 -102.552788    360.0  5300000.0\n",
       "3         house           Morelos        NaN         NaN     76.0   820000.0\n",
       "4         house            Puebla        NaN         NaN    200.0  1100000.0\n",
       "5         house   San Luis Potosí        NaN         NaN    162.0  1860000.0\n",
       "6     apartment  Estado de México  19.272040  -99.572013     85.0  1250000.0\n",
       "7         house   San Luis Potosí  22.138882 -100.996510    158.0  2120000.0\n",
       "8     apartment  Distrito Federal  19.394558  -99.129707     65.0   758190.0\n",
       "9         house           Morelos        NaN         NaN    216.0  2750000.0"
      ]
     },
     "execution_count": 75,
     "metadata": {},
     "output_type": "execute_result"
    }
   ],
   "source": [
    "df2.head(10)"
   ]
  },
  {
   "cell_type": "code",
   "execution_count": 76,
   "id": "c8bf64cd",
   "metadata": {},
   "outputs": [
    {
     "data": {
      "text/html": [
       "<div>\n",
       "<style scoped>\n",
       "    .dataframe tbody tr th:only-of-type {\n",
       "        vertical-align: middle;\n",
       "    }\n",
       "\n",
       "    .dataframe tbody tr th {\n",
       "        vertical-align: top;\n",
       "    }\n",
       "\n",
       "    .dataframe thead th {\n",
       "        text-align: right;\n",
       "    }\n",
       "</style>\n",
       "<table border=\"1\" class=\"dataframe\">\n",
       "  <thead>\n",
       "    <tr style=\"text-align: right;\">\n",
       "      <th></th>\n",
       "      <th>property_type</th>\n",
       "      <th>state</th>\n",
       "      <th>lat</th>\n",
       "      <th>lon</th>\n",
       "      <th>area_m2</th>\n",
       "      <th>price_mxn</th>\n",
       "    </tr>\n",
       "  </thead>\n",
       "  <tbody>\n",
       "    <tr>\n",
       "      <th>695</th>\n",
       "      <td>house</td>\n",
       "      <td>Morelos</td>\n",
       "      <td>18.917542</td>\n",
       "      <td>-98.963181</td>\n",
       "      <td>140.0</td>\n",
       "      <td>1450000.0</td>\n",
       "    </tr>\n",
       "    <tr>\n",
       "      <th>696</th>\n",
       "      <td>house</td>\n",
       "      <td>Distrito Federal</td>\n",
       "      <td>19.472128</td>\n",
       "      <td>-99.146697</td>\n",
       "      <td>190.0</td>\n",
       "      <td>1943000.0</td>\n",
       "    </tr>\n",
       "    <tr>\n",
       "      <th>697</th>\n",
       "      <td>house</td>\n",
       "      <td>Estado de México</td>\n",
       "      <td>19.234984</td>\n",
       "      <td>-99.558175</td>\n",
       "      <td>115.0</td>\n",
       "      <td>2100000.0</td>\n",
       "    </tr>\n",
       "    <tr>\n",
       "      <th>698</th>\n",
       "      <td>house</td>\n",
       "      <td>Puebla</td>\n",
       "      <td>18.918714</td>\n",
       "      <td>-98.426639</td>\n",
       "      <td>90.0</td>\n",
       "      <td>890000.0</td>\n",
       "    </tr>\n",
       "    <tr>\n",
       "      <th>699</th>\n",
       "      <td>house</td>\n",
       "      <td>Yucatán</td>\n",
       "      <td>21.075163</td>\n",
       "      <td>-89.516731</td>\n",
       "      <td>185.0</td>\n",
       "      <td>1695000.0</td>\n",
       "    </tr>\n",
       "  </tbody>\n",
       "</table>\n",
       "</div>"
      ],
      "text/plain": [
       "    property_type             state        lat        lon  area_m2  price_mxn\n",
       "695         house           Morelos  18.917542 -98.963181    140.0  1450000.0\n",
       "696         house  Distrito Federal  19.472128 -99.146697    190.0  1943000.0\n",
       "697         house  Estado de México  19.234984 -99.558175    115.0  2100000.0\n",
       "698         house            Puebla  18.918714 -98.426639     90.0   890000.0\n",
       "699         house           Yucatán  21.075163 -89.516731    185.0  1695000.0"
      ]
     },
     "execution_count": 76,
     "metadata": {},
     "output_type": "execute_result"
    }
   ],
   "source": [
    "df2.tail()"
   ]
  },
  {
   "cell_type": "code",
   "execution_count": 77,
   "id": "45c35783",
   "metadata": {},
   "outputs": [
    {
     "data": {
      "text/html": [
       "<div>\n",
       "<style scoped>\n",
       "    .dataframe tbody tr th:only-of-type {\n",
       "        vertical-align: middle;\n",
       "    }\n",
       "\n",
       "    .dataframe tbody tr th {\n",
       "        vertical-align: top;\n",
       "    }\n",
       "\n",
       "    .dataframe thead th {\n",
       "        text-align: right;\n",
       "    }\n",
       "</style>\n",
       "<table border=\"1\" class=\"dataframe\">\n",
       "  <thead>\n",
       "    <tr style=\"text-align: right;\">\n",
       "      <th></th>\n",
       "      <th>lat</th>\n",
       "      <th>lon</th>\n",
       "      <th>area_m2</th>\n",
       "      <th>price_mxn</th>\n",
       "    </tr>\n",
       "  </thead>\n",
       "  <tbody>\n",
       "    <tr>\n",
       "      <th>count</th>\n",
       "      <td>571.000000</td>\n",
       "      <td>571.000000</td>\n",
       "      <td>700.000000</td>\n",
       "      <td>7.000000e+02</td>\n",
       "    </tr>\n",
       "    <tr>\n",
       "      <th>mean</th>\n",
       "      <td>20.983555</td>\n",
       "      <td>-99.012350</td>\n",
       "      <td>173.754286</td>\n",
       "      <td>2.190765e+06</td>\n",
       "    </tr>\n",
       "    <tr>\n",
       "      <th>std</th>\n",
       "      <td>2.959004</td>\n",
       "      <td>5.227166</td>\n",
       "      <td>78.535211</td>\n",
       "      <td>1.237497e+06</td>\n",
       "    </tr>\n",
       "    <tr>\n",
       "      <th>min</th>\n",
       "      <td>16.228815</td>\n",
       "      <td>-117.038495</td>\n",
       "      <td>60.000000</td>\n",
       "      <td>6.260000e+05</td>\n",
       "    </tr>\n",
       "    <tr>\n",
       "      <th>25%</th>\n",
       "      <td>19.287224</td>\n",
       "      <td>-100.442642</td>\n",
       "      <td>110.000000</td>\n",
       "      <td>1.250000e+06</td>\n",
       "    </tr>\n",
       "    <tr>\n",
       "      <th>50%</th>\n",
       "      <td>20.302476</td>\n",
       "      <td>-99.201675</td>\n",
       "      <td>160.000000</td>\n",
       "      <td>1.850000e+06</td>\n",
       "    </tr>\n",
       "    <tr>\n",
       "      <th>75%</th>\n",
       "      <td>21.156042</td>\n",
       "      <td>-98.244797</td>\n",
       "      <td>224.250000</td>\n",
       "      <td>2.835750e+06</td>\n",
       "    </tr>\n",
       "    <tr>\n",
       "      <th>max</th>\n",
       "      <td>32.647057</td>\n",
       "      <td>-86.817017</td>\n",
       "      <td>385.000000</td>\n",
       "      <td>6.100000e+06</td>\n",
       "    </tr>\n",
       "  </tbody>\n",
       "</table>\n",
       "</div>"
      ],
      "text/plain": [
       "              lat         lon     area_m2     price_mxn\n",
       "count  571.000000  571.000000  700.000000  7.000000e+02\n",
       "mean    20.983555  -99.012350  173.754286  2.190765e+06\n",
       "std      2.959004    5.227166   78.535211  1.237497e+06\n",
       "min     16.228815 -117.038495   60.000000  6.260000e+05\n",
       "25%     19.287224 -100.442642  110.000000  1.250000e+06\n",
       "50%     20.302476  -99.201675  160.000000  1.850000e+06\n",
       "75%     21.156042  -98.244797  224.250000  2.835750e+06\n",
       "max     32.647057  -86.817017  385.000000  6.100000e+06"
      ]
     },
     "execution_count": 77,
     "metadata": {},
     "output_type": "execute_result"
    }
   ],
   "source": [
    "df2.describe()"
   ]
  },
  {
   "cell_type": "code",
   "execution_count": null,
   "id": "59637204",
   "metadata": {},
   "outputs": [],
   "source": []
  }
 ],
 "metadata": {
  "kernelspec": {
   "display_name": "Python 3 (ipykernel)",
   "language": "python",
   "name": "python3"
  },
  "language_info": {
   "codemirror_mode": {
    "name": "ipython",
    "version": 3
   },
   "file_extension": ".py",
   "mimetype": "text/x-python",
   "name": "python",
   "nbconvert_exporter": "python",
   "pygments_lexer": "ipython3",
   "version": "3.9.7"
  }
 },
 "nbformat": 4,
 "nbformat_minor": 5
}
