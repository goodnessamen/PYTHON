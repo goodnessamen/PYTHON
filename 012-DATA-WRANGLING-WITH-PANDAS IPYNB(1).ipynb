{
 "cells": [
  {
   "cell_type": "markdown",
   "id": "476fda7b",
   "metadata": {},
   "source": [
    "### PYTHON 012 ###"
   ]
  },
  {
   "cell_type": "markdown",
   "id": "f2106d88",
   "metadata": {},
   "source": [
    "### Preparing Mexico Data ###"
   ]
  },
  {
   "cell_type": "code",
   "execution_count": 3,
   "id": "0a3ca77c",
   "metadata": {},
   "outputs": [
    {
     "ename": "SyntaxError",
     "evalue": "invalid syntax (Temp/ipykernel_12444/1759309663.py, line 4)",
     "output_type": "error",
     "traceback": [
      "\u001b[1;36m  File \u001b[1;32m\"C:\\Users\\HP\\AppData\\Local\\Temp/ipykernel_12444/1759309663.py\"\u001b[1;36m, line \u001b[1;32m4\u001b[0m\n\u001b[1;33m    The first part of any data science project is preparing your data, which means making sure its in the right place\u001b[0m\n\u001b[1;37m        ^\u001b[0m\n\u001b[1;31mSyntaxError\u001b[0m\u001b[1;31m:\u001b[0m invalid syntax\n"
     ]
    }
   ],
   "source": [
    "import pandas as pd\n",
    "from IPython.display import VimeoVideo\n",
    "Import\n",
    "The first part of any data science project is preparing your data, which means making sure its in the right place \n",
    "and format for you to conduct your analysis. \n",
    "The first step of any data preparation is importing your raw data and cleaning it.\n",
    "\n",
    "If you look in the small-data directory on your machine, you'll see that the data for this project comes in three CSV files:\n",
    "mexico-real-estate-1.csv, mexico-real-estate-2.csv, and mexico-real-estate-3.csv.\n",
    "\n",
    "\n",
    "Task 1.2.1: Read these three files into three separate DataFrames named df1, df2, and df3, respectively.\n",
    "\n",
    "What's a DataFrame?\n",
    "What's a CSV file?\n",
    "Read a CSV file into a DataFrame using pandas"
   ]
  },
  {
   "cell_type": "code",
   "execution_count": 4,
   "id": "723a1a17",
   "metadata": {},
   "outputs": [],
   "source": [
    "import pandas as pd"
   ]
  },
  {
   "cell_type": "markdown",
   "id": "d765ab32",
   "metadata": {},
   "source": [
    "### Import ###"
   ]
  },
  {
   "cell_type": "code",
   "execution_count": null,
   "id": "af2c4b3d",
   "metadata": {},
   "outputs": [],
   "source": [
    "The first part of any data science project is preparing your data,\n",
    "which means making sure its in the right place and format for you to conduct your analysis. \n",
    "The first step of any data preparation is importing your raw data and cleaning it.\n",
    "\n",
    "If you look in the small-data directory on your machine, you'll see that the data for this project comes in three CSV files: mexico-real-estate-1.csv, mexico-real-estate-2.csv, and mexico-real-estate-3.csv.\n",
    "\n",
    "VimeoVideo(\"656321516\", h=\"e85e3bf248\", width=600)\n",
    "Task 1.2.1: Read these three files into three separate DataFrames named df1, df2, and df3, respectively.\n",
    "\n",
    "What's a DataFrame?\n",
    "What's a CSV file?\n",
    "Read a CSV file into a DataFrame using pandas"
   ]
  },
  {
   "cell_type": "markdown",
   "id": "291d1996",
   "metadata": {},
   "source": [
    "### Pandas: Getting Started ###"
   ]
  },
  {
   "cell_type": "code",
   "execution_count": null,
   "id": "16edc195",
   "metadata": {},
   "outputs": [],
   "source": [
    "Pandas\n",
    "Pandas is a Python library used for working with datasets. It does that by helping us make sense of DataFrames, \n",
    "which are a form of two-dimensional structured data, like a table with columns and rows. But before we can do anything else,\n",
    "we need to start with data in a CSV file.\n"
   ]
  },
  {
   "cell_type": "markdown",
   "id": "c7e4df2e",
   "metadata": {},
   "source": [
    "### Importing Data ###\n"
   ]
  },
  {
   "cell_type": "code",
   "execution_count": null,
   "id": "02cdb857",
   "metadata": {},
   "outputs": [],
   "source": [
    "CSV Files\n",
    "CSV stands for Comma Separated Values, and it's a file type that allows data to be saved in a table. \n",
    "Data presented in a table is called structured data, because it adheres to the idea that there is a meaningful relationship between the columns and rows. A CSV might also show panel data, which is data that shows observations of the same behavior at various different times. The datasets we're using in this part of the course are all structured tables, but you'll see other arrangements of data as you move through your projects.\n",
    "\n",
    "If you're familiar with the way that data tables look in spreadsheet applications like Excel, \n",
    "you might be surprised to see that raw CSV files don't look like that. \n",
    "If you came across a CSV file and opened it to see what it looked like, you'd see something like this:\n",
    "\n",
    "property_type,department,lat,lon,area_m2,price_usd\n",
    "house,Bogotá D.C,4.69,-74.048,187.0,\"$330,899.98\"\n",
    "house,Bogotá D.C,4.695,-74.082,82.0,\"$121,555.09\"\n",
    "house,Quindío,4.535,-75.676,235.0,\"$219,474.47\"\n",
    "house,Bogotá D.C,4.62,-74.129,195.0,\"$97,919.38\""
   ]
  },
  {
   "cell_type": "markdown",
   "id": "7456be8e",
   "metadata": {},
   "source": [
    "### Dictionaries ###"
   ]
  },
  {
   "cell_type": "code",
   "execution_count": null,
   "id": "d3f1a13e",
   "metadata": {},
   "outputs": [],
   "source": [
    "You can create a DataFrame from a Python dictionary using from_dict function."
   ]
  },
  {
   "cell_type": "code",
   "execution_count": 5,
   "id": "815a8101",
   "metadata": {},
   "outputs": [
    {
     "data": {
      "text/html": [
       "<div>\n",
       "<style scoped>\n",
       "    .dataframe tbody tr th:only-of-type {\n",
       "        vertical-align: middle;\n",
       "    }\n",
       "\n",
       "    .dataframe tbody tr th {\n",
       "        vertical-align: top;\n",
       "    }\n",
       "\n",
       "    .dataframe thead th {\n",
       "        text-align: right;\n",
       "    }\n",
       "</style>\n",
       "<table border=\"1\" class=\"dataframe\">\n",
       "  <thead>\n",
       "    <tr style=\"text-align: right;\">\n",
       "      <th></th>\n",
       "      <th>col_1</th>\n",
       "      <th>col_2</th>\n",
       "    </tr>\n",
       "  </thead>\n",
       "  <tbody>\n",
       "    <tr>\n",
       "      <th>0</th>\n",
       "      <td>3</td>\n",
       "      <td>a</td>\n",
       "    </tr>\n",
       "    <tr>\n",
       "      <th>1</th>\n",
       "      <td>2</td>\n",
       "      <td>b</td>\n",
       "    </tr>\n",
       "    <tr>\n",
       "      <th>2</th>\n",
       "      <td>1</td>\n",
       "      <td>c</td>\n",
       "    </tr>\n",
       "    <tr>\n",
       "      <th>3</th>\n",
       "      <td>0</td>\n",
       "      <td>d</td>\n",
       "    </tr>\n",
       "  </tbody>\n",
       "</table>\n",
       "</div>"
      ],
      "text/plain": [
       "   col_1 col_2\n",
       "0      3     a\n",
       "1      2     b\n",
       "2      1     c\n",
       "3      0     d"
      ]
     },
     "execution_count": 5,
     "metadata": {},
     "output_type": "execute_result"
    }
   ],
   "source": [
    "import pandas as pd\n",
    "\n",
    "data = {\"col_1\": [3, 2, 1, 0], \"col_2\": [\"a\", \"b\", \"c\", \"d\"]}\n",
    "pd.DataFrame.from_dict(data)"
   ]
  },
  {
   "cell_type": "code",
   "execution_count": null,
   "id": "b57a5ca0",
   "metadata": {},
   "outputs": [],
   "source": [
    "By default, DataFrame will be created using keys as columns. Note the length of the values should be \n",
    "equal for each key for the code to work. We can also let keys to be index instead of the columns:"
   ]
  },
  {
   "cell_type": "code",
   "execution_count": 6,
   "id": "49256da1",
   "metadata": {},
   "outputs": [
    {
     "data": {
      "text/html": [
       "<div>\n",
       "<style scoped>\n",
       "    .dataframe tbody tr th:only-of-type {\n",
       "        vertical-align: middle;\n",
       "    }\n",
       "\n",
       "    .dataframe tbody tr th {\n",
       "        vertical-align: top;\n",
       "    }\n",
       "\n",
       "    .dataframe thead th {\n",
       "        text-align: right;\n",
       "    }\n",
       "</style>\n",
       "<table border=\"1\" class=\"dataframe\">\n",
       "  <thead>\n",
       "    <tr style=\"text-align: right;\">\n",
       "      <th></th>\n",
       "      <th>0</th>\n",
       "      <th>1</th>\n",
       "      <th>2</th>\n",
       "      <th>3</th>\n",
       "    </tr>\n",
       "  </thead>\n",
       "  <tbody>\n",
       "    <tr>\n",
       "      <th>col_1</th>\n",
       "      <td>3</td>\n",
       "      <td>2</td>\n",
       "      <td>1</td>\n",
       "      <td>0</td>\n",
       "    </tr>\n",
       "    <tr>\n",
       "      <th>col_2</th>\n",
       "      <td>a</td>\n",
       "      <td>b</td>\n",
       "      <td>c</td>\n",
       "      <td>d</td>\n",
       "    </tr>\n",
       "  </tbody>\n",
       "</table>\n",
       "</div>"
      ],
      "text/plain": [
       "       0  1  2  3\n",
       "col_1  3  2  1  0\n",
       "col_2  a  b  c  d"
      ]
     },
     "execution_count": 6,
     "metadata": {},
     "output_type": "execute_result"
    }
   ],
   "source": [
    "pd.DataFrame.from_dict(data, orient=\"index\")"
   ]
  },
  {
   "cell_type": "code",
   "execution_count": 7,
   "id": "04285087",
   "metadata": {},
   "outputs": [
    {
     "ename": "SyntaxError",
     "evalue": "invalid syntax (Temp/ipykernel_12444/1576984588.py, line 2)",
     "output_type": "error",
     "traceback": [
      "\u001b[1;36m  File \u001b[1;32m\"C:\\Users\\HP\\AppData\\Local\\Temp/ipykernel_12444/1576984588.py\"\u001b[1;36m, line \u001b[1;32m2\u001b[0m\n\u001b[1;33m    We can also specify column names:\u001b[0m\n\u001b[1;37m       ^\u001b[0m\n\u001b[1;31mSyntaxError\u001b[0m\u001b[1;31m:\u001b[0m invalid syntax\n"
     ]
    }
   ],
   "source": [
    "pd.DataFrame.from_dict(data, orient=\"index\")\n",
    "We can also specify column names:"
   ]
  },
  {
   "cell_type": "code",
   "execution_count": 8,
   "id": "6b936bb1",
   "metadata": {},
   "outputs": [
    {
     "data": {
      "text/html": [
       "<div>\n",
       "<style scoped>\n",
       "    .dataframe tbody tr th:only-of-type {\n",
       "        vertical-align: middle;\n",
       "    }\n",
       "\n",
       "    .dataframe tbody tr th {\n",
       "        vertical-align: top;\n",
       "    }\n",
       "\n",
       "    .dataframe thead th {\n",
       "        text-align: right;\n",
       "    }\n",
       "</style>\n",
       "<table border=\"1\" class=\"dataframe\">\n",
       "  <thead>\n",
       "    <tr style=\"text-align: right;\">\n",
       "      <th></th>\n",
       "      <th>A</th>\n",
       "      <th>B</th>\n",
       "      <th>c</th>\n",
       "      <th>D</th>\n",
       "    </tr>\n",
       "  </thead>\n",
       "  <tbody>\n",
       "    <tr>\n",
       "      <th>col_1</th>\n",
       "      <td>3</td>\n",
       "      <td>2</td>\n",
       "      <td>1</td>\n",
       "      <td>0</td>\n",
       "    </tr>\n",
       "    <tr>\n",
       "      <th>col_2</th>\n",
       "      <td>a</td>\n",
       "      <td>b</td>\n",
       "      <td>c</td>\n",
       "      <td>d</td>\n",
       "    </tr>\n",
       "  </tbody>\n",
       "</table>\n",
       "</div>"
      ],
      "text/plain": [
       "       A  B  c  D\n",
       "col_1  3  2  1  0\n",
       "col_2  a  b  c  d"
      ]
     },
     "execution_count": 8,
     "metadata": {},
     "output_type": "execute_result"
    }
   ],
   "source": [
    "pd.DataFrame.from_dict(data, orient = \"index\", columns = [\"A\", \"B\", \"c\", \"D\"])"
   ]
  },
  {
   "cell_type": "code",
   "execution_count": 9,
   "id": "3b170a01",
   "metadata": {},
   "outputs": [
    {
     "ename": "SyntaxError",
     "evalue": "invalid syntax (Temp/ipykernel_12444/1514616562.py, line 3)",
     "output_type": "error",
     "traceback": [
      "\u001b[1;36m  File \u001b[1;32m\"C:\\Users\\HP\\AppData\\Local\\Temp/ipykernel_12444/1514616562.py\"\u001b[1;36m, line \u001b[1;32m3\u001b[0m\n\u001b[1;33m    Try it yourself! Create a DataFrame called using the dictionary clothes and make the keys as index,\u001b[0m\n\u001b[1;37m        ^\u001b[0m\n\u001b[1;31mSyntaxError\u001b[0m\u001b[1;31m:\u001b[0m invalid syntax\n"
     ]
    }
   ],
   "source": [
    "Practice\n",
    "\n",
    "Try it yourself! Create a DataFrame called using the dictionary clothes and make the keys as index, \n",
    "and put column names as ['color','size']\n",
    "\n",
    "clothes = {\"shirt\": [\"red\", \"M\"], \"sweater\": [\"yellow\", \"L\"], \"jacket\": [\"black\", \"L\"]}\n",
    "​\n",
    "​"
   ]
  },
  {
   "cell_type": "code",
   "execution_count": 10,
   "id": "9f955d15",
   "metadata": {},
   "outputs": [
    {
     "data": {
      "text/html": [
       "<div>\n",
       "<style scoped>\n",
       "    .dataframe tbody tr th:only-of-type {\n",
       "        vertical-align: middle;\n",
       "    }\n",
       "\n",
       "    .dataframe tbody tr th {\n",
       "        vertical-align: top;\n",
       "    }\n",
       "\n",
       "    .dataframe thead th {\n",
       "        text-align: right;\n",
       "    }\n",
       "</style>\n",
       "<table border=\"1\" class=\"dataframe\">\n",
       "  <thead>\n",
       "    <tr style=\"text-align: right;\">\n",
       "      <th></th>\n",
       "      <th>shirt</th>\n",
       "      <th>sweater</th>\n",
       "      <th>jacket</th>\n",
       "    </tr>\n",
       "  </thead>\n",
       "  <tbody>\n",
       "    <tr>\n",
       "      <th>0</th>\n",
       "      <td>red</td>\n",
       "      <td>yellow</td>\n",
       "      <td>black</td>\n",
       "    </tr>\n",
       "    <tr>\n",
       "      <th>1</th>\n",
       "      <td>M</td>\n",
       "      <td>L</td>\n",
       "      <td>L</td>\n",
       "    </tr>\n",
       "  </tbody>\n",
       "</table>\n",
       "</div>"
      ],
      "text/plain": [
       "  shirt sweater jacket\n",
       "0   red  yellow  black\n",
       "1     M       L      L"
      ]
     },
     "execution_count": 10,
     "metadata": {},
     "output_type": "execute_result"
    }
   ],
   "source": [
    "import pandas as pd\n",
    "\n",
    "clothes = {\"shirt\": [\"red\", \"M\"], \"sweater\": [\"yellow\", \"L\"], \"jacket\": [\"black\", \"L\"]}\n",
    "pd.DataFrame.from_dict(clothes)"
   ]
  },
  {
   "cell_type": "code",
   "execution_count": 7,
   "id": "f34cb014",
   "metadata": {},
   "outputs": [
    {
     "ename": "SyntaxError",
     "evalue": "invalid syntax (Temp/ipykernel_20336/2825970291.py, line 2)",
     "output_type": "error",
     "traceback": [
      "\u001b[1;36m  File \u001b[1;32m\"C:\\Users\\HP\\AppData\\Local\\Temp/ipykernel_20336/2825970291.py\"\u001b[1;36m, line \u001b[1;32m2\u001b[0m\n\u001b[1;33m    house,Bogotá D.C,4.69,-74.048,187.0,\"$330,899.98\"\u001b[0m\n\u001b[1;37m                                                     ^\u001b[0m\n\u001b[1;31mSyntaxError\u001b[0m\u001b[1;31m:\u001b[0m invalid syntax\n"
     ]
    }
   ],
   "source": [
    "property_type,department,lat,lon,area_m2,price_usd\n",
    "house,Bogotá D.C,4.69,-74.048,187.0,\"$330,899.98\"\n",
    "house,Bogotá D.C,4.695,-74.082,82.0,\"$121,555.09\"\n",
    "house,Quindío,4.535,-75.676,235.0,\"$219,474.47\"\n",
    "house,Bogotá D.C,4.62,-74.129,195.0,\"$97,919.38\""
   ]
  },
  {
   "cell_type": "markdown",
   "id": "ff003909",
   "metadata": {},
   "source": [
    "## Task 1.2.1 ##\n",
    "### Read these three files into three separate DataFrames named df1, df2, and df3, respectively. ###\n"
   ]
  },
  {
   "cell_type": "code",
   "execution_count": 11,
   "id": "8c719824",
   "metadata": {},
   "outputs": [],
   "source": [
    "import pandas as pd"
   ]
  },
  {
   "cell_type": "code",
   "execution_count": 12,
   "id": "69a21a68",
   "metadata": {},
   "outputs": [],
   "source": [
    "df1 = pd.read_csv(\"mexico_real_estate-1.txt\")\n",
    "df2 = pd.read_csv(\"mexico_real_estate-2.txt\")\n",
    "df3 = pd.read_csv(\"mexico_real_estate-3.txt\")"
   ]
  },
  {
   "cell_type": "code",
   "execution_count": 12,
   "id": "a81fba2e",
   "metadata": {},
   "outputs": [
    {
     "data": {
      "text/html": [
       "<div>\n",
       "<style scoped>\n",
       "    .dataframe tbody tr th:only-of-type {\n",
       "        vertical-align: middle;\n",
       "    }\n",
       "\n",
       "    .dataframe tbody tr th {\n",
       "        vertical-align: top;\n",
       "    }\n",
       "\n",
       "    .dataframe thead th {\n",
       "        text-align: right;\n",
       "    }\n",
       "</style>\n",
       "<table border=\"1\" class=\"dataframe\">\n",
       "  <thead>\n",
       "    <tr style=\"text-align: right;\">\n",
       "      <th></th>\n",
       "      <th>property_type</th>\n",
       "      <th>state</th>\n",
       "      <th>lat</th>\n",
       "      <th>lon</th>\n",
       "      <th>area_m2</th>\n",
       "      <th>price_usd</th>\n",
       "    </tr>\n",
       "  </thead>\n",
       "  <tbody>\n",
       "    <tr>\n",
       "      <th>0</th>\n",
       "      <td>house</td>\n",
       "      <td>Estado de México</td>\n",
       "      <td>19.560181</td>\n",
       "      <td>-99.233528</td>\n",
       "      <td>150.0</td>\n",
       "      <td>$67,965.56</td>\n",
       "    </tr>\n",
       "    <tr>\n",
       "      <th>1</th>\n",
       "      <td>house</td>\n",
       "      <td>Nuevo León</td>\n",
       "      <td>25.688436</td>\n",
       "      <td>-100.198807</td>\n",
       "      <td>186.0</td>\n",
       "      <td>$63,223.78</td>\n",
       "    </tr>\n",
       "    <tr>\n",
       "      <th>2</th>\n",
       "      <td>apartment</td>\n",
       "      <td>Guerrero</td>\n",
       "      <td>16.767704</td>\n",
       "      <td>-99.764383</td>\n",
       "      <td>82.0</td>\n",
       "      <td>$84,298.37</td>\n",
       "    </tr>\n",
       "    <tr>\n",
       "      <th>3</th>\n",
       "      <td>apartment</td>\n",
       "      <td>Guerrero</td>\n",
       "      <td>16.829782</td>\n",
       "      <td>-99.911012</td>\n",
       "      <td>150.0</td>\n",
       "      <td>$94,308.80</td>\n",
       "    </tr>\n",
       "    <tr>\n",
       "      <th>4</th>\n",
       "      <td>house</td>\n",
       "      <td>Veracruz de Ignacio de la Llave</td>\n",
       "      <td>NaN</td>\n",
       "      <td>NaN</td>\n",
       "      <td>175.0</td>\n",
       "      <td>$94,835.67</td>\n",
       "    </tr>\n",
       "    <tr>\n",
       "      <th>...</th>\n",
       "      <td>...</td>\n",
       "      <td>...</td>\n",
       "      <td>...</td>\n",
       "      <td>...</td>\n",
       "      <td>...</td>\n",
       "      <td>...</td>\n",
       "    </tr>\n",
       "    <tr>\n",
       "      <th>695</th>\n",
       "      <td>house</td>\n",
       "      <td>Morelos</td>\n",
       "      <td>NaN</td>\n",
       "      <td>NaN</td>\n",
       "      <td>310.0</td>\n",
       "      <td>$237,089.17</td>\n",
       "    </tr>\n",
       "    <tr>\n",
       "      <th>696</th>\n",
       "      <td>house</td>\n",
       "      <td>Yucatán</td>\n",
       "      <td>21.050653</td>\n",
       "      <td>-89.558841</td>\n",
       "      <td>334.0</td>\n",
       "      <td>$137,017.34</td>\n",
       "    </tr>\n",
       "    <tr>\n",
       "      <th>697</th>\n",
       "      <td>house</td>\n",
       "      <td>Yucatán</td>\n",
       "      <td>21.343796</td>\n",
       "      <td>-89.262060</td>\n",
       "      <td>130.0</td>\n",
       "      <td>$110,404.35</td>\n",
       "    </tr>\n",
       "    <tr>\n",
       "      <th>698</th>\n",
       "      <td>apartment</td>\n",
       "      <td>Nuevo León</td>\n",
       "      <td>NaN</td>\n",
       "      <td>NaN</td>\n",
       "      <td>155.0</td>\n",
       "      <td>$184,446.42</td>\n",
       "    </tr>\n",
       "    <tr>\n",
       "      <th>699</th>\n",
       "      <td>house</td>\n",
       "      <td>Querétaro</td>\n",
       "      <td>20.587378</td>\n",
       "      <td>-100.418361</td>\n",
       "      <td>106.0</td>\n",
       "      <td>$56,637.97</td>\n",
       "    </tr>\n",
       "  </tbody>\n",
       "</table>\n",
       "<p>700 rows × 6 columns</p>\n",
       "</div>"
      ],
      "text/plain": [
       "    property_type                            state        lat         lon  \\\n",
       "0           house                 Estado de México  19.560181  -99.233528   \n",
       "1           house                       Nuevo León  25.688436 -100.198807   \n",
       "2       apartment                         Guerrero  16.767704  -99.764383   \n",
       "3       apartment                         Guerrero  16.829782  -99.911012   \n",
       "4           house  Veracruz de Ignacio de la Llave        NaN         NaN   \n",
       "..            ...                              ...        ...         ...   \n",
       "695         house                          Morelos        NaN         NaN   \n",
       "696         house                          Yucatán  21.050653  -89.558841   \n",
       "697         house                          Yucatán  21.343796  -89.262060   \n",
       "698     apartment                       Nuevo León        NaN         NaN   \n",
       "699         house                        Querétaro  20.587378 -100.418361   \n",
       "\n",
       "     area_m2    price_usd  \n",
       "0      150.0   $67,965.56  \n",
       "1      186.0   $63,223.78  \n",
       "2       82.0   $84,298.37  \n",
       "3      150.0   $94,308.80  \n",
       "4      175.0   $94,835.67  \n",
       "..       ...          ...  \n",
       "695    310.0  $237,089.17  \n",
       "696    334.0  $137,017.34  \n",
       "697    130.0  $110,404.35  \n",
       "698    155.0  $184,446.42  \n",
       "699    106.0   $56,637.97  \n",
       "\n",
       "[700 rows x 6 columns]"
      ]
     },
     "execution_count": 12,
     "metadata": {},
     "output_type": "execute_result"
    }
   ],
   "source": [
    "df1"
   ]
  },
  {
   "cell_type": "code",
   "execution_count": 13,
   "id": "95c09d21",
   "metadata": {},
   "outputs": [
    {
     "data": {
      "text/html": [
       "<div>\n",
       "<style scoped>\n",
       "    .dataframe tbody tr th:only-of-type {\n",
       "        vertical-align: middle;\n",
       "    }\n",
       "\n",
       "    .dataframe tbody tr th {\n",
       "        vertical-align: top;\n",
       "    }\n",
       "\n",
       "    .dataframe thead th {\n",
       "        text-align: right;\n",
       "    }\n",
       "</style>\n",
       "<table border=\"1\" class=\"dataframe\">\n",
       "  <thead>\n",
       "    <tr style=\"text-align: right;\">\n",
       "      <th></th>\n",
       "      <th>property_type</th>\n",
       "      <th>state</th>\n",
       "      <th>lat</th>\n",
       "      <th>lon</th>\n",
       "      <th>area_m2</th>\n",
       "      <th>price_mxn</th>\n",
       "    </tr>\n",
       "  </thead>\n",
       "  <tbody>\n",
       "    <tr>\n",
       "      <th>0</th>\n",
       "      <td>apartment</td>\n",
       "      <td>Nuevo León</td>\n",
       "      <td>25.721081</td>\n",
       "      <td>-100.345581</td>\n",
       "      <td>72.0</td>\n",
       "      <td>1300000.0</td>\n",
       "    </tr>\n",
       "    <tr>\n",
       "      <th>1</th>\n",
       "      <td>apartment</td>\n",
       "      <td>Puebla</td>\n",
       "      <td>NaN</td>\n",
       "      <td>NaN</td>\n",
       "      <td>190.0</td>\n",
       "      <td>2500000.0</td>\n",
       "    </tr>\n",
       "    <tr>\n",
       "      <th>2</th>\n",
       "      <td>house</td>\n",
       "      <td>Morelos</td>\n",
       "      <td>23.634501</td>\n",
       "      <td>-102.552788</td>\n",
       "      <td>360.0</td>\n",
       "      <td>5300000.0</td>\n",
       "    </tr>\n",
       "    <tr>\n",
       "      <th>3</th>\n",
       "      <td>house</td>\n",
       "      <td>Morelos</td>\n",
       "      <td>NaN</td>\n",
       "      <td>NaN</td>\n",
       "      <td>76.0</td>\n",
       "      <td>820000.0</td>\n",
       "    </tr>\n",
       "    <tr>\n",
       "      <th>4</th>\n",
       "      <td>house</td>\n",
       "      <td>Puebla</td>\n",
       "      <td>NaN</td>\n",
       "      <td>NaN</td>\n",
       "      <td>200.0</td>\n",
       "      <td>1100000.0</td>\n",
       "    </tr>\n",
       "    <tr>\n",
       "      <th>...</th>\n",
       "      <td>...</td>\n",
       "      <td>...</td>\n",
       "      <td>...</td>\n",
       "      <td>...</td>\n",
       "      <td>...</td>\n",
       "      <td>...</td>\n",
       "    </tr>\n",
       "    <tr>\n",
       "      <th>695</th>\n",
       "      <td>house</td>\n",
       "      <td>Morelos</td>\n",
       "      <td>18.917542</td>\n",
       "      <td>-98.963181</td>\n",
       "      <td>140.0</td>\n",
       "      <td>1450000.0</td>\n",
       "    </tr>\n",
       "    <tr>\n",
       "      <th>696</th>\n",
       "      <td>house</td>\n",
       "      <td>Distrito Federal</td>\n",
       "      <td>19.472128</td>\n",
       "      <td>-99.146697</td>\n",
       "      <td>190.0</td>\n",
       "      <td>1943000.0</td>\n",
       "    </tr>\n",
       "    <tr>\n",
       "      <th>697</th>\n",
       "      <td>house</td>\n",
       "      <td>Estado de México</td>\n",
       "      <td>19.234984</td>\n",
       "      <td>-99.558175</td>\n",
       "      <td>115.0</td>\n",
       "      <td>2100000.0</td>\n",
       "    </tr>\n",
       "    <tr>\n",
       "      <th>698</th>\n",
       "      <td>house</td>\n",
       "      <td>Puebla</td>\n",
       "      <td>18.918714</td>\n",
       "      <td>-98.426639</td>\n",
       "      <td>90.0</td>\n",
       "      <td>890000.0</td>\n",
       "    </tr>\n",
       "    <tr>\n",
       "      <th>699</th>\n",
       "      <td>house</td>\n",
       "      <td>Yucatán</td>\n",
       "      <td>21.075163</td>\n",
       "      <td>-89.516731</td>\n",
       "      <td>185.0</td>\n",
       "      <td>1695000.0</td>\n",
       "    </tr>\n",
       "  </tbody>\n",
       "</table>\n",
       "<p>700 rows × 6 columns</p>\n",
       "</div>"
      ],
      "text/plain": [
       "    property_type             state        lat         lon  area_m2  price_mxn\n",
       "0       apartment        Nuevo León  25.721081 -100.345581     72.0  1300000.0\n",
       "1       apartment            Puebla        NaN         NaN    190.0  2500000.0\n",
       "2           house           Morelos  23.634501 -102.552788    360.0  5300000.0\n",
       "3           house           Morelos        NaN         NaN     76.0   820000.0\n",
       "4           house            Puebla        NaN         NaN    200.0  1100000.0\n",
       "..            ...               ...        ...         ...      ...        ...\n",
       "695         house           Morelos  18.917542  -98.963181    140.0  1450000.0\n",
       "696         house  Distrito Federal  19.472128  -99.146697    190.0  1943000.0\n",
       "697         house  Estado de México  19.234984  -99.558175    115.0  2100000.0\n",
       "698         house            Puebla  18.918714  -98.426639     90.0   890000.0\n",
       "699         house           Yucatán  21.075163  -89.516731    185.0  1695000.0\n",
       "\n",
       "[700 rows x 6 columns]"
      ]
     },
     "execution_count": 13,
     "metadata": {},
     "output_type": "execute_result"
    }
   ],
   "source": [
    "df2"
   ]
  },
  {
   "cell_type": "code",
   "execution_count": 14,
   "id": "5f66cda4",
   "metadata": {},
   "outputs": [
    {
     "data": {
      "text/html": [
       "<div>\n",
       "<style scoped>\n",
       "    .dataframe tbody tr th:only-of-type {\n",
       "        vertical-align: middle;\n",
       "    }\n",
       "\n",
       "    .dataframe tbody tr th {\n",
       "        vertical-align: top;\n",
       "    }\n",
       "\n",
       "    .dataframe thead th {\n",
       "        text-align: right;\n",
       "    }\n",
       "</style>\n",
       "<table border=\"1\" class=\"dataframe\">\n",
       "  <thead>\n",
       "    <tr style=\"text-align: right;\">\n",
       "      <th></th>\n",
       "      <th>property_type</th>\n",
       "      <th>place_with_parent_names</th>\n",
       "      <th>lat-lon</th>\n",
       "      <th>area_m2</th>\n",
       "      <th>price_usd</th>\n",
       "    </tr>\n",
       "  </thead>\n",
       "  <tbody>\n",
       "    <tr>\n",
       "      <th>0</th>\n",
       "      <td>apartment</td>\n",
       "      <td>|México|Distrito Federal|Gustavo A. Madero|Acu...</td>\n",
       "      <td>19.52589,-99.151703</td>\n",
       "      <td>71.0</td>\n",
       "      <td>48550.59</td>\n",
       "    </tr>\n",
       "    <tr>\n",
       "      <th>1</th>\n",
       "      <td>house</td>\n",
       "      <td>|México|Estado de México|Toluca|Metepec|</td>\n",
       "      <td>19.2640539,-99.5727534</td>\n",
       "      <td>233.0</td>\n",
       "      <td>168636.73</td>\n",
       "    </tr>\n",
       "    <tr>\n",
       "      <th>2</th>\n",
       "      <td>house</td>\n",
       "      <td>|México|Estado de México|Toluca|Toluca de Lerd...</td>\n",
       "      <td>19.268629,-99.671722</td>\n",
       "      <td>300.0</td>\n",
       "      <td>86932.69</td>\n",
       "    </tr>\n",
       "    <tr>\n",
       "      <th>3</th>\n",
       "      <td>house</td>\n",
       "      <td>|México|Morelos|Temixco|Burgos Bugambilias|</td>\n",
       "      <td>NaN</td>\n",
       "      <td>275.0</td>\n",
       "      <td>263432.41</td>\n",
       "    </tr>\n",
       "    <tr>\n",
       "      <th>4</th>\n",
       "      <td>apartment</td>\n",
       "      <td>|México|Veracruz de Ignacio de la Llave|Veracruz|</td>\n",
       "      <td>19.511938,-96.871956</td>\n",
       "      <td>84.0</td>\n",
       "      <td>68508.67</td>\n",
       "    </tr>\n",
       "    <tr>\n",
       "      <th>...</th>\n",
       "      <td>...</td>\n",
       "      <td>...</td>\n",
       "      <td>...</td>\n",
       "      <td>...</td>\n",
       "      <td>...</td>\n",
       "    </tr>\n",
       "    <tr>\n",
       "      <th>695</th>\n",
       "      <td>house</td>\n",
       "      <td>|México|Jalisco|Tlajomulco de Zúñiga|Tlajomulc...</td>\n",
       "      <td>20.532264,-103.484418</td>\n",
       "      <td>175.0</td>\n",
       "      <td>121178.91</td>\n",
       "    </tr>\n",
       "    <tr>\n",
       "      <th>696</th>\n",
       "      <td>house</td>\n",
       "      <td>|México|Morelos|Jiutepec|</td>\n",
       "      <td>18.9289862,-99.1802147</td>\n",
       "      <td>100.0</td>\n",
       "      <td>47417.83</td>\n",
       "    </tr>\n",
       "    <tr>\n",
       "      <th>697</th>\n",
       "      <td>house</td>\n",
       "      <td>|México|Yucatán|Mérida|</td>\n",
       "      <td>21.0284038368,-89.6530058049</td>\n",
       "      <td>81.0</td>\n",
       "      <td>39524.23</td>\n",
       "    </tr>\n",
       "    <tr>\n",
       "      <th>698</th>\n",
       "      <td>house</td>\n",
       "      <td>|México|San Luis Potosí|San Luis Potosí|</td>\n",
       "      <td>22.11830417,-101.0321938992</td>\n",
       "      <td>360.0</td>\n",
       "      <td>245050.24</td>\n",
       "    </tr>\n",
       "    <tr>\n",
       "      <th>699</th>\n",
       "      <td>house</td>\n",
       "      <td>|México|Estado de México|Toluca|Metepec|</td>\n",
       "      <td>19.233201,-99.558519</td>\n",
       "      <td>115.0</td>\n",
       "      <td>110667.85</td>\n",
       "    </tr>\n",
       "  </tbody>\n",
       "</table>\n",
       "<p>700 rows × 5 columns</p>\n",
       "</div>"
      ],
      "text/plain": [
       "    property_type                            place_with_parent_names  \\\n",
       "0       apartment  |México|Distrito Federal|Gustavo A. Madero|Acu...   \n",
       "1           house           |México|Estado de México|Toluca|Metepec|   \n",
       "2           house  |México|Estado de México|Toluca|Toluca de Lerd...   \n",
       "3           house        |México|Morelos|Temixco|Burgos Bugambilias|   \n",
       "4       apartment  |México|Veracruz de Ignacio de la Llave|Veracruz|   \n",
       "..            ...                                                ...   \n",
       "695         house  |México|Jalisco|Tlajomulco de Zúñiga|Tlajomulc...   \n",
       "696         house                          |México|Morelos|Jiutepec|   \n",
       "697         house                            |México|Yucatán|Mérida|   \n",
       "698         house           |México|San Luis Potosí|San Luis Potosí|   \n",
       "699         house           |México|Estado de México|Toluca|Metepec|   \n",
       "\n",
       "                          lat-lon  area_m2  price_usd  \n",
       "0             19.52589,-99.151703     71.0   48550.59  \n",
       "1          19.2640539,-99.5727534    233.0  168636.73  \n",
       "2            19.268629,-99.671722    300.0   86932.69  \n",
       "3                             NaN    275.0  263432.41  \n",
       "4            19.511938,-96.871956     84.0   68508.67  \n",
       "..                            ...      ...        ...  \n",
       "695         20.532264,-103.484418    175.0  121178.91  \n",
       "696        18.9289862,-99.1802147    100.0   47417.83  \n",
       "697  21.0284038368,-89.6530058049     81.0   39524.23  \n",
       "698   22.11830417,-101.0321938992    360.0  245050.24  \n",
       "699          19.233201,-99.558519    115.0  110667.85  \n",
       "\n",
       "[700 rows x 5 columns]"
      ]
     },
     "execution_count": 14,
     "metadata": {},
     "output_type": "execute_result"
    }
   ],
   "source": [
    "df3"
   ]
  },
  {
   "cell_type": "markdown",
   "id": "a9a013b2",
   "metadata": {},
   "source": [
    "## Clean df1 ##\n",
    "### Now that you have your three DataFrames, it's time to inspect them to see if they need any cleaning. \n",
    "Let's look at them one-by-one."
   ]
  },
  {
   "cell_type": "markdown",
   "id": "47ec665f",
   "metadata": {},
   "source": [
    "### Task 1.2.2: \n",
    "### Inspect df1 by looking at its shape attribute. Then use the info method to see the data types and number of  missing values for each column. Finally, use the head method to determine to look at the first five rows of your dataset.\n",
    "\n",
    "### Inspect a DataFrame using the shape, info, and head in pandas."
   ]
  },
  {
   "cell_type": "code",
   "execution_count": null,
   "id": "e132430c",
   "metadata": {},
   "outputs": [],
   "source": [
    "It looks like there are a couple of problems in this DataFrame that you need to solve. First, there are many rows with NaN \n",
    "values in the \"lat\" and \"lon\" columns. Second, the data type for the \"price_usd\" column is object when it should be float."
   ]
  },
  {
   "cell_type": "code",
   "execution_count": null,
   "id": "c64c500d",
   "metadata": {},
   "outputs": [],
   "source": [
    "Task 1.2.2: Inspect df1 by looking at its shape attribute. Then use the info method to see the data types and number of \n",
    "missing values for each column. Finally, use the head method to determine to look at the first five rows of your dataset.\n",
    "\n",
    "Inspect a DataFrame using the shape, info, and head in pandas"
   ]
  },
  {
   "cell_type": "code",
   "execution_count": 15,
   "id": "b676176c",
   "metadata": {},
   "outputs": [
    {
     "data": {
      "text/plain": [
       "(700, 6)"
      ]
     },
     "execution_count": 15,
     "metadata": {},
     "output_type": "execute_result"
    }
   ],
   "source": [
    "df1.shape"
   ]
  },
  {
   "cell_type": "code",
   "execution_count": 16,
   "id": "5421b38d",
   "metadata": {
    "scrolled": true
   },
   "outputs": [
    {
     "name": "stdout",
     "output_type": "stream",
     "text": [
      "<class 'pandas.core.frame.DataFrame'>\n",
      "RangeIndex: 700 entries, 0 to 699\n",
      "Data columns (total 6 columns):\n",
      " #   Column         Non-Null Count  Dtype  \n",
      "---  ------         --------------  -----  \n",
      " 0   property_type  700 non-null    object \n",
      " 1   state          700 non-null    object \n",
      " 2   lat            583 non-null    float64\n",
      " 3   lon            583 non-null    float64\n",
      " 4   area_m2        700 non-null    float64\n",
      " 5   price_usd      700 non-null    object \n",
      "dtypes: float64(3), object(3)\n",
      "memory usage: 32.9+ KB\n"
     ]
    }
   ],
   "source": [
    "df1.info()"
   ]
  },
  {
   "cell_type": "markdown",
   "id": "bd81fd7d",
   "metadata": {},
   "source": [
    "df1.tail(7)"
   ]
  },
  {
   "cell_type": "code",
   "execution_count": 17,
   "id": "aaae7157",
   "metadata": {},
   "outputs": [
    {
     "data": {
      "text/html": [
       "<div>\n",
       "<style scoped>\n",
       "    .dataframe tbody tr th:only-of-type {\n",
       "        vertical-align: middle;\n",
       "    }\n",
       "\n",
       "    .dataframe tbody tr th {\n",
       "        vertical-align: top;\n",
       "    }\n",
       "\n",
       "    .dataframe thead th {\n",
       "        text-align: right;\n",
       "    }\n",
       "</style>\n",
       "<table border=\"1\" class=\"dataframe\">\n",
       "  <thead>\n",
       "    <tr style=\"text-align: right;\">\n",
       "      <th></th>\n",
       "      <th>property_type</th>\n",
       "      <th>state</th>\n",
       "      <th>lat</th>\n",
       "      <th>lon</th>\n",
       "      <th>area_m2</th>\n",
       "      <th>price_usd</th>\n",
       "    </tr>\n",
       "  </thead>\n",
       "  <tbody>\n",
       "    <tr>\n",
       "      <th>0</th>\n",
       "      <td>house</td>\n",
       "      <td>Estado de México</td>\n",
       "      <td>19.560181</td>\n",
       "      <td>-99.233528</td>\n",
       "      <td>150.0</td>\n",
       "      <td>$67,965.56</td>\n",
       "    </tr>\n",
       "    <tr>\n",
       "      <th>1</th>\n",
       "      <td>house</td>\n",
       "      <td>Nuevo León</td>\n",
       "      <td>25.688436</td>\n",
       "      <td>-100.198807</td>\n",
       "      <td>186.0</td>\n",
       "      <td>$63,223.78</td>\n",
       "    </tr>\n",
       "    <tr>\n",
       "      <th>2</th>\n",
       "      <td>apartment</td>\n",
       "      <td>Guerrero</td>\n",
       "      <td>16.767704</td>\n",
       "      <td>-99.764383</td>\n",
       "      <td>82.0</td>\n",
       "      <td>$84,298.37</td>\n",
       "    </tr>\n",
       "    <tr>\n",
       "      <th>3</th>\n",
       "      <td>apartment</td>\n",
       "      <td>Guerrero</td>\n",
       "      <td>16.829782</td>\n",
       "      <td>-99.911012</td>\n",
       "      <td>150.0</td>\n",
       "      <td>$94,308.80</td>\n",
       "    </tr>\n",
       "    <tr>\n",
       "      <th>4</th>\n",
       "      <td>house</td>\n",
       "      <td>Veracruz de Ignacio de la Llave</td>\n",
       "      <td>NaN</td>\n",
       "      <td>NaN</td>\n",
       "      <td>175.0</td>\n",
       "      <td>$94,835.67</td>\n",
       "    </tr>\n",
       "  </tbody>\n",
       "</table>\n",
       "</div>"
      ],
      "text/plain": [
       "  property_type                            state        lat         lon  \\\n",
       "0         house                 Estado de México  19.560181  -99.233528   \n",
       "1         house                       Nuevo León  25.688436 -100.198807   \n",
       "2     apartment                         Guerrero  16.767704  -99.764383   \n",
       "3     apartment                         Guerrero  16.829782  -99.911012   \n",
       "4         house  Veracruz de Ignacio de la Llave        NaN         NaN   \n",
       "\n",
       "   area_m2   price_usd  \n",
       "0    150.0  $67,965.56  \n",
       "1    186.0  $63,223.78  \n",
       "2     82.0  $84,298.37  \n",
       "3    150.0  $94,308.80  \n",
       "4    175.0  $94,835.67  "
      ]
     },
     "execution_count": 17,
     "metadata": {},
     "output_type": "execute_result"
    }
   ],
   "source": [
    "df1.head()"
   ]
  },
  {
   "cell_type": "code",
   "execution_count": 18,
   "id": "d9476a72",
   "metadata": {},
   "outputs": [
    {
     "data": {
      "text/html": [
       "<div>\n",
       "<style scoped>\n",
       "    .dataframe tbody tr th:only-of-type {\n",
       "        vertical-align: middle;\n",
       "    }\n",
       "\n",
       "    .dataframe tbody tr th {\n",
       "        vertical-align: top;\n",
       "    }\n",
       "\n",
       "    .dataframe thead th {\n",
       "        text-align: right;\n",
       "    }\n",
       "</style>\n",
       "<table border=\"1\" class=\"dataframe\">\n",
       "  <thead>\n",
       "    <tr style=\"text-align: right;\">\n",
       "      <th></th>\n",
       "      <th>lat</th>\n",
       "      <th>lon</th>\n",
       "      <th>area_m2</th>\n",
       "    </tr>\n",
       "  </thead>\n",
       "  <tbody>\n",
       "    <tr>\n",
       "      <th>count</th>\n",
       "      <td>583.000000</td>\n",
       "      <td>583.000000</td>\n",
       "      <td>700.000000</td>\n",
       "    </tr>\n",
       "    <tr>\n",
       "      <th>mean</th>\n",
       "      <td>20.677211</td>\n",
       "      <td>-98.394698</td>\n",
       "      <td>171.708571</td>\n",
       "    </tr>\n",
       "    <tr>\n",
       "      <th>std</th>\n",
       "      <td>2.563123</td>\n",
       "      <td>4.797798</td>\n",
       "      <td>78.267786</td>\n",
       "    </tr>\n",
       "    <tr>\n",
       "      <th>min</th>\n",
       "      <td>16.717077</td>\n",
       "      <td>-117.033916</td>\n",
       "      <td>60.000000</td>\n",
       "    </tr>\n",
       "    <tr>\n",
       "      <th>25%</th>\n",
       "      <td>19.198379</td>\n",
       "      <td>-100.344878</td>\n",
       "      <td>105.750000</td>\n",
       "    </tr>\n",
       "    <tr>\n",
       "      <th>50%</th>\n",
       "      <td>19.559799</td>\n",
       "      <td>-99.180214</td>\n",
       "      <td>160.000000</td>\n",
       "    </tr>\n",
       "    <tr>\n",
       "      <th>75%</th>\n",
       "      <td>21.096664</td>\n",
       "      <td>-97.911407</td>\n",
       "      <td>220.000000</td>\n",
       "    </tr>\n",
       "    <tr>\n",
       "      <th>max</th>\n",
       "      <td>32.665619</td>\n",
       "      <td>-86.767539</td>\n",
       "      <td>385.000000</td>\n",
       "    </tr>\n",
       "  </tbody>\n",
       "</table>\n",
       "</div>"
      ],
      "text/plain": [
       "              lat         lon     area_m2\n",
       "count  583.000000  583.000000  700.000000\n",
       "mean    20.677211  -98.394698  171.708571\n",
       "std      2.563123    4.797798   78.267786\n",
       "min     16.717077 -117.033916   60.000000\n",
       "25%     19.198379 -100.344878  105.750000\n",
       "50%     19.559799  -99.180214  160.000000\n",
       "75%     21.096664  -97.911407  220.000000\n",
       "max     32.665619  -86.767539  385.000000"
      ]
     },
     "execution_count": 18,
     "metadata": {},
     "output_type": "execute_result"
    }
   ],
   "source": [
    "df1.describe()"
   ]
  },
  {
   "cell_type": "code",
   "execution_count": 19,
   "id": "7e0ead95",
   "metadata": {},
   "outputs": [
    {
     "data": {
      "text/html": [
       "<div>\n",
       "<style scoped>\n",
       "    .dataframe tbody tr th:only-of-type {\n",
       "        vertical-align: middle;\n",
       "    }\n",
       "\n",
       "    .dataframe tbody tr th {\n",
       "        vertical-align: top;\n",
       "    }\n",
       "\n",
       "    .dataframe thead th {\n",
       "        text-align: right;\n",
       "    }\n",
       "</style>\n",
       "<table border=\"1\" class=\"dataframe\">\n",
       "  <thead>\n",
       "    <tr style=\"text-align: right;\">\n",
       "      <th></th>\n",
       "      <th>property_type</th>\n",
       "      <th>state</th>\n",
       "      <th>lat</th>\n",
       "      <th>lon</th>\n",
       "      <th>area_m2</th>\n",
       "      <th>price_usd</th>\n",
       "    </tr>\n",
       "  </thead>\n",
       "  <tbody>\n",
       "    <tr>\n",
       "      <th>0</th>\n",
       "      <td>house</td>\n",
       "      <td>Estado de México</td>\n",
       "      <td>19.560181</td>\n",
       "      <td>-99.233528</td>\n",
       "      <td>150.0</td>\n",
       "      <td>$67,965.56</td>\n",
       "    </tr>\n",
       "    <tr>\n",
       "      <th>1</th>\n",
       "      <td>house</td>\n",
       "      <td>Nuevo León</td>\n",
       "      <td>25.688436</td>\n",
       "      <td>-100.198807</td>\n",
       "      <td>186.0</td>\n",
       "      <td>$63,223.78</td>\n",
       "    </tr>\n",
       "  </tbody>\n",
       "</table>\n",
       "</div>"
      ],
      "text/plain": [
       "  property_type             state        lat         lon  area_m2   price_usd\n",
       "0         house  Estado de México  19.560181  -99.233528    150.0  $67,965.56\n",
       "1         house        Nuevo León  25.688436 -100.198807    186.0  $63,223.78"
      ]
     },
     "execution_count": 19,
     "metadata": {},
     "output_type": "execute_result"
    }
   ],
   "source": [
    "df1.head(2)"
   ]
  },
  {
   "cell_type": "code",
   "execution_count": null,
   "id": "f302e40e",
   "metadata": {},
   "outputs": [],
   "source": [
    "df1.tail()"
   ]
  },
  {
   "cell_type": "code",
   "execution_count": null,
   "id": "dea75fb7",
   "metadata": {},
   "outputs": [],
   "source": [
    "It looks like there are a couple of problems in this DataFrame that you need to solve. \n",
    "First, there are many rows with NaN values in the \"lat\" and \"lon\" columns.\n",
    "Second, the data type for the \"price_usd\" column is object when it should be float."
   ]
  },
  {
   "cell_type": "code",
   "execution_count": null,
   "id": "81cf91bc",
   "metadata": {},
   "outputs": [],
   "source": [
    "Task 1.2.3: Clean df1 by dropping rows with NaN values. Then remove the \"$\" and \",\" characters from \"price_usd\" and recast \n",
    "the values in the column as floats.\n",
    "\n",
    "What's a data type?\n",
    "Drop rows with missing values from a DataFrame using pandas.\n",
    "Replace string characters in a column using pandas.\n",
    "Recast a column as a different data type in pandas."
   ]
  },
  {
   "cell_type": "markdown",
   "id": "c2305c4c",
   "metadata": {},
   "source": [
    "## TASK1.2.3 Clean df1 by dropping rows with NaN values. ## \n",
    "### Then remove the \"$\" and \",\" caharacters fronm \"price_usd\" and recast the values in the column as float. ###"
   ]
  },
  {
   "cell_type": "code",
   "execution_count": null,
   "id": "f800f517",
   "metadata": {},
   "outputs": [],
   "source": [
    "# Remove \"NaN\" (Not a Number) values  #\n"
   ]
  },
  {
   "cell_type": "code",
   "execution_count": null,
   "id": "dd4119e9",
   "metadata": {},
   "outputs": [],
   "source": [
    "The first part of any data science project is preparing your data, which means making sure its in the right place and format\n",
    "for you to conduct your analysis. The first step of any data preparation is importing your raw data and cleaning it.\n",
    "\n",
    "If you look in the small-data directory on your machine, you'll see that the data for this project comes in three CSV files:\n",
    "mexico-real-estate-1.csv, mexico-real-estate-2.csv, and mexico-real-estate-3.csv."
   ]
  },
  {
   "cell_type": "code",
   "execution_count": 20,
   "id": "db14e887",
   "metadata": {},
   "outputs": [
    {
     "name": "stdout",
     "output_type": "stream",
     "text": [
      "<class 'pandas.core.frame.DataFrame'>\n",
      "RangeIndex: 700 entries, 0 to 699\n",
      "Data columns (total 6 columns):\n",
      " #   Column         Non-Null Count  Dtype  \n",
      "---  ------         --------------  -----  \n",
      " 0   property_type  700 non-null    object \n",
      " 1   state          700 non-null    object \n",
      " 2   lat            583 non-null    float64\n",
      " 3   lon            583 non-null    float64\n",
      " 4   area_m2        700 non-null    float64\n",
      " 5   price_usd      700 non-null    object \n",
      "dtypes: float64(3), object(3)\n",
      "memory usage: 32.9+ KB\n"
     ]
    }
   ],
   "source": [
    "df1.info()"
   ]
  },
  {
   "cell_type": "code",
   "execution_count": 21,
   "id": "d617c481",
   "metadata": {},
   "outputs": [
    {
     "name": "stdout",
     "output_type": "stream",
     "text": [
      "<class 'pandas.core.frame.DataFrame'>\n",
      "RangeIndex: 700 entries, 0 to 699\n",
      "Data columns (total 6 columns):\n",
      " #   Column         Non-Null Count  Dtype  \n",
      "---  ------         --------------  -----  \n",
      " 0   property_type  700 non-null    object \n",
      " 1   state          700 non-null    object \n",
      " 2   lat            571 non-null    float64\n",
      " 3   lon            571 non-null    float64\n",
      " 4   area_m2        700 non-null    float64\n",
      " 5   price_mxn      700 non-null    float64\n",
      "dtypes: float64(4), object(2)\n",
      "memory usage: 32.9+ KB\n"
     ]
    }
   ],
   "source": [
    "df2.info()"
   ]
  },
  {
   "cell_type": "code",
   "execution_count": 22,
   "id": "94fb15fb",
   "metadata": {},
   "outputs": [
    {
     "name": "stdout",
     "output_type": "stream",
     "text": [
      "<class 'pandas.core.frame.DataFrame'>\n",
      "RangeIndex: 700 entries, 0 to 699\n",
      "Data columns (total 5 columns):\n",
      " #   Column                   Non-Null Count  Dtype  \n",
      "---  ------                   --------------  -----  \n",
      " 0   property_type            700 non-null    object \n",
      " 1   place_with_parent_names  700 non-null    object \n",
      " 2   lat-lon                  582 non-null    object \n",
      " 3   area_m2                  700 non-null    float64\n",
      " 4   price_usd                700 non-null    float64\n",
      "dtypes: float64(2), object(3)\n",
      "memory usage: 27.5+ KB\n"
     ]
    }
   ],
   "source": [
    "df3.info()"
   ]
  },
  {
   "cell_type": "code",
   "execution_count": null,
   "id": "1054dd59",
   "metadata": {},
   "outputs": [],
   "source": [
    "#  Removing missing values eg Nullvalues by generating a new Dataframe without missing vaules#\n",
    "df1.dropna()\n",
    "df1.info()"
   ]
  },
  {
   "cell_type": "code",
   "execution_count": 23,
   "id": "a637a579",
   "metadata": {},
   "outputs": [
    {
     "data": {
      "text/plain": [
       "(700, 6)"
      ]
     },
     "execution_count": 23,
     "metadata": {},
     "output_type": "execute_result"
    }
   ],
   "source": [
    "df1.shape"
   ]
  },
  {
   "cell_type": "code",
   "execution_count": 24,
   "id": "ed85a058",
   "metadata": {},
   "outputs": [
    {
     "name": "stdout",
     "output_type": "stream",
     "text": [
      "<class 'pandas.core.frame.DataFrame'>\n",
      "Int64Index: 583 entries, 0 to 699\n",
      "Data columns (total 6 columns):\n",
      " #   Column         Non-Null Count  Dtype  \n",
      "---  ------         --------------  -----  \n",
      " 0   property_type  583 non-null    object \n",
      " 1   state          583 non-null    object \n",
      " 2   lat            583 non-null    float64\n",
      " 3   lon            583 non-null    float64\n",
      " 4   area_m2        583 non-null    float64\n",
      " 5   price_usd      583 non-null    object \n",
      "dtypes: float64(3), object(3)\n",
      "memory usage: 31.9+ KB\n"
     ]
    },
    {
     "data": {
      "text/plain": [
       "0     $67,965.56\n",
       "1     $63,223.78\n",
       "2     $84,298.37\n",
       "3     $94,308.80\n",
       "5    $105,191.37\n",
       "Name: price_usd, dtype: object"
      ]
     },
     "execution_count": 24,
     "metadata": {},
     "output_type": "execute_result"
    }
   ],
   "source": [
    "#  Removing missing values and displaying the first five entries#\n",
    "df1.dropna()\n",
    "df1.info()\n",
    "\n",
    "df1[\"price_usd\"].head()"
   ]
  },
  {
   "cell_type": "code",
   "execution_count": 24,
   "id": "9ccf3c52",
   "metadata": {},
   "outputs": [
    {
     "name": "stdout",
     "output_type": "stream",
     "text": [
      "<class 'pandas.core.frame.DataFrame'>\n",
      "RangeIndex: 700 entries, 0 to 699\n",
      "Data columns (total 6 columns):\n",
      " #   Column         Non-Null Count  Dtype  \n",
      "---  ------         --------------  -----  \n",
      " 0   property_type  700 non-null    object \n",
      " 1   state          700 non-null    object \n",
      " 2   lat            583 non-null    float64\n",
      " 3   lon            583 non-null    float64\n",
      " 4   area_m2        700 non-null    float64\n",
      " 5   price_usd      700 non-null    object \n",
      "dtypes: float64(3), object(3)\n",
      "memory usage: 32.9+ KB\n"
     ]
    },
    {
     "data": {
      "text/plain": [
       "0    67,965.56\n",
       "1    63,223.78\n",
       "2    84,298.37\n",
       "3    94,308.80\n",
       "4    94,835.67\n",
       "Name: price_usd, dtype: object"
      ]
     },
     "execution_count": 24,
     "metadata": {},
     "output_type": "execute_result"
    }
   ],
   "source": [
    "#  Removing String or noises eg $ #\n",
    "df1.dropna()\n",
    "df1.info()\n",
    "df1[\"price_usd\"].str.replace(\"$\", \"\", regex=False).head()"
   ]
  },
  {
   "cell_type": "code",
   "execution_count": 25,
   "id": "4d1e5294",
   "metadata": {},
   "outputs": [
    {
     "name": "stdout",
     "output_type": "stream",
     "text": [
      "<class 'pandas.core.frame.DataFrame'>\n",
      "RangeIndex: 700 entries, 0 to 699\n",
      "Data columns (total 6 columns):\n",
      " #   Column         Non-Null Count  Dtype  \n",
      "---  ------         --------------  -----  \n",
      " 0   property_type  700 non-null    object \n",
      " 1   state          700 non-null    object \n",
      " 2   lat            583 non-null    float64\n",
      " 3   lon            583 non-null    float64\n",
      " 4   area_m2        700 non-null    float64\n",
      " 5   price_usd      700 non-null    object \n",
      "dtypes: float64(3), object(3)\n",
      "memory usage: 32.9+ KB\n"
     ]
    },
    {
     "data": {
      "text/plain": [
       "0    67965.56\n",
       "1    63223.78\n",
       "2    84298.37\n",
       "3    94308.80\n",
       "4    94835.67\n",
       "Name: price_usd, dtype: object"
      ]
     },
     "execution_count": 25,
     "metadata": {},
     "output_type": "execute_result"
    }
   ],
   "source": [
    "#  Removing String or noises eg $ and , #\n",
    "df1.dropna()\n",
    "df1.info()\n",
    "df1[\"price_usd\"].str.replace(\"$\", \"\", regex=False).str.replace(\",\", \"\").head()"
   ]
  },
  {
   "cell_type": "code",
   "execution_count": 27,
   "id": "da5abef2",
   "metadata": {},
   "outputs": [
    {
     "name": "stdout",
     "output_type": "stream",
     "text": [
      "<class 'pandas.core.frame.DataFrame'>\n",
      "RangeIndex: 700 entries, 0 to 699\n",
      "Data columns (total 6 columns):\n",
      " #   Column         Non-Null Count  Dtype  \n",
      "---  ------         --------------  -----  \n",
      " 0   property_type  700 non-null    object \n",
      " 1   state          700 non-null    object \n",
      " 2   lat            583 non-null    float64\n",
      " 3   lon            583 non-null    float64\n",
      " 4   area_m2        700 non-null    float64\n",
      " 5   price_usd      700 non-null    object \n",
      "dtypes: float64(3), object(3)\n",
      "memory usage: 32.9+ KB\n"
     ]
    },
    {
     "data": {
      "text/plain": [
       "0    67965.56\n",
       "1    63223.78\n",
       "2    84298.37\n",
       "3    94308.80\n",
       "4    94835.67\n",
       "Name: price_usd, dtype: float64"
      ]
     },
     "execution_count": 27,
     "metadata": {},
     "output_type": "execute_result"
    }
   ],
   "source": [
    "#  Removing String or noises eg $ and , and recast the datatype as float instead of object#\n",
    "df1.dropna()\n",
    "df1.info()\n",
    "df1[\"price_usd\"].str.replace(\"$\", \"\", regex=False).str.replace(\",\", \"\").astype(float).head()"
   ]
  },
  {
   "cell_type": "code",
   "execution_count": 29,
   "id": "2d9750ff",
   "metadata": {},
   "outputs": [],
   "source": [
    "# Remove \"NaN\" (Not a Number) -  values  #\n",
    "#df1.dropna(Inplace =True)\n",
    "\n",
    "# Transform price from object to float #\n",
    "df1[\"price_usd\"] = (\n",
    "    df1[\"price_usd\"]\n",
    "    .str.replace(\"$\", \"\", regex=False)\n",
    "    .str.replace(\",\", \"\")\n",
    "    .astype(float).head()\n",
    ")"
   ]
  },
  {
   "cell_type": "code",
   "execution_count": 30,
   "id": "ffb4b3ff",
   "metadata": {},
   "outputs": [
    {
     "name": "stdout",
     "output_type": "stream",
     "text": [
      "<class 'pandas.core.frame.DataFrame'>\n",
      "RangeIndex: 700 entries, 0 to 699\n",
      "Data columns (total 6 columns):\n",
      " #   Column         Non-Null Count  Dtype  \n",
      "---  ------         --------------  -----  \n",
      " 0   property_type  700 non-null    object \n",
      " 1   state          700 non-null    object \n",
      " 2   lat            583 non-null    float64\n",
      " 3   lon            583 non-null    float64\n",
      " 4   area_m2        700 non-null    float64\n",
      " 5   price_usd      5 non-null      float64\n",
      "dtypes: float64(4), object(2)\n",
      "memory usage: 32.9+ KB\n"
     ]
    }
   ],
   "source": [
    "df1.info()"
   ]
  },
  {
   "cell_type": "code",
   "execution_count": 31,
   "id": "644d68cf",
   "metadata": {},
   "outputs": [
    {
     "data": {
      "text/plain": [
       "0      67965.56\n",
       "1      63223.78\n",
       "2      84298.37\n",
       "3      94308.80\n",
       "4      94835.67\n",
       "         ...   \n",
       "695         NaN\n",
       "696         NaN\n",
       "697         NaN\n",
       "698         NaN\n",
       "699         NaN\n",
       "Name: price_usd, Length: 700, dtype: float64"
      ]
     },
     "execution_count": 31,
     "metadata": {},
     "output_type": "execute_result"
    }
   ],
   "source": [
    "df1[\"price_usd\"]"
   ]
  },
  {
   "cell_type": "code",
   "execution_count": 32,
   "id": "a6c33e26",
   "metadata": {},
   "outputs": [
    {
     "data": {
      "text/plain": [
       "(700, 6)"
      ]
     },
     "execution_count": 32,
     "metadata": {},
     "output_type": "execute_result"
    }
   ],
   "source": [
    "df2.shape"
   ]
  },
  {
   "cell_type": "code",
   "execution_count": null,
   "id": "6282df47",
   "metadata": {},
   "outputs": [],
   "source": []
  },
  {
   "cell_type": "code",
   "execution_count": 33,
   "id": "a2791f42",
   "metadata": {},
   "outputs": [
    {
     "data": {
      "text/plain": [
       "(700, 5)"
      ]
     },
     "execution_count": 33,
     "metadata": {},
     "output_type": "execute_result"
    }
   ],
   "source": [
    "df3.shape"
   ]
  },
  {
   "cell_type": "code",
   "execution_count": 34,
   "id": "fef124d0",
   "metadata": {},
   "outputs": [
    {
     "name": "stdout",
     "output_type": "stream",
     "text": [
      "<class 'pandas.core.frame.DataFrame'>\n",
      "Int64Index: 4 entries, 0 to 3\n",
      "Data columns (total 6 columns):\n",
      " #   Column         Non-Null Count  Dtype  \n",
      "---  ------         --------------  -----  \n",
      " 0   property_type  4 non-null      object \n",
      " 1   state          4 non-null      object \n",
      " 2   lat            4 non-null      float64\n",
      " 3   lon            4 non-null      float64\n",
      " 4   area_m2        4 non-null      float64\n",
      " 5   price_usd      4 non-null      float64\n",
      "dtypes: float64(4), object(2)\n",
      "memory usage: 224.0+ bytes\n"
     ]
    }
   ],
   "source": [
    "#  Removing missing values eg Nullvalues without generating a new Data Frame #\n",
    "df1.dropna(inplace = True)\n",
    "df1.info()"
   ]
  },
  {
   "cell_type": "code",
   "execution_count": 35,
   "id": "57ae4c2c",
   "metadata": {},
   "outputs": [
    {
     "data": {
      "text/html": [
       "<div>\n",
       "<style scoped>\n",
       "    .dataframe tbody tr th:only-of-type {\n",
       "        vertical-align: middle;\n",
       "    }\n",
       "\n",
       "    .dataframe tbody tr th {\n",
       "        vertical-align: top;\n",
       "    }\n",
       "\n",
       "    .dataframe thead th {\n",
       "        text-align: right;\n",
       "    }\n",
       "</style>\n",
       "<table border=\"1\" class=\"dataframe\">\n",
       "  <thead>\n",
       "    <tr style=\"text-align: right;\">\n",
       "      <th></th>\n",
       "      <th>property_type</th>\n",
       "      <th>state</th>\n",
       "      <th>lat</th>\n",
       "      <th>lon</th>\n",
       "      <th>area_m2</th>\n",
       "      <th>price_mxn</th>\n",
       "      <th>price_usd</th>\n",
       "    </tr>\n",
       "  </thead>\n",
       "  <tbody>\n",
       "    <tr>\n",
       "      <th>0</th>\n",
       "      <td>apartment</td>\n",
       "      <td>Nuevo León</td>\n",
       "      <td>25.721081</td>\n",
       "      <td>-100.345581</td>\n",
       "      <td>72.0</td>\n",
       "      <td>1300000.0</td>\n",
       "      <td>68421.05</td>\n",
       "    </tr>\n",
       "    <tr>\n",
       "      <th>2</th>\n",
       "      <td>house</td>\n",
       "      <td>Morelos</td>\n",
       "      <td>23.634501</td>\n",
       "      <td>-102.552788</td>\n",
       "      <td>360.0</td>\n",
       "      <td>5300000.0</td>\n",
       "      <td>278947.37</td>\n",
       "    </tr>\n",
       "    <tr>\n",
       "      <th>6</th>\n",
       "      <td>apartment</td>\n",
       "      <td>Estado de México</td>\n",
       "      <td>19.272040</td>\n",
       "      <td>-99.572013</td>\n",
       "      <td>85.0</td>\n",
       "      <td>1250000.0</td>\n",
       "      <td>65789.47</td>\n",
       "    </tr>\n",
       "    <tr>\n",
       "      <th>7</th>\n",
       "      <td>house</td>\n",
       "      <td>San Luis Potosí</td>\n",
       "      <td>22.138882</td>\n",
       "      <td>-100.996510</td>\n",
       "      <td>158.0</td>\n",
       "      <td>2120000.0</td>\n",
       "      <td>111578.95</td>\n",
       "    </tr>\n",
       "    <tr>\n",
       "      <th>8</th>\n",
       "      <td>apartment</td>\n",
       "      <td>Distrito Federal</td>\n",
       "      <td>19.394558</td>\n",
       "      <td>-99.129707</td>\n",
       "      <td>65.0</td>\n",
       "      <td>758190.0</td>\n",
       "      <td>39904.74</td>\n",
       "    </tr>\n",
       "  </tbody>\n",
       "</table>\n",
       "</div>"
      ],
      "text/plain": [
       "  property_type             state        lat         lon  area_m2  price_mxn  \\\n",
       "0     apartment        Nuevo León  25.721081 -100.345581     72.0  1300000.0   \n",
       "2         house           Morelos  23.634501 -102.552788    360.0  5300000.0   \n",
       "6     apartment  Estado de México  19.272040  -99.572013     85.0  1250000.0   \n",
       "7         house   San Luis Potosí  22.138882 -100.996510    158.0  2120000.0   \n",
       "8     apartment  Distrito Federal  19.394558  -99.129707     65.0   758190.0   \n",
       "\n",
       "   price_usd  \n",
       "0   68421.05  \n",
       "2  278947.37  \n",
       "6   65789.47  \n",
       "7  111578.95  \n",
       "8   39904.74  "
      ]
     },
     "execution_count": 35,
     "metadata": {},
     "output_type": "execute_result"
    }
   ],
   "source": [
    "# Remove \"Nan\" values #\n",
    "df2.dropna(inplace=True)\n",
    "\n",
    "#create a \"price_usd\" col\n",
    "df2[\"price_usd\"] = (df2[\"price_mxn\"] / 19).round(2)\n",
    "\n",
    "df2.head()"
   ]
  },
  {
   "cell_type": "code",
   "execution_count": 36,
   "id": "f5f490c4",
   "metadata": {},
   "outputs": [
    {
     "data": {
      "text/plain": [
       "0    67965.56\n",
       "1    63223.78\n",
       "2    84298.37\n",
       "3    94308.80\n",
       "Name: price_usd, dtype: float64"
      ]
     },
     "execution_count": 36,
     "metadata": {},
     "output_type": "execute_result"
    }
   ],
   "source": [
    "df1[\"price_usd\"].head()"
   ]
  },
  {
   "cell_type": "code",
   "execution_count": null,
   "id": "4caa8510",
   "metadata": {},
   "outputs": [],
   "source": [
    "Task 1.2.4: First, drop rows with NaN values in df2. Next, use the \"price_mxn\" column to create a new column named \"price_usd\".\n",
    "(Keep in mind that, when this data was collected in 2014, a dollar cost 19 pesos.) Finally, drop the \"price_mxn\" from the \n",
    "DataFrame.\n",
    "\n",
    "Drop rows with missing values from a DataFrame using pandas.\n",
    "Create new columns derived from existing columns in a DataFrame using pandas.\n",
    "Drop a column from a DataFrame using pandas."
   ]
  },
  {
   "cell_type": "code",
   "execution_count": 39,
   "id": "08275949",
   "metadata": {},
   "outputs": [
    {
     "data": {
      "text/plain": [
       "<bound method DataFrame.info of     property_type             state        lat         lon  area_m2  \\\n",
       "0       apartment        Nuevo León  25.721081 -100.345581     72.0   \n",
       "2           house           Morelos  23.634501 -102.552788    360.0   \n",
       "6       apartment  Estado de México  19.272040  -99.572013     85.0   \n",
       "7           house   San Luis Potosí  22.138882 -100.996510    158.0   \n",
       "8       apartment  Distrito Federal  19.394558  -99.129707     65.0   \n",
       "..            ...               ...        ...         ...      ...   \n",
       "695         house           Morelos  18.917542  -98.963181    140.0   \n",
       "696         house  Distrito Federal  19.472128  -99.146697    190.0   \n",
       "697         house  Estado de México  19.234984  -99.558175    115.0   \n",
       "698         house            Puebla  18.918714  -98.426639     90.0   \n",
       "699         house           Yucatán  21.075163  -89.516731    185.0   \n",
       "\n",
       "     price_mxn  price_usd  \n",
       "0    1300000.0   68421.05  \n",
       "2    5300000.0  278947.37  \n",
       "6    1250000.0   65789.47  \n",
       "7    2120000.0  111578.95  \n",
       "8     758190.0   39904.74  \n",
       "..         ...        ...  \n",
       "695  1450000.0   76315.79  \n",
       "696  1943000.0  102263.16  \n",
       "697  2100000.0  110526.32  \n",
       "698   890000.0   46842.11  \n",
       "699  1695000.0   89210.53  \n",
       "\n",
       "[571 rows x 7 columns]>"
      ]
     },
     "execution_count": 39,
     "metadata": {},
     "output_type": "execute_result"
    }
   ],
   "source": [
    "df2.info"
   ]
  },
  {
   "cell_type": "code",
   "execution_count": 40,
   "id": "77ee94b0",
   "metadata": {},
   "outputs": [
    {
     "data": {
      "text/plain": [
       "(571, 7)"
      ]
     },
     "execution_count": 40,
     "metadata": {},
     "output_type": "execute_result"
    }
   ],
   "source": [
    "df2.shape"
   ]
  },
  {
   "cell_type": "code",
   "execution_count": 41,
   "id": "f93aab48",
   "metadata": {},
   "outputs": [
    {
     "data": {
      "text/html": [
       "<div>\n",
       "<style scoped>\n",
       "    .dataframe tbody tr th:only-of-type {\n",
       "        vertical-align: middle;\n",
       "    }\n",
       "\n",
       "    .dataframe tbody tr th {\n",
       "        vertical-align: top;\n",
       "    }\n",
       "\n",
       "    .dataframe thead th {\n",
       "        text-align: right;\n",
       "    }\n",
       "</style>\n",
       "<table border=\"1\" class=\"dataframe\">\n",
       "  <thead>\n",
       "    <tr style=\"text-align: right;\">\n",
       "      <th></th>\n",
       "      <th>property_type</th>\n",
       "      <th>state</th>\n",
       "      <th>lat</th>\n",
       "      <th>lon</th>\n",
       "      <th>area_m2</th>\n",
       "      <th>price_mxn</th>\n",
       "      <th>price_usd</th>\n",
       "    </tr>\n",
       "  </thead>\n",
       "  <tbody>\n",
       "    <tr>\n",
       "      <th>0</th>\n",
       "      <td>apartment</td>\n",
       "      <td>Nuevo León</td>\n",
       "      <td>25.721081</td>\n",
       "      <td>-100.345581</td>\n",
       "      <td>72.0</td>\n",
       "      <td>1300000.0</td>\n",
       "      <td>68421.05</td>\n",
       "    </tr>\n",
       "    <tr>\n",
       "      <th>2</th>\n",
       "      <td>house</td>\n",
       "      <td>Morelos</td>\n",
       "      <td>23.634501</td>\n",
       "      <td>-102.552788</td>\n",
       "      <td>360.0</td>\n",
       "      <td>5300000.0</td>\n",
       "      <td>278947.37</td>\n",
       "    </tr>\n",
       "    <tr>\n",
       "      <th>6</th>\n",
       "      <td>apartment</td>\n",
       "      <td>Estado de México</td>\n",
       "      <td>19.272040</td>\n",
       "      <td>-99.572013</td>\n",
       "      <td>85.0</td>\n",
       "      <td>1250000.0</td>\n",
       "      <td>65789.47</td>\n",
       "    </tr>\n",
       "    <tr>\n",
       "      <th>7</th>\n",
       "      <td>house</td>\n",
       "      <td>San Luis Potosí</td>\n",
       "      <td>22.138882</td>\n",
       "      <td>-100.996510</td>\n",
       "      <td>158.0</td>\n",
       "      <td>2120000.0</td>\n",
       "      <td>111578.95</td>\n",
       "    </tr>\n",
       "    <tr>\n",
       "      <th>8</th>\n",
       "      <td>apartment</td>\n",
       "      <td>Distrito Federal</td>\n",
       "      <td>19.394558</td>\n",
       "      <td>-99.129707</td>\n",
       "      <td>65.0</td>\n",
       "      <td>758190.0</td>\n",
       "      <td>39904.74</td>\n",
       "    </tr>\n",
       "  </tbody>\n",
       "</table>\n",
       "</div>"
      ],
      "text/plain": [
       "  property_type             state        lat         lon  area_m2  price_mxn  \\\n",
       "0     apartment        Nuevo León  25.721081 -100.345581     72.0  1300000.0   \n",
       "2         house           Morelos  23.634501 -102.552788    360.0  5300000.0   \n",
       "6     apartment  Estado de México  19.272040  -99.572013     85.0  1250000.0   \n",
       "7         house   San Luis Potosí  22.138882 -100.996510    158.0  2120000.0   \n",
       "8     apartment  Distrito Federal  19.394558  -99.129707     65.0   758190.0   \n",
       "\n",
       "   price_usd  \n",
       "0   68421.05  \n",
       "2  278947.37  \n",
       "6   65789.47  \n",
       "7  111578.95  \n",
       "8   39904.74  "
      ]
     },
     "execution_count": 41,
     "metadata": {},
     "output_type": "execute_result"
    }
   ],
   "source": [
    "df2.head()"
   ]
  },
  {
   "cell_type": "code",
   "execution_count": 42,
   "id": "0afa9532",
   "metadata": {},
   "outputs": [
    {
     "data": {
      "text/html": [
       "<div>\n",
       "<style scoped>\n",
       "    .dataframe tbody tr th:only-of-type {\n",
       "        vertical-align: middle;\n",
       "    }\n",
       "\n",
       "    .dataframe tbody tr th {\n",
       "        vertical-align: top;\n",
       "    }\n",
       "\n",
       "    .dataframe thead th {\n",
       "        text-align: right;\n",
       "    }\n",
       "</style>\n",
       "<table border=\"1\" class=\"dataframe\">\n",
       "  <thead>\n",
       "    <tr style=\"text-align: right;\">\n",
       "      <th></th>\n",
       "      <th>property_type</th>\n",
       "      <th>state</th>\n",
       "      <th>lat</th>\n",
       "      <th>lon</th>\n",
       "      <th>area_m2</th>\n",
       "      <th>price_mxn</th>\n",
       "      <th>price_usd</th>\n",
       "    </tr>\n",
       "  </thead>\n",
       "  <tbody>\n",
       "    <tr>\n",
       "      <th>695</th>\n",
       "      <td>house</td>\n",
       "      <td>Morelos</td>\n",
       "      <td>18.917542</td>\n",
       "      <td>-98.963181</td>\n",
       "      <td>140.0</td>\n",
       "      <td>1450000.0</td>\n",
       "      <td>76315.79</td>\n",
       "    </tr>\n",
       "    <tr>\n",
       "      <th>696</th>\n",
       "      <td>house</td>\n",
       "      <td>Distrito Federal</td>\n",
       "      <td>19.472128</td>\n",
       "      <td>-99.146697</td>\n",
       "      <td>190.0</td>\n",
       "      <td>1943000.0</td>\n",
       "      <td>102263.16</td>\n",
       "    </tr>\n",
       "    <tr>\n",
       "      <th>697</th>\n",
       "      <td>house</td>\n",
       "      <td>Estado de México</td>\n",
       "      <td>19.234984</td>\n",
       "      <td>-99.558175</td>\n",
       "      <td>115.0</td>\n",
       "      <td>2100000.0</td>\n",
       "      <td>110526.32</td>\n",
       "    </tr>\n",
       "    <tr>\n",
       "      <th>698</th>\n",
       "      <td>house</td>\n",
       "      <td>Puebla</td>\n",
       "      <td>18.918714</td>\n",
       "      <td>-98.426639</td>\n",
       "      <td>90.0</td>\n",
       "      <td>890000.0</td>\n",
       "      <td>46842.11</td>\n",
       "    </tr>\n",
       "    <tr>\n",
       "      <th>699</th>\n",
       "      <td>house</td>\n",
       "      <td>Yucatán</td>\n",
       "      <td>21.075163</td>\n",
       "      <td>-89.516731</td>\n",
       "      <td>185.0</td>\n",
       "      <td>1695000.0</td>\n",
       "      <td>89210.53</td>\n",
       "    </tr>\n",
       "  </tbody>\n",
       "</table>\n",
       "</div>"
      ],
      "text/plain": [
       "    property_type             state        lat        lon  area_m2  price_mxn  \\\n",
       "695         house           Morelos  18.917542 -98.963181    140.0  1450000.0   \n",
       "696         house  Distrito Federal  19.472128 -99.146697    190.0  1943000.0   \n",
       "697         house  Estado de México  19.234984 -99.558175    115.0  2100000.0   \n",
       "698         house            Puebla  18.918714 -98.426639     90.0   890000.0   \n",
       "699         house           Yucatán  21.075163 -89.516731    185.0  1695000.0   \n",
       "\n",
       "     price_usd  \n",
       "695   76315.79  \n",
       "696  102263.16  \n",
       "697  110526.32  \n",
       "698   46842.11  \n",
       "699   89210.53  "
      ]
     },
     "execution_count": 42,
     "metadata": {},
     "output_type": "execute_result"
    }
   ],
   "source": [
    "df2.tail()"
   ]
  },
  {
   "cell_type": "code",
   "execution_count": 43,
   "id": "ef18bbac",
   "metadata": {},
   "outputs": [
    {
     "data": {
      "text/html": [
       "<div>\n",
       "<style scoped>\n",
       "    .dataframe tbody tr th:only-of-type {\n",
       "        vertical-align: middle;\n",
       "    }\n",
       "\n",
       "    .dataframe tbody tr th {\n",
       "        vertical-align: top;\n",
       "    }\n",
       "\n",
       "    .dataframe thead th {\n",
       "        text-align: right;\n",
       "    }\n",
       "</style>\n",
       "<table border=\"1\" class=\"dataframe\">\n",
       "  <thead>\n",
       "    <tr style=\"text-align: right;\">\n",
       "      <th></th>\n",
       "      <th>lat</th>\n",
       "      <th>lon</th>\n",
       "      <th>area_m2</th>\n",
       "      <th>price_mxn</th>\n",
       "      <th>price_usd</th>\n",
       "    </tr>\n",
       "  </thead>\n",
       "  <tbody>\n",
       "    <tr>\n",
       "      <th>count</th>\n",
       "      <td>571.000000</td>\n",
       "      <td>571.000000</td>\n",
       "      <td>571.000000</td>\n",
       "      <td>5.710000e+02</td>\n",
       "      <td>571.000000</td>\n",
       "    </tr>\n",
       "    <tr>\n",
       "      <th>mean</th>\n",
       "      <td>20.983555</td>\n",
       "      <td>-99.012350</td>\n",
       "      <td>172.129597</td>\n",
       "      <td>2.188709e+06</td>\n",
       "      <td>115195.212452</td>\n",
       "    </tr>\n",
       "    <tr>\n",
       "      <th>std</th>\n",
       "      <td>2.959004</td>\n",
       "      <td>5.227166</td>\n",
       "      <td>79.951591</td>\n",
       "      <td>1.226342e+06</td>\n",
       "      <td>64544.318609</td>\n",
       "    </tr>\n",
       "    <tr>\n",
       "      <th>min</th>\n",
       "      <td>16.228815</td>\n",
       "      <td>-117.038495</td>\n",
       "      <td>60.000000</td>\n",
       "      <td>6.300000e+05</td>\n",
       "      <td>33157.890000</td>\n",
       "    </tr>\n",
       "    <tr>\n",
       "      <th>25%</th>\n",
       "      <td>19.287224</td>\n",
       "      <td>-100.442642</td>\n",
       "      <td>110.000000</td>\n",
       "      <td>1.255000e+06</td>\n",
       "      <td>66052.630000</td>\n",
       "    </tr>\n",
       "    <tr>\n",
       "      <th>50%</th>\n",
       "      <td>20.302476</td>\n",
       "      <td>-99.201675</td>\n",
       "      <td>157.000000</td>\n",
       "      <td>1.860000e+06</td>\n",
       "      <td>97894.740000</td>\n",
       "    </tr>\n",
       "    <tr>\n",
       "      <th>75%</th>\n",
       "      <td>21.156042</td>\n",
       "      <td>-98.244797</td>\n",
       "      <td>228.000000</td>\n",
       "      <td>2.850000e+06</td>\n",
       "      <td>150000.000000</td>\n",
       "    </tr>\n",
       "    <tr>\n",
       "      <th>max</th>\n",
       "      <td>32.647057</td>\n",
       "      <td>-86.817017</td>\n",
       "      <td>383.000000</td>\n",
       "      <td>6.100000e+06</td>\n",
       "      <td>321052.630000</td>\n",
       "    </tr>\n",
       "  </tbody>\n",
       "</table>\n",
       "</div>"
      ],
      "text/plain": [
       "              lat         lon     area_m2     price_mxn      price_usd\n",
       "count  571.000000  571.000000  571.000000  5.710000e+02     571.000000\n",
       "mean    20.983555  -99.012350  172.129597  2.188709e+06  115195.212452\n",
       "std      2.959004    5.227166   79.951591  1.226342e+06   64544.318609\n",
       "min     16.228815 -117.038495   60.000000  6.300000e+05   33157.890000\n",
       "25%     19.287224 -100.442642  110.000000  1.255000e+06   66052.630000\n",
       "50%     20.302476  -99.201675  157.000000  1.860000e+06   97894.740000\n",
       "75%     21.156042  -98.244797  228.000000  2.850000e+06  150000.000000\n",
       "max     32.647057  -86.817017  383.000000  6.100000e+06  321052.630000"
      ]
     },
     "execution_count": 43,
     "metadata": {},
     "output_type": "execute_result"
    }
   ],
   "source": [
    "df2.describe()"
   ]
  },
  {
   "cell_type": "code",
   "execution_count": null,
   "id": "c64e0520",
   "metadata": {},
   "outputs": [],
   "source": [
    "Clean df3\n",
    "Great work! We're now on the final DataFrame. Use the same shape, info and head commands to inspect the df3. \n",
    "Do you see any familiar issues?\n",
    "\n",
    "You'll notice that we still have NaN values, but there are two new problems:\n",
    "\n",
    "Instead of separate \"lat\" and \"lon\" columns, there's a single \"lat-lon\" column.\n",
    "Instead of a \"state\" column, there's a \"place_with_parent_names\" column.\n",
    "We need the resolve these problems so that df3 has the same columns in the same format as df1 and df2."
   ]
  },
  {
   "cell_type": "code",
   "execution_count": null,
   "id": "1067a873",
   "metadata": {},
   "outputs": [],
   "source": [
    "**Task 1.2.5:** Drop rows with `NaN` values in `df3`. Then use the [`split`](https://pandas.pydata.org/docs/reference/api/pandas.Series.str.split.html)\n",
    "method to create two new columns from `\"lat-lon\"` named `\"lat\"` and `\"lon\"`, respectively.\n",
    "\n",
    "- [Drop rows with missing values from a DataFrame using pandas.](../%40textbook/03-pandas-getting-started.ipynb#Dropping-Rows)\n",
    "- [Split the strings in one column to create another using pandas.](../%40textbook/03-pandas-getting-started.ipynb#Splitting-Strings) "
   ]
  },
  {
   "cell_type": "code",
   "execution_count": 44,
   "id": "739e07ed",
   "metadata": {},
   "outputs": [
    {
     "data": {
      "text/plain": [
       "(700, 5)"
      ]
     },
     "execution_count": 44,
     "metadata": {},
     "output_type": "execute_result"
    }
   ],
   "source": [
    "df3.shape"
   ]
  },
  {
   "cell_type": "code",
   "execution_count": 45,
   "id": "a0e5b575",
   "metadata": {},
   "outputs": [
    {
     "name": "stdout",
     "output_type": "stream",
     "text": [
      "<class 'pandas.core.frame.DataFrame'>\n",
      "RangeIndex: 700 entries, 0 to 699\n",
      "Data columns (total 5 columns):\n",
      " #   Column                   Non-Null Count  Dtype  \n",
      "---  ------                   --------------  -----  \n",
      " 0   property_type            700 non-null    object \n",
      " 1   place_with_parent_names  700 non-null    object \n",
      " 2   lat-lon                  582 non-null    object \n",
      " 3   area_m2                  700 non-null    float64\n",
      " 4   price_usd                700 non-null    float64\n",
      "dtypes: float64(2), object(3)\n",
      "memory usage: 27.5+ KB\n"
     ]
    }
   ],
   "source": [
    "df3.info()"
   ]
  },
  {
   "cell_type": "code",
   "execution_count": 46,
   "id": "1e995dd9",
   "metadata": {},
   "outputs": [
    {
     "data": {
      "text/html": [
       "<div>\n",
       "<style scoped>\n",
       "    .dataframe tbody tr th:only-of-type {\n",
       "        vertical-align: middle;\n",
       "    }\n",
       "\n",
       "    .dataframe tbody tr th {\n",
       "        vertical-align: top;\n",
       "    }\n",
       "\n",
       "    .dataframe thead th {\n",
       "        text-align: right;\n",
       "    }\n",
       "</style>\n",
       "<table border=\"1\" class=\"dataframe\">\n",
       "  <thead>\n",
       "    <tr style=\"text-align: right;\">\n",
       "      <th></th>\n",
       "      <th>property_type</th>\n",
       "      <th>place_with_parent_names</th>\n",
       "      <th>lat-lon</th>\n",
       "      <th>area_m2</th>\n",
       "      <th>price_usd</th>\n",
       "    </tr>\n",
       "  </thead>\n",
       "  <tbody>\n",
       "    <tr>\n",
       "      <th>0</th>\n",
       "      <td>apartment</td>\n",
       "      <td>|México|Distrito Federal|Gustavo A. Madero|Acu...</td>\n",
       "      <td>19.52589,-99.151703</td>\n",
       "      <td>71.0</td>\n",
       "      <td>48550.59</td>\n",
       "    </tr>\n",
       "    <tr>\n",
       "      <th>1</th>\n",
       "      <td>house</td>\n",
       "      <td>|México|Estado de México|Toluca|Metepec|</td>\n",
       "      <td>19.2640539,-99.5727534</td>\n",
       "      <td>233.0</td>\n",
       "      <td>168636.73</td>\n",
       "    </tr>\n",
       "    <tr>\n",
       "      <th>2</th>\n",
       "      <td>house</td>\n",
       "      <td>|México|Estado de México|Toluca|Toluca de Lerd...</td>\n",
       "      <td>19.268629,-99.671722</td>\n",
       "      <td>300.0</td>\n",
       "      <td>86932.69</td>\n",
       "    </tr>\n",
       "    <tr>\n",
       "      <th>3</th>\n",
       "      <td>house</td>\n",
       "      <td>|México|Morelos|Temixco|Burgos Bugambilias|</td>\n",
       "      <td>NaN</td>\n",
       "      <td>275.0</td>\n",
       "      <td>263432.41</td>\n",
       "    </tr>\n",
       "    <tr>\n",
       "      <th>4</th>\n",
       "      <td>apartment</td>\n",
       "      <td>|México|Veracruz de Ignacio de la Llave|Veracruz|</td>\n",
       "      <td>19.511938,-96.871956</td>\n",
       "      <td>84.0</td>\n",
       "      <td>68508.67</td>\n",
       "    </tr>\n",
       "  </tbody>\n",
       "</table>\n",
       "</div>"
      ],
      "text/plain": [
       "  property_type                            place_with_parent_names  \\\n",
       "0     apartment  |México|Distrito Federal|Gustavo A. Madero|Acu...   \n",
       "1         house           |México|Estado de México|Toluca|Metepec|   \n",
       "2         house  |México|Estado de México|Toluca|Toluca de Lerd...   \n",
       "3         house        |México|Morelos|Temixco|Burgos Bugambilias|   \n",
       "4     apartment  |México|Veracruz de Ignacio de la Llave|Veracruz|   \n",
       "\n",
       "                  lat-lon  area_m2  price_usd  \n",
       "0     19.52589,-99.151703     71.0   48550.59  \n",
       "1  19.2640539,-99.5727534    233.0  168636.73  \n",
       "2    19.268629,-99.671722    300.0   86932.69  \n",
       "3                     NaN    275.0  263432.41  \n",
       "4    19.511938,-96.871956     84.0   68508.67  "
      ]
     },
     "execution_count": 46,
     "metadata": {},
     "output_type": "execute_result"
    }
   ],
   "source": [
    "df3.head()"
   ]
  },
  {
   "cell_type": "code",
   "execution_count": 47,
   "id": "2895d353",
   "metadata": {},
   "outputs": [
    {
     "name": "stdout",
     "output_type": "stream",
     "text": [
      "<class 'pandas.core.frame.DataFrame'>\n",
      "RangeIndex: 700 entries, 0 to 699\n",
      "Data columns (total 5 columns):\n",
      " #   Column                   Non-Null Count  Dtype  \n",
      "---  ------                   --------------  -----  \n",
      " 0   property_type            700 non-null    object \n",
      " 1   place_with_parent_names  700 non-null    object \n",
      " 2   lat-lon                  582 non-null    object \n",
      " 3   area_m2                  700 non-null    float64\n",
      " 4   price_usd                700 non-null    float64\n",
      "dtypes: float64(2), object(3)\n",
      "memory usage: 27.5+ KB\n"
     ]
    }
   ],
   "source": [
    "df3.info()"
   ]
  },
  {
   "cell_type": "code",
   "execution_count": 48,
   "id": "32b1dc1f",
   "metadata": {},
   "outputs": [
    {
     "data": {
      "text/html": [
       "<div>\n",
       "<style scoped>\n",
       "    .dataframe tbody tr th:only-of-type {\n",
       "        vertical-align: middle;\n",
       "    }\n",
       "\n",
       "    .dataframe tbody tr th {\n",
       "        vertical-align: top;\n",
       "    }\n",
       "\n",
       "    .dataframe thead th {\n",
       "        text-align: right;\n",
       "    }\n",
       "</style>\n",
       "<table border=\"1\" class=\"dataframe\">\n",
       "  <thead>\n",
       "    <tr style=\"text-align: right;\">\n",
       "      <th></th>\n",
       "      <th>property_type</th>\n",
       "      <th>place_with_parent_names</th>\n",
       "      <th>lat-lon</th>\n",
       "      <th>area_m2</th>\n",
       "      <th>price_usd</th>\n",
       "      <th>lat</th>\n",
       "      <th>lon</th>\n",
       "    </tr>\n",
       "  </thead>\n",
       "  <tbody>\n",
       "    <tr>\n",
       "      <th>0</th>\n",
       "      <td>apartment</td>\n",
       "      <td>|México|Distrito Federal|Gustavo A. Madero|Acu...</td>\n",
       "      <td>19.52589,-99.151703</td>\n",
       "      <td>71.0</td>\n",
       "      <td>48550.59</td>\n",
       "      <td>19.52589</td>\n",
       "      <td>-99.151703</td>\n",
       "    </tr>\n",
       "    <tr>\n",
       "      <th>1</th>\n",
       "      <td>house</td>\n",
       "      <td>|México|Estado de México|Toluca|Metepec|</td>\n",
       "      <td>19.2640539,-99.5727534</td>\n",
       "      <td>233.0</td>\n",
       "      <td>168636.73</td>\n",
       "      <td>19.2640539</td>\n",
       "      <td>-99.5727534</td>\n",
       "    </tr>\n",
       "    <tr>\n",
       "      <th>2</th>\n",
       "      <td>house</td>\n",
       "      <td>|México|Estado de México|Toluca|Toluca de Lerd...</td>\n",
       "      <td>19.268629,-99.671722</td>\n",
       "      <td>300.0</td>\n",
       "      <td>86932.69</td>\n",
       "      <td>19.268629</td>\n",
       "      <td>-99.671722</td>\n",
       "    </tr>\n",
       "    <tr>\n",
       "      <th>3</th>\n",
       "      <td>house</td>\n",
       "      <td>|México|Morelos|Temixco|Burgos Bugambilias|</td>\n",
       "      <td>NaN</td>\n",
       "      <td>275.0</td>\n",
       "      <td>263432.41</td>\n",
       "      <td>NaN</td>\n",
       "      <td>NaN</td>\n",
       "    </tr>\n",
       "    <tr>\n",
       "      <th>4</th>\n",
       "      <td>apartment</td>\n",
       "      <td>|México|Veracruz de Ignacio de la Llave|Veracruz|</td>\n",
       "      <td>19.511938,-96.871956</td>\n",
       "      <td>84.0</td>\n",
       "      <td>68508.67</td>\n",
       "      <td>19.511938</td>\n",
       "      <td>-96.871956</td>\n",
       "    </tr>\n",
       "  </tbody>\n",
       "</table>\n",
       "</div>"
      ],
      "text/plain": [
       "  property_type                            place_with_parent_names  \\\n",
       "0     apartment  |México|Distrito Federal|Gustavo A. Madero|Acu...   \n",
       "1         house           |México|Estado de México|Toluca|Metepec|   \n",
       "2         house  |México|Estado de México|Toluca|Toluca de Lerd...   \n",
       "3         house        |México|Morelos|Temixco|Burgos Bugambilias|   \n",
       "4     apartment  |México|Veracruz de Ignacio de la Llave|Veracruz|   \n",
       "\n",
       "                  lat-lon  area_m2  price_usd         lat          lon  \n",
       "0     19.52589,-99.151703     71.0   48550.59    19.52589   -99.151703  \n",
       "1  19.2640539,-99.5727534    233.0  168636.73  19.2640539  -99.5727534  \n",
       "2    19.268629,-99.671722    300.0   86932.69   19.268629   -99.671722  \n",
       "3                     NaN    275.0  263432.41         NaN          NaN  \n",
       "4    19.511938,-96.871956     84.0   68508.67   19.511938   -96.871956  "
      ]
     },
     "execution_count": 48,
     "metadata": {},
     "output_type": "execute_result"
    }
   ],
   "source": [
    "df3[[\"lat\", \"lon\"]] = df3[\"lat-lon\"].str.split(\",\", expand = True).head()\n",
    "df3.head()"
   ]
  },
  {
   "cell_type": "code",
   "execution_count": null,
   "id": "69da14c2",
   "metadata": {},
   "outputs": [],
   "source": [
    "Task 1.2.6: Use the split method again, this time to extract the state for every house. (Note that the state name always \n",
    "appears after \"México|\" in each string.) Use this information to create a \"state\" column. Finally, drop \n",
    "the \"place_with_parent_names\" and \"lat-lon\" columns from the DataFrame.\n",
    "\n",
    "Split the strings in one column to create another using pandas.\n",
    "Drop a column from a DataFrame using pandas."
   ]
  },
  {
   "cell_type": "code",
   "execution_count": null,
   "id": "4bf674f7",
   "metadata": {},
   "outputs": [],
   "source": [
    "Concatenate DataFrames\n",
    "Great work! You have three clean DataFrames, and now \n",
    "it's time to combine them into a single DataFrame so that you can conduct your analysis."
   ]
  },
  {
   "cell_type": "code",
   "execution_count": null,
   "id": "7a816411",
   "metadata": {},
   "outputs": [],
   "source": [
    "Task 1.2.7: Use pd.concat to concatenate df1, df2, df3 as new DataFrame named df. Your new DataFrame should have 1,736 row\n",
    "and 6 columns:\"property_type\", \"state\", \"lat\", \"lon\", \"area_m2\", \"price_usd\", and \"price_per_m2\".\n",
    "\n",
    "Concatenate two or more DataFrames using pandas."
   ]
  },
  {
   "cell_type": "code",
   "execution_count": 49,
   "id": "c626d9cf",
   "metadata": {},
   "outputs": [
    {
     "name": "stdout",
     "output_type": "stream",
     "text": [
      "(1275, 9)\n"
     ]
    },
    {
     "data": {
      "text/html": [
       "<div>\n",
       "<style scoped>\n",
       "    .dataframe tbody tr th:only-of-type {\n",
       "        vertical-align: middle;\n",
       "    }\n",
       "\n",
       "    .dataframe tbody tr th {\n",
       "        vertical-align: top;\n",
       "    }\n",
       "\n",
       "    .dataframe thead th {\n",
       "        text-align: right;\n",
       "    }\n",
       "</style>\n",
       "<table border=\"1\" class=\"dataframe\">\n",
       "  <thead>\n",
       "    <tr style=\"text-align: right;\">\n",
       "      <th></th>\n",
       "      <th>property_type</th>\n",
       "      <th>state</th>\n",
       "      <th>lat</th>\n",
       "      <th>lon</th>\n",
       "      <th>area_m2</th>\n",
       "      <th>price_usd</th>\n",
       "      <th>price_mxn</th>\n",
       "      <th>place_with_parent_names</th>\n",
       "      <th>lat-lon</th>\n",
       "    </tr>\n",
       "  </thead>\n",
       "  <tbody>\n",
       "    <tr>\n",
       "      <th>0</th>\n",
       "      <td>house</td>\n",
       "      <td>Estado de México</td>\n",
       "      <td>19.560181</td>\n",
       "      <td>-99.233528</td>\n",
       "      <td>150.0</td>\n",
       "      <td>67965.56</td>\n",
       "      <td>NaN</td>\n",
       "      <td>NaN</td>\n",
       "      <td>NaN</td>\n",
       "    </tr>\n",
       "    <tr>\n",
       "      <th>1</th>\n",
       "      <td>house</td>\n",
       "      <td>Nuevo León</td>\n",
       "      <td>25.688436</td>\n",
       "      <td>-100.198807</td>\n",
       "      <td>186.0</td>\n",
       "      <td>63223.78</td>\n",
       "      <td>NaN</td>\n",
       "      <td>NaN</td>\n",
       "      <td>NaN</td>\n",
       "    </tr>\n",
       "    <tr>\n",
       "      <th>2</th>\n",
       "      <td>apartment</td>\n",
       "      <td>Guerrero</td>\n",
       "      <td>16.767704</td>\n",
       "      <td>-99.764383</td>\n",
       "      <td>82.0</td>\n",
       "      <td>84298.37</td>\n",
       "      <td>NaN</td>\n",
       "      <td>NaN</td>\n",
       "      <td>NaN</td>\n",
       "    </tr>\n",
       "    <tr>\n",
       "      <th>3</th>\n",
       "      <td>apartment</td>\n",
       "      <td>Guerrero</td>\n",
       "      <td>16.829782</td>\n",
       "      <td>-99.911012</td>\n",
       "      <td>150.0</td>\n",
       "      <td>94308.80</td>\n",
       "      <td>NaN</td>\n",
       "      <td>NaN</td>\n",
       "      <td>NaN</td>\n",
       "    </tr>\n",
       "    <tr>\n",
       "      <th>0</th>\n",
       "      <td>apartment</td>\n",
       "      <td>Nuevo León</td>\n",
       "      <td>25.721081</td>\n",
       "      <td>-100.345581</td>\n",
       "      <td>72.0</td>\n",
       "      <td>68421.05</td>\n",
       "      <td>1300000.0</td>\n",
       "      <td>NaN</td>\n",
       "      <td>NaN</td>\n",
       "    </tr>\n",
       "  </tbody>\n",
       "</table>\n",
       "</div>"
      ],
      "text/plain": [
       "  property_type             state        lat         lon  area_m2  price_usd  \\\n",
       "0         house  Estado de México  19.560181  -99.233528    150.0   67965.56   \n",
       "1         house        Nuevo León  25.688436 -100.198807    186.0   63223.78   \n",
       "2     apartment          Guerrero  16.767704  -99.764383     82.0   84298.37   \n",
       "3     apartment          Guerrero  16.829782  -99.911012    150.0   94308.80   \n",
       "0     apartment        Nuevo León  25.721081 -100.345581     72.0   68421.05   \n",
       "\n",
       "   price_mxn place_with_parent_names lat-lon  \n",
       "0        NaN                     NaN     NaN  \n",
       "1        NaN                     NaN     NaN  \n",
       "2        NaN                     NaN     NaN  \n",
       "3        NaN                     NaN     NaN  \n",
       "0  1300000.0                     NaN     NaN  "
      ]
     },
     "execution_count": 49,
     "metadata": {},
     "output_type": "execute_result"
    }
   ],
   "source": [
    "df = pd.concat([df1, df2, df3])\n",
    "print(df.shape)\n",
    "df.head()"
   ]
  },
  {
   "cell_type": "markdown",
   "id": "25feb477",
   "metadata": {},
   "source": [
    "## Save df ##\n",
    "The data is clean and in a single DataFrame, \n",
    "and now you need to save it as a CSV file so that you can examine it in your exploratory data analysis."
   ]
  },
  {
   "cell_type": "code",
   "execution_count": null,
   "id": "477002db",
   "metadata": {},
   "outputs": [],
   "source": [
    "Task 1.2.8: Save df as a CSV file using the to_csv method. The file path should be \"./data/mexico-real-estate-clean.csv\". Be sure to set the index argument to False.\n",
    "\n",
    "What's a CSV file?\n",
    "Save a DataFrame as a CSV file using pandas."
   ]
  },
  {
   "cell_type": "code",
   "execution_count": null,
   "id": "f368a4c8",
   "metadata": {},
   "outputs": [],
   "source": [
    "df.to_csv(\"data/mexico-real-estate-clean.csv\", index=False)"
   ]
  },
  {
   "cell_type": "markdown",
   "id": "6dc51e75",
   "metadata": {},
   "source": [
    "## Calculating Mean, Median, and Mode in Python ##"
   ]
  },
  {
   "cell_type": "code",
   "execution_count": null,
   "id": "49b5ac3c",
   "metadata": {},
   "outputs": [],
   "source": [
    "When we're trying to describe and summarize a sample of data, we probably start by finding the mea\n",
    "n (or average), the median, and the mode of the data. These are central tendency measures and are often our first look at a dataset.\n",
    "\n",
    "In this tutorial, we'll learn how to find or compute the mean, the median, and the mode in Python. We'll first code a Python function for each measure followed by using Python's statistics module to accomplish the same task.\n",
    "\n",
    "With this knowledge, we'll be able to take a quick look at our datasets and get an idea of the general tendency of data.\n",
    "\n",
    "Calculating the Mean of a Sample\n",
    "If we have a sample of numeric values, then its mean or the average is the total sum of the values (or observations) divided by the number of values.\n",
    "\n",
    "Say we have the sample [4, 8, 6, 5, 3, 2, 8, 9, 2, 5]. We can calculate its mean by performing the operation:\n",
    "\n",
    "(4 + 8 + 6 + 5 + 3 + 2 + 8 + 9 + 2 + 5) / 10 = 5.2\n",
    "\n",
    "The mean (arithmetic mean) is a general description of our data. Suppose you buy 10 pounds of tomatoes. \n",
    "When you count the tomatoes at home, you get 25 tomatoes. In this case, you can say that the average weight of a tomato is 0.4 pounds. \n",
    "That would be a good description of your tomatoes."
   ]
  },
  {
   "cell_type": "markdown",
   "id": "0f15a31c",
   "metadata": {},
   "source": [
    "## Calculating the Mean With Python ##"
   ]
  },
  {
   "cell_type": "code",
   "execution_count": null,
   "id": "163db5ba",
   "metadata": {},
   "outputs": [],
   "source": [
    "To calculate the mean of a sample of numeric data, we'll use two of Python's built-in functions. One to calculate the total sum of the values and another to calculate the length of the sample.\n",
    "\n",
    "The first function is sum(). This built-in function takes an iterable of numeric values and returns their total sum.\n",
    "\n",
    "The second function is len(). This built-in function returns the length of an object. len() can take sequences (string, bytes, tuple, list, or range) or collections (dictionary, set, or frozen set) as an argument.\n",
    "\n",
    "Here's how we can calculate the mean:"
   ]
  },
  {
   "cell_type": "code",
   "execution_count": null,
   "id": "f69942cf",
   "metadata": {},
   "outputs": [],
   "source": [
    ">>> def my_mean(sample):\n",
    "...     return sum(sample) / len(sample)\n",
    "...\n",
    "\n",
    ">>> my_mean([4, 8, 6, 5, 3, 2, 8, 9, 2, 5])\n",
    "5.2"
   ]
  },
  {
   "cell_type": "code",
   "execution_count": null,
   "id": "00f6da70",
   "metadata": {},
   "outputs": [],
   "source": [
    ">>> import statistics\n",
    "\n",
    ">>> statistics.mean([4, 8, 6, 5, 3, 2, 8, 9, 2, 5])\n",
    "5.2"
   ]
  },
  {
   "cell_type": "code",
   "execution_count": null,
   "id": "53310a9e",
   "metadata": {},
   "outputs": [],
   "source": [
    "import statistics \n",
    "\n",
    "statistics.mean([4, 8, 6, 5, 3, 2, 8, 9, 2, 5])"
   ]
  },
  {
   "cell_type": "code",
   "execution_count": null,
   "id": "b7596431",
   "metadata": {},
   "outputs": [],
   "source": [
    "We just need to import the statistics module and then call mean() with our sample as an argument. \n",
    "That will return the mean of the sample. This is a quick way of finding the mean using Python."
   ]
  },
  {
   "cell_type": "code",
   "execution_count": null,
   "id": "7436222f",
   "metadata": {},
   "outputs": [],
   "source": [
    "Finding the Median of a Sample\n"
   ]
  },
  {
   "cell_type": "code",
   "execution_count": null,
   "id": "597f10db",
   "metadata": {},
   "outputs": [],
   "source": [
    "The median of a sample of numeric data is the value that lies in the middle when we sort the data. The data may be sorted in ascending or descending order, the median remains the same.\n",
    "\n",
    "To find the median, we need to:\n",
    "\n",
    "Sort the sample\n",
    "Locate the value in the middle of the sorted sample\n",
    "When locating the number in the middle of a sorted sample, we can face two kinds of situations:\n",
    "\n",
    "If the sample has an odd number of observations, then the middle value in the sorted sample is the median\n",
    "If the sample has an even number of observations, then we'll need to calculate the mean of the two middle values in the sorted sample\n",
    "If we have the sample [3, 5, 1, 4, 2] and want to find its median, then we first sort the sample to [1, 2, 3, 4, 5]. The median would be 3 since that's the value in the middle.\n",
    "\n",
    "On the other hand, if we have the sample [1, 2, 3, 4, 5, 6], then its median will be (3 + 4) / 2 = 3.5.\n",
    "\n",
    "Let's take a look at how we can use Python to calculate the median."
   ]
  },
  {
   "cell_type": "code",
   "execution_count": null,
   "id": "eb99720a",
   "metadata": {},
   "outputs": [],
   "source": [
    "Finding the Median With Python\n",
    "To find the median, we first need to sort the values in our sample. We can achieve that using the built-in sorted() function. sorted() takes an iterable and returns a sorted list containing the same values of the original iterable.\n",
    "\n",
    "The second step is to locate the value that lies in the middle of the sorted sample. To locate that value in a sample with an odd number of observations, we can divide the number of observations by 2. The result will be the index of the value in the middle of the sorted sample.\n",
    "\n",
    "Since a division operator (/) returns a float number, we'll need to use a floor division operator, (//) to get an integer. So, we can use it as an index in an indexing operation ([]).\n",
    "\n",
    "If the sample has an even number of observations, then we need to locate the two middle values. Say we have the sample [1, 2, 3, 4, 5, 6]. If we divide its length (6) by 2 using a floor division, then we get 3. That's the index of our upper-middle value (4). To find the index of our lower-middle value (3), we can decrement the index of the upper-middle value by 1.\n",
    "\n",
    "Let's put all these together in function that calculates the median of a sample. Here's a possible implementation:"
   ]
  },
  {
   "cell_type": "code",
   "execution_count": null,
   "id": "6075d78b",
   "metadata": {},
   "outputs": [],
   "source": [
    ">>> def my_median(sample):\n",
    "...     n = len(sample)\n",
    "...     index = n // 2\n",
    "...     # Sample with an odd number of observations\n",
    "...     if n % 2:\n",
    "...         return sorted(sample)[index]\n",
    "...     # Sample with an even number of observations\n",
    "...     return sum(sorted(sample)[index - 1:index + 1]) / 2\n",
    "...\n",
    "\n",
    ">>> my_median([3, 5, 1, 4, 2])\n",
    "3\n",
    "\n",
    ">>> my_median([3, 5, 1, 4, 2, 6])\n",
    "3.5"
   ]
  },
  {
   "cell_type": "code",
   "execution_count": null,
   "id": "c4af9320",
   "metadata": {},
   "outputs": [],
   "source": [
    "This function takes a sample of numeric values and returns its median. We first find the length of the sample, n. Then, we calculate the index of the middle value (or upper-middle value) by dividing n by 2.\n",
    "\n",
    "The if statement checks if the sample at hand has an odd number of observations. If so, then the median is the value at index.\n",
    "\n",
    "The final return runs if the sample has an even number of observations. In that case, we find the median by calculating the mean of the two middle values.\n",
    "\n",
    "Note that the slicing operation [index - 1:index + 1] gets two values. The value at index - 1 and the value at index because slicing operations exclude the value at the final index (index + 1).\n",
    "\n",
    "Using Python's median()\n",
    "Python's statistics.median() takes a sample of data and returns its median. Here's how the method works:"
   ]
  },
  {
   "cell_type": "code",
   "execution_count": null,
   "id": "f4eeff35",
   "metadata": {},
   "outputs": [],
   "source": [
    "Note that median() automatically handles the calculation of the median for samples with either an odd or an even number of observations."
   ]
  },
  {
   "cell_type": "markdown",
   "id": "8d01d03a",
   "metadata": {},
   "source": [
    "## Finding the Mode of a Sample ##"
   ]
  },
  {
   "cell_type": "code",
   "execution_count": null,
   "id": "f64e03af",
   "metadata": {},
   "outputs": [],
   "source": [
    "\n",
    "The mode is the most frequent observation (or observations) in a sample. If we have the sample [4, 1, 2, 2, 3, 5], then its mode is 2 because 2 appears two times in the sample whereas the other elements only appear once.\n",
    "\n",
    "The mode doesn't have to be unique. Some samples have more than one mode. Say we have the sample [4, 1, 2, 2, 3, 5, 4]. This sample has two modes - 2 and 4 because they're the values that appear more often and both appear the same number of times.\n",
    "\n",
    "The mode is commonly used for categorical data. Common categorical data types are:\n",
    "\n",
    "boolean - Can take only two values like in true or false, male or female\n",
    "nominal - Can take more than two values like in American - European - Asian - African\n",
    "ordinal - Can take more than two values but the values have a logical order like in few - some - many\n",
    "When we're analyzing a dataset of categorical data, we can use the mode to know which category is the most common in our data.\n",
    "\n"
   ]
  },
  {
   "cell_type": "code",
   "execution_count": null,
   "id": "e9fc4526",
   "metadata": {},
   "outputs": [],
   "source": [
    ">>> from collections import Counter\n",
    "\n",
    ">>> def my_mode(sample):\n",
    "...     c = Counter(sample)\n",
    "...     return [k for k, v in c.items() if v == c.most_common(1)[0][1]]\n",
    "...\n",
    "\n",
    ">>> my_mode([\"male\", \"male\", \"female\", \"male\"])\n",
    "['male']\n",
    "\n",
    ">>> my_mode([\"few\", \"few\", \"many\", \"some\", \"many\"])\n",
    "['few', 'many']\n",
    "\n",
    ">>> my_mode([4, 1, 2, 2, 3, 5])\n",
    "[2]\n",
    "\n",
    ">>> my_mode([4, 1, 2, 2, 3, 5, 4])\n",
    "[4, 2]"
   ]
  },
  {
   "cell_type": "code",
   "execution_count": null,
   "id": "c0089676",
   "metadata": {},
   "outputs": [],
   "source": [
    "We first count the observations in the sample using a Counter object (c). Then, we use a list comprehension to create a list containing the observations that appear the same number of times in the sample.\n",
    "\n",
    "Since .most_common(1) returns a list with one tuple of the form (observation, count), we need to get the observation at index 0 in the list and then the item at index 1 in the nested tuple. This can be done with the expression c.most_common(1)[0][1]. That value is the first mode of our sample.\n",
    "\n",
    "Note that the comprehension's condition compares the count of each observation (v) with the count of the most common observation (c.most_common(1)[0][1]). This will allow us to get multiple observations (k) with the same count in the case of a multi-mode sample.\n",
    "\n",
    "Using Python's mode()\n",
    "Python's statistics.mode() takes some data and returns its (first) mode. Let's see how we can use it:"
   ]
  },
  {
   "cell_type": "code",
   "execution_count": null,
   "id": "08d6b4a2",
   "metadata": {},
   "outputs": [],
   "source": [
    ">>> import statistics\n",
    "\n",
    ">>> statistics.mode([4, 1, 2, 2, 3, 5])\n",
    "2\n",
    "\n",
    ">>> statistics.mode([4, 1, 2, 2, 3, 5, 4])\n",
    "4\n",
    "\n",
    ">>> st.mode([\"few\", \"few\", \"many\", \"some\", \"many\"])\n",
    "'few'"
   ]
  },
  {
   "cell_type": "code",
   "execution_count": null,
   "id": "c68762ef",
   "metadata": {},
   "outputs": [],
   "source": [
    "\n",
    "With a single-mode sample, Python's mode() returns the most common value, 2. However, in the proceeding two examples, it returned 4 and few. These samples had other elements occurring the same number of times, but they weren't included.\n",
    "\n",
    "Since Python 3.8 we can also use statistics.multimode() which accepts an iterable and returns a list of modes.\n",
    "\n",
    "Here's an example of how to use multimode():"
   ]
  },
  {
   "cell_type": "code",
   "execution_count": null,
   "id": "12e17284",
   "metadata": {},
   "outputs": [],
   "source": [
    ">>> import statistics\n",
    "\n",
    ">>> statistics.multimode([4, 1, 2, 2, 3, 5, 4])\n",
    "[4, 2]\n",
    "\n",
    ">>> statistics.multimode([\"few\", \"few\", \"many\", \"some\", \"many\"])\n",
    "['few', 'many']\n",
    "\n",
    ">>> st.multimode([4, 1, 2, 2, 3, 5])\n",
    "[2]"
   ]
  },
  {
   "cell_type": "code",
   "execution_count": null,
   "id": "eb62e7a4",
   "metadata": {},
   "outputs": [],
   "source": []
  },
  {
   "cell_type": "markdown",
   "id": "275d2638",
   "metadata": {},
   "source": [
    "### How To Create a Pandas DataFrame ###"
   ]
  },
  {
   "cell_type": "code",
   "execution_count": null,
   "id": "5dcda3b1",
   "metadata": {},
   "outputs": [],
   "source": [
    "Note that in this post, most of the times, the libraries that you need have already been loaded in. The Pandas library is usually imported under the alias pd, while the NumPy library is loaded as np. Remember that when you code in your own data science environment, you shouldn’t forget this import step, which you write just like this:\n",
    "\n",
    "import numpy as np\n",
    "import pandas as pd\n",
    "Now that there is no doubt in your mind about what DataFrames are, what they can do and how they differ from other structures, it’s time to tackle the most common questions that users have about working with them!\n",
    "\n",
    "1. How To Create a Pandas DataFrame\n",
    "Obviously, making your DataFrames is your first step in almost anything that you want to do when it comes to data munging in Python. \n",
    "Sometimes, you will want to start from scratch, \n",
    "but you can also convert other data structures, such as lists or NumPy arrays, to Pandas DataFrames. In this section, you’ll only cover the latter. \n",
    "However, if you want to read more on making empty DataFrames that you can fill up with data later, go to question 7.\n",
    "\n",
    "Among the many things that can serve as input to make a ‘DataFrame’, a NumPy ndarray is one of them. \n",
    "To make a data frame from a NumPy array, you can just pass it to the DataFrame() function in the data argument.\n",
    "\n"
   ]
  },
  {
   "cell_type": "code",
   "execution_count": null,
   "id": "ae815a61",
   "metadata": {},
   "outputs": [],
   "source": [
    "import numpy as np\n",
    "import pandas as pd\n",
    "\n",
    "data = np.array([['','Col1','Col2'],\n",
    "                ['Row1',1,2],\n",
    "                ['Row2',3,4]])\n",
    "                \n",
    "print(pd.DataFrame(data=data[1:,1:],\n",
    "                  index=data[1:,0],\n",
    "                  columns=data[0,1:]))"
   ]
  },
  {
   "cell_type": "code",
   "execution_count": null,
   "id": "71f09d90",
   "metadata": {},
   "outputs": [],
   "source": [
    "Pay attention to how the code chunks above select elements from the NumPy array to construct the DataFrame: \n",
    "you first select the values that are contained in the lists that start with Row1 and Row2, \n",
    "then you select the index or row numbers Row1 and Row2 and then the column names Col1 and Col2."
   ]
  },
  {
   "cell_type": "code",
   "execution_count": null,
   "id": "476d9123",
   "metadata": {},
   "outputs": [],
   "source": [
    "These two options give you slightly different information on your DataFrame: the shape property will provide you with the \n",
    "dimensions of your DataFrame. That means that you will get to know the width and the height of your DataFrame. \n",
    "On the other hand, the len() function, in combination with the index property, will only give you information on the height\n",
    "of your DataFrame.\n",
    "\n",
    "This all is totally not extraordinary, though, as you explicitly give in the index property.\n",
    "\n",
    "You could also use df[0].count() to get to know more about the height of your DataFrame, but this will exclude the NaN values (if there are any).\n",
    "That is why calling .count() on your DataFrame is not always the better option.\n",
    "\n",
    "If you want more information on your DataFrame columns, you can always execute list(my_dataframe.columns.values). \n",
    "Try this out for yourself in the DataCamp Light block above!"
   ]
  },
  {
   "cell_type": "code",
   "execution_count": null,
   "id": "5afe2a75",
   "metadata": {},
   "outputs": [],
   "source": [
    "Now, let’s say you have a DataFrame like this one:"
   ]
  },
  {
   "cell_type": "code",
   "execution_count": null,
   "id": "678a6504",
   "metadata": {},
   "outputs": [],
   "source": [
    "  A  B  C\n",
    "0  1  2  3\n",
    "1  4  5  6\n",
    "2  7  8  9"
   ]
  },
  {
   "cell_type": "code",
   "execution_count": null,
   "id": "4740754e",
   "metadata": {},
   "outputs": [],
   "source": [
    "# Using `iloc[]`\n",
    "print(df.iloc[0][0])\n",
    "\n",
    "# Using `loc[]`\n",
    "print(df.loc[0]['A'])\n",
    "\n",
    "# Using `at[]`\n",
    "print(df.at[0,'A'])\n",
    "\n",
    "# Using `iat[]`\n",
    "print(df.iat[0,0])"
   ]
  },
  {
   "cell_type": "code",
   "execution_count": null,
   "id": "94c003cf",
   "metadata": {},
   "outputs": [],
   "source": [
    "# Use `iloc[]` to select row `0`\n",
    "print(df.iloc[_])\n",
    "\n",
    "# Use `loc[]` to select column `'A'`\n",
    "print(df.loc[:,'_'])"
   ]
  },
  {
   "cell_type": "code",
   "execution_count": null,
   "id": "db9a876d",
   "metadata": {},
   "outputs": [],
   "source": [
    "my_flowers = [\"Acacia\", \"Begonia\", \"Carnation\", \"Dandelion\"]"
   ]
  },
  {
   "cell_type": "code",
   "execution_count": null,
   "id": "99291665",
   "metadata": {},
   "outputs": [],
   "source": []
  }
 ],
 "metadata": {
  "kernelspec": {
   "display_name": "Python 3 (ipykernel)",
   "language": "python",
   "name": "python3"
  },
  "language_info": {
   "codemirror_mode": {
    "name": "ipython",
    "version": 3
   },
   "file_extension": ".py",
   "mimetype": "text/x-python",
   "name": "python",
   "nbconvert_exporter": "python",
   "pygments_lexer": "ipython3",
   "version": "3.9.7"
  }
 },
 "nbformat": 4,
 "nbformat_minor": 5
}
